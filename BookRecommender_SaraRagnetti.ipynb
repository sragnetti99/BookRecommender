{
  "nbformat": 4,
  "nbformat_minor": 0,
  "metadata": {
    "colab": {
      "provenance": [],
      "collapsed_sections": [
        "ZIz1j8greyl0",
        "QH6_jpa5tb6Z",
        "-PdKII7WXtCt",
        "R7h2FGsrnH66"
      ],
      "authorship_tag": "ABX9TyOSG7vp6z8tRrJKkdiXqgZv",
      "include_colab_link": true
    },
    "kernelspec": {
      "name": "python3",
      "display_name": "Python 3"
    },
    "language_info": {
      "name": "python"
    },
    "widgets": {
      "application/vnd.jupyter.widget-state+json": {
        "0c9d6688c7234474827b7de90ed47a2a": {
          "model_module": "@jupyter-widgets/controls",
          "model_name": "DropdownModel",
          "model_module_version": "1.5.0",
          "state": {
            "_dom_classes": [],
            "_model_module": "@jupyter-widgets/controls",
            "_model_module_version": "1.5.0",
            "_model_name": "DropdownModel",
            "_options_labels": [
              "Correlazione item-based",
              "Similarità coseno item-based",
              "Correlazione user-based",
              "Similarità coseno user-based"
            ],
            "_view_count": null,
            "_view_module": "@jupyter-widgets/controls",
            "_view_module_version": "1.5.0",
            "_view_name": "DropdownView",
            "description": "Seleziona approccio",
            "description_tooltip": null,
            "disabled": false,
            "index": 0,
            "layout": "IPY_MODEL_ad5d5a293a7649fa9e09c6459638b53e",
            "style": "IPY_MODEL_c14e6340d3734c51bba3d6e1ef931fa8"
          }
        },
        "ad5d5a293a7649fa9e09c6459638b53e": {
          "model_module": "@jupyter-widgets/base",
          "model_name": "LayoutModel",
          "model_module_version": "1.2.0",
          "state": {
            "_model_module": "@jupyter-widgets/base",
            "_model_module_version": "1.2.0",
            "_model_name": "LayoutModel",
            "_view_count": null,
            "_view_module": "@jupyter-widgets/base",
            "_view_module_version": "1.2.0",
            "_view_name": "LayoutView",
            "align_content": null,
            "align_items": null,
            "align_self": null,
            "border": null,
            "bottom": null,
            "display": null,
            "flex": null,
            "flex_flow": null,
            "grid_area": null,
            "grid_auto_columns": null,
            "grid_auto_flow": null,
            "grid_auto_rows": null,
            "grid_column": null,
            "grid_gap": null,
            "grid_row": null,
            "grid_template_areas": null,
            "grid_template_columns": null,
            "grid_template_rows": null,
            "height": null,
            "justify_content": null,
            "justify_items": null,
            "left": null,
            "margin": null,
            "max_height": null,
            "max_width": null,
            "min_height": null,
            "min_width": null,
            "object_fit": null,
            "object_position": null,
            "order": null,
            "overflow": null,
            "overflow_x": null,
            "overflow_y": null,
            "padding": null,
            "right": null,
            "top": null,
            "visibility": null,
            "width": null
          }
        },
        "c14e6340d3734c51bba3d6e1ef931fa8": {
          "model_module": "@jupyter-widgets/controls",
          "model_name": "DescriptionStyleModel",
          "model_module_version": "1.5.0",
          "state": {
            "_model_module": "@jupyter-widgets/controls",
            "_model_module_version": "1.5.0",
            "_model_name": "DescriptionStyleModel",
            "_view_count": null,
            "_view_module": "@jupyter-widgets/base",
            "_view_module_version": "1.2.0",
            "_view_name": "StyleView",
            "description_width": ""
          }
        },
        "cdf5ff0ac15c4244a26b3d405e0976cd": {
          "model_module": "@jupyter-widgets/controls",
          "model_name": "DropdownModel",
          "model_module_version": "1.5.0",
          "state": {
            "_dom_classes": [],
            "_model_module": "@jupyter-widgets/controls",
            "_model_module_version": "1.5.0",
            "_model_name": "DropdownModel",
            "_options_labels": [
              "Correlazione item-based",
              "Similarità coseno item-based",
              "Correlazione user-based",
              "Similarità coseno user-based"
            ],
            "_view_count": null,
            "_view_module": "@jupyter-widgets/controls",
            "_view_module_version": "1.5.0",
            "_view_name": "DropdownView",
            "description": "Seleziona approccio",
            "description_tooltip": null,
            "disabled": false,
            "index": 1,
            "layout": "IPY_MODEL_83f8d23b401447a084bdc0513ce62a59",
            "style": "IPY_MODEL_9ac26e651bb4417c9827e092af57de46"
          }
        },
        "83f8d23b401447a084bdc0513ce62a59": {
          "model_module": "@jupyter-widgets/base",
          "model_name": "LayoutModel",
          "model_module_version": "1.2.0",
          "state": {
            "_model_module": "@jupyter-widgets/base",
            "_model_module_version": "1.2.0",
            "_model_name": "LayoutModel",
            "_view_count": null,
            "_view_module": "@jupyter-widgets/base",
            "_view_module_version": "1.2.0",
            "_view_name": "LayoutView",
            "align_content": null,
            "align_items": null,
            "align_self": null,
            "border": null,
            "bottom": null,
            "display": null,
            "flex": null,
            "flex_flow": null,
            "grid_area": null,
            "grid_auto_columns": null,
            "grid_auto_flow": null,
            "grid_auto_rows": null,
            "grid_column": null,
            "grid_gap": null,
            "grid_row": null,
            "grid_template_areas": null,
            "grid_template_columns": null,
            "grid_template_rows": null,
            "height": null,
            "justify_content": null,
            "justify_items": null,
            "left": null,
            "margin": null,
            "max_height": null,
            "max_width": null,
            "min_height": null,
            "min_width": null,
            "object_fit": null,
            "object_position": null,
            "order": null,
            "overflow": null,
            "overflow_x": null,
            "overflow_y": null,
            "padding": null,
            "right": null,
            "top": null,
            "visibility": null,
            "width": null
          }
        },
        "9ac26e651bb4417c9827e092af57de46": {
          "model_module": "@jupyter-widgets/controls",
          "model_name": "DescriptionStyleModel",
          "model_module_version": "1.5.0",
          "state": {
            "_model_module": "@jupyter-widgets/controls",
            "_model_module_version": "1.5.0",
            "_model_name": "DescriptionStyleModel",
            "_view_count": null,
            "_view_module": "@jupyter-widgets/base",
            "_view_module_version": "1.2.0",
            "_view_name": "StyleView",
            "description_width": ""
          }
        },
        "b933ab522efe43e68aa7b842f7e0c2fa": {
          "model_module": "@jupyter-widgets/controls",
          "model_name": "DropdownModel",
          "model_module_version": "1.5.0",
          "state": {
            "_dom_classes": [],
            "_model_module": "@jupyter-widgets/controls",
            "_model_module_version": "1.5.0",
            "_model_name": "DropdownModel",
            "_options_labels": [
              "Correlazione item-based",
              "Similarità coseno item-based",
              "Correlazione user-based",
              "Similarità coseno user-based"
            ],
            "_view_count": null,
            "_view_module": "@jupyter-widgets/controls",
            "_view_module_version": "1.5.0",
            "_view_name": "DropdownView",
            "description": "Seleziona approccio",
            "description_tooltip": null,
            "disabled": false,
            "index": 2,
            "layout": "IPY_MODEL_0bac77b5f4c84359a18f568c8cfe6fc2",
            "style": "IPY_MODEL_f5224cd82bd44bafb07d9f6c15220b2b"
          }
        },
        "0bac77b5f4c84359a18f568c8cfe6fc2": {
          "model_module": "@jupyter-widgets/base",
          "model_name": "LayoutModel",
          "model_module_version": "1.2.0",
          "state": {
            "_model_module": "@jupyter-widgets/base",
            "_model_module_version": "1.2.0",
            "_model_name": "LayoutModel",
            "_view_count": null,
            "_view_module": "@jupyter-widgets/base",
            "_view_module_version": "1.2.0",
            "_view_name": "LayoutView",
            "align_content": null,
            "align_items": null,
            "align_self": null,
            "border": null,
            "bottom": null,
            "display": null,
            "flex": null,
            "flex_flow": null,
            "grid_area": null,
            "grid_auto_columns": null,
            "grid_auto_flow": null,
            "grid_auto_rows": null,
            "grid_column": null,
            "grid_gap": null,
            "grid_row": null,
            "grid_template_areas": null,
            "grid_template_columns": null,
            "grid_template_rows": null,
            "height": null,
            "justify_content": null,
            "justify_items": null,
            "left": null,
            "margin": null,
            "max_height": null,
            "max_width": null,
            "min_height": null,
            "min_width": null,
            "object_fit": null,
            "object_position": null,
            "order": null,
            "overflow": null,
            "overflow_x": null,
            "overflow_y": null,
            "padding": null,
            "right": null,
            "top": null,
            "visibility": null,
            "width": null
          }
        },
        "f5224cd82bd44bafb07d9f6c15220b2b": {
          "model_module": "@jupyter-widgets/controls",
          "model_name": "DescriptionStyleModel",
          "model_module_version": "1.5.0",
          "state": {
            "_model_module": "@jupyter-widgets/controls",
            "_model_module_version": "1.5.0",
            "_model_name": "DescriptionStyleModel",
            "_view_count": null,
            "_view_module": "@jupyter-widgets/base",
            "_view_module_version": "1.2.0",
            "_view_name": "StyleView",
            "description_width": ""
          }
        },
        "1123444da0d6400abd6125dc84a8ef6b": {
          "model_module": "@jupyter-widgets/controls",
          "model_name": "DropdownModel",
          "model_module_version": "1.5.0",
          "state": {
            "_dom_classes": [],
            "_model_module": "@jupyter-widgets/controls",
            "_model_module_version": "1.5.0",
            "_model_name": "DropdownModel",
            "_options_labels": [
              "Correlazione item-based",
              "Similarità coseno item-based",
              "Correlazione user-based",
              "Similarità coseno user-based"
            ],
            "_view_count": null,
            "_view_module": "@jupyter-widgets/controls",
            "_view_module_version": "1.5.0",
            "_view_name": "DropdownView",
            "description": "Seleziona approccio",
            "description_tooltip": null,
            "disabled": false,
            "index": 3,
            "layout": "IPY_MODEL_6c0c479672d6433da6f68b83d534c8c7",
            "style": "IPY_MODEL_7e2369926d794963befe7d3bef530f48"
          }
        },
        "6c0c479672d6433da6f68b83d534c8c7": {
          "model_module": "@jupyter-widgets/base",
          "model_name": "LayoutModel",
          "model_module_version": "1.2.0",
          "state": {
            "_model_module": "@jupyter-widgets/base",
            "_model_module_version": "1.2.0",
            "_model_name": "LayoutModel",
            "_view_count": null,
            "_view_module": "@jupyter-widgets/base",
            "_view_module_version": "1.2.0",
            "_view_name": "LayoutView",
            "align_content": null,
            "align_items": null,
            "align_self": null,
            "border": null,
            "bottom": null,
            "display": null,
            "flex": null,
            "flex_flow": null,
            "grid_area": null,
            "grid_auto_columns": null,
            "grid_auto_flow": null,
            "grid_auto_rows": null,
            "grid_column": null,
            "grid_gap": null,
            "grid_row": null,
            "grid_template_areas": null,
            "grid_template_columns": null,
            "grid_template_rows": null,
            "height": null,
            "justify_content": null,
            "justify_items": null,
            "left": null,
            "margin": null,
            "max_height": null,
            "max_width": null,
            "min_height": null,
            "min_width": null,
            "object_fit": null,
            "object_position": null,
            "order": null,
            "overflow": null,
            "overflow_x": null,
            "overflow_y": null,
            "padding": null,
            "right": null,
            "top": null,
            "visibility": null,
            "width": null
          }
        },
        "7e2369926d794963befe7d3bef530f48": {
          "model_module": "@jupyter-widgets/controls",
          "model_name": "DescriptionStyleModel",
          "model_module_version": "1.5.0",
          "state": {
            "_model_module": "@jupyter-widgets/controls",
            "_model_module_version": "1.5.0",
            "_model_name": "DescriptionStyleModel",
            "_view_count": null,
            "_view_module": "@jupyter-widgets/base",
            "_view_module_version": "1.2.0",
            "_view_name": "StyleView",
            "description_width": ""
          }
        }
      }
    }
  },
  "cells": [
    {
      "cell_type": "markdown",
      "metadata": {
        "id": "view-in-github",
        "colab_type": "text"
      },
      "source": [
        "<a href=\"https://colab.research.google.com/github/sragnetti99/BookRecommender/blob/main/BookRecommender_SaraRagnetti.ipynb\" target=\"_parent\"><img src=\"https://colab.research.google.com/assets/colab-badge.svg\" alt=\"Open In Colab\"/></a>"
      ]
    },
    {
      "cell_type": "markdown",
      "source": [
        "## Book Recommender"
      ],
      "metadata": {
        "id": "wNEgtDednvIx"
      }
    },
    {
      "cell_type": "markdown",
      "source": [
        "Scopo del progetto è quello di realizzare un semplice Book recommender sulla base dei dati raccolti in tre dataset diversi:\n",
        "\n",
        "1.   BX-Books contiene informazioni sui libri;\n",
        "2.   BX-Users contiene informazioni sugli utenti;\n",
        "3.   BX-Book-Ratings contiene informazioni relative ai voti dati dagli utenti sui libri.\n",
        "\n",
        "Verranno presentati diversi modelli di recommender."
      ],
      "metadata": {
        "id": "rd-_wXGoqOFK"
      }
    },
    {
      "cell_type": "markdown",
      "source": [
        "Progetto di Applicazioni di Data Intensive a.a. 2021/2022"
      ],
      "metadata": {
        "id": "_9wU_K8gn3yH"
      }
    },
    {
      "cell_type": "markdown",
      "source": [
        "**Realizzato da**: Sara Ragnetti\n",
        "\n",
        "sara.ragnetti@studio.unibo.it"
      ],
      "metadata": {
        "id": "Hqi8JBqtoZyf"
      }
    },
    {
      "cell_type": "markdown",
      "source": [
        "# Caricamento Librerie"
      ],
      "metadata": {
        "id": "SsTTHEF7ow9f"
      }
    },
    {
      "cell_type": "markdown",
      "source": [
        "Prima di iniziare, è bene importare tutte le librerie necessarie per effettuare operazioni sui dati.\n",
        "\n",
        "*   csv: libreria per leggere e scrivere dati da forma tabulare in file CSV; \n",
        "*   pandas: libreria che fornisce strutture e strumenti per l'analisi di dati in linguaggio Python;\n",
        "*   numpy: lavorare con vettori e matrici in maniera più efficiente e veloce;\n",
        "* seaborn: libreria per la creazione di grafici statistici;\n",
        "* pyplot:  libreria per la creazione di grafici per il linguaggio di programmazione Python e la libreria matematica NumPy.\n"
      ],
      "metadata": {
        "id": "2soDKMn_o6Dn"
      }
    },
    {
      "cell_type": "code",
      "source": [
        "import csv\n",
        "import pandas as pd\n",
        "import numpy as np\n",
        "import seaborn as sns\n",
        "import matplotlib.pyplot as plt\n",
        "from sklearn.metrics import mean_squared_error\n",
        "from math import sqrt"
      ],
      "metadata": {
        "id": "IUQfrEBs3JZk"
      },
      "execution_count": null,
      "outputs": []
    },
    {
      "cell_type": "code",
      "source": [
        "global k #,metric\n",
        "k=4\n",
        "#metric='cosine'"
      ],
      "metadata": {
        "id": "fP1EttOvQZDz"
      },
      "execution_count": null,
      "outputs": []
    },
    {
      "cell_type": "markdown",
      "source": [
        "I dataset utilizzati in questa sede sono stati reperiti dal seguente indirizzo: http://www2.informatik.uni-freiburg.de/~cziegler/BX/\n",
        "\n",
        "Per poter eseguire tutte le seguenti istruzioni bisognerà importare i file .csv nella cartella \"sample_data\"."
      ],
      "metadata": {
        "id": "oKqyaAwNT4q4"
      }
    },
    {
      "cell_type": "markdown",
      "source": [
        "Prima di costruire il modello di Machine Learning per un book recommender, occorre comprendere ed analizzare i dati che saranno utilizzati nello svolgimento del progetto."
      ],
      "metadata": {
        "id": "zrzsphjJrwv9"
      }
    },
    {
      "cell_type": "code",
      "source": [
        "books = pd.read_csv('sample_data/BX-Books.csv', sep=\";\", error_bad_lines=False, encoding=\"latin-1\")\n",
        "books.columns = [\"ISBN\", \"bookTitle\", \"bookAuthor\", \"yearOfPubblication\", \"publisher\", \"imageUrlS\", \"imageUrlM\", \"imageUrlL\"]"
      ],
      "metadata": {
        "id": "RDc6CDiSBtBZ",
        "colab": {
          "base_uri": "https://localhost:8080/"
        },
        "outputId": "fe4da985-4e7e-4ff5-9e63-3638c076e081"
      },
      "execution_count": null,
      "outputs": [
        {
          "output_type": "stream",
          "name": "stderr",
          "text": [
            "/usr/local/lib/python3.8/dist-packages/IPython/core/interactiveshell.py:3326: FutureWarning: The error_bad_lines argument has been deprecated and will be removed in a future version.\n",
            "\n",
            "\n",
            "  exec(code_obj, self.user_global_ns, self.user_ns)\n",
            "b'Skipping line 6452: expected 8 fields, saw 9\\nSkipping line 43667: expected 8 fields, saw 10\\nSkipping line 51751: expected 8 fields, saw 9\\n'\n",
            "b'Skipping line 92038: expected 8 fields, saw 9\\nSkipping line 104319: expected 8 fields, saw 9\\nSkipping line 121768: expected 8 fields, saw 9\\n'\n",
            "b'Skipping line 144058: expected 8 fields, saw 9\\nSkipping line 150789: expected 8 fields, saw 9\\nSkipping line 157128: expected 8 fields, saw 9\\nSkipping line 180189: expected 8 fields, saw 9\\nSkipping line 185738: expected 8 fields, saw 9\\n'\n",
            "b'Skipping line 209388: expected 8 fields, saw 9\\nSkipping line 220626: expected 8 fields, saw 9\\nSkipping line 227933: expected 8 fields, saw 11\\nSkipping line 228957: expected 8 fields, saw 10\\nSkipping line 245933: expected 8 fields, saw 9\\nSkipping line 251296: expected 8 fields, saw 9\\nSkipping line 259941: expected 8 fields, saw 9\\nSkipping line 261529: expected 8 fields, saw 9\\n'\n",
            "/usr/local/lib/python3.8/dist-packages/IPython/core/interactiveshell.py:3326: DtypeWarning: Columns (3) have mixed types.Specify dtype option on import or set low_memory=False.\n",
            "  exec(code_obj, self.user_global_ns, self.user_ns)\n"
          ]
        }
      ]
    },
    {
      "cell_type": "code",
      "source": [
        "books.shape"
      ],
      "metadata": {
        "id": "b-oYnGR2EUki",
        "colab": {
          "base_uri": "https://localhost:8080/"
        },
        "outputId": "87afc27d-c3b6-4771-e884-4aa6d3fd27d2"
      },
      "execution_count": null,
      "outputs": [
        {
          "output_type": "execute_result",
          "data": {
            "text/plain": [
              "(271360, 8)"
            ]
          },
          "metadata": {},
          "execution_count": 29
        }
      ]
    },
    {
      "cell_type": "code",
      "source": [
        "users = pd.read_csv('sample_data/BX-Users.csv', sep=\";\", encoding=\"latin-1\") # error_bad_lines=False\n",
        "users.columns = [\"userId\", \"Location\", \"Age\"]"
      ],
      "metadata": {
        "id": "4jR49uZhD6mq"
      },
      "execution_count": null,
      "outputs": []
    },
    {
      "cell_type": "code",
      "source": [
        "users.shape"
      ],
      "metadata": {
        "id": "uOkj1Ne1EZYI",
        "colab": {
          "base_uri": "https://localhost:8080/"
        },
        "outputId": "f26205d8-9bf4-40c5-e332-415964d733b9"
      },
      "execution_count": null,
      "outputs": [
        {
          "output_type": "execute_result",
          "data": {
            "text/plain": [
              "(278858, 3)"
            ]
          },
          "metadata": {},
          "execution_count": 31
        }
      ]
    },
    {
      "cell_type": "code",
      "source": [
        "ratings = pd.read_csv('sample_data/BX-Book-Ratings.csv', sep=\";\", encoding=\"latin-1\",) # error_bad_lines=False\n",
        "ratings.columns = [\"userId\", \"ISBN\", \"bookRating\"]"
      ],
      "metadata": {
        "id": "gA0gpOSpD6cz"
      },
      "execution_count": null,
      "outputs": []
    },
    {
      "cell_type": "code",
      "source": [
        "ratings.shape"
      ],
      "metadata": {
        "id": "_W92Asg2Ea_q",
        "colab": {
          "base_uri": "https://localhost:8080/"
        },
        "outputId": "ff4d8521-b038-46f2-f00d-628cdb44a2dc"
      },
      "execution_count": null,
      "outputs": [
        {
          "output_type": "execute_result",
          "data": {
            "text/plain": [
              "(1149780, 3)"
            ]
          },
          "metadata": {},
          "execution_count": 33
        }
      ]
    },
    {
      "cell_type": "markdown",
      "source": [
        "## Books"
      ],
      "metadata": {
        "id": "ZIz1j8greyl0"
      }
    },
    {
      "cell_type": "markdown",
      "source": [
        "Esploriamo ora ciascuno dei tre dataset importati, iniziando da quello dei libri. "
      ],
      "metadata": {
        "id": "D_oopqSMgXJ7"
      }
    },
    {
      "cell_type": "code",
      "source": [
        "books.head()"
      ],
      "metadata": {
        "id": "JJKEe486e1lY",
        "colab": {
          "base_uri": "https://localhost:8080/",
          "height": 444
        },
        "outputId": "4e33ecc7-0cee-4af6-e557-218975558b45"
      },
      "execution_count": null,
      "outputs": [
        {
          "output_type": "execute_result",
          "data": {
            "text/plain": [
              "         ISBN                                          bookTitle  \\\n",
              "0  0195153448                                Classical Mythology   \n",
              "1  0002005018                                       Clara Callan   \n",
              "2  0060973129                               Decision in Normandy   \n",
              "3  0374157065  Flu: The Story of the Great Influenza Pandemic...   \n",
              "4  0393045218                             The Mummies of Urumchi   \n",
              "\n",
              "             bookAuthor yearOfPubblication                   publisher  \\\n",
              "0    Mark P. O. Morford               2002     Oxford University Press   \n",
              "1  Richard Bruce Wright               2001       HarperFlamingo Canada   \n",
              "2          Carlo D'Este               1991             HarperPerennial   \n",
              "3      Gina Bari Kolata               1999        Farrar Straus Giroux   \n",
              "4       E. J. W. Barber               1999  W. W. Norton &amp; Company   \n",
              "\n",
              "                                           imageUrlS  \\\n",
              "0  http://images.amazon.com/images/P/0195153448.0...   \n",
              "1  http://images.amazon.com/images/P/0002005018.0...   \n",
              "2  http://images.amazon.com/images/P/0060973129.0...   \n",
              "3  http://images.amazon.com/images/P/0374157065.0...   \n",
              "4  http://images.amazon.com/images/P/0393045218.0...   \n",
              "\n",
              "                                           imageUrlM  \\\n",
              "0  http://images.amazon.com/images/P/0195153448.0...   \n",
              "1  http://images.amazon.com/images/P/0002005018.0...   \n",
              "2  http://images.amazon.com/images/P/0060973129.0...   \n",
              "3  http://images.amazon.com/images/P/0374157065.0...   \n",
              "4  http://images.amazon.com/images/P/0393045218.0...   \n",
              "\n",
              "                                           imageUrlL  \n",
              "0  http://images.amazon.com/images/P/0195153448.0...  \n",
              "1  http://images.amazon.com/images/P/0002005018.0...  \n",
              "2  http://images.amazon.com/images/P/0060973129.0...  \n",
              "3  http://images.amazon.com/images/P/0374157065.0...  \n",
              "4  http://images.amazon.com/images/P/0393045218.0...  "
            ],
            "text/html": [
              "\n",
              "  <div id=\"df-0d2b65c1-e0ca-45f3-b8ce-eac0803ed43c\">\n",
              "    <div class=\"colab-df-container\">\n",
              "      <div>\n",
              "<style scoped>\n",
              "    .dataframe tbody tr th:only-of-type {\n",
              "        vertical-align: middle;\n",
              "    }\n",
              "\n",
              "    .dataframe tbody tr th {\n",
              "        vertical-align: top;\n",
              "    }\n",
              "\n",
              "    .dataframe thead th {\n",
              "        text-align: right;\n",
              "    }\n",
              "</style>\n",
              "<table border=\"1\" class=\"dataframe\">\n",
              "  <thead>\n",
              "    <tr style=\"text-align: right;\">\n",
              "      <th></th>\n",
              "      <th>ISBN</th>\n",
              "      <th>bookTitle</th>\n",
              "      <th>bookAuthor</th>\n",
              "      <th>yearOfPubblication</th>\n",
              "      <th>publisher</th>\n",
              "      <th>imageUrlS</th>\n",
              "      <th>imageUrlM</th>\n",
              "      <th>imageUrlL</th>\n",
              "    </tr>\n",
              "  </thead>\n",
              "  <tbody>\n",
              "    <tr>\n",
              "      <th>0</th>\n",
              "      <td>0195153448</td>\n",
              "      <td>Classical Mythology</td>\n",
              "      <td>Mark P. O. Morford</td>\n",
              "      <td>2002</td>\n",
              "      <td>Oxford University Press</td>\n",
              "      <td>http://images.amazon.com/images/P/0195153448.0...</td>\n",
              "      <td>http://images.amazon.com/images/P/0195153448.0...</td>\n",
              "      <td>http://images.amazon.com/images/P/0195153448.0...</td>\n",
              "    </tr>\n",
              "    <tr>\n",
              "      <th>1</th>\n",
              "      <td>0002005018</td>\n",
              "      <td>Clara Callan</td>\n",
              "      <td>Richard Bruce Wright</td>\n",
              "      <td>2001</td>\n",
              "      <td>HarperFlamingo Canada</td>\n",
              "      <td>http://images.amazon.com/images/P/0002005018.0...</td>\n",
              "      <td>http://images.amazon.com/images/P/0002005018.0...</td>\n",
              "      <td>http://images.amazon.com/images/P/0002005018.0...</td>\n",
              "    </tr>\n",
              "    <tr>\n",
              "      <th>2</th>\n",
              "      <td>0060973129</td>\n",
              "      <td>Decision in Normandy</td>\n",
              "      <td>Carlo D'Este</td>\n",
              "      <td>1991</td>\n",
              "      <td>HarperPerennial</td>\n",
              "      <td>http://images.amazon.com/images/P/0060973129.0...</td>\n",
              "      <td>http://images.amazon.com/images/P/0060973129.0...</td>\n",
              "      <td>http://images.amazon.com/images/P/0060973129.0...</td>\n",
              "    </tr>\n",
              "    <tr>\n",
              "      <th>3</th>\n",
              "      <td>0374157065</td>\n",
              "      <td>Flu: The Story of the Great Influenza Pandemic...</td>\n",
              "      <td>Gina Bari Kolata</td>\n",
              "      <td>1999</td>\n",
              "      <td>Farrar Straus Giroux</td>\n",
              "      <td>http://images.amazon.com/images/P/0374157065.0...</td>\n",
              "      <td>http://images.amazon.com/images/P/0374157065.0...</td>\n",
              "      <td>http://images.amazon.com/images/P/0374157065.0...</td>\n",
              "    </tr>\n",
              "    <tr>\n",
              "      <th>4</th>\n",
              "      <td>0393045218</td>\n",
              "      <td>The Mummies of Urumchi</td>\n",
              "      <td>E. J. W. Barber</td>\n",
              "      <td>1999</td>\n",
              "      <td>W. W. Norton &amp;amp; Company</td>\n",
              "      <td>http://images.amazon.com/images/P/0393045218.0...</td>\n",
              "      <td>http://images.amazon.com/images/P/0393045218.0...</td>\n",
              "      <td>http://images.amazon.com/images/P/0393045218.0...</td>\n",
              "    </tr>\n",
              "  </tbody>\n",
              "</table>\n",
              "</div>\n",
              "      <button class=\"colab-df-convert\" onclick=\"convertToInteractive('df-0d2b65c1-e0ca-45f3-b8ce-eac0803ed43c')\"\n",
              "              title=\"Convert this dataframe to an interactive table.\"\n",
              "              style=\"display:none;\">\n",
              "        \n",
              "  <svg xmlns=\"http://www.w3.org/2000/svg\" height=\"24px\"viewBox=\"0 0 24 24\"\n",
              "       width=\"24px\">\n",
              "    <path d=\"M0 0h24v24H0V0z\" fill=\"none\"/>\n",
              "    <path d=\"M18.56 5.44l.94 2.06.94-2.06 2.06-.94-2.06-.94-.94-2.06-.94 2.06-2.06.94zm-11 1L8.5 8.5l.94-2.06 2.06-.94-2.06-.94L8.5 2.5l-.94 2.06-2.06.94zm10 10l.94 2.06.94-2.06 2.06-.94-2.06-.94-.94-2.06-.94 2.06-2.06.94z\"/><path d=\"M17.41 7.96l-1.37-1.37c-.4-.4-.92-.59-1.43-.59-.52 0-1.04.2-1.43.59L10.3 9.45l-7.72 7.72c-.78.78-.78 2.05 0 2.83L4 21.41c.39.39.9.59 1.41.59.51 0 1.02-.2 1.41-.59l7.78-7.78 2.81-2.81c.8-.78.8-2.07 0-2.86zM5.41 20L4 18.59l7.72-7.72 1.47 1.35L5.41 20z\"/>\n",
              "  </svg>\n",
              "      </button>\n",
              "      \n",
              "  <style>\n",
              "    .colab-df-container {\n",
              "      display:flex;\n",
              "      flex-wrap:wrap;\n",
              "      gap: 12px;\n",
              "    }\n",
              "\n",
              "    .colab-df-convert {\n",
              "      background-color: #E8F0FE;\n",
              "      border: none;\n",
              "      border-radius: 50%;\n",
              "      cursor: pointer;\n",
              "      display: none;\n",
              "      fill: #1967D2;\n",
              "      height: 32px;\n",
              "      padding: 0 0 0 0;\n",
              "      width: 32px;\n",
              "    }\n",
              "\n",
              "    .colab-df-convert:hover {\n",
              "      background-color: #E2EBFA;\n",
              "      box-shadow: 0px 1px 2px rgba(60, 64, 67, 0.3), 0px 1px 3px 1px rgba(60, 64, 67, 0.15);\n",
              "      fill: #174EA6;\n",
              "    }\n",
              "\n",
              "    [theme=dark] .colab-df-convert {\n",
              "      background-color: #3B4455;\n",
              "      fill: #D2E3FC;\n",
              "    }\n",
              "\n",
              "    [theme=dark] .colab-df-convert:hover {\n",
              "      background-color: #434B5C;\n",
              "      box-shadow: 0px 1px 3px 1px rgba(0, 0, 0, 0.15);\n",
              "      filter: drop-shadow(0px 1px 2px rgba(0, 0, 0, 0.3));\n",
              "      fill: #FFFFFF;\n",
              "    }\n",
              "  </style>\n",
              "\n",
              "      <script>\n",
              "        const buttonEl =\n",
              "          document.querySelector('#df-0d2b65c1-e0ca-45f3-b8ce-eac0803ed43c button.colab-df-convert');\n",
              "        buttonEl.style.display =\n",
              "          google.colab.kernel.accessAllowed ? 'block' : 'none';\n",
              "\n",
              "        async function convertToInteractive(key) {\n",
              "          const element = document.querySelector('#df-0d2b65c1-e0ca-45f3-b8ce-eac0803ed43c');\n",
              "          const dataTable =\n",
              "            await google.colab.kernel.invokeFunction('convertToInteractive',\n",
              "                                                     [key], {});\n",
              "          if (!dataTable) return;\n",
              "\n",
              "          const docLinkHtml = 'Like what you see? Visit the ' +\n",
              "            '<a target=\"_blank\" href=https://colab.research.google.com/notebooks/data_table.ipynb>data table notebook</a>'\n",
              "            + ' to learn more about interactive tables.';\n",
              "          element.innerHTML = '';\n",
              "          dataTable['output_type'] = 'display_data';\n",
              "          await google.colab.output.renderOutput(dataTable, element);\n",
              "          const docLink = document.createElement('div');\n",
              "          docLink.innerHTML = docLinkHtml;\n",
              "          element.appendChild(docLink);\n",
              "        }\n",
              "      </script>\n",
              "    </div>\n",
              "  </div>\n",
              "  "
            ]
          },
          "metadata": {},
          "execution_count": 34
        }
      ]
    },
    {
      "cell_type": "markdown",
      "source": [
        "### Significati delle colonne\n",
        "\n",
        "- `ISBN`: codice univoco del libro\n",
        "- `bookTitle`: titolo del libro\n",
        "- `bookAuthor`: autore del libro\n",
        "- `yearOfPublication`: anno di pubblicazione\n",
        "- `publisher`: casa editrice\n",
        "- `imageUrlS`: immagine della copertina del libro in formato small (S)\n",
        "- `imageUrlM`: immagine della copertina del libro in formato medium (M)\n",
        "- `imageUrlL`: immagine della copertina del libro in formato large (L)"
      ],
      "metadata": {
        "id": "Eny68gIfJ34v"
      }
    },
    {
      "cell_type": "markdown",
      "source": [
        "Le colonne relative alle immagini non sono necessarie per l'analisi, quindi sarebbe opportuno rimuoverle."
      ],
      "metadata": {
        "id": "eAmN2xsBKxF-"
      }
    },
    {
      "cell_type": "code",
      "source": [
        "books.drop(['imageUrlS', 'imageUrlM', 'imageUrlL'], axis=1, inplace=True)"
      ],
      "metadata": {
        "id": "NA7_6m7mgt_K"
      },
      "execution_count": null,
      "outputs": []
    },
    {
      "cell_type": "code",
      "source": [
        "books.head()"
      ],
      "metadata": {
        "id": "3OfhShVKhFCS",
        "colab": {
          "base_uri": "https://localhost:8080/",
          "height": 206
        },
        "outputId": "ccc0558c-b241-419e-80c0-2972f5fb0419"
      },
      "execution_count": null,
      "outputs": [
        {
          "output_type": "execute_result",
          "data": {
            "text/plain": [
              "         ISBN                                          bookTitle  \\\n",
              "0  0195153448                                Classical Mythology   \n",
              "1  0002005018                                       Clara Callan   \n",
              "2  0060973129                               Decision in Normandy   \n",
              "3  0374157065  Flu: The Story of the Great Influenza Pandemic...   \n",
              "4  0393045218                             The Mummies of Urumchi   \n",
              "\n",
              "             bookAuthor yearOfPubblication                   publisher  \n",
              "0    Mark P. O. Morford               2002     Oxford University Press  \n",
              "1  Richard Bruce Wright               2001       HarperFlamingo Canada  \n",
              "2          Carlo D'Este               1991             HarperPerennial  \n",
              "3      Gina Bari Kolata               1999        Farrar Straus Giroux  \n",
              "4       E. J. W. Barber               1999  W. W. Norton &amp; Company  "
            ],
            "text/html": [
              "\n",
              "  <div id=\"df-5e11a250-8dde-4fe0-8899-3b456e44c4bc\">\n",
              "    <div class=\"colab-df-container\">\n",
              "      <div>\n",
              "<style scoped>\n",
              "    .dataframe tbody tr th:only-of-type {\n",
              "        vertical-align: middle;\n",
              "    }\n",
              "\n",
              "    .dataframe tbody tr th {\n",
              "        vertical-align: top;\n",
              "    }\n",
              "\n",
              "    .dataframe thead th {\n",
              "        text-align: right;\n",
              "    }\n",
              "</style>\n",
              "<table border=\"1\" class=\"dataframe\">\n",
              "  <thead>\n",
              "    <tr style=\"text-align: right;\">\n",
              "      <th></th>\n",
              "      <th>ISBN</th>\n",
              "      <th>bookTitle</th>\n",
              "      <th>bookAuthor</th>\n",
              "      <th>yearOfPubblication</th>\n",
              "      <th>publisher</th>\n",
              "    </tr>\n",
              "  </thead>\n",
              "  <tbody>\n",
              "    <tr>\n",
              "      <th>0</th>\n",
              "      <td>0195153448</td>\n",
              "      <td>Classical Mythology</td>\n",
              "      <td>Mark P. O. Morford</td>\n",
              "      <td>2002</td>\n",
              "      <td>Oxford University Press</td>\n",
              "    </tr>\n",
              "    <tr>\n",
              "      <th>1</th>\n",
              "      <td>0002005018</td>\n",
              "      <td>Clara Callan</td>\n",
              "      <td>Richard Bruce Wright</td>\n",
              "      <td>2001</td>\n",
              "      <td>HarperFlamingo Canada</td>\n",
              "    </tr>\n",
              "    <tr>\n",
              "      <th>2</th>\n",
              "      <td>0060973129</td>\n",
              "      <td>Decision in Normandy</td>\n",
              "      <td>Carlo D'Este</td>\n",
              "      <td>1991</td>\n",
              "      <td>HarperPerennial</td>\n",
              "    </tr>\n",
              "    <tr>\n",
              "      <th>3</th>\n",
              "      <td>0374157065</td>\n",
              "      <td>Flu: The Story of the Great Influenza Pandemic...</td>\n",
              "      <td>Gina Bari Kolata</td>\n",
              "      <td>1999</td>\n",
              "      <td>Farrar Straus Giroux</td>\n",
              "    </tr>\n",
              "    <tr>\n",
              "      <th>4</th>\n",
              "      <td>0393045218</td>\n",
              "      <td>The Mummies of Urumchi</td>\n",
              "      <td>E. J. W. Barber</td>\n",
              "      <td>1999</td>\n",
              "      <td>W. W. Norton &amp;amp; Company</td>\n",
              "    </tr>\n",
              "  </tbody>\n",
              "</table>\n",
              "</div>\n",
              "      <button class=\"colab-df-convert\" onclick=\"convertToInteractive('df-5e11a250-8dde-4fe0-8899-3b456e44c4bc')\"\n",
              "              title=\"Convert this dataframe to an interactive table.\"\n",
              "              style=\"display:none;\">\n",
              "        \n",
              "  <svg xmlns=\"http://www.w3.org/2000/svg\" height=\"24px\"viewBox=\"0 0 24 24\"\n",
              "       width=\"24px\">\n",
              "    <path d=\"M0 0h24v24H0V0z\" fill=\"none\"/>\n",
              "    <path d=\"M18.56 5.44l.94 2.06.94-2.06 2.06-.94-2.06-.94-.94-2.06-.94 2.06-2.06.94zm-11 1L8.5 8.5l.94-2.06 2.06-.94-2.06-.94L8.5 2.5l-.94 2.06-2.06.94zm10 10l.94 2.06.94-2.06 2.06-.94-2.06-.94-.94-2.06-.94 2.06-2.06.94z\"/><path d=\"M17.41 7.96l-1.37-1.37c-.4-.4-.92-.59-1.43-.59-.52 0-1.04.2-1.43.59L10.3 9.45l-7.72 7.72c-.78.78-.78 2.05 0 2.83L4 21.41c.39.39.9.59 1.41.59.51 0 1.02-.2 1.41-.59l7.78-7.78 2.81-2.81c.8-.78.8-2.07 0-2.86zM5.41 20L4 18.59l7.72-7.72 1.47 1.35L5.41 20z\"/>\n",
              "  </svg>\n",
              "      </button>\n",
              "      \n",
              "  <style>\n",
              "    .colab-df-container {\n",
              "      display:flex;\n",
              "      flex-wrap:wrap;\n",
              "      gap: 12px;\n",
              "    }\n",
              "\n",
              "    .colab-df-convert {\n",
              "      background-color: #E8F0FE;\n",
              "      border: none;\n",
              "      border-radius: 50%;\n",
              "      cursor: pointer;\n",
              "      display: none;\n",
              "      fill: #1967D2;\n",
              "      height: 32px;\n",
              "      padding: 0 0 0 0;\n",
              "      width: 32px;\n",
              "    }\n",
              "\n",
              "    .colab-df-convert:hover {\n",
              "      background-color: #E2EBFA;\n",
              "      box-shadow: 0px 1px 2px rgba(60, 64, 67, 0.3), 0px 1px 3px 1px rgba(60, 64, 67, 0.15);\n",
              "      fill: #174EA6;\n",
              "    }\n",
              "\n",
              "    [theme=dark] .colab-df-convert {\n",
              "      background-color: #3B4455;\n",
              "      fill: #D2E3FC;\n",
              "    }\n",
              "\n",
              "    [theme=dark] .colab-df-convert:hover {\n",
              "      background-color: #434B5C;\n",
              "      box-shadow: 0px 1px 3px 1px rgba(0, 0, 0, 0.15);\n",
              "      filter: drop-shadow(0px 1px 2px rgba(0, 0, 0, 0.3));\n",
              "      fill: #FFFFFF;\n",
              "    }\n",
              "  </style>\n",
              "\n",
              "      <script>\n",
              "        const buttonEl =\n",
              "          document.querySelector('#df-5e11a250-8dde-4fe0-8899-3b456e44c4bc button.colab-df-convert');\n",
              "        buttonEl.style.display =\n",
              "          google.colab.kernel.accessAllowed ? 'block' : 'none';\n",
              "\n",
              "        async function convertToInteractive(key) {\n",
              "          const element = document.querySelector('#df-5e11a250-8dde-4fe0-8899-3b456e44c4bc');\n",
              "          const dataTable =\n",
              "            await google.colab.kernel.invokeFunction('convertToInteractive',\n",
              "                                                     [key], {});\n",
              "          if (!dataTable) return;\n",
              "\n",
              "          const docLinkHtml = 'Like what you see? Visit the ' +\n",
              "            '<a target=\"_blank\" href=https://colab.research.google.com/notebooks/data_table.ipynb>data table notebook</a>'\n",
              "            + ' to learn more about interactive tables.';\n",
              "          element.innerHTML = '';\n",
              "          dataTable['output_type'] = 'display_data';\n",
              "          await google.colab.output.renderOutput(dataTable, element);\n",
              "          const docLink = document.createElement('div');\n",
              "          docLink.innerHTML = docLinkHtml;\n",
              "          element.appendChild(docLink);\n",
              "        }\n",
              "      </script>\n",
              "    </div>\n",
              "  </div>\n",
              "  "
            ]
          },
          "metadata": {},
          "execution_count": 36
        }
      ]
    },
    {
      "cell_type": "markdown",
      "source": [
        "Sistemiamo la tabella in modo che sia visibile il testo completo di ogni sua colonna."
      ],
      "metadata": {
        "id": "3yEGwi9Sh0J1"
      }
    },
    {
      "cell_type": "code",
      "source": [
        "pd.set_option('display.max_colwidth', None)"
      ],
      "metadata": {
        "id": "oVrEhHTXhVa3"
      },
      "execution_count": null,
      "outputs": []
    },
    {
      "cell_type": "markdown",
      "source": [
        "Effettuiamo dei controlli su alcuni attributi. Iniziamo visualizzando i tipi degli elementi lungo le colonne."
      ],
      "metadata": {
        "id": "_TCFTyTEmdo6"
      }
    },
    {
      "cell_type": "code",
      "source": [
        "books.dtypes"
      ],
      "metadata": {
        "id": "dcGk_vkxM3xr",
        "colab": {
          "base_uri": "https://localhost:8080/"
        },
        "outputId": "25443b0b-9bf3-47a1-d948-d53b7c3fcae1"
      },
      "execution_count": null,
      "outputs": [
        {
          "output_type": "execute_result",
          "data": {
            "text/plain": [
              "ISBN                  object\n",
              "bookTitle             object\n",
              "bookAuthor            object\n",
              "yearOfPubblication    object\n",
              "publisher             object\n",
              "dtype: object"
            ]
          },
          "metadata": {},
          "execution_count": 38
        }
      ]
    },
    {
      "cell_type": "markdown",
      "source": [
        "**yearOfPubblication**"
      ],
      "metadata": {
        "id": "36EmmzjppB9D"
      }
    },
    {
      "cell_type": "markdown",
      "source": [
        "Prima controlliamo i valori della colonna yearOfPubblication e osserviamo che è presente uno 0. \n",
        "Probabilmente si tratta di un errore del dataset, quindi andiamo a sostituire quel valore con la media degli anni di pubblicazione di tutti gli altri libri.\n",
        "\n",
        "Sembrerebbe inoltre ragionevole convertire il tipo di tutti valori della colonna yearOfPubblication in int32."
      ],
      "metadata": {
        "id": "mkVQE5iypJmV"
      }
    },
    {
      "cell_type": "code",
      "source": [
        "books.yearOfPubblication.unique()"
      ],
      "metadata": {
        "id": "jgSYGfbImVk0",
        "colab": {
          "base_uri": "https://localhost:8080/"
        },
        "outputId": "39440eef-c522-43ac-ea66-d46c3ffed448"
      },
      "execution_count": null,
      "outputs": [
        {
          "output_type": "execute_result",
          "data": {
            "text/plain": [
              "array([2002, 2001, 1991, 1999, 2000, 1993, 1996, 1988, 2004, 1998, 1994,\n",
              "       2003, 1997, 1983, 1979, 1995, 1982, 1985, 1992, 1986, 1978, 1980,\n",
              "       1952, 1987, 1990, 1981, 1989, 1984, 0, 1968, 1961, 1958, 1974,\n",
              "       1976, 1971, 1977, 1975, 1965, 1941, 1970, 1962, 1973, 1972, 1960,\n",
              "       1966, 1920, 1956, 1959, 1953, 1951, 1942, 1963, 1964, 1969, 1954,\n",
              "       1950, 1967, 2005, 1957, 1940, 1937, 1955, 1946, 1936, 1930, 2011,\n",
              "       1925, 1948, 1943, 1947, 1945, 1923, 2020, 1939, 1926, 1938, 2030,\n",
              "       1911, 1904, 1949, 1932, 1928, 1929, 1927, 1931, 1914, 2050, 1934,\n",
              "       1910, 1933, 1902, 1924, 1921, 1900, 2038, 2026, 1944, 1917, 1901,\n",
              "       2010, 1908, 1906, 1935, 1806, 2021, '2000', '1995', '1999', '2004',\n",
              "       '2003', '1990', '1994', '1986', '1989', '2002', '1981', '1993',\n",
              "       '1983', '1982', '1976', '1991', '1977', '1998', '1992', '1996',\n",
              "       '0', '1997', '2001', '1974', '1968', '1987', '1984', '1988',\n",
              "       '1963', '1956', '1970', '1985', '1978', '1973', '1980', '1979',\n",
              "       '1975', '1969', '1961', '1965', '1939', '1958', '1950', '1953',\n",
              "       '1966', '1971', '1959', '1972', '1955', '1957', '1945', '1960',\n",
              "       '1967', '1932', '1924', '1964', '2012', '1911', '1927', '1948',\n",
              "       '1962', '2006', '1952', '1940', '1951', '1931', '1954', '2005',\n",
              "       '1930', '1941', '1944', 'DK Publishing Inc', '1943', '1938',\n",
              "       '1900', '1942', '1923', '1920', '1933', 'Gallimard', '1909',\n",
              "       '1946', '2008', '1378', '2030', '1936', '1947', '2011', '2020',\n",
              "       '1919', '1949', '1922', '1897', '2024', '1376', '1926', '2037'],\n",
              "      dtype=object)"
            ]
          },
          "metadata": {},
          "execution_count": 39
        }
      ]
    },
    {
      "cell_type": "markdown",
      "source": [
        "Risulta inotre evidente che due publisher siano stati erroneamente inseriti come yearOfPublication. Dobbiamo rimuoverli."
      ],
      "metadata": {
        "id": "1RqcgxAFNoKW"
      }
    },
    {
      "cell_type": "code",
      "source": [
        "books.loc[books.yearOfPubblication == 'DK Publishing Inc', :]"
      ],
      "metadata": {
        "id": "LpljHyp5NoZ3",
        "colab": {
          "base_uri": "https://localhost:8080/",
          "height": 191
        },
        "outputId": "cb67e312-063e-4f26-ca96-7991fde3fc8d"
      },
      "execution_count": null,
      "outputs": [
        {
          "output_type": "execute_result",
          "data": {
            "text/plain": [
              "              ISBN  \\\n",
              "209538  078946697X   \n",
              "221678  0789466953   \n",
              "\n",
              "                                                                                                          bookTitle  \\\n",
              "209538         DK Readers: Creating the X-Men, How It All Began (Level 4: Proficient Readers)\\\";Michael Teitelbaum\"   \n",
              "221678  DK Readers: Creating the X-Men, How Comic Books Come to Life (Level 4: Proficient Readers)\\\";James Buckley\"   \n",
              "\n",
              "       bookAuthor yearOfPubblication  \\\n",
              "209538       2000  DK Publishing Inc   \n",
              "221678       2000  DK Publishing Inc   \n",
              "\n",
              "                                                           publisher  \n",
              "209538  http://images.amazon.com/images/P/078946697X.01.THUMBZZZ.jpg  \n",
              "221678  http://images.amazon.com/images/P/0789466953.01.THUMBZZZ.jpg  "
            ],
            "text/html": [
              "\n",
              "  <div id=\"df-56f49661-0378-41ac-81a8-d7e25989abc0\">\n",
              "    <div class=\"colab-df-container\">\n",
              "      <div>\n",
              "<style scoped>\n",
              "    .dataframe tbody tr th:only-of-type {\n",
              "        vertical-align: middle;\n",
              "    }\n",
              "\n",
              "    .dataframe tbody tr th {\n",
              "        vertical-align: top;\n",
              "    }\n",
              "\n",
              "    .dataframe thead th {\n",
              "        text-align: right;\n",
              "    }\n",
              "</style>\n",
              "<table border=\"1\" class=\"dataframe\">\n",
              "  <thead>\n",
              "    <tr style=\"text-align: right;\">\n",
              "      <th></th>\n",
              "      <th>ISBN</th>\n",
              "      <th>bookTitle</th>\n",
              "      <th>bookAuthor</th>\n",
              "      <th>yearOfPubblication</th>\n",
              "      <th>publisher</th>\n",
              "    </tr>\n",
              "  </thead>\n",
              "  <tbody>\n",
              "    <tr>\n",
              "      <th>209538</th>\n",
              "      <td>078946697X</td>\n",
              "      <td>DK Readers: Creating the X-Men, How It All Began (Level 4: Proficient Readers)\\\";Michael Teitelbaum\"</td>\n",
              "      <td>2000</td>\n",
              "      <td>DK Publishing Inc</td>\n",
              "      <td>http://images.amazon.com/images/P/078946697X.01.THUMBZZZ.jpg</td>\n",
              "    </tr>\n",
              "    <tr>\n",
              "      <th>221678</th>\n",
              "      <td>0789466953</td>\n",
              "      <td>DK Readers: Creating the X-Men, How Comic Books Come to Life (Level 4: Proficient Readers)\\\";James Buckley\"</td>\n",
              "      <td>2000</td>\n",
              "      <td>DK Publishing Inc</td>\n",
              "      <td>http://images.amazon.com/images/P/0789466953.01.THUMBZZZ.jpg</td>\n",
              "    </tr>\n",
              "  </tbody>\n",
              "</table>\n",
              "</div>\n",
              "      <button class=\"colab-df-convert\" onclick=\"convertToInteractive('df-56f49661-0378-41ac-81a8-d7e25989abc0')\"\n",
              "              title=\"Convert this dataframe to an interactive table.\"\n",
              "              style=\"display:none;\">\n",
              "        \n",
              "  <svg xmlns=\"http://www.w3.org/2000/svg\" height=\"24px\"viewBox=\"0 0 24 24\"\n",
              "       width=\"24px\">\n",
              "    <path d=\"M0 0h24v24H0V0z\" fill=\"none\"/>\n",
              "    <path d=\"M18.56 5.44l.94 2.06.94-2.06 2.06-.94-2.06-.94-.94-2.06-.94 2.06-2.06.94zm-11 1L8.5 8.5l.94-2.06 2.06-.94-2.06-.94L8.5 2.5l-.94 2.06-2.06.94zm10 10l.94 2.06.94-2.06 2.06-.94-2.06-.94-.94-2.06-.94 2.06-2.06.94z\"/><path d=\"M17.41 7.96l-1.37-1.37c-.4-.4-.92-.59-1.43-.59-.52 0-1.04.2-1.43.59L10.3 9.45l-7.72 7.72c-.78.78-.78 2.05 0 2.83L4 21.41c.39.39.9.59 1.41.59.51 0 1.02-.2 1.41-.59l7.78-7.78 2.81-2.81c.8-.78.8-2.07 0-2.86zM5.41 20L4 18.59l7.72-7.72 1.47 1.35L5.41 20z\"/>\n",
              "  </svg>\n",
              "      </button>\n",
              "      \n",
              "  <style>\n",
              "    .colab-df-container {\n",
              "      display:flex;\n",
              "      flex-wrap:wrap;\n",
              "      gap: 12px;\n",
              "    }\n",
              "\n",
              "    .colab-df-convert {\n",
              "      background-color: #E8F0FE;\n",
              "      border: none;\n",
              "      border-radius: 50%;\n",
              "      cursor: pointer;\n",
              "      display: none;\n",
              "      fill: #1967D2;\n",
              "      height: 32px;\n",
              "      padding: 0 0 0 0;\n",
              "      width: 32px;\n",
              "    }\n",
              "\n",
              "    .colab-df-convert:hover {\n",
              "      background-color: #E2EBFA;\n",
              "      box-shadow: 0px 1px 2px rgba(60, 64, 67, 0.3), 0px 1px 3px 1px rgba(60, 64, 67, 0.15);\n",
              "      fill: #174EA6;\n",
              "    }\n",
              "\n",
              "    [theme=dark] .colab-df-convert {\n",
              "      background-color: #3B4455;\n",
              "      fill: #D2E3FC;\n",
              "    }\n",
              "\n",
              "    [theme=dark] .colab-df-convert:hover {\n",
              "      background-color: #434B5C;\n",
              "      box-shadow: 0px 1px 3px 1px rgba(0, 0, 0, 0.15);\n",
              "      filter: drop-shadow(0px 1px 2px rgba(0, 0, 0, 0.3));\n",
              "      fill: #FFFFFF;\n",
              "    }\n",
              "  </style>\n",
              "\n",
              "      <script>\n",
              "        const buttonEl =\n",
              "          document.querySelector('#df-56f49661-0378-41ac-81a8-d7e25989abc0 button.colab-df-convert');\n",
              "        buttonEl.style.display =\n",
              "          google.colab.kernel.accessAllowed ? 'block' : 'none';\n",
              "\n",
              "        async function convertToInteractive(key) {\n",
              "          const element = document.querySelector('#df-56f49661-0378-41ac-81a8-d7e25989abc0');\n",
              "          const dataTable =\n",
              "            await google.colab.kernel.invokeFunction('convertToInteractive',\n",
              "                                                     [key], {});\n",
              "          if (!dataTable) return;\n",
              "\n",
              "          const docLinkHtml = 'Like what you see? Visit the ' +\n",
              "            '<a target=\"_blank\" href=https://colab.research.google.com/notebooks/data_table.ipynb>data table notebook</a>'\n",
              "            + ' to learn more about interactive tables.';\n",
              "          element.innerHTML = '';\n",
              "          dataTable['output_type'] = 'display_data';\n",
              "          await google.colab.output.renderOutput(dataTable, element);\n",
              "          const docLink = document.createElement('div');\n",
              "          docLink.innerHTML = docLinkHtml;\n",
              "          element.appendChild(docLink);\n",
              "        }\n",
              "      </script>\n",
              "    </div>\n",
              "  </div>\n",
              "  "
            ]
          },
          "metadata": {},
          "execution_count": 40
        }
      ]
    },
    {
      "cell_type": "markdown",
      "source": [
        "Adesso sistemiamo manualmente i valori sballati, in particolare effettiamo lo switch tra il valore di yearOfPubblication e quello di publisher."
      ],
      "metadata": {
        "id": "nRRuHIxXbD83"
      }
    },
    {
      "cell_type": "code",
      "source": [
        "books.loc[books.ISBN == '078946697X', 'yearOfPubblication'] = 2000\n",
        "books.loc[books.ISBN == '078946697X', 'bookAuthor'] = \"Michael Teitelbaum\"\n",
        "books.loc[books.ISBN == '078946697X', 'bookTitle'] = 'DK Readers: Creating the X-Men, How It All Began (Level 4: Proficient Readers)'\n",
        "books.loc[books.ISBN == '078946697X', 'publisher'] = 'DK Publishing Inc'\n",
        "\n",
        "books.loc[books.ISBN == '0789466953', 'yearOfPubblication'] = 2000\n",
        "books.loc[books.ISBN == '0789466953', 'bookAuthor'] = \"James Buckley\"\n",
        "books.loc[books.ISBN == '0789466953', 'bookTitle'] = 'DK Readers: Creating the X-Men, How Comic Books Come to Life (Level 4: Proficient Readers)'\n",
        "books.loc[books.ISBN == '0789466953', 'publisher'] = 'DK Publishing Inc'"
      ],
      "metadata": {
        "id": "Mt6_hg_7ON0A"
      },
      "execution_count": null,
      "outputs": []
    },
    {
      "cell_type": "code",
      "source": [
        "books.loc[books.yearOfPubblication == 'Gallimard', :]"
      ],
      "metadata": {
        "id": "4XW3xo1RPXyX",
        "colab": {
          "base_uri": "https://localhost:8080/",
          "height": 142
        },
        "outputId": "6f6a6bd9-efac-4f8a-fe92-fa429cc80cb7"
      },
      "execution_count": null,
      "outputs": [
        {
          "output_type": "execute_result",
          "data": {
            "text/plain": [
              "              ISBN  \\\n",
              "220731  2070426769   \n",
              "\n",
              "                                                                       bookTitle  \\\n",
              "220731  Peuple du ciel, suivi de 'Les Bergers\\\";Jean-Marie Gustave Le ClÃ?Â©zio\"   \n",
              "\n",
              "       bookAuthor yearOfPubblication  \\\n",
              "220731       2003          Gallimard   \n",
              "\n",
              "                                                           publisher  \n",
              "220731  http://images.amazon.com/images/P/2070426769.01.THUMBZZZ.jpg  "
            ],
            "text/html": [
              "\n",
              "  <div id=\"df-31e78f99-1e4d-4546-8b4f-c08e7615d866\">\n",
              "    <div class=\"colab-df-container\">\n",
              "      <div>\n",
              "<style scoped>\n",
              "    .dataframe tbody tr th:only-of-type {\n",
              "        vertical-align: middle;\n",
              "    }\n",
              "\n",
              "    .dataframe tbody tr th {\n",
              "        vertical-align: top;\n",
              "    }\n",
              "\n",
              "    .dataframe thead th {\n",
              "        text-align: right;\n",
              "    }\n",
              "</style>\n",
              "<table border=\"1\" class=\"dataframe\">\n",
              "  <thead>\n",
              "    <tr style=\"text-align: right;\">\n",
              "      <th></th>\n",
              "      <th>ISBN</th>\n",
              "      <th>bookTitle</th>\n",
              "      <th>bookAuthor</th>\n",
              "      <th>yearOfPubblication</th>\n",
              "      <th>publisher</th>\n",
              "    </tr>\n",
              "  </thead>\n",
              "  <tbody>\n",
              "    <tr>\n",
              "      <th>220731</th>\n",
              "      <td>2070426769</td>\n",
              "      <td>Peuple du ciel, suivi de 'Les Bergers\\\";Jean-Marie Gustave Le ClÃ?Â©zio\"</td>\n",
              "      <td>2003</td>\n",
              "      <td>Gallimard</td>\n",
              "      <td>http://images.amazon.com/images/P/2070426769.01.THUMBZZZ.jpg</td>\n",
              "    </tr>\n",
              "  </tbody>\n",
              "</table>\n",
              "</div>\n",
              "      <button class=\"colab-df-convert\" onclick=\"convertToInteractive('df-31e78f99-1e4d-4546-8b4f-c08e7615d866')\"\n",
              "              title=\"Convert this dataframe to an interactive table.\"\n",
              "              style=\"display:none;\">\n",
              "        \n",
              "  <svg xmlns=\"http://www.w3.org/2000/svg\" height=\"24px\"viewBox=\"0 0 24 24\"\n",
              "       width=\"24px\">\n",
              "    <path d=\"M0 0h24v24H0V0z\" fill=\"none\"/>\n",
              "    <path d=\"M18.56 5.44l.94 2.06.94-2.06 2.06-.94-2.06-.94-.94-2.06-.94 2.06-2.06.94zm-11 1L8.5 8.5l.94-2.06 2.06-.94-2.06-.94L8.5 2.5l-.94 2.06-2.06.94zm10 10l.94 2.06.94-2.06 2.06-.94-2.06-.94-.94-2.06-.94 2.06-2.06.94z\"/><path d=\"M17.41 7.96l-1.37-1.37c-.4-.4-.92-.59-1.43-.59-.52 0-1.04.2-1.43.59L10.3 9.45l-7.72 7.72c-.78.78-.78 2.05 0 2.83L4 21.41c.39.39.9.59 1.41.59.51 0 1.02-.2 1.41-.59l7.78-7.78 2.81-2.81c.8-.78.8-2.07 0-2.86zM5.41 20L4 18.59l7.72-7.72 1.47 1.35L5.41 20z\"/>\n",
              "  </svg>\n",
              "      </button>\n",
              "      \n",
              "  <style>\n",
              "    .colab-df-container {\n",
              "      display:flex;\n",
              "      flex-wrap:wrap;\n",
              "      gap: 12px;\n",
              "    }\n",
              "\n",
              "    .colab-df-convert {\n",
              "      background-color: #E8F0FE;\n",
              "      border: none;\n",
              "      border-radius: 50%;\n",
              "      cursor: pointer;\n",
              "      display: none;\n",
              "      fill: #1967D2;\n",
              "      height: 32px;\n",
              "      padding: 0 0 0 0;\n",
              "      width: 32px;\n",
              "    }\n",
              "\n",
              "    .colab-df-convert:hover {\n",
              "      background-color: #E2EBFA;\n",
              "      box-shadow: 0px 1px 2px rgba(60, 64, 67, 0.3), 0px 1px 3px 1px rgba(60, 64, 67, 0.15);\n",
              "      fill: #174EA6;\n",
              "    }\n",
              "\n",
              "    [theme=dark] .colab-df-convert {\n",
              "      background-color: #3B4455;\n",
              "      fill: #D2E3FC;\n",
              "    }\n",
              "\n",
              "    [theme=dark] .colab-df-convert:hover {\n",
              "      background-color: #434B5C;\n",
              "      box-shadow: 0px 1px 3px 1px rgba(0, 0, 0, 0.15);\n",
              "      filter: drop-shadow(0px 1px 2px rgba(0, 0, 0, 0.3));\n",
              "      fill: #FFFFFF;\n",
              "    }\n",
              "  </style>\n",
              "\n",
              "      <script>\n",
              "        const buttonEl =\n",
              "          document.querySelector('#df-31e78f99-1e4d-4546-8b4f-c08e7615d866 button.colab-df-convert');\n",
              "        buttonEl.style.display =\n",
              "          google.colab.kernel.accessAllowed ? 'block' : 'none';\n",
              "\n",
              "        async function convertToInteractive(key) {\n",
              "          const element = document.querySelector('#df-31e78f99-1e4d-4546-8b4f-c08e7615d866');\n",
              "          const dataTable =\n",
              "            await google.colab.kernel.invokeFunction('convertToInteractive',\n",
              "                                                     [key], {});\n",
              "          if (!dataTable) return;\n",
              "\n",
              "          const docLinkHtml = 'Like what you see? Visit the ' +\n",
              "            '<a target=\"_blank\" href=https://colab.research.google.com/notebooks/data_table.ipynb>data table notebook</a>'\n",
              "            + ' to learn more about interactive tables.';\n",
              "          element.innerHTML = '';\n",
              "          dataTable['output_type'] = 'display_data';\n",
              "          await google.colab.output.renderOutput(dataTable, element);\n",
              "          const docLink = document.createElement('div');\n",
              "          docLink.innerHTML = docLinkHtml;\n",
              "          element.appendChild(docLink);\n",
              "        }\n",
              "      </script>\n",
              "    </div>\n",
              "  </div>\n",
              "  "
            ]
          },
          "metadata": {},
          "execution_count": 42
        }
      ]
    },
    {
      "cell_type": "code",
      "source": [
        "books.loc[books.ISBN == '2070426769', 'yearOfPubblication'] = 2003\n",
        "books.loc[books.ISBN == '2070426769', 'bookAuthor'] = \"Jean-Marie Gustave\"\n",
        "books.loc[books.ISBN == '2070426769', 'bookTitle'] = 'Peuple du ciel, suivi de Les Bergers'\n",
        "books.loc[books.ISBN == '2070426769', 'publisher'] = 'Gallimard'"
      ],
      "metadata": {
        "id": "buRTrMNgPb4P"
      },
      "execution_count": null,
      "outputs": []
    },
    {
      "cell_type": "code",
      "source": [
        "books.yearOfPubblication = pd.to_numeric(books.yearOfPubblication, errors = 'coerce')\n",
        "sorted(books['yearOfPubblication'].unique())"
      ],
      "metadata": {
        "id": "6VF_JUOmPxN8",
        "colab": {
          "base_uri": "https://localhost:8080/"
        },
        "outputId": "7163fdd6-b2a8-4c78-9b49-7a05339f1dc7"
      },
      "execution_count": null,
      "outputs": [
        {
          "output_type": "execute_result",
          "data": {
            "text/plain": [
              "[0,\n",
              " 1376,\n",
              " 1378,\n",
              " 1806,\n",
              " 1897,\n",
              " 1900,\n",
              " 1901,\n",
              " 1902,\n",
              " 1904,\n",
              " 1906,\n",
              " 1908,\n",
              " 1909,\n",
              " 1910,\n",
              " 1911,\n",
              " 1914,\n",
              " 1917,\n",
              " 1919,\n",
              " 1920,\n",
              " 1921,\n",
              " 1922,\n",
              " 1923,\n",
              " 1924,\n",
              " 1925,\n",
              " 1926,\n",
              " 1927,\n",
              " 1928,\n",
              " 1929,\n",
              " 1930,\n",
              " 1931,\n",
              " 1932,\n",
              " 1933,\n",
              " 1934,\n",
              " 1935,\n",
              " 1936,\n",
              " 1937,\n",
              " 1938,\n",
              " 1939,\n",
              " 1940,\n",
              " 1941,\n",
              " 1942,\n",
              " 1943,\n",
              " 1944,\n",
              " 1945,\n",
              " 1946,\n",
              " 1947,\n",
              " 1948,\n",
              " 1949,\n",
              " 1950,\n",
              " 1951,\n",
              " 1952,\n",
              " 1953,\n",
              " 1954,\n",
              " 1955,\n",
              " 1956,\n",
              " 1957,\n",
              " 1958,\n",
              " 1959,\n",
              " 1960,\n",
              " 1961,\n",
              " 1962,\n",
              " 1963,\n",
              " 1964,\n",
              " 1965,\n",
              " 1966,\n",
              " 1967,\n",
              " 1968,\n",
              " 1969,\n",
              " 1970,\n",
              " 1971,\n",
              " 1972,\n",
              " 1973,\n",
              " 1974,\n",
              " 1975,\n",
              " 1976,\n",
              " 1977,\n",
              " 1978,\n",
              " 1979,\n",
              " 1980,\n",
              " 1981,\n",
              " 1982,\n",
              " 1983,\n",
              " 1984,\n",
              " 1985,\n",
              " 1986,\n",
              " 1987,\n",
              " 1988,\n",
              " 1989,\n",
              " 1990,\n",
              " 1991,\n",
              " 1992,\n",
              " 1993,\n",
              " 1994,\n",
              " 1995,\n",
              " 1996,\n",
              " 1997,\n",
              " 1998,\n",
              " 1999,\n",
              " 2000,\n",
              " 2001,\n",
              " 2002,\n",
              " 2003,\n",
              " 2004,\n",
              " 2005,\n",
              " 2006,\n",
              " 2008,\n",
              " 2010,\n",
              " 2011,\n",
              " 2012,\n",
              " 2020,\n",
              " 2021,\n",
              " 2024,\n",
              " 2026,\n",
              " 2030,\n",
              " 2037,\n",
              " 2038,\n",
              " 2050]"
            ]
          },
          "metadata": {},
          "execution_count": 44
        }
      ]
    },
    {
      "cell_type": "markdown",
      "source": [
        "È possibile vedere che yearOfPublication è di tipo int e ha valori compresi tra 0 e 2050. Considerando che questo set di dati è stato creato nel 2004, si presume che tutti gli anni successivi al 2006 non siano validi. Si mantiene comunque un margine di due anni nell'eventualità che il set di dati possa essere stato aggiornato. \n",
        "Tutti i valori non validi (inclusi gli 0), li converto in NaN, quindi li sostituirò con i valori medi degli anni rimanenti."
      ],
      "metadata": {
        "id": "uflBL6-6dnv3"
      }
    },
    {
      "cell_type": "code",
      "source": [
        "books.loc[(books.yearOfPubblication > 2006) | (books.yearOfPubblication == 0), 'yearOfPubblication'] = np.NAN\n",
        "books.yearOfPubblication.fillna(round(books.yearOfPubblication.mean()), inplace=True)"
      ],
      "metadata": {
        "id": "lcjVNmmqnYtb"
      },
      "execution_count": null,
      "outputs": []
    },
    {
      "cell_type": "code",
      "source": [
        "books.yearOfPubblication = books.yearOfPubblication.astype(np.int32)"
      ],
      "metadata": {
        "id": "guDU4OSnov4J"
      },
      "execution_count": null,
      "outputs": []
    },
    {
      "cell_type": "code",
      "source": [
        "books.yearOfPubblication.unique()"
      ],
      "metadata": {
        "id": "llNKa-fIoZxv",
        "colab": {
          "base_uri": "https://localhost:8080/"
        },
        "outputId": "95e75eb0-ffb5-4372-f715-a34a91cdf390"
      },
      "execution_count": null,
      "outputs": [
        {
          "output_type": "execute_result",
          "data": {
            "text/plain": [
              "array([2002, 2001, 1991, 1999, 2000, 1993, 1996, 1988, 2004, 1998, 1994,\n",
              "       2003, 1997, 1983, 1979, 1995, 1982, 1985, 1992, 1986, 1978, 1980,\n",
              "       1952, 1987, 1990, 1981, 1989, 1984, 1968, 1961, 1958, 1974, 1976,\n",
              "       1971, 1977, 1975, 1965, 1941, 1970, 1962, 1973, 1972, 1960, 1966,\n",
              "       1920, 1956, 1959, 1953, 1951, 1942, 1963, 1964, 1969, 1954, 1950,\n",
              "       1967, 2005, 1957, 1940, 1937, 1955, 1946, 1936, 1930, 1925, 1948,\n",
              "       1943, 1947, 1945, 1923, 1939, 1926, 1938, 1911, 1904, 1949, 1932,\n",
              "       1928, 1929, 1927, 1931, 1914, 1934, 1910, 1933, 1902, 1924, 1921,\n",
              "       1900, 1944, 1917, 1901, 1908, 1906, 1935, 1806, 2006, 1909, 1378,\n",
              "       1919, 1922, 1897, 1376], dtype=int32)"
            ]
          },
          "metadata": {},
          "execution_count": 47
        }
      ]
    },
    {
      "cell_type": "markdown",
      "source": [
        "**publisher**"
      ],
      "metadata": {
        "id": "NhMpbxuDQdme"
      }
    },
    {
      "cell_type": "markdown",
      "source": [
        "Anche nella colonna publisher ci sono dei valori sballati.\n",
        "In questo caso, non potendo fare dei calcoli con questi dati, rimpiazziamo i vaori nulli con 'other'."
      ],
      "metadata": {
        "id": "v19MgIdjQsEh"
      }
    },
    {
      "cell_type": "code",
      "source": [
        "books.loc[books.publisher.isnull(), :]"
      ],
      "metadata": {
        "id": "y2H24ihQQfOm",
        "colab": {
          "base_uri": "https://localhost:8080/",
          "height": 112
        },
        "outputId": "cc55989e-841c-495a-c390-67fc10ba4b9e"
      },
      "execution_count": null,
      "outputs": [
        {
          "output_type": "execute_result",
          "data": {
            "text/plain": [
              "              ISBN        bookTitle       bookAuthor  yearOfPubblication  \\\n",
              "128890  193169656X      Tyrant Moon  Elaine Corvidae                2002   \n",
              "129037  1931696993  Finders Keepers  Linnea Sinclair                2001   \n",
              "\n",
              "       publisher  \n",
              "128890       NaN  \n",
              "129037       NaN  "
            ],
            "text/html": [
              "\n",
              "  <div id=\"df-0c48a11d-bcfc-4f4e-84ec-132fec382c4c\">\n",
              "    <div class=\"colab-df-container\">\n",
              "      <div>\n",
              "<style scoped>\n",
              "    .dataframe tbody tr th:only-of-type {\n",
              "        vertical-align: middle;\n",
              "    }\n",
              "\n",
              "    .dataframe tbody tr th {\n",
              "        vertical-align: top;\n",
              "    }\n",
              "\n",
              "    .dataframe thead th {\n",
              "        text-align: right;\n",
              "    }\n",
              "</style>\n",
              "<table border=\"1\" class=\"dataframe\">\n",
              "  <thead>\n",
              "    <tr style=\"text-align: right;\">\n",
              "      <th></th>\n",
              "      <th>ISBN</th>\n",
              "      <th>bookTitle</th>\n",
              "      <th>bookAuthor</th>\n",
              "      <th>yearOfPubblication</th>\n",
              "      <th>publisher</th>\n",
              "    </tr>\n",
              "  </thead>\n",
              "  <tbody>\n",
              "    <tr>\n",
              "      <th>128890</th>\n",
              "      <td>193169656X</td>\n",
              "      <td>Tyrant Moon</td>\n",
              "      <td>Elaine Corvidae</td>\n",
              "      <td>2002</td>\n",
              "      <td>NaN</td>\n",
              "    </tr>\n",
              "    <tr>\n",
              "      <th>129037</th>\n",
              "      <td>1931696993</td>\n",
              "      <td>Finders Keepers</td>\n",
              "      <td>Linnea Sinclair</td>\n",
              "      <td>2001</td>\n",
              "      <td>NaN</td>\n",
              "    </tr>\n",
              "  </tbody>\n",
              "</table>\n",
              "</div>\n",
              "      <button class=\"colab-df-convert\" onclick=\"convertToInteractive('df-0c48a11d-bcfc-4f4e-84ec-132fec382c4c')\"\n",
              "              title=\"Convert this dataframe to an interactive table.\"\n",
              "              style=\"display:none;\">\n",
              "        \n",
              "  <svg xmlns=\"http://www.w3.org/2000/svg\" height=\"24px\"viewBox=\"0 0 24 24\"\n",
              "       width=\"24px\">\n",
              "    <path d=\"M0 0h24v24H0V0z\" fill=\"none\"/>\n",
              "    <path d=\"M18.56 5.44l.94 2.06.94-2.06 2.06-.94-2.06-.94-.94-2.06-.94 2.06-2.06.94zm-11 1L8.5 8.5l.94-2.06 2.06-.94-2.06-.94L8.5 2.5l-.94 2.06-2.06.94zm10 10l.94 2.06.94-2.06 2.06-.94-2.06-.94-.94-2.06-.94 2.06-2.06.94z\"/><path d=\"M17.41 7.96l-1.37-1.37c-.4-.4-.92-.59-1.43-.59-.52 0-1.04.2-1.43.59L10.3 9.45l-7.72 7.72c-.78.78-.78 2.05 0 2.83L4 21.41c.39.39.9.59 1.41.59.51 0 1.02-.2 1.41-.59l7.78-7.78 2.81-2.81c.8-.78.8-2.07 0-2.86zM5.41 20L4 18.59l7.72-7.72 1.47 1.35L5.41 20z\"/>\n",
              "  </svg>\n",
              "      </button>\n",
              "      \n",
              "  <style>\n",
              "    .colab-df-container {\n",
              "      display:flex;\n",
              "      flex-wrap:wrap;\n",
              "      gap: 12px;\n",
              "    }\n",
              "\n",
              "    .colab-df-convert {\n",
              "      background-color: #E8F0FE;\n",
              "      border: none;\n",
              "      border-radius: 50%;\n",
              "      cursor: pointer;\n",
              "      display: none;\n",
              "      fill: #1967D2;\n",
              "      height: 32px;\n",
              "      padding: 0 0 0 0;\n",
              "      width: 32px;\n",
              "    }\n",
              "\n",
              "    .colab-df-convert:hover {\n",
              "      background-color: #E2EBFA;\n",
              "      box-shadow: 0px 1px 2px rgba(60, 64, 67, 0.3), 0px 1px 3px 1px rgba(60, 64, 67, 0.15);\n",
              "      fill: #174EA6;\n",
              "    }\n",
              "\n",
              "    [theme=dark] .colab-df-convert {\n",
              "      background-color: #3B4455;\n",
              "      fill: #D2E3FC;\n",
              "    }\n",
              "\n",
              "    [theme=dark] .colab-df-convert:hover {\n",
              "      background-color: #434B5C;\n",
              "      box-shadow: 0px 1px 3px 1px rgba(0, 0, 0, 0.15);\n",
              "      filter: drop-shadow(0px 1px 2px rgba(0, 0, 0, 0.3));\n",
              "      fill: #FFFFFF;\n",
              "    }\n",
              "  </style>\n",
              "\n",
              "      <script>\n",
              "        const buttonEl =\n",
              "          document.querySelector('#df-0c48a11d-bcfc-4f4e-84ec-132fec382c4c button.colab-df-convert');\n",
              "        buttonEl.style.display =\n",
              "          google.colab.kernel.accessAllowed ? 'block' : 'none';\n",
              "\n",
              "        async function convertToInteractive(key) {\n",
              "          const element = document.querySelector('#df-0c48a11d-bcfc-4f4e-84ec-132fec382c4c');\n",
              "          const dataTable =\n",
              "            await google.colab.kernel.invokeFunction('convertToInteractive',\n",
              "                                                     [key], {});\n",
              "          if (!dataTable) return;\n",
              "\n",
              "          const docLinkHtml = 'Like what you see? Visit the ' +\n",
              "            '<a target=\"_blank\" href=https://colab.research.google.com/notebooks/data_table.ipynb>data table notebook</a>'\n",
              "            + ' to learn more about interactive tables.';\n",
              "          element.innerHTML = '';\n",
              "          dataTable['output_type'] = 'display_data';\n",
              "          await google.colab.output.renderOutput(dataTable, element);\n",
              "          const docLink = document.createElement('div');\n",
              "          docLink.innerHTML = docLinkHtml;\n",
              "          element.appendChild(docLink);\n",
              "        }\n",
              "      </script>\n",
              "    </div>\n",
              "  </div>\n",
              "  "
            ]
          },
          "metadata": {},
          "execution_count": 48
        }
      ]
    },
    {
      "cell_type": "code",
      "source": [
        "books.loc[(books.ISBN == '193169656X'), 'publisher'] = 'other'\n",
        "books.loc[(books.ISBN == '1931696993'), 'publisher'] = 'other'"
      ],
      "metadata": {
        "id": "EfbeV2NOQyCg"
      },
      "execution_count": null,
      "outputs": []
    },
    {
      "cell_type": "markdown",
      "source": [
        "## Users"
      ],
      "metadata": {
        "id": "QH6_jpa5tb6Z"
      }
    },
    {
      "cell_type": "code",
      "source": [
        "users.head()"
      ],
      "metadata": {
        "id": "crVPPpgAMBf2",
        "colab": {
          "base_uri": "https://localhost:8080/",
          "height": 206
        },
        "outputId": "9f3a1771-ff89-450b-d75a-b7f8670abb91"
      },
      "execution_count": null,
      "outputs": [
        {
          "output_type": "execute_result",
          "data": {
            "text/plain": [
              "   userId                            Location   Age\n",
              "0       1                  nyc, new york, usa   NaN\n",
              "1       2           stockton, california, usa  18.0\n",
              "2       3     moscow, yukon territory, russia   NaN\n",
              "3       4           porto, v.n.gaia, portugal  17.0\n",
              "4       5  farnborough, hants, united kingdom   NaN"
            ],
            "text/html": [
              "\n",
              "  <div id=\"df-9671dfc7-8c9e-48c0-8bd2-bd1da02188b6\">\n",
              "    <div class=\"colab-df-container\">\n",
              "      <div>\n",
              "<style scoped>\n",
              "    .dataframe tbody tr th:only-of-type {\n",
              "        vertical-align: middle;\n",
              "    }\n",
              "\n",
              "    .dataframe tbody tr th {\n",
              "        vertical-align: top;\n",
              "    }\n",
              "\n",
              "    .dataframe thead th {\n",
              "        text-align: right;\n",
              "    }\n",
              "</style>\n",
              "<table border=\"1\" class=\"dataframe\">\n",
              "  <thead>\n",
              "    <tr style=\"text-align: right;\">\n",
              "      <th></th>\n",
              "      <th>userId</th>\n",
              "      <th>Location</th>\n",
              "      <th>Age</th>\n",
              "    </tr>\n",
              "  </thead>\n",
              "  <tbody>\n",
              "    <tr>\n",
              "      <th>0</th>\n",
              "      <td>1</td>\n",
              "      <td>nyc, new york, usa</td>\n",
              "      <td>NaN</td>\n",
              "    </tr>\n",
              "    <tr>\n",
              "      <th>1</th>\n",
              "      <td>2</td>\n",
              "      <td>stockton, california, usa</td>\n",
              "      <td>18.0</td>\n",
              "    </tr>\n",
              "    <tr>\n",
              "      <th>2</th>\n",
              "      <td>3</td>\n",
              "      <td>moscow, yukon territory, russia</td>\n",
              "      <td>NaN</td>\n",
              "    </tr>\n",
              "    <tr>\n",
              "      <th>3</th>\n",
              "      <td>4</td>\n",
              "      <td>porto, v.n.gaia, portugal</td>\n",
              "      <td>17.0</td>\n",
              "    </tr>\n",
              "    <tr>\n",
              "      <th>4</th>\n",
              "      <td>5</td>\n",
              "      <td>farnborough, hants, united kingdom</td>\n",
              "      <td>NaN</td>\n",
              "    </tr>\n",
              "  </tbody>\n",
              "</table>\n",
              "</div>\n",
              "      <button class=\"colab-df-convert\" onclick=\"convertToInteractive('df-9671dfc7-8c9e-48c0-8bd2-bd1da02188b6')\"\n",
              "              title=\"Convert this dataframe to an interactive table.\"\n",
              "              style=\"display:none;\">\n",
              "        \n",
              "  <svg xmlns=\"http://www.w3.org/2000/svg\" height=\"24px\"viewBox=\"0 0 24 24\"\n",
              "       width=\"24px\">\n",
              "    <path d=\"M0 0h24v24H0V0z\" fill=\"none\"/>\n",
              "    <path d=\"M18.56 5.44l.94 2.06.94-2.06 2.06-.94-2.06-.94-.94-2.06-.94 2.06-2.06.94zm-11 1L8.5 8.5l.94-2.06 2.06-.94-2.06-.94L8.5 2.5l-.94 2.06-2.06.94zm10 10l.94 2.06.94-2.06 2.06-.94-2.06-.94-.94-2.06-.94 2.06-2.06.94z\"/><path d=\"M17.41 7.96l-1.37-1.37c-.4-.4-.92-.59-1.43-.59-.52 0-1.04.2-1.43.59L10.3 9.45l-7.72 7.72c-.78.78-.78 2.05 0 2.83L4 21.41c.39.39.9.59 1.41.59.51 0 1.02-.2 1.41-.59l7.78-7.78 2.81-2.81c.8-.78.8-2.07 0-2.86zM5.41 20L4 18.59l7.72-7.72 1.47 1.35L5.41 20z\"/>\n",
              "  </svg>\n",
              "      </button>\n",
              "      \n",
              "  <style>\n",
              "    .colab-df-container {\n",
              "      display:flex;\n",
              "      flex-wrap:wrap;\n",
              "      gap: 12px;\n",
              "    }\n",
              "\n",
              "    .colab-df-convert {\n",
              "      background-color: #E8F0FE;\n",
              "      border: none;\n",
              "      border-radius: 50%;\n",
              "      cursor: pointer;\n",
              "      display: none;\n",
              "      fill: #1967D2;\n",
              "      height: 32px;\n",
              "      padding: 0 0 0 0;\n",
              "      width: 32px;\n",
              "    }\n",
              "\n",
              "    .colab-df-convert:hover {\n",
              "      background-color: #E2EBFA;\n",
              "      box-shadow: 0px 1px 2px rgba(60, 64, 67, 0.3), 0px 1px 3px 1px rgba(60, 64, 67, 0.15);\n",
              "      fill: #174EA6;\n",
              "    }\n",
              "\n",
              "    [theme=dark] .colab-df-convert {\n",
              "      background-color: #3B4455;\n",
              "      fill: #D2E3FC;\n",
              "    }\n",
              "\n",
              "    [theme=dark] .colab-df-convert:hover {\n",
              "      background-color: #434B5C;\n",
              "      box-shadow: 0px 1px 3px 1px rgba(0, 0, 0, 0.15);\n",
              "      filter: drop-shadow(0px 1px 2px rgba(0, 0, 0, 0.3));\n",
              "      fill: #FFFFFF;\n",
              "    }\n",
              "  </style>\n",
              "\n",
              "      <script>\n",
              "        const buttonEl =\n",
              "          document.querySelector('#df-9671dfc7-8c9e-48c0-8bd2-bd1da02188b6 button.colab-df-convert');\n",
              "        buttonEl.style.display =\n",
              "          google.colab.kernel.accessAllowed ? 'block' : 'none';\n",
              "\n",
              "        async function convertToInteractive(key) {\n",
              "          const element = document.querySelector('#df-9671dfc7-8c9e-48c0-8bd2-bd1da02188b6');\n",
              "          const dataTable =\n",
              "            await google.colab.kernel.invokeFunction('convertToInteractive',\n",
              "                                                     [key], {});\n",
              "          if (!dataTable) return;\n",
              "\n",
              "          const docLinkHtml = 'Like what you see? Visit the ' +\n",
              "            '<a target=\"_blank\" href=https://colab.research.google.com/notebooks/data_table.ipynb>data table notebook</a>'\n",
              "            + ' to learn more about interactive tables.';\n",
              "          element.innerHTML = '';\n",
              "          dataTable['output_type'] = 'display_data';\n",
              "          await google.colab.output.renderOutput(dataTable, element);\n",
              "          const docLink = document.createElement('div');\n",
              "          docLink.innerHTML = docLinkHtml;\n",
              "          element.appendChild(docLink);\n",
              "        }\n",
              "      </script>\n",
              "    </div>\n",
              "  </div>\n",
              "  "
            ]
          },
          "metadata": {},
          "execution_count": 50
        }
      ]
    },
    {
      "cell_type": "markdown",
      "source": [
        "### Significati delle colonne\n",
        "\n",
        "- `userId`: codice univoco dell'utente\n",
        "- `age`: età dell'utente\n",
        "- `location`: città, stato e paese di residenza dell'utente"
      ],
      "metadata": {
        "id": "sFLVziOFMG6C"
      }
    },
    {
      "cell_type": "markdown",
      "source": [
        "Effettuiamo alcuni controlli preliminari sul dataset relativo agli utenti."
      ],
      "metadata": {
        "id": "UcaFmwJvt3sf"
      }
    },
    {
      "cell_type": "code",
      "source": [
        "users.shape"
      ],
      "metadata": {
        "id": "pjsedQrEtql3",
        "colab": {
          "base_uri": "https://localhost:8080/"
        },
        "outputId": "79033784-8f49-4947-f7e2-5794582e1143"
      },
      "execution_count": null,
      "outputs": [
        {
          "output_type": "execute_result",
          "data": {
            "text/plain": [
              "(278858, 3)"
            ]
          },
          "metadata": {},
          "execution_count": 51
        }
      ]
    },
    {
      "cell_type": "code",
      "source": [
        "users.userId.nunique()"
      ],
      "metadata": {
        "id": "iPIj5phuhQXe",
        "colab": {
          "base_uri": "https://localhost:8080/"
        },
        "outputId": "8095a6b8-c705-41d5-cc2a-8d9472562323"
      },
      "execution_count": null,
      "outputs": [
        {
          "output_type": "execute_result",
          "data": {
            "text/plain": [
              "278858"
            ]
          },
          "metadata": {},
          "execution_count": 52
        }
      ]
    },
    {
      "cell_type": "code",
      "source": [
        "users.head()"
      ],
      "metadata": {
        "id": "2_gfNrSbtezg",
        "colab": {
          "base_uri": "https://localhost:8080/",
          "height": 206
        },
        "outputId": "e037b0e0-444d-4419-90f5-5bb78faf1181"
      },
      "execution_count": null,
      "outputs": [
        {
          "output_type": "execute_result",
          "data": {
            "text/plain": [
              "   userId                            Location   Age\n",
              "0       1                  nyc, new york, usa   NaN\n",
              "1       2           stockton, california, usa  18.0\n",
              "2       3     moscow, yukon territory, russia   NaN\n",
              "3       4           porto, v.n.gaia, portugal  17.0\n",
              "4       5  farnborough, hants, united kingdom   NaN"
            ],
            "text/html": [
              "\n",
              "  <div id=\"df-36d9dd5e-4839-4e8a-99b9-c59e7a750e70\">\n",
              "    <div class=\"colab-df-container\">\n",
              "      <div>\n",
              "<style scoped>\n",
              "    .dataframe tbody tr th:only-of-type {\n",
              "        vertical-align: middle;\n",
              "    }\n",
              "\n",
              "    .dataframe tbody tr th {\n",
              "        vertical-align: top;\n",
              "    }\n",
              "\n",
              "    .dataframe thead th {\n",
              "        text-align: right;\n",
              "    }\n",
              "</style>\n",
              "<table border=\"1\" class=\"dataframe\">\n",
              "  <thead>\n",
              "    <tr style=\"text-align: right;\">\n",
              "      <th></th>\n",
              "      <th>userId</th>\n",
              "      <th>Location</th>\n",
              "      <th>Age</th>\n",
              "    </tr>\n",
              "  </thead>\n",
              "  <tbody>\n",
              "    <tr>\n",
              "      <th>0</th>\n",
              "      <td>1</td>\n",
              "      <td>nyc, new york, usa</td>\n",
              "      <td>NaN</td>\n",
              "    </tr>\n",
              "    <tr>\n",
              "      <th>1</th>\n",
              "      <td>2</td>\n",
              "      <td>stockton, california, usa</td>\n",
              "      <td>18.0</td>\n",
              "    </tr>\n",
              "    <tr>\n",
              "      <th>2</th>\n",
              "      <td>3</td>\n",
              "      <td>moscow, yukon territory, russia</td>\n",
              "      <td>NaN</td>\n",
              "    </tr>\n",
              "    <tr>\n",
              "      <th>3</th>\n",
              "      <td>4</td>\n",
              "      <td>porto, v.n.gaia, portugal</td>\n",
              "      <td>17.0</td>\n",
              "    </tr>\n",
              "    <tr>\n",
              "      <th>4</th>\n",
              "      <td>5</td>\n",
              "      <td>farnborough, hants, united kingdom</td>\n",
              "      <td>NaN</td>\n",
              "    </tr>\n",
              "  </tbody>\n",
              "</table>\n",
              "</div>\n",
              "      <button class=\"colab-df-convert\" onclick=\"convertToInteractive('df-36d9dd5e-4839-4e8a-99b9-c59e7a750e70')\"\n",
              "              title=\"Convert this dataframe to an interactive table.\"\n",
              "              style=\"display:none;\">\n",
              "        \n",
              "  <svg xmlns=\"http://www.w3.org/2000/svg\" height=\"24px\"viewBox=\"0 0 24 24\"\n",
              "       width=\"24px\">\n",
              "    <path d=\"M0 0h24v24H0V0z\" fill=\"none\"/>\n",
              "    <path d=\"M18.56 5.44l.94 2.06.94-2.06 2.06-.94-2.06-.94-.94-2.06-.94 2.06-2.06.94zm-11 1L8.5 8.5l.94-2.06 2.06-.94-2.06-.94L8.5 2.5l-.94 2.06-2.06.94zm10 10l.94 2.06.94-2.06 2.06-.94-2.06-.94-.94-2.06-.94 2.06-2.06.94z\"/><path d=\"M17.41 7.96l-1.37-1.37c-.4-.4-.92-.59-1.43-.59-.52 0-1.04.2-1.43.59L10.3 9.45l-7.72 7.72c-.78.78-.78 2.05 0 2.83L4 21.41c.39.39.9.59 1.41.59.51 0 1.02-.2 1.41-.59l7.78-7.78 2.81-2.81c.8-.78.8-2.07 0-2.86zM5.41 20L4 18.59l7.72-7.72 1.47 1.35L5.41 20z\"/>\n",
              "  </svg>\n",
              "      </button>\n",
              "      \n",
              "  <style>\n",
              "    .colab-df-container {\n",
              "      display:flex;\n",
              "      flex-wrap:wrap;\n",
              "      gap: 12px;\n",
              "    }\n",
              "\n",
              "    .colab-df-convert {\n",
              "      background-color: #E8F0FE;\n",
              "      border: none;\n",
              "      border-radius: 50%;\n",
              "      cursor: pointer;\n",
              "      display: none;\n",
              "      fill: #1967D2;\n",
              "      height: 32px;\n",
              "      padding: 0 0 0 0;\n",
              "      width: 32px;\n",
              "    }\n",
              "\n",
              "    .colab-df-convert:hover {\n",
              "      background-color: #E2EBFA;\n",
              "      box-shadow: 0px 1px 2px rgba(60, 64, 67, 0.3), 0px 1px 3px 1px rgba(60, 64, 67, 0.15);\n",
              "      fill: #174EA6;\n",
              "    }\n",
              "\n",
              "    [theme=dark] .colab-df-convert {\n",
              "      background-color: #3B4455;\n",
              "      fill: #D2E3FC;\n",
              "    }\n",
              "\n",
              "    [theme=dark] .colab-df-convert:hover {\n",
              "      background-color: #434B5C;\n",
              "      box-shadow: 0px 1px 3px 1px rgba(0, 0, 0, 0.15);\n",
              "      filter: drop-shadow(0px 1px 2px rgba(0, 0, 0, 0.3));\n",
              "      fill: #FFFFFF;\n",
              "    }\n",
              "  </style>\n",
              "\n",
              "      <script>\n",
              "        const buttonEl =\n",
              "          document.querySelector('#df-36d9dd5e-4839-4e8a-99b9-c59e7a750e70 button.colab-df-convert');\n",
              "        buttonEl.style.display =\n",
              "          google.colab.kernel.accessAllowed ? 'block' : 'none';\n",
              "\n",
              "        async function convertToInteractive(key) {\n",
              "          const element = document.querySelector('#df-36d9dd5e-4839-4e8a-99b9-c59e7a750e70');\n",
              "          const dataTable =\n",
              "            await google.colab.kernel.invokeFunction('convertToInteractive',\n",
              "                                                     [key], {});\n",
              "          if (!dataTable) return;\n",
              "\n",
              "          const docLinkHtml = 'Like what you see? Visit the ' +\n",
              "            '<a target=\"_blank\" href=https://colab.research.google.com/notebooks/data_table.ipynb>data table notebook</a>'\n",
              "            + ' to learn more about interactive tables.';\n",
              "          element.innerHTML = '';\n",
              "          dataTable['output_type'] = 'display_data';\n",
              "          await google.colab.output.renderOutput(dataTable, element);\n",
              "          const docLink = document.createElement('div');\n",
              "          docLink.innerHTML = docLinkHtml;\n",
              "          element.appendChild(docLink);\n",
              "        }\n",
              "      </script>\n",
              "    </div>\n",
              "  </div>\n",
              "  "
            ]
          },
          "metadata": {},
          "execution_count": 53
        }
      ]
    },
    {
      "cell_type": "code",
      "source": [
        "users.dtypes"
      ],
      "metadata": {
        "id": "usN-Ja4lts_Y",
        "colab": {
          "base_uri": "https://localhost:8080/"
        },
        "outputId": "e3adb82d-15ee-44be-e927-4da493dabb7a"
      },
      "execution_count": null,
      "outputs": [
        {
          "output_type": "execute_result",
          "data": {
            "text/plain": [
              "userId        int64\n",
              "Location     object\n",
              "Age         float64\n",
              "dtype: object"
            ]
          },
          "metadata": {},
          "execution_count": 54
        }
      ]
    },
    {
      "cell_type": "markdown",
      "source": [
        "**Age**"
      ],
      "metadata": {
        "id": "pJEq1cCfxlFs"
      }
    },
    {
      "cell_type": "markdown",
      "source": [
        "La colonna degli ID sembra essere corretta poichè il numero di ID univoci corrisponde al totale degli utenti, ma lo stesso non si può dire di age. Qui compaiono dei NaN e alcuni valori o troppo alti (> 90) o troppo bassi (< 5). \n",
        "Inizialmente trasformiamo queste ultime età in NaN, e poi sostituiamo tutti i NaN con un valore pari alla medià delle età di tutti gli utenti."
      ],
      "metadata": {
        "id": "HpV9oAQNuAX4"
      }
    },
    {
      "cell_type": "markdown",
      "source": [
        "Controlliamo la distribuzione dell'età: gli utenti più 'attivi' (che hanno dato più voti) hanno un'età compresa tra i 20 e i 30 anni."
      ],
      "metadata": {
        "id": "-TJiVky1ZHix"
      }
    },
    {
      "cell_type": "code",
      "source": [
        "users.Age.hist(bins=[0, 10, 20, 30, 40, 50, 100])\n",
        "plt.title('Distribuzione dell\\'età')\n",
        "plt.xlabel('Età')\n",
        "plt.ylabel('Count')\n",
        "plt.savefig('foto2.png', bbox_inches='tight')\n",
        "plt.show()"
      ],
      "metadata": {
        "id": "bW0fBI2aZGul",
        "colab": {
          "base_uri": "https://localhost:8080/",
          "height": 295
        },
        "outputId": "07fc2707-db3d-4730-98ff-a7de998686bf"
      },
      "execution_count": null,
      "outputs": [
        {
          "output_type": "display_data",
          "data": {
            "text/plain": [
              "<Figure size 432x288 with 1 Axes>"
            ],
            "image/png": "[encoded data removed]"
          },
          "metadata": {
            "needs_background": "light"
          }
        }
      ]
    },
    {
      "cell_type": "code",
      "source": [
        "users.Age.unique()"
      ],
      "metadata": {
        "id": "O1v6zlliwJfJ",
        "colab": {
          "base_uri": "https://localhost:8080/"
        },
        "outputId": "92b99d49-8753-48ce-f5a2-3e0235fbe3d9"
      },
      "execution_count": null,
      "outputs": [
        {
          "output_type": "execute_result",
          "data": {
            "text/plain": [
              "array([ nan,  18.,  17.,  61.,  26.,  14.,  25.,  19.,  46.,  55.,  32.,\n",
              "        24.,  20.,  34.,  23.,  51.,  31.,  21.,  44.,  30.,  57.,  43.,\n",
              "        37.,  41.,  54.,  42.,  50.,  39.,  53.,  47.,  36.,  28.,  35.,\n",
              "        13.,  58.,  49.,  38.,  45.,  62.,  63.,  27.,  33.,  29.,  66.,\n",
              "        40.,  15.,  60.,   0.,  79.,  22.,  16.,  65.,  59.,  48.,  72.,\n",
              "        56.,  67.,   1.,  80.,  52.,  69.,  71.,  73.,  78.,   9.,  64.,\n",
              "       103., 104.,  12.,  74.,  75., 231.,   3.,  76.,  83.,  68., 119.,\n",
              "        11.,  77.,   2.,  70.,  93.,   8.,   7.,   4.,  81., 114., 230.,\n",
              "       239.,  10.,   5., 148., 151.,   6., 101., 201.,  96.,  84.,  82.,\n",
              "        90., 123., 244., 133.,  91., 128.,  94.,  85., 141., 110.,  97.,\n",
              "       219.,  86., 124.,  92., 175., 172., 209., 212., 237.,  87., 162.,\n",
              "       100., 156., 136.,  95.,  89., 106.,  99., 108., 210.,  88., 199.,\n",
              "       147., 168., 132., 159., 186., 152., 102., 116., 200., 115., 226.,\n",
              "       137., 207., 229., 138., 109., 105., 228., 183., 204.,  98., 223.,\n",
              "       113., 208., 107., 157., 111., 146., 118., 220., 143., 140., 189.,\n",
              "       127.])"
            ]
          },
          "metadata": {},
          "execution_count": 56
        }
      ]
    },
    {
      "cell_type": "code",
      "source": [
        "users.loc[(users.Age < 5) | (users.Age > 90), 'Age'] = np.nan"
      ],
      "metadata": {
        "id": "leEkWaSFwOv5"
      },
      "execution_count": null,
      "outputs": []
    },
    {
      "cell_type": "code",
      "source": [
        "users.Age = users.Age.fillna(users.Age.mean())\n",
        "users.Age = users.Age.astype(np.int32)\n",
        "users.Age.unique()"
      ],
      "metadata": {
        "id": "wT9Ax2NVwhid",
        "colab": {
          "base_uri": "https://localhost:8080/"
        },
        "outputId": "813d6f82-8bce-472a-eb3b-c2c400fff428"
      },
      "execution_count": null,
      "outputs": [
        {
          "output_type": "execute_result",
          "data": {
            "text/plain": [
              "array([34, 18, 17, 61, 26, 14, 25, 19, 46, 55, 32, 24, 20, 23, 51, 31, 21,\n",
              "       44, 30, 57, 43, 37, 41, 54, 42, 50, 39, 53, 47, 36, 28, 35, 13, 58,\n",
              "       49, 38, 45, 62, 63, 27, 33, 29, 66, 40, 15, 60, 79, 22, 16, 65, 59,\n",
              "       48, 72, 56, 67, 80, 52, 69, 71, 73, 78,  9, 64, 12, 74, 75, 76, 83,\n",
              "       68, 11, 77, 70,  8,  7, 81, 10,  5,  6, 84, 82, 90, 85, 86, 87, 89,\n",
              "       88], dtype=int32)"
            ]
          },
          "metadata": {},
          "execution_count": 58
        }
      ]
    },
    {
      "cell_type": "markdown",
      "source": [
        "**Location**"
      ],
      "metadata": {
        "id": "V3HbEOPYxpct"
      }
    },
    {
      "cell_type": "markdown",
      "source": [
        "Per fare un po' di chiarezza, divdiamo la colonna Location in 3 colonne:\n",
        "* City;\n",
        "* State;\n",
        "* Country.\n",
        "\n",
        "e consideriamo, da ora in poi, solo Country."
      ],
      "metadata": {
        "id": "MTtIdTZuxNHx"
      }
    },
    {
      "cell_type": "code",
      "source": [
        "users[['City', 'State', 'Country']] = users['Location'].str.split(',', 2, expand=True)\n",
        "users"
      ],
      "metadata": {
        "id": "V4ajpApZxurv",
        "colab": {
          "base_uri": "https://localhost:8080/",
          "height": 424
        },
        "outputId": "2f118050-643d-4857-b9ef-2e4eb1409a12"
      },
      "execution_count": null,
      "outputs": [
        {
          "output_type": "execute_result",
          "data": {
            "text/plain": [
              "        userId                            Location  Age         City  \\\n",
              "0            1                  nyc, new york, usa   34          nyc   \n",
              "1            2           stockton, california, usa   18     stockton   \n",
              "2            3     moscow, yukon territory, russia   34       moscow   \n",
              "3            4           porto, v.n.gaia, portugal   17        porto   \n",
              "4            5  farnborough, hants, united kingdom   34  farnborough   \n",
              "...        ...                                 ...  ...          ...   \n",
              "278853  278854               portland, oregon, usa   34     portland   \n",
              "278854  278855  tacoma, washington, united kingdom   50       tacoma   \n",
              "278855  278856           brampton, ontario, canada   34     brampton   \n",
              "278856  278857           knoxville, tennessee, usa   34    knoxville   \n",
              "278857  278858                dublin, n/a, ireland   34       dublin   \n",
              "\n",
              "                   State          Country  \n",
              "0               new york              usa  \n",
              "1             california              usa  \n",
              "2        yukon territory           russia  \n",
              "3               v.n.gaia         portugal  \n",
              "4                  hants   united kingdom  \n",
              "...                  ...              ...  \n",
              "278853            oregon              usa  \n",
              "278854        washington   united kingdom  \n",
              "278855           ontario           canada  \n",
              "278856         tennessee              usa  \n",
              "278857               n/a          ireland  \n",
              "\n",
              "[278858 rows x 6 columns]"
            ],
            "text/html": [
              "\n",
              "  <div id=\"df-700bd8d4-5ebc-4ff2-a1ec-60a887a80532\">\n",
              "    <div class=\"colab-df-container\">\n",
              "      <div>\n",
              "<style scoped>\n",
              "    .dataframe tbody tr th:only-of-type {\n",
              "        vertical-align: middle;\n",
              "    }\n",
              "\n",
              "    .dataframe tbody tr th {\n",
              "        vertical-align: top;\n",
              "    }\n",
              "\n",
              "    .dataframe thead th {\n",
              "        text-align: right;\n",
              "    }\n",
              "</style>\n",
              "<table border=\"1\" class=\"dataframe\">\n",
              "  <thead>\n",
              "    <tr style=\"text-align: right;\">\n",
              "      <th></th>\n",
              "      <th>userId</th>\n",
              "      <th>Location</th>\n",
              "      <th>Age</th>\n",
              "      <th>City</th>\n",
              "      <th>State</th>\n",
              "      <th>Country</th>\n",
              "    </tr>\n",
              "  </thead>\n",
              "  <tbody>\n",
              "    <tr>\n",
              "      <th>0</th>\n",
              "      <td>1</td>\n",
              "      <td>nyc, new york, usa</td>\n",
              "      <td>34</td>\n",
              "      <td>nyc</td>\n",
              "      <td>new york</td>\n",
              "      <td>usa</td>\n",
              "    </tr>\n",
              "    <tr>\n",
              "      <th>1</th>\n",
              "      <td>2</td>\n",
              "      <td>stockton, california, usa</td>\n",
              "      <td>18</td>\n",
              "      <td>stockton</td>\n",
              "      <td>california</td>\n",
              "      <td>usa</td>\n",
              "    </tr>\n",
              "    <tr>\n",
              "      <th>2</th>\n",
              "      <td>3</td>\n",
              "      <td>moscow, yukon territory, russia</td>\n",
              "      <td>34</td>\n",
              "      <td>moscow</td>\n",
              "      <td>yukon territory</td>\n",
              "      <td>russia</td>\n",
              "    </tr>\n",
              "    <tr>\n",
              "      <th>3</th>\n",
              "      <td>4</td>\n",
              "      <td>porto, v.n.gaia, portugal</td>\n",
              "      <td>17</td>\n",
              "      <td>porto</td>\n",
              "      <td>v.n.gaia</td>\n",
              "      <td>portugal</td>\n",
              "    </tr>\n",
              "    <tr>\n",
              "      <th>4</th>\n",
              "      <td>5</td>\n",
              "      <td>farnborough, hants, united kingdom</td>\n",
              "      <td>34</td>\n",
              "      <td>farnborough</td>\n",
              "      <td>hants</td>\n",
              "      <td>united kingdom</td>\n",
              "    </tr>\n",
              "    <tr>\n",
              "      <th>...</th>\n",
              "      <td>...</td>\n",
              "      <td>...</td>\n",
              "      <td>...</td>\n",
              "      <td>...</td>\n",
              "      <td>...</td>\n",
              "      <td>...</td>\n",
              "    </tr>\n",
              "    <tr>\n",
              "      <th>278853</th>\n",
              "      <td>278854</td>\n",
              "      <td>portland, oregon, usa</td>\n",
              "      <td>34</td>\n",
              "      <td>portland</td>\n",
              "      <td>oregon</td>\n",
              "      <td>usa</td>\n",
              "    </tr>\n",
              "    <tr>\n",
              "      <th>278854</th>\n",
              "      <td>278855</td>\n",
              "      <td>tacoma, washington, united kingdom</td>\n",
              "      <td>50</td>\n",
              "      <td>tacoma</td>\n",
              "      <td>washington</td>\n",
              "      <td>united kingdom</td>\n",
              "    </tr>\n",
              "    <tr>\n",
              "      <th>278855</th>\n",
              "      <td>278856</td>\n",
              "      <td>brampton, ontario, canada</td>\n",
              "      <td>34</td>\n",
              "      <td>brampton</td>\n",
              "      <td>ontario</td>\n",
              "      <td>canada</td>\n",
              "    </tr>\n",
              "    <tr>\n",
              "      <th>278856</th>\n",
              "      <td>278857</td>\n",
              "      <td>knoxville, tennessee, usa</td>\n",
              "      <td>34</td>\n",
              "      <td>knoxville</td>\n",
              "      <td>tennessee</td>\n",
              "      <td>usa</td>\n",
              "    </tr>\n",
              "    <tr>\n",
              "      <th>278857</th>\n",
              "      <td>278858</td>\n",
              "      <td>dublin, n/a, ireland</td>\n",
              "      <td>34</td>\n",
              "      <td>dublin</td>\n",
              "      <td>n/a</td>\n",
              "      <td>ireland</td>\n",
              "    </tr>\n",
              "  </tbody>\n",
              "</table>\n",
              "<p>278858 rows × 6 columns</p>\n",
              "</div>\n",
              "      <button class=\"colab-df-convert\" onclick=\"convertToInteractive('df-700bd8d4-5ebc-4ff2-a1ec-60a887a80532')\"\n",
              "              title=\"Convert this dataframe to an interactive table.\"\n",
              "              style=\"display:none;\">\n",
              "        \n",
              "  <svg xmlns=\"http://www.w3.org/2000/svg\" height=\"24px\"viewBox=\"0 0 24 24\"\n",
              "       width=\"24px\">\n",
              "    <path d=\"M0 0h24v24H0V0z\" fill=\"none\"/>\n",
              "    <path d=\"M18.56 5.44l.94 2.06.94-2.06 2.06-.94-2.06-.94-.94-2.06-.94 2.06-2.06.94zm-11 1L8.5 8.5l.94-2.06 2.06-.94-2.06-.94L8.5 2.5l-.94 2.06-2.06.94zm10 10l.94 2.06.94-2.06 2.06-.94-2.06-.94-.94-2.06-.94 2.06-2.06.94z\"/><path d=\"M17.41 7.96l-1.37-1.37c-.4-.4-.92-.59-1.43-.59-.52 0-1.04.2-1.43.59L10.3 9.45l-7.72 7.72c-.78.78-.78 2.05 0 2.83L4 21.41c.39.39.9.59 1.41.59.51 0 1.02-.2 1.41-.59l7.78-7.78 2.81-2.81c.8-.78.8-2.07 0-2.86zM5.41 20L4 18.59l7.72-7.72 1.47 1.35L5.41 20z\"/>\n",
              "  </svg>\n",
              "      </button>\n",
              "      \n",
              "  <style>\n",
              "    .colab-df-container {\n",
              "      display:flex;\n",
              "      flex-wrap:wrap;\n",
              "      gap: 12px;\n",
              "    }\n",
              "\n",
              "    .colab-df-convert {\n",
              "      background-color: #E8F0FE;\n",
              "      border: none;\n",
              "      border-radius: 50%;\n",
              "      cursor: pointer;\n",
              "      display: none;\n",
              "      fill: #1967D2;\n",
              "      height: 32px;\n",
              "      padding: 0 0 0 0;\n",
              "      width: 32px;\n",
              "    }\n",
              "\n",
              "    .colab-df-convert:hover {\n",
              "      background-color: #E2EBFA;\n",
              "      box-shadow: 0px 1px 2px rgba(60, 64, 67, 0.3), 0px 1px 3px 1px rgba(60, 64, 67, 0.15);\n",
              "      fill: #174EA6;\n",
              "    }\n",
              "\n",
              "    [theme=dark] .colab-df-convert {\n",
              "      background-color: #3B4455;\n",
              "      fill: #D2E3FC;\n",
              "    }\n",
              "\n",
              "    [theme=dark] .colab-df-convert:hover {\n",
              "      background-color: #434B5C;\n",
              "      box-shadow: 0px 1px 3px 1px rgba(0, 0, 0, 0.15);\n",
              "      filter: drop-shadow(0px 1px 2px rgba(0, 0, 0, 0.3));\n",
              "      fill: #FFFFFF;\n",
              "    }\n",
              "  </style>\n",
              "\n",
              "      <script>\n",
              "        const buttonEl =\n",
              "          document.querySelector('#df-700bd8d4-5ebc-4ff2-a1ec-60a887a80532 button.colab-df-convert');\n",
              "        buttonEl.style.display =\n",
              "          google.colab.kernel.accessAllowed ? 'block' : 'none';\n",
              "\n",
              "        async function convertToInteractive(key) {\n",
              "          const element = document.querySelector('#df-700bd8d4-5ebc-4ff2-a1ec-60a887a80532');\n",
              "          const dataTable =\n",
              "            await google.colab.kernel.invokeFunction('convertToInteractive',\n",
              "                                                     [key], {});\n",
              "          if (!dataTable) return;\n",
              "\n",
              "          const docLinkHtml = 'Like what you see? Visit the ' +\n",
              "            '<a target=\"_blank\" href=https://colab.research.google.com/notebooks/data_table.ipynb>data table notebook</a>'\n",
              "            + ' to learn more about interactive tables.';\n",
              "          element.innerHTML = '';\n",
              "          dataTable['output_type'] = 'display_data';\n",
              "          await google.colab.output.renderOutput(dataTable, element);\n",
              "          const docLink = document.createElement('div');\n",
              "          docLink.innerHTML = docLinkHtml;\n",
              "          element.appendChild(docLink);\n",
              "        }\n",
              "      </script>\n",
              "    </div>\n",
              "  </div>\n",
              "  "
            ]
          },
          "metadata": {},
          "execution_count": 59
        }
      ]
    },
    {
      "cell_type": "code",
      "source": [
        "users.drop(['Location', 'City', 'State'], axis=1, inplace=True)\n",
        "users"
      ],
      "metadata": {
        "id": "c4fvW4tR9Pjg",
        "colab": {
          "base_uri": "https://localhost:8080/",
          "height": 424
        },
        "outputId": "851389dd-4381-49ad-a068-4da6bde7da44"
      },
      "execution_count": null,
      "outputs": [
        {
          "output_type": "execute_result",
          "data": {
            "text/plain": [
              "        userId  Age          Country\n",
              "0            1   34              usa\n",
              "1            2   18              usa\n",
              "2            3   34           russia\n",
              "3            4   17         portugal\n",
              "4            5   34   united kingdom\n",
              "...        ...  ...              ...\n",
              "278853  278854   34              usa\n",
              "278854  278855   50   united kingdom\n",
              "278855  278856   34           canada\n",
              "278856  278857   34              usa\n",
              "278857  278858   34          ireland\n",
              "\n",
              "[278858 rows x 3 columns]"
            ],
            "text/html": [
              "\n",
              "  <div id=\"df-418fcff2-7a9f-44bb-8748-17f9ccd3caac\">\n",
              "    <div class=\"colab-df-container\">\n",
              "      <div>\n",
              "<style scoped>\n",
              "    .dataframe tbody tr th:only-of-type {\n",
              "        vertical-align: middle;\n",
              "    }\n",
              "\n",
              "    .dataframe tbody tr th {\n",
              "        vertical-align: top;\n",
              "    }\n",
              "\n",
              "    .dataframe thead th {\n",
              "        text-align: right;\n",
              "    }\n",
              "</style>\n",
              "<table border=\"1\" class=\"dataframe\">\n",
              "  <thead>\n",
              "    <tr style=\"text-align: right;\">\n",
              "      <th></th>\n",
              "      <th>userId</th>\n",
              "      <th>Age</th>\n",
              "      <th>Country</th>\n",
              "    </tr>\n",
              "  </thead>\n",
              "  <tbody>\n",
              "    <tr>\n",
              "      <th>0</th>\n",
              "      <td>1</td>\n",
              "      <td>34</td>\n",
              "      <td>usa</td>\n",
              "    </tr>\n",
              "    <tr>\n",
              "      <th>1</th>\n",
              "      <td>2</td>\n",
              "      <td>18</td>\n",
              "      <td>usa</td>\n",
              "    </tr>\n",
              "    <tr>\n",
              "      <th>2</th>\n",
              "      <td>3</td>\n",
              "      <td>34</td>\n",
              "      <td>russia</td>\n",
              "    </tr>\n",
              "    <tr>\n",
              "      <th>3</th>\n",
              "      <td>4</td>\n",
              "      <td>17</td>\n",
              "      <td>portugal</td>\n",
              "    </tr>\n",
              "    <tr>\n",
              "      <th>4</th>\n",
              "      <td>5</td>\n",
              "      <td>34</td>\n",
              "      <td>united kingdom</td>\n",
              "    </tr>\n",
              "    <tr>\n",
              "      <th>...</th>\n",
              "      <td>...</td>\n",
              "      <td>...</td>\n",
              "      <td>...</td>\n",
              "    </tr>\n",
              "    <tr>\n",
              "      <th>278853</th>\n",
              "      <td>278854</td>\n",
              "      <td>34</td>\n",
              "      <td>usa</td>\n",
              "    </tr>\n",
              "    <tr>\n",
              "      <th>278854</th>\n",
              "      <td>278855</td>\n",
              "      <td>50</td>\n",
              "      <td>united kingdom</td>\n",
              "    </tr>\n",
              "    <tr>\n",
              "      <th>278855</th>\n",
              "      <td>278856</td>\n",
              "      <td>34</td>\n",
              "      <td>canada</td>\n",
              "    </tr>\n",
              "    <tr>\n",
              "      <th>278856</th>\n",
              "      <td>278857</td>\n",
              "      <td>34</td>\n",
              "      <td>usa</td>\n",
              "    </tr>\n",
              "    <tr>\n",
              "      <th>278857</th>\n",
              "      <td>278858</td>\n",
              "      <td>34</td>\n",
              "      <td>ireland</td>\n",
              "    </tr>\n",
              "  </tbody>\n",
              "</table>\n",
              "<p>278858 rows × 3 columns</p>\n",
              "</div>\n",
              "      <button class=\"colab-df-convert\" onclick=\"convertToInteractive('df-418fcff2-7a9f-44bb-8748-17f9ccd3caac')\"\n",
              "              title=\"Convert this dataframe to an interactive table.\"\n",
              "              style=\"display:none;\">\n",
              "        \n",
              "  <svg xmlns=\"http://www.w3.org/2000/svg\" height=\"24px\"viewBox=\"0 0 24 24\"\n",
              "       width=\"24px\">\n",
              "    <path d=\"M0 0h24v24H0V0z\" fill=\"none\"/>\n",
              "    <path d=\"M18.56 5.44l.94 2.06.94-2.06 2.06-.94-2.06-.94-.94-2.06-.94 2.06-2.06.94zm-11 1L8.5 8.5l.94-2.06 2.06-.94-2.06-.94L8.5 2.5l-.94 2.06-2.06.94zm10 10l.94 2.06.94-2.06 2.06-.94-2.06-.94-.94-2.06-.94 2.06-2.06.94z\"/><path d=\"M17.41 7.96l-1.37-1.37c-.4-.4-.92-.59-1.43-.59-.52 0-1.04.2-1.43.59L10.3 9.45l-7.72 7.72c-.78.78-.78 2.05 0 2.83L4 21.41c.39.39.9.59 1.41.59.51 0 1.02-.2 1.41-.59l7.78-7.78 2.81-2.81c.8-.78.8-2.07 0-2.86zM5.41 20L4 18.59l7.72-7.72 1.47 1.35L5.41 20z\"/>\n",
              "  </svg>\n",
              "      </button>\n",
              "      \n",
              "  <style>\n",
              "    .colab-df-container {\n",
              "      display:flex;\n",
              "      flex-wrap:wrap;\n",
              "      gap: 12px;\n",
              "    }\n",
              "\n",
              "    .colab-df-convert {\n",
              "      background-color: #E8F0FE;\n",
              "      border: none;\n",
              "      border-radius: 50%;\n",
              "      cursor: pointer;\n",
              "      display: none;\n",
              "      fill: #1967D2;\n",
              "      height: 32px;\n",
              "      padding: 0 0 0 0;\n",
              "      width: 32px;\n",
              "    }\n",
              "\n",
              "    .colab-df-convert:hover {\n",
              "      background-color: #E2EBFA;\n",
              "      box-shadow: 0px 1px 2px rgba(60, 64, 67, 0.3), 0px 1px 3px 1px rgba(60, 64, 67, 0.15);\n",
              "      fill: #174EA6;\n",
              "    }\n",
              "\n",
              "    [theme=dark] .colab-df-convert {\n",
              "      background-color: #3B4455;\n",
              "      fill: #D2E3FC;\n",
              "    }\n",
              "\n",
              "    [theme=dark] .colab-df-convert:hover {\n",
              "      background-color: #434B5C;\n",
              "      box-shadow: 0px 1px 3px 1px rgba(0, 0, 0, 0.15);\n",
              "      filter: drop-shadow(0px 1px 2px rgba(0, 0, 0, 0.3));\n",
              "      fill: #FFFFFF;\n",
              "    }\n",
              "  </style>\n",
              "\n",
              "      <script>\n",
              "        const buttonEl =\n",
              "          document.querySelector('#df-418fcff2-7a9f-44bb-8748-17f9ccd3caac button.colab-df-convert');\n",
              "        buttonEl.style.display =\n",
              "          google.colab.kernel.accessAllowed ? 'block' : 'none';\n",
              "\n",
              "        async function convertToInteractive(key) {\n",
              "          const element = document.querySelector('#df-418fcff2-7a9f-44bb-8748-17f9ccd3caac');\n",
              "          const dataTable =\n",
              "            await google.colab.kernel.invokeFunction('convertToInteractive',\n",
              "                                                     [key], {});\n",
              "          if (!dataTable) return;\n",
              "\n",
              "          const docLinkHtml = 'Like what you see? Visit the ' +\n",
              "            '<a target=\"_blank\" href=https://colab.research.google.com/notebooks/data_table.ipynb>data table notebook</a>'\n",
              "            + ' to learn more about interactive tables.';\n",
              "          element.innerHTML = '';\n",
              "          dataTable['output_type'] = 'display_data';\n",
              "          await google.colab.output.renderOutput(dataTable, element);\n",
              "          const docLink = document.createElement('div');\n",
              "          docLink.innerHTML = docLinkHtml;\n",
              "          element.appendChild(docLink);\n",
              "        }\n",
              "      </script>\n",
              "    </div>\n",
              "  </div>\n",
              "  "
            ]
          },
          "metadata": {},
          "execution_count": 60
        }
      ]
    },
    {
      "cell_type": "code",
      "source": [
        "users.rename(columns = {'Country':'Location'}, inplace = True)\n",
        "users"
      ],
      "metadata": {
        "id": "-H_h53JH8qRl",
        "colab": {
          "base_uri": "https://localhost:8080/",
          "height": 424
        },
        "outputId": "c3faf177-55aa-4453-8711-e699085b6fcc"
      },
      "execution_count": null,
      "outputs": [
        {
          "output_type": "execute_result",
          "data": {
            "text/plain": [
              "        userId  Age         Location\n",
              "0            1   34              usa\n",
              "1            2   18              usa\n",
              "2            3   34           russia\n",
              "3            4   17         portugal\n",
              "4            5   34   united kingdom\n",
              "...        ...  ...              ...\n",
              "278853  278854   34              usa\n",
              "278854  278855   50   united kingdom\n",
              "278855  278856   34           canada\n",
              "278856  278857   34              usa\n",
              "278857  278858   34          ireland\n",
              "\n",
              "[278858 rows x 3 columns]"
            ],
            "text/html": [
              "\n",
              "  <div id=\"df-56ef4708-5417-4b6f-b502-a856ee3d61e2\">\n",
              "    <div class=\"colab-df-container\">\n",
              "      <div>\n",
              "<style scoped>\n",
              "    .dataframe tbody tr th:only-of-type {\n",
              "        vertical-align: middle;\n",
              "    }\n",
              "\n",
              "    .dataframe tbody tr th {\n",
              "        vertical-align: top;\n",
              "    }\n",
              "\n",
              "    .dataframe thead th {\n",
              "        text-align: right;\n",
              "    }\n",
              "</style>\n",
              "<table border=\"1\" class=\"dataframe\">\n",
              "  <thead>\n",
              "    <tr style=\"text-align: right;\">\n",
              "      <th></th>\n",
              "      <th>userId</th>\n",
              "      <th>Age</th>\n",
              "      <th>Location</th>\n",
              "    </tr>\n",
              "  </thead>\n",
              "  <tbody>\n",
              "    <tr>\n",
              "      <th>0</th>\n",
              "      <td>1</td>\n",
              "      <td>34</td>\n",
              "      <td>usa</td>\n",
              "    </tr>\n",
              "    <tr>\n",
              "      <th>1</th>\n",
              "      <td>2</td>\n",
              "      <td>18</td>\n",
              "      <td>usa</td>\n",
              "    </tr>\n",
              "    <tr>\n",
              "      <th>2</th>\n",
              "      <td>3</td>\n",
              "      <td>34</td>\n",
              "      <td>russia</td>\n",
              "    </tr>\n",
              "    <tr>\n",
              "      <th>3</th>\n",
              "      <td>4</td>\n",
              "      <td>17</td>\n",
              "      <td>portugal</td>\n",
              "    </tr>\n",
              "    <tr>\n",
              "      <th>4</th>\n",
              "      <td>5</td>\n",
              "      <td>34</td>\n",
              "      <td>united kingdom</td>\n",
              "    </tr>\n",
              "    <tr>\n",
              "      <th>...</th>\n",
              "      <td>...</td>\n",
              "      <td>...</td>\n",
              "      <td>...</td>\n",
              "    </tr>\n",
              "    <tr>\n",
              "      <th>278853</th>\n",
              "      <td>278854</td>\n",
              "      <td>34</td>\n",
              "      <td>usa</td>\n",
              "    </tr>\n",
              "    <tr>\n",
              "      <th>278854</th>\n",
              "      <td>278855</td>\n",
              "      <td>50</td>\n",
              "      <td>united kingdom</td>\n",
              "    </tr>\n",
              "    <tr>\n",
              "      <th>278855</th>\n",
              "      <td>278856</td>\n",
              "      <td>34</td>\n",
              "      <td>canada</td>\n",
              "    </tr>\n",
              "    <tr>\n",
              "      <th>278856</th>\n",
              "      <td>278857</td>\n",
              "      <td>34</td>\n",
              "      <td>usa</td>\n",
              "    </tr>\n",
              "    <tr>\n",
              "      <th>278857</th>\n",
              "      <td>278858</td>\n",
              "      <td>34</td>\n",
              "      <td>ireland</td>\n",
              "    </tr>\n",
              "  </tbody>\n",
              "</table>\n",
              "<p>278858 rows × 3 columns</p>\n",
              "</div>\n",
              "      <button class=\"colab-df-convert\" onclick=\"convertToInteractive('df-56ef4708-5417-4b6f-b502-a856ee3d61e2')\"\n",
              "              title=\"Convert this dataframe to an interactive table.\"\n",
              "              style=\"display:none;\">\n",
              "        \n",
              "  <svg xmlns=\"http://www.w3.org/2000/svg\" height=\"24px\"viewBox=\"0 0 24 24\"\n",
              "       width=\"24px\">\n",
              "    <path d=\"M0 0h24v24H0V0z\" fill=\"none\"/>\n",
              "    <path d=\"M18.56 5.44l.94 2.06.94-2.06 2.06-.94-2.06-.94-.94-2.06-.94 2.06-2.06.94zm-11 1L8.5 8.5l.94-2.06 2.06-.94-2.06-.94L8.5 2.5l-.94 2.06-2.06.94zm10 10l.94 2.06.94-2.06 2.06-.94-2.06-.94-.94-2.06-.94 2.06-2.06.94z\"/><path d=\"M17.41 7.96l-1.37-1.37c-.4-.4-.92-.59-1.43-.59-.52 0-1.04.2-1.43.59L10.3 9.45l-7.72 7.72c-.78.78-.78 2.05 0 2.83L4 21.41c.39.39.9.59 1.41.59.51 0 1.02-.2 1.41-.59l7.78-7.78 2.81-2.81c.8-.78.8-2.07 0-2.86zM5.41 20L4 18.59l7.72-7.72 1.47 1.35L5.41 20z\"/>\n",
              "  </svg>\n",
              "      </button>\n",
              "      \n",
              "  <style>\n",
              "    .colab-df-container {\n",
              "      display:flex;\n",
              "      flex-wrap:wrap;\n",
              "      gap: 12px;\n",
              "    }\n",
              "\n",
              "    .colab-df-convert {\n",
              "      background-color: #E8F0FE;\n",
              "      border: none;\n",
              "      border-radius: 50%;\n",
              "      cursor: pointer;\n",
              "      display: none;\n",
              "      fill: #1967D2;\n",
              "      height: 32px;\n",
              "      padding: 0 0 0 0;\n",
              "      width: 32px;\n",
              "    }\n",
              "\n",
              "    .colab-df-convert:hover {\n",
              "      background-color: #E2EBFA;\n",
              "      box-shadow: 0px 1px 2px rgba(60, 64, 67, 0.3), 0px 1px 3px 1px rgba(60, 64, 67, 0.15);\n",
              "      fill: #174EA6;\n",
              "    }\n",
              "\n",
              "    [theme=dark] .colab-df-convert {\n",
              "      background-color: #3B4455;\n",
              "      fill: #D2E3FC;\n",
              "    }\n",
              "\n",
              "    [theme=dark] .colab-df-convert:hover {\n",
              "      background-color: #434B5C;\n",
              "      box-shadow: 0px 1px 3px 1px rgba(0, 0, 0, 0.15);\n",
              "      filter: drop-shadow(0px 1px 2px rgba(0, 0, 0, 0.3));\n",
              "      fill: #FFFFFF;\n",
              "    }\n",
              "  </style>\n",
              "\n",
              "      <script>\n",
              "        const buttonEl =\n",
              "          document.querySelector('#df-56ef4708-5417-4b6f-b502-a856ee3d61e2 button.colab-df-convert');\n",
              "        buttonEl.style.display =\n",
              "          google.colab.kernel.accessAllowed ? 'block' : 'none';\n",
              "\n",
              "        async function convertToInteractive(key) {\n",
              "          const element = document.querySelector('#df-56ef4708-5417-4b6f-b502-a856ee3d61e2');\n",
              "          const dataTable =\n",
              "            await google.colab.kernel.invokeFunction('convertToInteractive',\n",
              "                                                     [key], {});\n",
              "          if (!dataTable) return;\n",
              "\n",
              "          const docLinkHtml = 'Like what you see? Visit the ' +\n",
              "            '<a target=\"_blank\" href=https://colab.research.google.com/notebooks/data_table.ipynb>data table notebook</a>'\n",
              "            + ' to learn more about interactive tables.';\n",
              "          element.innerHTML = '';\n",
              "          dataTable['output_type'] = 'display_data';\n",
              "          await google.colab.output.renderOutput(dataTable, element);\n",
              "          const docLink = document.createElement('div');\n",
              "          docLink.innerHTML = docLinkHtml;\n",
              "          element.appendChild(docLink);\n",
              "        }\n",
              "      </script>\n",
              "    </div>\n",
              "  </div>\n",
              "  "
            ]
          },
          "metadata": {},
          "execution_count": 61
        }
      ]
    },
    {
      "cell_type": "markdown",
      "source": [
        "## Ratings"
      ],
      "metadata": {
        "id": "GB_Dx5Mq9bwi"
      }
    },
    {
      "cell_type": "code",
      "source": [
        "ratings.head()"
      ],
      "metadata": {
        "id": "PoxPLgB1Oo2J",
        "colab": {
          "base_uri": "https://localhost:8080/",
          "height": 206
        },
        "outputId": "9a2104f2-c7a3-4c90-b58e-b5f9c357270d"
      },
      "execution_count": null,
      "outputs": [
        {
          "output_type": "execute_result",
          "data": {
            "text/plain": [
              "   userId        ISBN  bookRating\n",
              "0  276725  034545104X           0\n",
              "1  276726  0155061224           5\n",
              "2  276727  0446520802           0\n",
              "3  276729  052165615X           3\n",
              "4  276729  0521795028           6"
            ],
            "text/html": [
              "\n",
              "  <div id=\"df-b325b694-8fbc-45e7-bf2c-68c93491d40b\">\n",
              "    <div class=\"colab-df-container\">\n",
              "      <div>\n",
              "<style scoped>\n",
              "    .dataframe tbody tr th:only-of-type {\n",
              "        vertical-align: middle;\n",
              "    }\n",
              "\n",
              "    .dataframe tbody tr th {\n",
              "        vertical-align: top;\n",
              "    }\n",
              "\n",
              "    .dataframe thead th {\n",
              "        text-align: right;\n",
              "    }\n",
              "</style>\n",
              "<table border=\"1\" class=\"dataframe\">\n",
              "  <thead>\n",
              "    <tr style=\"text-align: right;\">\n",
              "      <th></th>\n",
              "      <th>userId</th>\n",
              "      <th>ISBN</th>\n",
              "      <th>bookRating</th>\n",
              "    </tr>\n",
              "  </thead>\n",
              "  <tbody>\n",
              "    <tr>\n",
              "      <th>0</th>\n",
              "      <td>276725</td>\n",
              "      <td>034545104X</td>\n",
              "      <td>0</td>\n",
              "    </tr>\n",
              "    <tr>\n",
              "      <th>1</th>\n",
              "      <td>276726</td>\n",
              "      <td>0155061224</td>\n",
              "      <td>5</td>\n",
              "    </tr>\n",
              "    <tr>\n",
              "      <th>2</th>\n",
              "      <td>276727</td>\n",
              "      <td>0446520802</td>\n",
              "      <td>0</td>\n",
              "    </tr>\n",
              "    <tr>\n",
              "      <th>3</th>\n",
              "      <td>276729</td>\n",
              "      <td>052165615X</td>\n",
              "      <td>3</td>\n",
              "    </tr>\n",
              "    <tr>\n",
              "      <th>4</th>\n",
              "      <td>276729</td>\n",
              "      <td>0521795028</td>\n",
              "      <td>6</td>\n",
              "    </tr>\n",
              "  </tbody>\n",
              "</table>\n",
              "</div>\n",
              "      <button class=\"colab-df-convert\" onclick=\"convertToInteractive('df-b325b694-8fbc-45e7-bf2c-68c93491d40b')\"\n",
              "              title=\"Convert this dataframe to an interactive table.\"\n",
              "              style=\"display:none;\">\n",
              "        \n",
              "  <svg xmlns=\"http://www.w3.org/2000/svg\" height=\"24px\"viewBox=\"0 0 24 24\"\n",
              "       width=\"24px\">\n",
              "    <path d=\"M0 0h24v24H0V0z\" fill=\"none\"/>\n",
              "    <path d=\"M18.56 5.44l.94 2.06.94-2.06 2.06-.94-2.06-.94-.94-2.06-.94 2.06-2.06.94zm-11 1L8.5 8.5l.94-2.06 2.06-.94-2.06-.94L8.5 2.5l-.94 2.06-2.06.94zm10 10l.94 2.06.94-2.06 2.06-.94-2.06-.94-.94-2.06-.94 2.06-2.06.94z\"/><path d=\"M17.41 7.96l-1.37-1.37c-.4-.4-.92-.59-1.43-.59-.52 0-1.04.2-1.43.59L10.3 9.45l-7.72 7.72c-.78.78-.78 2.05 0 2.83L4 21.41c.39.39.9.59 1.41.59.51 0 1.02-.2 1.41-.59l7.78-7.78 2.81-2.81c.8-.78.8-2.07 0-2.86zM5.41 20L4 18.59l7.72-7.72 1.47 1.35L5.41 20z\"/>\n",
              "  </svg>\n",
              "      </button>\n",
              "      \n",
              "  <style>\n",
              "    .colab-df-container {\n",
              "      display:flex;\n",
              "      flex-wrap:wrap;\n",
              "      gap: 12px;\n",
              "    }\n",
              "\n",
              "    .colab-df-convert {\n",
              "      background-color: #E8F0FE;\n",
              "      border: none;\n",
              "      border-radius: 50%;\n",
              "      cursor: pointer;\n",
              "      display: none;\n",
              "      fill: #1967D2;\n",
              "      height: 32px;\n",
              "      padding: 0 0 0 0;\n",
              "      width: 32px;\n",
              "    }\n",
              "\n",
              "    .colab-df-convert:hover {\n",
              "      background-color: #E2EBFA;\n",
              "      box-shadow: 0px 1px 2px rgba(60, 64, 67, 0.3), 0px 1px 3px 1px rgba(60, 64, 67, 0.15);\n",
              "      fill: #174EA6;\n",
              "    }\n",
              "\n",
              "    [theme=dark] .colab-df-convert {\n",
              "      background-color: #3B4455;\n",
              "      fill: #D2E3FC;\n",
              "    }\n",
              "\n",
              "    [theme=dark] .colab-df-convert:hover {\n",
              "      background-color: #434B5C;\n",
              "      box-shadow: 0px 1px 3px 1px rgba(0, 0, 0, 0.15);\n",
              "      filter: drop-shadow(0px 1px 2px rgba(0, 0, 0, 0.3));\n",
              "      fill: #FFFFFF;\n",
              "    }\n",
              "  </style>\n",
              "\n",
              "      <script>\n",
              "        const buttonEl =\n",
              "          document.querySelector('#df-b325b694-8fbc-45e7-bf2c-68c93491d40b button.colab-df-convert');\n",
              "        buttonEl.style.display =\n",
              "          google.colab.kernel.accessAllowed ? 'block' : 'none';\n",
              "\n",
              "        async function convertToInteractive(key) {\n",
              "          const element = document.querySelector('#df-b325b694-8fbc-45e7-bf2c-68c93491d40b');\n",
              "          const dataTable =\n",
              "            await google.colab.kernel.invokeFunction('convertToInteractive',\n",
              "                                                     [key], {});\n",
              "          if (!dataTable) return;\n",
              "\n",
              "          const docLinkHtml = 'Like what you see? Visit the ' +\n",
              "            '<a target=\"_blank\" href=https://colab.research.google.com/notebooks/data_table.ipynb>data table notebook</a>'\n",
              "            + ' to learn more about interactive tables.';\n",
              "          element.innerHTML = '';\n",
              "          dataTable['output_type'] = 'display_data';\n",
              "          await google.colab.output.renderOutput(dataTable, element);\n",
              "          const docLink = document.createElement('div');\n",
              "          docLink.innerHTML = docLinkHtml;\n",
              "          element.appendChild(docLink);\n",
              "        }\n",
              "      </script>\n",
              "    </div>\n",
              "  </div>\n",
              "  "
            ]
          },
          "metadata": {},
          "execution_count": 62
        }
      ]
    },
    {
      "cell_type": "markdown",
      "source": [
        "### Significati delle colonne\n",
        "\n",
        "- `userId`: codice univoco dell'utente\n",
        "- `ISBN`: codice univoco del libro\n",
        "- `bookRating`: voto dato dall'utente x ad un libro y"
      ],
      "metadata": {
        "id": "7l0mA62-OoM0"
      }
    },
    {
      "cell_type": "markdown",
      "source": [
        "Analizzando il dataset dei ratings ci accorgiamo che la matrice user-books ratings ha dei valori sparsi, in quanto il numero di ratings è inferiore alla dimensione della matrice books x users."
      ],
      "metadata": {
        "id": "K6r0WC8Q95GP"
      }
    },
    {
      "cell_type": "code",
      "source": [
        "ratings.shape"
      ],
      "metadata": {
        "id": "81RSDKWp95eI",
        "colab": {
          "base_uri": "https://localhost:8080/"
        },
        "outputId": "32706ad3-0034-4130-8fb3-81f85752310c"
      },
      "execution_count": null,
      "outputs": [
        {
          "output_type": "execute_result",
          "data": {
            "text/plain": [
              "(1149780, 3)"
            ]
          },
          "metadata": {},
          "execution_count": 63
        }
      ]
    },
    {
      "cell_type": "code",
      "source": [
        "n_users = users.shape[0]\n",
        "n_books = books.shape[0]\n",
        "\n",
        "n_users * n_books "
      ],
      "metadata": {
        "id": "oKYnUTIo98N1",
        "colab": {
          "base_uri": "https://localhost:8080/"
        },
        "outputId": "a9af5b3c-817d-4f14-a30a-85b30b0eadf5"
      },
      "execution_count": null,
      "outputs": [
        {
          "output_type": "execute_result",
          "data": {
            "text/plain": [
              "75670906880"
            ]
          },
          "metadata": {},
          "execution_count": 64
        }
      ]
    },
    {
      "cell_type": "markdown",
      "source": [
        "# Distribuzione dei ratings"
      ],
      "metadata": {
        "id": "-PdKII7WXtCt"
      }
    },
    {
      "cell_type": "markdown",
      "source": [
        "I ratings hanno una distribuzione tutt'altro che comparabile. Infatti, la maggior parte dei punteggi ha valore 0, che indica assenza di voto."
      ],
      "metadata": {
        "id": "NGYzyR9BXwHM"
      }
    },
    {
      "cell_type": "code",
      "source": [
        "from pyparsing.helpers import counted_array\n",
        "plt.rc(\"font\", size=15)\n",
        "ratings.bookRating.value_counts(sort=False).plot(kind='bar')\n",
        "plt.title('Distribuzione dei Rating\\n')\n",
        "plt.xlabel('Rating')\n",
        "plt.ylabel('Conteggio')\n",
        "plt.savefig('foto1.png', bbox_inches='tight')\n",
        "plt.show()"
      ],
      "metadata": {
        "colab": {
          "base_uri": "https://localhost:8080/",
          "height": 334
        },
        "id": "_kC3qKdWX-5B",
        "outputId": "4f805700-dd0f-413b-ed56-52f08b665c8e"
      },
      "execution_count": null,
      "outputs": [
        {
          "output_type": "display_data",
          "data": {
            "text/plain": [
              "<Figure size 432x288 with 1 Axes>"
            ],
            "image/png": "[encoded data removed]"
          },
          "metadata": {
            "needs_background": "light"
          }
        }
      ]
    },
    {
      "cell_type": "markdown",
      "source": [
        "Diamo una misura della sparsità dei dati."
      ],
      "metadata": {
        "id": "xZKJhuCQX-gH"
      }
    },
    {
      "cell_type": "code",
      "source": [
        "sparsity = 1.0-len(ratings)/float(n_users*n_books)\n",
        "\n",
        "print(\"La sparsità dei dati è pari al \" + str(sparsity*100) + \" %\")"
      ],
      "metadata": {
        "id": "Ur87-UYCrjBl",
        "colab": {
          "base_uri": "https://localhost:8080/"
        },
        "outputId": "ece58cc9-b1a8-4e4c-e16c-7023abad49c4"
      },
      "execution_count": null,
      "outputs": [
        {
          "output_type": "stream",
          "name": "stdout",
          "text": [
            "La sparsità dei dati è pari al 99.99848055210727 %\n"
          ]
        }
      ]
    },
    {
      "cell_type": "markdown",
      "source": [
        "Verifichiamo che i ratings siano relativi a dei libri presenti nel dataset books e che siano effettuati da utenti presenti in users."
      ],
      "metadata": {
        "id": "o-oQjVDb1RTl"
      }
    },
    {
      "cell_type": "code",
      "source": [
        "new_ratings = ratings[ratings.ISBN.isin(books.ISBN)]\n",
        "new_ratings = new_ratings[new_ratings.userId.isin(users.userId)]"
      ],
      "metadata": {
        "id": "H_upskt41eM6"
      },
      "execution_count": null,
      "outputs": []
    },
    {
      "cell_type": "code",
      "source": [
        "ratings.shape"
      ],
      "metadata": {
        "id": "R46mskSe3Nf0",
        "colab": {
          "base_uri": "https://localhost:8080/"
        },
        "outputId": "882c5e23-5635-41cb-87f2-5ead07729d1f"
      },
      "execution_count": null,
      "outputs": [
        {
          "output_type": "execute_result",
          "data": {
            "text/plain": [
              "(1149780, 3)"
            ]
          },
          "metadata": {},
          "execution_count": 68
        }
      ]
    },
    {
      "cell_type": "markdown",
      "source": [
        "Il numero di ratings è diminuito, quindi alcuni voti erano stati erroneamente inseriti nel dataset."
      ],
      "metadata": {
        "id": "ntOQnRm1YPDZ"
      }
    },
    {
      "cell_type": "code",
      "source": [
        "new_ratings.shape"
      ],
      "metadata": {
        "id": "AFm4iC_C3HcJ",
        "colab": {
          "base_uri": "https://localhost:8080/"
        },
        "outputId": "b449ecce-e3eb-493d-fea3-12acb6d9bf4e"
      },
      "execution_count": null,
      "outputs": [
        {
          "output_type": "execute_result",
          "data": {
            "text/plain": [
              "(1031136, 3)"
            ]
          },
          "metadata": {},
          "execution_count": 69
        }
      ]
    },
    {
      "cell_type": "markdown",
      "source": [
        "Occorre fare una distinzione, separando le valutazioni **esplicite**, rappresentate dai voti compresi tra 1–10 dalle valutazioni **implicite**, con valori pari a 0. \n",
        "Utilizzeremo solo valutazioni esplicite per creare il nostro sistema di book recommendation. \n",
        "Allo stesso modo, bisogna separare gli utenti che hanno dato valutazioni esplicite e quelli che hanno dato valutazioni implicite."
      ],
      "metadata": {
        "id": "Md5Nb9cU7yhT"
      }
    },
    {
      "cell_type": "code",
      "source": [
        "ratings.bookRating.unique()"
      ],
      "metadata": {
        "id": "n9YJhD-e8g-N",
        "colab": {
          "base_uri": "https://localhost:8080/"
        },
        "outputId": "6783796c-843c-4827-e885-0ec5737365ca"
      },
      "execution_count": null,
      "outputs": [
        {
          "output_type": "execute_result",
          "data": {
            "text/plain": [
              "array([ 0,  5,  3,  6,  8,  7, 10,  9,  4,  1,  2])"
            ]
          },
          "metadata": {},
          "execution_count": 70
        }
      ]
    },
    {
      "cell_type": "code",
      "source": [
        "explicit_ratings = new_ratings[new_ratings.bookRating  != 0]\n",
        "implicit_ratings = new_ratings[new_ratings.bookRating  == 0]"
      ],
      "metadata": {
        "id": "NApekfT_8sne"
      },
      "execution_count": null,
      "outputs": []
    },
    {
      "cell_type": "code",
      "source": [
        "users_explicit_ratings = users[users.userId.isin(explicit_ratings.userId)]\n",
        "users_implicit_ratings = users[users.userId.isin(implicit_ratings.userId)]"
      ],
      "metadata": {
        "id": "bvAIK4BD9DhJ"
      },
      "execution_count": null,
      "outputs": []
    },
    {
      "cell_type": "markdown",
      "source": [
        "Visualizziamo graficamente il conteggio di ciascun rating attraverso un countplot e notiamo che il voto 8 è quello dato più volte."
      ],
      "metadata": {
        "id": "gg7kFu7H-uR8"
      }
    },
    {
      "cell_type": "code",
      "source": [
        "sns.countplot(data=explicit_ratings, x='bookRating')\n",
        "plt.show()"
      ],
      "metadata": {
        "id": "E9SSNlRC-yh2",
        "colab": {
          "base_uri": "https://localhost:8080/",
          "height": 289
        },
        "outputId": "af61f15f-b516-4d94-f684-bbe9e6d3d372"
      },
      "execution_count": null,
      "outputs": [
        {
          "output_type": "display_data",
          "data": {
            "text/plain": [
              "<Figure size 432x288 with 1 Axes>"
            ],
            "image/png": "[encoded data removed]"
          },
          "metadata": {
            "needs_background": "light"
          }
        }
      ]
    },
    {
      "cell_type": "markdown",
      "source": [
        "# Sistema di recommendation basato sulla popolarità"
      ],
      "metadata": {
        "id": "sXpmmfSGCY2t"
      }
    },
    {
      "cell_type": "markdown",
      "source": [
        "Si può creare un semplice sistema di recommedation basato sulla popolarità in base al conteggio delle valutazioni degli utenti per i diversi libri. \n"
      ],
      "metadata": {
        "id": "dUVQgmS5Chm7"
      }
    },
    {
      "cell_type": "markdown",
      "source": [
        "Per assicurarci di ottenere delle statistiche significative, per questo tipo di analisi riduciamo le dimensioni del dataset escludendo gli utenti che hanno dato meno di 100 voti e i libri che hanno ricevuto meno di 100 voti."
      ],
      "metadata": {
        "id": "UE4GaAg1hwcp"
      }
    },
    {
      "cell_type": "code",
      "source": [
        "counts1 = explicit_ratings['userId'].value_counts()\n",
        "explicit_ratings = explicit_ratings[explicit_ratings['userId'].isin(counts1[counts1 >= 100].index)]\n",
        "counts = explicit_ratings['bookRating'].value_counts()\n",
        "explicit_ratings = explicit_ratings[explicit_ratings['bookRating'].isin(counts[counts >= 100].index)]"
      ],
      "metadata": {
        "id": "frT_Sb-1iKXj"
      },
      "execution_count": null,
      "outputs": []
    },
    {
      "cell_type": "code",
      "source": [
        "# calcolo la somma dei ratings di ogni libro\n",
        "ratings_count = pd.DataFrame(explicit_ratings.groupby(['ISBN'])['bookRating'].sum())\n",
        "# cerco i 10 libri più votati ordinando per bookRating decrescente\n",
        "top10 = ratings_count.sort_values('bookRating', ascending=False).head(10)\n",
        "\n",
        "print(\"I libri seguenti sono quelli più consigliati:\")\n",
        "\n",
        "# unisco i 10 libri più votati alle informazioni specifiche relative ad essi\n",
        "top10.merge(books, left_index = True, right_on = 'ISBN')"
      ],
      "metadata": {
        "id": "tDkEDcHrDPaU",
        "colab": {
          "base_uri": "https://localhost:8080/",
          "height": 381
        },
        "outputId": "997258b7-452a-494f-cca1-7dfaa5e2dc17"
      },
      "execution_count": null,
      "outputs": [
        {
          "output_type": "stream",
          "name": "stdout",
          "text": [
            "I libri seguenti sono quelli più consigliati:\n"
          ]
        },
        {
          "output_type": "execute_result",
          "data": {
            "text/plain": [
              "      bookRating        ISBN  \\\n",
              "408          595  0316666343   \n",
              "2143         411  059035342X   \n",
              "5506         409  043935806X   \n",
              "748          400  0385504209   \n",
              "522          375  0312195516   \n",
              "37           358  0446310786   \n",
              "5431         331  0439139597   \n",
              "1195         320  0345370775   \n",
              "5432         314  0439064864   \n",
              "3839         300  0439136350   \n",
              "\n",
              "                                                             bookTitle  \\\n",
              "408                                          The Lovely Bones: A Novel   \n",
              "2143  Harry Potter and the Sorcerer's Stone (Harry Potter (Paperback))   \n",
              "5506                Harry Potter and the Order of the Phoenix (Book 5)   \n",
              "748                                                  The Da Vinci Code   \n",
              "522                                The Red Tent (Bestselling Backlist)   \n",
              "37                                               To Kill a Mockingbird   \n",
              "5431                      Harry Potter and the Goblet of Fire (Book 4)   \n",
              "1195                                                     Jurassic Park   \n",
              "5432                  Harry Potter and the Chamber of Secrets (Book 2)   \n",
              "3839                 Harry Potter and the Prisoner of Azkaban (Book 3)   \n",
              "\n",
              "            bookAuthor  yearOfPubblication                   publisher  \n",
              "408       Alice Sebold                2002               Little, Brown  \n",
              "2143     J. K. Rowling                1999      Arthur A. Levine Books  \n",
              "5506     J. K. Rowling                2003                  Scholastic  \n",
              "748          Dan Brown                2003                   Doubleday  \n",
              "522      Anita Diamant                1998                 Picador USA  \n",
              "37          Harper Lee                1988  Little Brown &amp; Company  \n",
              "5431     J. K. Rowling                2000                  Scholastic  \n",
              "1195  Michael Crichton                1999            Ballantine Books  \n",
              "5432     J. K. Rowling                1999                  Scholastic  \n",
              "3839     J. K. Rowling                1999                  Scholastic  "
            ],
            "text/html": [
              "\n",
              "  <div id=\"df-495ff800-9090-4e32-bcea-c82c47b26bc5\">\n",
              "    <div class=\"colab-df-container\">\n",
              "      <div>\n",
              "<style scoped>\n",
              "    .dataframe tbody tr th:only-of-type {\n",
              "        vertical-align: middle;\n",
              "    }\n",
              "\n",
              "    .dataframe tbody tr th {\n",
              "        vertical-align: top;\n",
              "    }\n",
              "\n",
              "    .dataframe thead th {\n",
              "        text-align: right;\n",
              "    }\n",
              "</style>\n",
              "<table border=\"1\" class=\"dataframe\">\n",
              "  <thead>\n",
              "    <tr style=\"text-align: right;\">\n",
              "      <th></th>\n",
              "      <th>bookRating</th>\n",
              "      <th>ISBN</th>\n",
              "      <th>bookTitle</th>\n",
              "      <th>bookAuthor</th>\n",
              "      <th>yearOfPubblication</th>\n",
              "      <th>publisher</th>\n",
              "    </tr>\n",
              "  </thead>\n",
              "  <tbody>\n",
              "    <tr>\n",
              "      <th>408</th>\n",
              "      <td>595</td>\n",
              "      <td>0316666343</td>\n",
              "      <td>The Lovely Bones: A Novel</td>\n",
              "      <td>Alice Sebold</td>\n",
              "      <td>2002</td>\n",
              "      <td>Little, Brown</td>\n",
              "    </tr>\n",
              "    <tr>\n",
              "      <th>2143</th>\n",
              "      <td>411</td>\n",
              "      <td>059035342X</td>\n",
              "      <td>Harry Potter and the Sorcerer's Stone (Harry Potter (Paperback))</td>\n",
              "      <td>J. K. Rowling</td>\n",
              "      <td>1999</td>\n",
              "      <td>Arthur A. Levine Books</td>\n",
              "    </tr>\n",
              "    <tr>\n",
              "      <th>5506</th>\n",
              "      <td>409</td>\n",
              "      <td>043935806X</td>\n",
              "      <td>Harry Potter and the Order of the Phoenix (Book 5)</td>\n",
              "      <td>J. K. Rowling</td>\n",
              "      <td>2003</td>\n",
              "      <td>Scholastic</td>\n",
              "    </tr>\n",
              "    <tr>\n",
              "      <th>748</th>\n",
              "      <td>400</td>\n",
              "      <td>0385504209</td>\n",
              "      <td>The Da Vinci Code</td>\n",
              "      <td>Dan Brown</td>\n",
              "      <td>2003</td>\n",
              "      <td>Doubleday</td>\n",
              "    </tr>\n",
              "    <tr>\n",
              "      <th>522</th>\n",
              "      <td>375</td>\n",
              "      <td>0312195516</td>\n",
              "      <td>The Red Tent (Bestselling Backlist)</td>\n",
              "      <td>Anita Diamant</td>\n",
              "      <td>1998</td>\n",
              "      <td>Picador USA</td>\n",
              "    </tr>\n",
              "    <tr>\n",
              "      <th>37</th>\n",
              "      <td>358</td>\n",
              "      <td>0446310786</td>\n",
              "      <td>To Kill a Mockingbird</td>\n",
              "      <td>Harper Lee</td>\n",
              "      <td>1988</td>\n",
              "      <td>Little Brown &amp;amp; Company</td>\n",
              "    </tr>\n",
              "    <tr>\n",
              "      <th>5431</th>\n",
              "      <td>331</td>\n",
              "      <td>0439139597</td>\n",
              "      <td>Harry Potter and the Goblet of Fire (Book 4)</td>\n",
              "      <td>J. K. Rowling</td>\n",
              "      <td>2000</td>\n",
              "      <td>Scholastic</td>\n",
              "    </tr>\n",
              "    <tr>\n",
              "      <th>1195</th>\n",
              "      <td>320</td>\n",
              "      <td>0345370775</td>\n",
              "      <td>Jurassic Park</td>\n",
              "      <td>Michael Crichton</td>\n",
              "      <td>1999</td>\n",
              "      <td>Ballantine Books</td>\n",
              "    </tr>\n",
              "    <tr>\n",
              "      <th>5432</th>\n",
              "      <td>314</td>\n",
              "      <td>0439064864</td>\n",
              "      <td>Harry Potter and the Chamber of Secrets (Book 2)</td>\n",
              "      <td>J. K. Rowling</td>\n",
              "      <td>1999</td>\n",
              "      <td>Scholastic</td>\n",
              "    </tr>\n",
              "    <tr>\n",
              "      <th>3839</th>\n",
              "      <td>300</td>\n",
              "      <td>0439136350</td>\n",
              "      <td>Harry Potter and the Prisoner of Azkaban (Book 3)</td>\n",
              "      <td>J. K. Rowling</td>\n",
              "      <td>1999</td>\n",
              "      <td>Scholastic</td>\n",
              "    </tr>\n",
              "  </tbody>\n",
              "</table>\n",
              "</div>\n",
              "      <button class=\"colab-df-convert\" onclick=\"convertToInteractive('df-495ff800-9090-4e32-bcea-c82c47b26bc5')\"\n",
              "              title=\"Convert this dataframe to an interactive table.\"\n",
              "              style=\"display:none;\">\n",
              "        \n",
              "  <svg xmlns=\"http://www.w3.org/2000/svg\" height=\"24px\"viewBox=\"0 0 24 24\"\n",
              "       width=\"24px\">\n",
              "    <path d=\"M0 0h24v24H0V0z\" fill=\"none\"/>\n",
              "    <path d=\"M18.56 5.44l.94 2.06.94-2.06 2.06-.94-2.06-.94-.94-2.06-.94 2.06-2.06.94zm-11 1L8.5 8.5l.94-2.06 2.06-.94-2.06-.94L8.5 2.5l-.94 2.06-2.06.94zm10 10l.94 2.06.94-2.06 2.06-.94-2.06-.94-.94-2.06-.94 2.06-2.06.94z\"/><path d=\"M17.41 7.96l-1.37-1.37c-.4-.4-.92-.59-1.43-.59-.52 0-1.04.2-1.43.59L10.3 9.45l-7.72 7.72c-.78.78-.78 2.05 0 2.83L4 21.41c.39.39.9.59 1.41.59.51 0 1.02-.2 1.41-.59l7.78-7.78 2.81-2.81c.8-.78.8-2.07 0-2.86zM5.41 20L4 18.59l7.72-7.72 1.47 1.35L5.41 20z\"/>\n",
              "  </svg>\n",
              "      </button>\n",
              "      \n",
              "  <style>\n",
              "    .colab-df-container {\n",
              "      display:flex;\n",
              "      flex-wrap:wrap;\n",
              "      gap: 12px;\n",
              "    }\n",
              "\n",
              "    .colab-df-convert {\n",
              "      background-color: #E8F0FE;\n",
              "      border: none;\n",
              "      border-radius: 50%;\n",
              "      cursor: pointer;\n",
              "      display: none;\n",
              "      fill: #1967D2;\n",
              "      height: 32px;\n",
              "      padding: 0 0 0 0;\n",
              "      width: 32px;\n",
              "    }\n",
              "\n",
              "    .colab-df-convert:hover {\n",
              "      background-color: #E2EBFA;\n",
              "      box-shadow: 0px 1px 2px rgba(60, 64, 67, 0.3), 0px 1px 3px 1px rgba(60, 64, 67, 0.15);\n",
              "      fill: #174EA6;\n",
              "    }\n",
              "\n",
              "    [theme=dark] .colab-df-convert {\n",
              "      background-color: #3B4455;\n",
              "      fill: #D2E3FC;\n",
              "    }\n",
              "\n",
              "    [theme=dark] .colab-df-convert:hover {\n",
              "      background-color: #434B5C;\n",
              "      box-shadow: 0px 1px 3px 1px rgba(0, 0, 0, 0.15);\n",
              "      filter: drop-shadow(0px 1px 2px rgba(0, 0, 0, 0.3));\n",
              "      fill: #FFFFFF;\n",
              "    }\n",
              "  </style>\n",
              "\n",
              "      <script>\n",
              "        const buttonEl =\n",
              "          document.querySelector('#df-495ff800-9090-4e32-bcea-c82c47b26bc5 button.colab-df-convert');\n",
              "        buttonEl.style.display =\n",
              "          google.colab.kernel.accessAllowed ? 'block' : 'none';\n",
              "\n",
              "        async function convertToInteractive(key) {\n",
              "          const element = document.querySelector('#df-495ff800-9090-4e32-bcea-c82c47b26bc5');\n",
              "          const dataTable =\n",
              "            await google.colab.kernel.invokeFunction('convertToInteractive',\n",
              "                                                     [key], {});\n",
              "          if (!dataTable) return;\n",
              "\n",
              "          const docLinkHtml = 'Like what you see? Visit the ' +\n",
              "            '<a target=\"_blank\" href=https://colab.research.google.com/notebooks/data_table.ipynb>data table notebook</a>'\n",
              "            + ' to learn more about interactive tables.';\n",
              "          element.innerHTML = '';\n",
              "          dataTable['output_type'] = 'display_data';\n",
              "          await google.colab.output.renderOutput(dataTable, element);\n",
              "          const docLink = document.createElement('div');\n",
              "          docLink.innerHTML = docLinkHtml;\n",
              "          element.appendChild(docLink);\n",
              "        }\n",
              "      </script>\n",
              "    </div>\n",
              "  </div>\n",
              "  "
            ]
          },
          "metadata": {},
          "execution_count": 75
        }
      ]
    },
    {
      "cell_type": "markdown",
      "source": [
        "Il recommender che abbiamo creato suggerisce che i romanzi sono molto popolari, in particolare quelli di J.K.Rowling; e anche che se a qualcuno, per esempio, è piaciuto \"The red tent\", probabilmente apprezzerà anche \"The lovely bones: a novel\".\n",
        "\n",
        "Chiaramente un modello di questo tipo non è molto affidabile dato che non si basa affatto sulle similarità tra utenti o prodotti."
      ],
      "metadata": {
        "id": "1ymJnI1EcX6D"
      }
    },
    {
      "cell_type": "markdown",
      "source": [
        "# Sistema di recommendation basato sulla correlazione"
      ],
      "metadata": {
        "id": "-UfXJmT7GAXb"
      }
    },
    {
      "cell_type": "markdown",
      "source": [
        "Usiamo il coefficiente di correlazione di Pearsons (R) per misurare la correlazione lineare tra due variabili, che nel nostro caso costituiscono le valutazioni di due libri.\n",
        "\n",
        "Innanzitutto, dobbiamo scoprire la valutazione media e il numero di valutazioni (ratings) ricevute da ciascun libro."
      ],
      "metadata": {
        "id": "j_L7K1eNlDXL"
      }
    },
    {
      "cell_type": "code",
      "source": [
        "# calcolo la media dei ratings di ogni libro\n",
        "average_rating = pd.DataFrame(ratings.groupby('ISBN')['bookRating'].mean())\n",
        "\n",
        "# aggiungo la colonna con il conteggio dei ratings che ha ricevuto ogni libro\n",
        "average_rating['ratingCount'] = pd.DataFrame(ratings.groupby('ISBN')['bookRating'].count())\n",
        "\n",
        "print(\"I libri seguenti sono quelli più consigliati:\")\n",
        "\n",
        "# ordino i risultati per numero di voti decrescente (ascending = false)\n",
        "average_rating.sort_values('ratingCount', ascending = False).merge(books, left_index = True, right_on = 'ISBN').head()\n"
      ],
      "metadata": {
        "colab": {
          "base_uri": "https://localhost:8080/",
          "height": 224
        },
        "id": "jZWOdVCelIjX",
        "outputId": "3ca2c34c-fc5f-45a3-b8a3-f3ee7eb44ef8"
      },
      "execution_count": null,
      "outputs": [
        {
          "output_type": "stream",
          "name": "stdout",
          "text": [
            "I libri seguenti sono quelli più consigliati:\n"
          ]
        },
        {
          "output_type": "execute_result",
          "data": {
            "text/plain": [
              "      bookRating  ratingCount        ISBN  \\\n",
              "26      1.019584         2502  0971880107   \n",
              "408     4.468726         1295  0316666343   \n",
              "748     4.652322          883  0385504209   \n",
              "1105    3.448087          732  0060928336   \n",
              "522     4.334716          723  0312195516   \n",
              "\n",
              "                                            bookTitle     bookAuthor  \\\n",
              "26                                        Wild Animus   Rich Shapero   \n",
              "408                         The Lovely Bones: A Novel   Alice Sebold   \n",
              "748                                 The Da Vinci Code      Dan Brown   \n",
              "1105  Divine Secrets of the Ya-Ya Sisterhood: A Novel  Rebecca Wells   \n",
              "522               The Red Tent (Bestselling Backlist)  Anita Diamant   \n",
              "\n",
              "      yearOfPubblication      publisher  \n",
              "26                  2004        Too Far  \n",
              "408                 2002  Little, Brown  \n",
              "748                 2003      Doubleday  \n",
              "1105                1997      Perennial  \n",
              "522                 1998    Picador USA  "
            ],
            "text/html": [
              "\n",
              "  <div id=\"df-e1ebaf90-559b-4f2c-aa02-d7474555caa6\">\n",
              "    <div class=\"colab-df-container\">\n",
              "      <div>\n",
              "<style scoped>\n",
              "    .dataframe tbody tr th:only-of-type {\n",
              "        vertical-align: middle;\n",
              "    }\n",
              "\n",
              "    .dataframe tbody tr th {\n",
              "        vertical-align: top;\n",
              "    }\n",
              "\n",
              "    .dataframe thead th {\n",
              "        text-align: right;\n",
              "    }\n",
              "</style>\n",
              "<table border=\"1\" class=\"dataframe\">\n",
              "  <thead>\n",
              "    <tr style=\"text-align: right;\">\n",
              "      <th></th>\n",
              "      <th>bookRating</th>\n",
              "      <th>ratingCount</th>\n",
              "      <th>ISBN</th>\n",
              "      <th>bookTitle</th>\n",
              "      <th>bookAuthor</th>\n",
              "      <th>yearOfPubblication</th>\n",
              "      <th>publisher</th>\n",
              "    </tr>\n",
              "  </thead>\n",
              "  <tbody>\n",
              "    <tr>\n",
              "      <th>26</th>\n",
              "      <td>1.019584</td>\n",
              "      <td>2502</td>\n",
              "      <td>0971880107</td>\n",
              "      <td>Wild Animus</td>\n",
              "      <td>Rich Shapero</td>\n",
              "      <td>2004</td>\n",
              "      <td>Too Far</td>\n",
              "    </tr>\n",
              "    <tr>\n",
              "      <th>408</th>\n",
              "      <td>4.468726</td>\n",
              "      <td>1295</td>\n",
              "      <td>0316666343</td>\n",
              "      <td>The Lovely Bones: A Novel</td>\n",
              "      <td>Alice Sebold</td>\n",
              "      <td>2002</td>\n",
              "      <td>Little, Brown</td>\n",
              "    </tr>\n",
              "    <tr>\n",
              "      <th>748</th>\n",
              "      <td>4.652322</td>\n",
              "      <td>883</td>\n",
              "      <td>0385504209</td>\n",
              "      <td>The Da Vinci Code</td>\n",
              "      <td>Dan Brown</td>\n",
              "      <td>2003</td>\n",
              "      <td>Doubleday</td>\n",
              "    </tr>\n",
              "    <tr>\n",
              "      <th>1105</th>\n",
              "      <td>3.448087</td>\n",
              "      <td>732</td>\n",
              "      <td>0060928336</td>\n",
              "      <td>Divine Secrets of the Ya-Ya Sisterhood: A Novel</td>\n",
              "      <td>Rebecca Wells</td>\n",
              "      <td>1997</td>\n",
              "      <td>Perennial</td>\n",
              "    </tr>\n",
              "    <tr>\n",
              "      <th>522</th>\n",
              "      <td>4.334716</td>\n",
              "      <td>723</td>\n",
              "      <td>0312195516</td>\n",
              "      <td>The Red Tent (Bestselling Backlist)</td>\n",
              "      <td>Anita Diamant</td>\n",
              "      <td>1998</td>\n",
              "      <td>Picador USA</td>\n",
              "    </tr>\n",
              "  </tbody>\n",
              "</table>\n",
              "</div>\n",
              "      <button class=\"colab-df-convert\" onclick=\"convertToInteractive('df-e1ebaf90-559b-4f2c-aa02-d7474555caa6')\"\n",
              "              title=\"Convert this dataframe to an interactive table.\"\n",
              "              style=\"display:none;\">\n",
              "        \n",
              "  <svg xmlns=\"http://www.w3.org/2000/svg\" height=\"24px\"viewBox=\"0 0 24 24\"\n",
              "       width=\"24px\">\n",
              "    <path d=\"M0 0h24v24H0V0z\" fill=\"none\"/>\n",
              "    <path d=\"M18.56 5.44l.94 2.06.94-2.06 2.06-.94-2.06-.94-.94-2.06-.94 2.06-2.06.94zm-11 1L8.5 8.5l.94-2.06 2.06-.94-2.06-.94L8.5 2.5l-.94 2.06-2.06.94zm10 10l.94 2.06.94-2.06 2.06-.94-2.06-.94-.94-2.06-.94 2.06-2.06.94z\"/><path d=\"M17.41 7.96l-1.37-1.37c-.4-.4-.92-.59-1.43-.59-.52 0-1.04.2-1.43.59L10.3 9.45l-7.72 7.72c-.78.78-.78 2.05 0 2.83L4 21.41c.39.39.9.59 1.41.59.51 0 1.02-.2 1.41-.59l7.78-7.78 2.81-2.81c.8-.78.8-2.07 0-2.86zM5.41 20L4 18.59l7.72-7.72 1.47 1.35L5.41 20z\"/>\n",
              "  </svg>\n",
              "      </button>\n",
              "      \n",
              "  <style>\n",
              "    .colab-df-container {\n",
              "      display:flex;\n",
              "      flex-wrap:wrap;\n",
              "      gap: 12px;\n",
              "    }\n",
              "\n",
              "    .colab-df-convert {\n",
              "      background-color: #E8F0FE;\n",
              "      border: none;\n",
              "      border-radius: 50%;\n",
              "      cursor: pointer;\n",
              "      display: none;\n",
              "      fill: #1967D2;\n",
              "      height: 32px;\n",
              "      padding: 0 0 0 0;\n",
              "      width: 32px;\n",
              "    }\n",
              "\n",
              "    .colab-df-convert:hover {\n",
              "      background-color: #E2EBFA;\n",
              "      box-shadow: 0px 1px 2px rgba(60, 64, 67, 0.3), 0px 1px 3px 1px rgba(60, 64, 67, 0.15);\n",
              "      fill: #174EA6;\n",
              "    }\n",
              "\n",
              "    [theme=dark] .colab-df-convert {\n",
              "      background-color: #3B4455;\n",
              "      fill: #D2E3FC;\n",
              "    }\n",
              "\n",
              "    [theme=dark] .colab-df-convert:hover {\n",
              "      background-color: #434B5C;\n",
              "      box-shadow: 0px 1px 3px 1px rgba(0, 0, 0, 0.15);\n",
              "      filter: drop-shadow(0px 1px 2px rgba(0, 0, 0, 0.3));\n",
              "      fill: #FFFFFF;\n",
              "    }\n",
              "  </style>\n",
              "\n",
              "      <script>\n",
              "        const buttonEl =\n",
              "          document.querySelector('#df-e1ebaf90-559b-4f2c-aa02-d7474555caa6 button.colab-df-convert');\n",
              "        buttonEl.style.display =\n",
              "          google.colab.kernel.accessAllowed ? 'block' : 'none';\n",
              "\n",
              "        async function convertToInteractive(key) {\n",
              "          const element = document.querySelector('#df-e1ebaf90-559b-4f2c-aa02-d7474555caa6');\n",
              "          const dataTable =\n",
              "            await google.colab.kernel.invokeFunction('convertToInteractive',\n",
              "                                                     [key], {});\n",
              "          if (!dataTable) return;\n",
              "\n",
              "          const docLinkHtml = 'Like what you see? Visit the ' +\n",
              "            '<a target=\"_blank\" href=https://colab.research.google.com/notebooks/data_table.ipynb>data table notebook</a>'\n",
              "            + ' to learn more about interactive tables.';\n",
              "          element.innerHTML = '';\n",
              "          dataTable['output_type'] = 'display_data';\n",
              "          await google.colab.output.renderOutput(dataTable, element);\n",
              "          const docLink = document.createElement('div');\n",
              "          docLink.innerHTML = docLinkHtml;\n",
              "          element.appendChild(docLink);\n",
              "        }\n",
              "      </script>\n",
              "    </div>\n",
              "  </div>\n",
              "  "
            ]
          },
          "metadata": {},
          "execution_count": 76
        }
      ]
    },
    {
      "cell_type": "markdown",
      "source": [
        "**Osservazioni**\n",
        "\n",
        "Da questo dataset risulta evidente che il libro che ha ricevuto più votazioni (2502 per l'esattezza) ha realtà ricevuto un punteggio totale troppo basso (1.019584)."
      ],
      "metadata": {
        "id": "M9Hyxrwy-Ly0"
      }
    },
    {
      "cell_type": "markdown",
      "source": [
        "Escludiamo gli utenti che hanno dato meno di 200 voti e i libri che hanno ricevuto meno di 100 voti."
      ],
      "metadata": {
        "id": "JjOHWPHXoSUs"
      }
    },
    {
      "cell_type": "code",
      "source": [
        "counts1 = ratings['userId'].value_counts()\n",
        "ratings = ratings[ratings['userId'].isin(counts1[counts1 >= 200].index)]\n",
        "counts = ratings['bookRating'].value_counts()\n",
        "ratings = ratings[ratings['bookRating'].isin(counts[counts >= 100].index)]"
      ],
      "metadata": {
        "id": "MIHcxZLHoLp0"
      },
      "execution_count": null,
      "outputs": []
    },
    {
      "cell_type": "markdown",
      "source": [
        "Convertiamo la tabella ratings in una matrice 2D. QUesta matrice sarà sparsa perché non tutti gli utenti hanno valutato tutti i libri."
      ],
      "metadata": {
        "id": "cCk8YdBYCQgw"
      }
    },
    {
      "cell_type": "code",
      "source": [
        "ratings_matrix = ratings.pivot(index='userId', columns='ISBN').bookRating\n",
        "userId = ratings_matrix.index\n",
        "ISBN = ratings_matrix.columns\n",
        "\n",
        "print(ratings_matrix.shape)\n",
        "ratings_matrix.head()"
      ],
      "metadata": {
        "colab": {
          "base_uri": "https://localhost:8080/",
          "height": 349
        },
        "id": "Hw9PHB90oAfm",
        "outputId": "bc132570-b45b-4e2a-d791-d2b025a693e5"
      },
      "execution_count": null,
      "outputs": [
        {
          "output_type": "stream",
          "name": "stdout",
          "text": [
            "(905, 207699)\n"
          ]
        },
        {
          "output_type": "execute_result",
          "data": {
            "text/plain": [
              "ISBN     0330299891   0375404120   0586045007   9022906116   9032803328  \\\n",
              "userId                                                                    \n",
              "254             NaN          NaN          NaN          NaN          NaN   \n",
              "2276            NaN          NaN          NaN          NaN          NaN   \n",
              "2766            NaN          NaN          NaN          NaN          NaN   \n",
              "2977            NaN          NaN          NaN          NaN          NaN   \n",
              "3363            NaN          NaN          NaN          NaN          NaN   \n",
              "\n",
              "ISBN     9044922564   9044922572   9044922718   9044923161   904492401X  ...  \\\n",
              "userId                                                                   ...   \n",
              "254             NaN          NaN          NaN          NaN          NaN  ...   \n",
              "2276            NaN          NaN          NaN          NaN          NaN  ...   \n",
              "2766            NaN          NaN          NaN          NaN          NaN  ...   \n",
              "2977            NaN          NaN          NaN          NaN          NaN  ...   \n",
              "3363            NaN          NaN          NaN          NaN          NaN  ...   \n",
              "\n",
              "ISBN    UNGRANDHOMMED  X000000000  YOUTELLEM,AND  ZR903CX0003  \\0432534220\\\"\"  \\\n",
              "userId                                                                          \n",
              "254               NaN         NaN            NaN          NaN             NaN   \n",
              "2276              NaN         NaN            NaN          NaN             NaN   \n",
              "2766              NaN         NaN            NaN          NaN             NaN   \n",
              "2977              NaN         NaN            NaN          NaN             NaN   \n",
              "3363              NaN         NaN            NaN          NaN             NaN   \n",
              "\n",
              "ISBN    \\2842053052\\\"\"  b00005wz75  cn108465  cn113107  Ô½crosoft  \n",
              "userId                                                             \n",
              "254                NaN         NaN       NaN       NaN        NaN  \n",
              "2276               NaN         NaN       NaN       NaN        NaN  \n",
              "2766               NaN         NaN       NaN       NaN        NaN  \n",
              "2977               NaN         NaN       NaN       NaN        NaN  \n",
              "3363               NaN         NaN       NaN       NaN        NaN  \n",
              "\n",
              "[5 rows x 207699 columns]"
            ],
            "text/html": [
              "\n",
              "  <div id=\"df-8b2b8cb9-ec88-4755-b0d1-3eebc42e3cac\">\n",
              "    <div class=\"colab-df-container\">\n",
              "      <div>\n",
              "<style scoped>\n",
              "    .dataframe tbody tr th:only-of-type {\n",
              "        vertical-align: middle;\n",
              "    }\n",
              "\n",
              "    .dataframe tbody tr th {\n",
              "        vertical-align: top;\n",
              "    }\n",
              "\n",
              "    .dataframe thead th {\n",
              "        text-align: right;\n",
              "    }\n",
              "</style>\n",
              "<table border=\"1\" class=\"dataframe\">\n",
              "  <thead>\n",
              "    <tr style=\"text-align: right;\">\n",
              "      <th>ISBN</th>\n",
              "      <th>0330299891</th>\n",
              "      <th>0375404120</th>\n",
              "      <th>0586045007</th>\n",
              "      <th>9022906116</th>\n",
              "      <th>9032803328</th>\n",
              "      <th>9044922564</th>\n",
              "      <th>9044922572</th>\n",
              "      <th>9044922718</th>\n",
              "      <th>9044923161</th>\n",
              "      <th>904492401X</th>\n",
              "      <th>...</th>\n",
              "      <th>UNGRANDHOMMED</th>\n",
              "      <th>X000000000</th>\n",
              "      <th>YOUTELLEM,AND</th>\n",
              "      <th>ZR903CX0003</th>\n",
              "      <th>\\0432534220\\\"\"</th>\n",
              "      <th>\\2842053052\\\"\"</th>\n",
              "      <th>b00005wz75</th>\n",
              "      <th>cn108465</th>\n",
              "      <th>cn113107</th>\n",
              "      <th>Ô½crosoft</th>\n",
              "    </tr>\n",
              "    <tr>\n",
              "      <th>userId</th>\n",
              "      <th></th>\n",
              "      <th></th>\n",
              "      <th></th>\n",
              "      <th></th>\n",
              "      <th></th>\n",
              "      <th></th>\n",
              "      <th></th>\n",
              "      <th></th>\n",
              "      <th></th>\n",
              "      <th></th>\n",
              "      <th></th>\n",
              "      <th></th>\n",
              "      <th></th>\n",
              "      <th></th>\n",
              "      <th></th>\n",
              "      <th></th>\n",
              "      <th></th>\n",
              "      <th></th>\n",
              "      <th></th>\n",
              "      <th></th>\n",
              "      <th></th>\n",
              "    </tr>\n",
              "  </thead>\n",
              "  <tbody>\n",
              "    <tr>\n",
              "      <th>254</th>\n",
              "      <td>NaN</td>\n",
              "      <td>NaN</td>\n",
              "      <td>NaN</td>\n",
              "      <td>NaN</td>\n",
              "      <td>NaN</td>\n",
              "      <td>NaN</td>\n",
              "      <td>NaN</td>\n",
              "      <td>NaN</td>\n",
              "      <td>NaN</td>\n",
              "      <td>NaN</td>\n",
              "      <td>...</td>\n",
              "      <td>NaN</td>\n",
              "      <td>NaN</td>\n",
              "      <td>NaN</td>\n",
              "      <td>NaN</td>\n",
              "      <td>NaN</td>\n",
              "      <td>NaN</td>\n",
              "      <td>NaN</td>\n",
              "      <td>NaN</td>\n",
              "      <td>NaN</td>\n",
              "      <td>NaN</td>\n",
              "    </tr>\n",
              "    <tr>\n",
              "      <th>2276</th>\n",
              "      <td>NaN</td>\n",
              "      <td>NaN</td>\n",
              "      <td>NaN</td>\n",
              "      <td>NaN</td>\n",
              "      <td>NaN</td>\n",
              "      <td>NaN</td>\n",
              "      <td>NaN</td>\n",
              "      <td>NaN</td>\n",
              "      <td>NaN</td>\n",
              "      <td>NaN</td>\n",
              "      <td>...</td>\n",
              "      <td>NaN</td>\n",
              "      <td>NaN</td>\n",
              "      <td>NaN</td>\n",
              "      <td>NaN</td>\n",
              "      <td>NaN</td>\n",
              "      <td>NaN</td>\n",
              "      <td>NaN</td>\n",
              "      <td>NaN</td>\n",
              "      <td>NaN</td>\n",
              "      <td>NaN</td>\n",
              "    </tr>\n",
              "    <tr>\n",
              "      <th>2766</th>\n",
              "      <td>NaN</td>\n",
              "      <td>NaN</td>\n",
              "      <td>NaN</td>\n",
              "      <td>NaN</td>\n",
              "      <td>NaN</td>\n",
              "      <td>NaN</td>\n",
              "      <td>NaN</td>\n",
              "      <td>NaN</td>\n",
              "      <td>NaN</td>\n",
              "      <td>NaN</td>\n",
              "      <td>...</td>\n",
              "      <td>NaN</td>\n",
              "      <td>NaN</td>\n",
              "      <td>NaN</td>\n",
              "      <td>NaN</td>\n",
              "      <td>NaN</td>\n",
              "      <td>NaN</td>\n",
              "      <td>NaN</td>\n",
              "      <td>NaN</td>\n",
              "      <td>NaN</td>\n",
              "      <td>NaN</td>\n",
              "    </tr>\n",
              "    <tr>\n",
              "      <th>2977</th>\n",
              "      <td>NaN</td>\n",
              "      <td>NaN</td>\n",
              "      <td>NaN</td>\n",
              "      <td>NaN</td>\n",
              "      <td>NaN</td>\n",
              "      <td>NaN</td>\n",
              "      <td>NaN</td>\n",
              "      <td>NaN</td>\n",
              "      <td>NaN</td>\n",
              "      <td>NaN</td>\n",
              "      <td>...</td>\n",
              "      <td>NaN</td>\n",
              "      <td>NaN</td>\n",
              "      <td>NaN</td>\n",
              "      <td>NaN</td>\n",
              "      <td>NaN</td>\n",
              "      <td>NaN</td>\n",
              "      <td>NaN</td>\n",
              "      <td>NaN</td>\n",
              "      <td>NaN</td>\n",
              "      <td>NaN</td>\n",
              "    </tr>\n",
              "    <tr>\n",
              "      <th>3363</th>\n",
              "      <td>NaN</td>\n",
              "      <td>NaN</td>\n",
              "      <td>NaN</td>\n",
              "      <td>NaN</td>\n",
              "      <td>NaN</td>\n",
              "      <td>NaN</td>\n",
              "      <td>NaN</td>\n",
              "      <td>NaN</td>\n",
              "      <td>NaN</td>\n",
              "      <td>NaN</td>\n",
              "      <td>...</td>\n",
              "      <td>NaN</td>\n",
              "      <td>NaN</td>\n",
              "      <td>NaN</td>\n",
              "      <td>NaN</td>\n",
              "      <td>NaN</td>\n",
              "      <td>NaN</td>\n",
              "      <td>NaN</td>\n",
              "      <td>NaN</td>\n",
              "      <td>NaN</td>\n",
              "      <td>NaN</td>\n",
              "    </tr>\n",
              "  </tbody>\n",
              "</table>\n",
              "<p>5 rows × 207699 columns</p>\n",
              "</div>\n",
              "      <button class=\"colab-df-convert\" onclick=\"convertToInteractive('df-8b2b8cb9-ec88-4755-b0d1-3eebc42e3cac')\"\n",
              "              title=\"Convert this dataframe to an interactive table.\"\n",
              "              style=\"display:none;\">\n",
              "        \n",
              "  <svg xmlns=\"http://www.w3.org/2000/svg\" height=\"24px\"viewBox=\"0 0 24 24\"\n",
              "       width=\"24px\">\n",
              "    <path d=\"M0 0h24v24H0V0z\" fill=\"none\"/>\n",
              "    <path d=\"M18.56 5.44l.94 2.06.94-2.06 2.06-.94-2.06-.94-.94-2.06-.94 2.06-2.06.94zm-11 1L8.5 8.5l.94-2.06 2.06-.94-2.06-.94L8.5 2.5l-.94 2.06-2.06.94zm10 10l.94 2.06.94-2.06 2.06-.94-2.06-.94-.94-2.06-.94 2.06-2.06.94z\"/><path d=\"M17.41 7.96l-1.37-1.37c-.4-.4-.92-.59-1.43-.59-.52 0-1.04.2-1.43.59L10.3 9.45l-7.72 7.72c-.78.78-.78 2.05 0 2.83L4 21.41c.39.39.9.59 1.41.59.51 0 1.02-.2 1.41-.59l7.78-7.78 2.81-2.81c.8-.78.8-2.07 0-2.86zM5.41 20L4 18.59l7.72-7.72 1.47 1.35L5.41 20z\"/>\n",
              "  </svg>\n",
              "      </button>\n",
              "      \n",
              "  <style>\n",
              "    .colab-df-container {\n",
              "      display:flex;\n",
              "      flex-wrap:wrap;\n",
              "      gap: 12px;\n",
              "    }\n",
              "\n",
              "    .colab-df-convert {\n",
              "      background-color: #E8F0FE;\n",
              "      border: none;\n",
              "      border-radius: 50%;\n",
              "      cursor: pointer;\n",
              "      display: none;\n",
              "      fill: #1967D2;\n",
              "      height: 32px;\n",
              "      padding: 0 0 0 0;\n",
              "      width: 32px;\n",
              "    }\n",
              "\n",
              "    .colab-df-convert:hover {\n",
              "      background-color: #E2EBFA;\n",
              "      box-shadow: 0px 1px 2px rgba(60, 64, 67, 0.3), 0px 1px 3px 1px rgba(60, 64, 67, 0.15);\n",
              "      fill: #174EA6;\n",
              "    }\n",
              "\n",
              "    [theme=dark] .colab-df-convert {\n",
              "      background-color: #3B4455;\n",
              "      fill: #D2E3FC;\n",
              "    }\n",
              "\n",
              "    [theme=dark] .colab-df-convert:hover {\n",
              "      background-color: #434B5C;\n",
              "      box-shadow: 0px 1px 3px 1px rgba(0, 0, 0, 0.15);\n",
              "      filter: drop-shadow(0px 1px 2px rgba(0, 0, 0, 0.3));\n",
              "      fill: #FFFFFF;\n",
              "    }\n",
              "  </style>\n",
              "\n",
              "      <script>\n",
              "        const buttonEl =\n",
              "          document.querySelector('#df-8b2b8cb9-ec88-4755-b0d1-3eebc42e3cac button.colab-df-convert');\n",
              "        buttonEl.style.display =\n",
              "          google.colab.kernel.accessAllowed ? 'block' : 'none';\n",
              "\n",
              "        async function convertToInteractive(key) {\n",
              "          const element = document.querySelector('#df-8b2b8cb9-ec88-4755-b0d1-3eebc42e3cac');\n",
              "          const dataTable =\n",
              "            await google.colab.kernel.invokeFunction('convertToInteractive',\n",
              "                                                     [key], {});\n",
              "          if (!dataTable) return;\n",
              "\n",
              "          const docLinkHtml = 'Like what you see? Visit the ' +\n",
              "            '<a target=\"_blank\" href=https://colab.research.google.com/notebooks/data_table.ipynb>data table notebook</a>'\n",
              "            + ' to learn more about interactive tables.';\n",
              "          element.innerHTML = '';\n",
              "          dataTable['output_type'] = 'display_data';\n",
              "          await google.colab.output.renderOutput(dataTable, element);\n",
              "          const docLink = document.createElement('div');\n",
              "          docLink.innerHTML = docLinkHtml;\n",
              "          element.appendChild(docLink);\n",
              "        }\n",
              "      </script>\n",
              "    </div>\n",
              "  </div>\n",
              "  "
            ]
          },
          "metadata": {},
          "execution_count": 78
        }
      ]
    },
    {
      "cell_type": "markdown",
      "source": [
        "Scopriamo quali libri sono correlati al secondo più votato \"The lovely bones: a novel\"."
      ],
      "metadata": {
        "id": "ka-j5rN0ks4J"
      }
    },
    {
      "cell_type": "code",
      "source": [
        "wild_ratings = ratings_matrix['0316666343']\n",
        "similar_to_wild = ratings_matrix.corrwith(wild_ratings)\n",
        "corr_wild = pd.DataFrame(similar_to_wild, columns=['pearsonR'])\n",
        "corr_wild.dropna(inplace=True)\n",
        "corr_summary = corr_wild.join(average_rating['ratingCount'])\n",
        "corr_summary[corr_summary['ratingCount']>= 300].sort_values('pearsonR', ascending=False).head(10)"
      ],
      "metadata": {
        "id": "OOH8FN3yid5Y",
        "colab": {
          "base_uri": "https://localhost:8080/",
          "height": 467
        },
        "outputId": "e89df004-6bff-4577-84f3-cd5ca6609345"
      },
      "execution_count": null,
      "outputs": [
        {
          "output_type": "stream",
          "name": "stderr",
          "text": [
            "/usr/local/lib/python3.8/dist-packages/numpy/lib/function_base.py:2683: RuntimeWarning: Degrees of freedom <= 0 for slice\n",
            "  c = cov(x, y, rowvar, dtype=dtype)\n",
            "/usr/local/lib/python3.8/dist-packages/numpy/lib/function_base.py:2542: RuntimeWarning: divide by zero encountered in true_divide\n",
            "  c *= np.true_divide(1, fact)\n"
          ]
        },
        {
          "output_type": "execute_result",
          "data": {
            "text/plain": [
              "            pearsonR  ratingCount\n",
              "ISBN                             \n",
              "0316666343  1.000000         1295\n",
              "0312291639  0.471872          354\n",
              "0316601950  0.434248          568\n",
              "0446610038  0.429712          391\n",
              "0446672211  0.421478          585\n",
              "0385265700  0.351635          319\n",
              "0345342968  0.316922          321\n",
              "0060930535  0.309860          494\n",
              "0375707972  0.308145          354\n",
              "0684872153  0.272480          326"
            ],
            "text/html": [
              "\n",
              "  <div id=\"df-e3fd1dfa-6968-4286-9c71-00f158b85828\">\n",
              "    <div class=\"colab-df-container\">\n",
              "      <div>\n",
              "<style scoped>\n",
              "    .dataframe tbody tr th:only-of-type {\n",
              "        vertical-align: middle;\n",
              "    }\n",
              "\n",
              "    .dataframe tbody tr th {\n",
              "        vertical-align: top;\n",
              "    }\n",
              "\n",
              "    .dataframe thead th {\n",
              "        text-align: right;\n",
              "    }\n",
              "</style>\n",
              "<table border=\"1\" class=\"dataframe\">\n",
              "  <thead>\n",
              "    <tr style=\"text-align: right;\">\n",
              "      <th></th>\n",
              "      <th>pearsonR</th>\n",
              "      <th>ratingCount</th>\n",
              "    </tr>\n",
              "    <tr>\n",
              "      <th>ISBN</th>\n",
              "      <th></th>\n",
              "      <th></th>\n",
              "    </tr>\n",
              "  </thead>\n",
              "  <tbody>\n",
              "    <tr>\n",
              "      <th>0316666343</th>\n",
              "      <td>1.000000</td>\n",
              "      <td>1295</td>\n",
              "    </tr>\n",
              "    <tr>\n",
              "      <th>0312291639</th>\n",
              "      <td>0.471872</td>\n",
              "      <td>354</td>\n",
              "    </tr>\n",
              "    <tr>\n",
              "      <th>0316601950</th>\n",
              "      <td>0.434248</td>\n",
              "      <td>568</td>\n",
              "    </tr>\n",
              "    <tr>\n",
              "      <th>0446610038</th>\n",
              "      <td>0.429712</td>\n",
              "      <td>391</td>\n",
              "    </tr>\n",
              "    <tr>\n",
              "      <th>0446672211</th>\n",
              "      <td>0.421478</td>\n",
              "      <td>585</td>\n",
              "    </tr>\n",
              "    <tr>\n",
              "      <th>0385265700</th>\n",
              "      <td>0.351635</td>\n",
              "      <td>319</td>\n",
              "    </tr>\n",
              "    <tr>\n",
              "      <th>0345342968</th>\n",
              "      <td>0.316922</td>\n",
              "      <td>321</td>\n",
              "    </tr>\n",
              "    <tr>\n",
              "      <th>0060930535</th>\n",
              "      <td>0.309860</td>\n",
              "      <td>494</td>\n",
              "    </tr>\n",
              "    <tr>\n",
              "      <th>0375707972</th>\n",
              "      <td>0.308145</td>\n",
              "      <td>354</td>\n",
              "    </tr>\n",
              "    <tr>\n",
              "      <th>0684872153</th>\n",
              "      <td>0.272480</td>\n",
              "      <td>326</td>\n",
              "    </tr>\n",
              "  </tbody>\n",
              "</table>\n",
              "</div>\n",
              "      <button class=\"colab-df-convert\" onclick=\"convertToInteractive('df-e3fd1dfa-6968-4286-9c71-00f158b85828')\"\n",
              "              title=\"Convert this dataframe to an interactive table.\"\n",
              "              style=\"display:none;\">\n",
              "        \n",
              "  <svg xmlns=\"http://www.w3.org/2000/svg\" height=\"24px\"viewBox=\"0 0 24 24\"\n",
              "       width=\"24px\">\n",
              "    <path d=\"M0 0h24v24H0V0z\" fill=\"none\"/>\n",
              "    <path d=\"M18.56 5.44l.94 2.06.94-2.06 2.06-.94-2.06-.94-.94-2.06-.94 2.06-2.06.94zm-11 1L8.5 8.5l.94-2.06 2.06-.94-2.06-.94L8.5 2.5l-.94 2.06-2.06.94zm10 10l.94 2.06.94-2.06 2.06-.94-2.06-.94-.94-2.06-.94 2.06-2.06.94z\"/><path d=\"M17.41 7.96l-1.37-1.37c-.4-.4-.92-.59-1.43-.59-.52 0-1.04.2-1.43.59L10.3 9.45l-7.72 7.72c-.78.78-.78 2.05 0 2.83L4 21.41c.39.39.9.59 1.41.59.51 0 1.02-.2 1.41-.59l7.78-7.78 2.81-2.81c.8-.78.8-2.07 0-2.86zM5.41 20L4 18.59l7.72-7.72 1.47 1.35L5.41 20z\"/>\n",
              "  </svg>\n",
              "      </button>\n",
              "      \n",
              "  <style>\n",
              "    .colab-df-container {\n",
              "      display:flex;\n",
              "      flex-wrap:wrap;\n",
              "      gap: 12px;\n",
              "    }\n",
              "\n",
              "    .colab-df-convert {\n",
              "      background-color: #E8F0FE;\n",
              "      border: none;\n",
              "      border-radius: 50%;\n",
              "      cursor: pointer;\n",
              "      display: none;\n",
              "      fill: #1967D2;\n",
              "      height: 32px;\n",
              "      padding: 0 0 0 0;\n",
              "      width: 32px;\n",
              "    }\n",
              "\n",
              "    .colab-df-convert:hover {\n",
              "      background-color: #E2EBFA;\n",
              "      box-shadow: 0px 1px 2px rgba(60, 64, 67, 0.3), 0px 1px 3px 1px rgba(60, 64, 67, 0.15);\n",
              "      fill: #174EA6;\n",
              "    }\n",
              "\n",
              "    [theme=dark] .colab-df-convert {\n",
              "      background-color: #3B4455;\n",
              "      fill: #D2E3FC;\n",
              "    }\n",
              "\n",
              "    [theme=dark] .colab-df-convert:hover {\n",
              "      background-color: #434B5C;\n",
              "      box-shadow: 0px 1px 3px 1px rgba(0, 0, 0, 0.15);\n",
              "      filter: drop-shadow(0px 1px 2px rgba(0, 0, 0, 0.3));\n",
              "      fill: #FFFFFF;\n",
              "    }\n",
              "  </style>\n",
              "\n",
              "      <script>\n",
              "        const buttonEl =\n",
              "          document.querySelector('#df-e3fd1dfa-6968-4286-9c71-00f158b85828 button.colab-df-convert');\n",
              "        buttonEl.style.display =\n",
              "          google.colab.kernel.accessAllowed ? 'block' : 'none';\n",
              "\n",
              "        async function convertToInteractive(key) {\n",
              "          const element = document.querySelector('#df-e3fd1dfa-6968-4286-9c71-00f158b85828');\n",
              "          const dataTable =\n",
              "            await google.colab.kernel.invokeFunction('convertToInteractive',\n",
              "                                                     [key], {});\n",
              "          if (!dataTable) return;\n",
              "\n",
              "          const docLinkHtml = 'Like what you see? Visit the ' +\n",
              "            '<a target=\"_blank\" href=https://colab.research.google.com/notebooks/data_table.ipynb>data table notebook</a>'\n",
              "            + ' to learn more about interactive tables.';\n",
              "          element.innerHTML = '';\n",
              "          dataTable['output_type'] = 'display_data';\n",
              "          await google.colab.output.renderOutput(dataTable, element);\n",
              "          const docLink = document.createElement('div');\n",
              "          docLink.innerHTML = docLinkHtml;\n",
              "          element.appendChild(docLink);\n",
              "        }\n",
              "      </script>\n",
              "    </div>\n",
              "  </div>\n",
              "  "
            ]
          },
          "metadata": {},
          "execution_count": 79
        }
      ]
    },
    {
      "cell_type": "markdown",
      "source": [
        "Otteniamo i titoli dei libri a partire dagli ISBN del precedente risultato, in modo da avere una tabella leggibile."
      ],
      "metadata": {
        "id": "NEYIY7oRmMSt"
      }
    },
    {
      "cell_type": "code",
      "source": [
        "books_corr_to_bones = pd.DataFrame(['0312291639', '0316601950', '0446610038', '0446672211', '0385265700', '0345342968', '0060930535', '0375707972', '0671021001'], \n",
        "                                  index=np.arange(9), columns=['ISBN'])\n",
        "corr_books = pd.merge(books_corr_to_bones, books, on='ISBN')\n",
        "corr_books"
      ],
      "metadata": {
        "id": "3ja1LzipmLzn",
        "colab": {
          "base_uri": "https://localhost:8080/",
          "height": 331
        },
        "outputId": "6c6170fb-e9b4-426a-9aac-7d07434d4e59"
      },
      "execution_count": null,
      "outputs": [
        {
          "output_type": "execute_result",
          "data": {
            "text/plain": [
              "         ISBN                                           bookTitle  \\\n",
              "0  0312291639                          The Nanny Diaries: A Novel   \n",
              "1  0316601950                          The Pilot's Wife : A Novel   \n",
              "2  0446610038                                 1st to Die: A Novel   \n",
              "3  0446672211  Where the Heart Is (Oprah's Book Club (Paperback))   \n",
              "4  0385265700    The Book of Ruth (Oprah's Book Club (Paperback))   \n",
              "5  0345342968                                      Fahrenheit 451   \n",
              "6  0060930535                       The Poisonwood Bible: A Novel   \n",
              "7  0375707972                                          The Reader   \n",
              "8  0671021001               She's Come Undone (Oprah's Book Club)   \n",
              "\n",
              "           bookAuthor  yearOfPubblication             publisher  \n",
              "0     Emma McLaughlin                2003  St. Martin's Griffin  \n",
              "1        Anita Shreve                1999        Back Bay Books  \n",
              "2     James Patterson                2002         Warner Vision  \n",
              "3        Billie Letts                1998          Warner Books  \n",
              "4       Jane Hamilton                1990                Anchor  \n",
              "5        RAY BRADBURY                1987               Del Rey  \n",
              "6  Barbara Kingsolver                1999             Perennial  \n",
              "7    Bernhard Schlink                1999     Vintage Books USA  \n",
              "8          Wally Lamb                1998                Pocket  "
            ],
            "text/html": [
              "\n",
              "  <div id=\"df-bab7b728-3c4e-4124-a97e-af839f518c2c\">\n",
              "    <div class=\"colab-df-container\">\n",
              "      <div>\n",
              "<style scoped>\n",
              "    .dataframe tbody tr th:only-of-type {\n",
              "        vertical-align: middle;\n",
              "    }\n",
              "\n",
              "    .dataframe tbody tr th {\n",
              "        vertical-align: top;\n",
              "    }\n",
              "\n",
              "    .dataframe thead th {\n",
              "        text-align: right;\n",
              "    }\n",
              "</style>\n",
              "<table border=\"1\" class=\"dataframe\">\n",
              "  <thead>\n",
              "    <tr style=\"text-align: right;\">\n",
              "      <th></th>\n",
              "      <th>ISBN</th>\n",
              "      <th>bookTitle</th>\n",
              "      <th>bookAuthor</th>\n",
              "      <th>yearOfPubblication</th>\n",
              "      <th>publisher</th>\n",
              "    </tr>\n",
              "  </thead>\n",
              "  <tbody>\n",
              "    <tr>\n",
              "      <th>0</th>\n",
              "      <td>0312291639</td>\n",
              "      <td>The Nanny Diaries: A Novel</td>\n",
              "      <td>Emma McLaughlin</td>\n",
              "      <td>2003</td>\n",
              "      <td>St. Martin's Griffin</td>\n",
              "    </tr>\n",
              "    <tr>\n",
              "      <th>1</th>\n",
              "      <td>0316601950</td>\n",
              "      <td>The Pilot's Wife : A Novel</td>\n",
              "      <td>Anita Shreve</td>\n",
              "      <td>1999</td>\n",
              "      <td>Back Bay Books</td>\n",
              "    </tr>\n",
              "    <tr>\n",
              "      <th>2</th>\n",
              "      <td>0446610038</td>\n",
              "      <td>1st to Die: A Novel</td>\n",
              "      <td>James Patterson</td>\n",
              "      <td>2002</td>\n",
              "      <td>Warner Vision</td>\n",
              "    </tr>\n",
              "    <tr>\n",
              "      <th>3</th>\n",
              "      <td>0446672211</td>\n",
              "      <td>Where the Heart Is (Oprah's Book Club (Paperback))</td>\n",
              "      <td>Billie Letts</td>\n",
              "      <td>1998</td>\n",
              "      <td>Warner Books</td>\n",
              "    </tr>\n",
              "    <tr>\n",
              "      <th>4</th>\n",
              "      <td>0385265700</td>\n",
              "      <td>The Book of Ruth (Oprah's Book Club (Paperback))</td>\n",
              "      <td>Jane Hamilton</td>\n",
              "      <td>1990</td>\n",
              "      <td>Anchor</td>\n",
              "    </tr>\n",
              "    <tr>\n",
              "      <th>5</th>\n",
              "      <td>0345342968</td>\n",
              "      <td>Fahrenheit 451</td>\n",
              "      <td>RAY BRADBURY</td>\n",
              "      <td>1987</td>\n",
              "      <td>Del Rey</td>\n",
              "    </tr>\n",
              "    <tr>\n",
              "      <th>6</th>\n",
              "      <td>0060930535</td>\n",
              "      <td>The Poisonwood Bible: A Novel</td>\n",
              "      <td>Barbara Kingsolver</td>\n",
              "      <td>1999</td>\n",
              "      <td>Perennial</td>\n",
              "    </tr>\n",
              "    <tr>\n",
              "      <th>7</th>\n",
              "      <td>0375707972</td>\n",
              "      <td>The Reader</td>\n",
              "      <td>Bernhard Schlink</td>\n",
              "      <td>1999</td>\n",
              "      <td>Vintage Books USA</td>\n",
              "    </tr>\n",
              "    <tr>\n",
              "      <th>8</th>\n",
              "      <td>0671021001</td>\n",
              "      <td>She's Come Undone (Oprah's Book Club)</td>\n",
              "      <td>Wally Lamb</td>\n",
              "      <td>1998</td>\n",
              "      <td>Pocket</td>\n",
              "    </tr>\n",
              "  </tbody>\n",
              "</table>\n",
              "</div>\n",
              "      <button class=\"colab-df-convert\" onclick=\"convertToInteractive('df-bab7b728-3c4e-4124-a97e-af839f518c2c')\"\n",
              "              title=\"Convert this dataframe to an interactive table.\"\n",
              "              style=\"display:none;\">\n",
              "        \n",
              "  <svg xmlns=\"http://www.w3.org/2000/svg\" height=\"24px\"viewBox=\"0 0 24 24\"\n",
              "       width=\"24px\">\n",
              "    <path d=\"M0 0h24v24H0V0z\" fill=\"none\"/>\n",
              "    <path d=\"M18.56 5.44l.94 2.06.94-2.06 2.06-.94-2.06-.94-.94-2.06-.94 2.06-2.06.94zm-11 1L8.5 8.5l.94-2.06 2.06-.94-2.06-.94L8.5 2.5l-.94 2.06-2.06.94zm10 10l.94 2.06.94-2.06 2.06-.94-2.06-.94-.94-2.06-.94 2.06-2.06.94z\"/><path d=\"M17.41 7.96l-1.37-1.37c-.4-.4-.92-.59-1.43-.59-.52 0-1.04.2-1.43.59L10.3 9.45l-7.72 7.72c-.78.78-.78 2.05 0 2.83L4 21.41c.39.39.9.59 1.41.59.51 0 1.02-.2 1.41-.59l7.78-7.78 2.81-2.81c.8-.78.8-2.07 0-2.86zM5.41 20L4 18.59l7.72-7.72 1.47 1.35L5.41 20z\"/>\n",
              "  </svg>\n",
              "      </button>\n",
              "      \n",
              "  <style>\n",
              "    .colab-df-container {\n",
              "      display:flex;\n",
              "      flex-wrap:wrap;\n",
              "      gap: 12px;\n",
              "    }\n",
              "\n",
              "    .colab-df-convert {\n",
              "      background-color: #E8F0FE;\n",
              "      border: none;\n",
              "      border-radius: 50%;\n",
              "      cursor: pointer;\n",
              "      display: none;\n",
              "      fill: #1967D2;\n",
              "      height: 32px;\n",
              "      padding: 0 0 0 0;\n",
              "      width: 32px;\n",
              "    }\n",
              "\n",
              "    .colab-df-convert:hover {\n",
              "      background-color: #E2EBFA;\n",
              "      box-shadow: 0px 1px 2px rgba(60, 64, 67, 0.3), 0px 1px 3px 1px rgba(60, 64, 67, 0.15);\n",
              "      fill: #174EA6;\n",
              "    }\n",
              "\n",
              "    [theme=dark] .colab-df-convert {\n",
              "      background-color: #3B4455;\n",
              "      fill: #D2E3FC;\n",
              "    }\n",
              "\n",
              "    [theme=dark] .colab-df-convert:hover {\n",
              "      background-color: #434B5C;\n",
              "      box-shadow: 0px 1px 3px 1px rgba(0, 0, 0, 0.15);\n",
              "      filter: drop-shadow(0px 1px 2px rgba(0, 0, 0, 0.3));\n",
              "      fill: #FFFFFF;\n",
              "    }\n",
              "  </style>\n",
              "\n",
              "      <script>\n",
              "        const buttonEl =\n",
              "          document.querySelector('#df-bab7b728-3c4e-4124-a97e-af839f518c2c button.colab-df-convert');\n",
              "        buttonEl.style.display =\n",
              "          google.colab.kernel.accessAllowed ? 'block' : 'none';\n",
              "\n",
              "        async function convertToInteractive(key) {\n",
              "          const element = document.querySelector('#df-bab7b728-3c4e-4124-a97e-af839f518c2c');\n",
              "          const dataTable =\n",
              "            await google.colab.kernel.invokeFunction('convertToInteractive',\n",
              "                                                     [key], {});\n",
              "          if (!dataTable) return;\n",
              "\n",
              "          const docLinkHtml = 'Like what you see? Visit the ' +\n",
              "            '<a target=\"_blank\" href=https://colab.research.google.com/notebooks/data_table.ipynb>data table notebook</a>'\n",
              "            + ' to learn more about interactive tables.';\n",
              "          element.innerHTML = '';\n",
              "          dataTable['output_type'] = 'display_data';\n",
              "          await google.colab.output.renderOutput(dataTable, element);\n",
              "          const docLink = document.createElement('div');\n",
              "          docLink.innerHTML = docLinkHtml;\n",
              "          element.appendChild(docLink);\n",
              "        }\n",
              "      </script>\n",
              "    </div>\n",
              "  </div>\n",
              "  "
            ]
          },
          "metadata": {},
          "execution_count": 80
        }
      ]
    },
    {
      "cell_type": "markdown",
      "source": [
        "# Recommendation con Surprise\n",
        "\n",
        "- _Surprise_ è una libreria Python per la creazione e la validazione di modelli di recommendation\n",
        "  - definisce strutture per rappresentare i dati su cui addestrare i modelli\n",
        "  - permette di caricare dati da diverse fonti o di utilizzare dataset d'esempio\n",
        "  - implementa diverse tecniche basate su similarità, scomposizione di matrici, ecc...\n",
        "  - fornisce funzionalità per validare i modelli calcolando comuni metriche di accuratezza come il RMSE"
      ],
      "metadata": {
        "id": "4JDucGoodDNp"
      }
    },
    {
      "cell_type": "code",
      "source": [
        "pip install scikit-surprise"
      ],
      "metadata": {
        "colab": {
          "base_uri": "https://localhost:8080/"
        },
        "id": "f4-3SXGMj03z",
        "outputId": "c960f515-ece8-4276-e191-57a93aa2cf11"
      },
      "execution_count": null,
      "outputs": [
        {
          "output_type": "stream",
          "name": "stdout",
          "text": [
            "Looking in indexes: https://pypi.org/simple, https://us-python.pkg.dev/colab-wheels/public/simple/\n",
            "Collecting scikit-surprise\n",
            "  Downloading scikit-surprise-1.1.3.tar.gz (771 kB)\n",
            "\u001b[K     |████████████████████████████████| 771 kB 5.2 MB/s \n",
            "\u001b[?25hRequirement already satisfied: joblib>=1.0.0 in /usr/local/lib/python3.8/dist-packages (from scikit-surprise) (1.2.0)\n",
            "Requirement already satisfied: numpy>=1.17.3 in /usr/local/lib/python3.8/dist-packages (from scikit-surprise) (1.21.6)\n",
            "Requirement already satisfied: scipy>=1.3.2 in /usr/local/lib/python3.8/dist-packages (from scikit-surprise) (1.7.3)\n",
            "Building wheels for collected packages: scikit-surprise\n",
            "  Building wheel for scikit-surprise (setup.py) ... \u001b[?25l\u001b[?25hdone\n",
            "  Created wheel for scikit-surprise: filename=scikit_surprise-1.1.3-cp38-cp38-linux_x86_64.whl size=2626466 sha256=8fce886b65bad501c7ea0b327463c04eff5c8714c45d56ba5ddf9e739b9718a7\n",
            "  Stored in directory: /root/.cache/pip/wheels/af/db/86/2c18183a80ba05da35bf0fb7417aac5cddbd93bcb1b92fd3ea\n",
            "Successfully built scikit-surprise\n",
            "Installing collected packages: scikit-surprise\n",
            "Successfully installed scikit-surprise-1.1.3\n"
          ]
        }
      ]
    },
    {
      "cell_type": "code",
      "source": [
        "import surprise"
      ],
      "metadata": {
        "id": "F7U8pn4KPfpT"
      },
      "execution_count": null,
      "outputs": []
    },
    {
      "cell_type": "code",
      "source": [
        "from surprise import Reader\n",
        "from surprise import Dataset\n",
        "from surprise.model_selection import cross_validate\n",
        "from surprise import NormalPredictor\n",
        "from surprise import KNNBasic\n",
        "from surprise import KNNWithMeans\n",
        "from surprise import KNNWithZScore\n",
        "from surprise import KNNBaseline\n",
        "from surprise import SVD\n",
        "from surprise import BaselineOnly\n",
        "from surprise import SVDpp\n",
        "from surprise import NMF\n",
        "from surprise import SlopeOne\n",
        "from surprise import CoClustering\n",
        "from surprise.accuracy import rmse\n",
        "from surprise import accuracy\n",
        "from surprise.model_selection import train_test_split"
      ],
      "metadata": {
        "id": "0HSWXmAbjrtP"
      },
      "execution_count": null,
      "outputs": []
    },
    {
      "cell_type": "code",
      "source": [
        "user = pd.read_csv('sample_data/BX-Users.csv', sep=';', error_bad_lines=False, encoding=\"latin-1\")\n",
        "user.columns = ['userID', 'Location', 'Age']\n",
        "rating = pd.read_csv('sample_data/BX-Book-Ratings.csv', sep=';', error_bad_lines=False, encoding=\"latin-1\")\n",
        "rating.columns = ['userID', 'ISBN', 'bookRating']"
      ],
      "metadata": {
        "id": "PxZwNOamdx_T",
        "colab": {
          "base_uri": "https://localhost:8080/"
        },
        "outputId": "ecab7aca-c5e6-40a0-ec50-a9f39d017201"
      },
      "execution_count": null,
      "outputs": [
        {
          "output_type": "stream",
          "name": "stderr",
          "text": [
            "/usr/local/lib/python3.8/dist-packages/IPython/core/interactiveshell.py:3326: FutureWarning: The error_bad_lines argument has been deprecated and will be removed in a future version.\n",
            "\n",
            "\n",
            "  exec(code_obj, self.user_global_ns, self.user_ns)\n"
          ]
        }
      ]
    },
    {
      "cell_type": "markdown",
      "source": [
        "Uniamo i dataset user e ratings per affrontare questo tipo di analisi fatta con Surprise."
      ],
      "metadata": {
        "id": "pQdHSJK6o_MC"
      }
    },
    {
      "cell_type": "code",
      "source": [
        "df = pd.merge(user, rating, on='userID', how='inner')\n",
        "df.drop(['Location', 'Age'], axis=1, inplace=True)\n",
        "df.head()"
      ],
      "metadata": {
        "colab": {
          "base_uri": "https://localhost:8080/",
          "height": 206
        },
        "id": "HBHaIfSEo-4I",
        "outputId": "af20b05b-3d17-41bc-9d47-f4fbea848b51"
      },
      "execution_count": null,
      "outputs": [
        {
          "output_type": "execute_result",
          "data": {
            "text/plain": [
              "   userID        ISBN  bookRating\n",
              "0       2  0195153448           0\n",
              "1       7   034542252           0\n",
              "2       8  0002005018           5\n",
              "3       8  0060973129           0\n",
              "4       8  0374157065           0"
            ],
            "text/html": [
              "\n",
              "  <div id=\"df-e05a925f-46f5-4233-aa26-eb92ec134d9d\">\n",
              "    <div class=\"colab-df-container\">\n",
              "      <div>\n",
              "<style scoped>\n",
              "    .dataframe tbody tr th:only-of-type {\n",
              "        vertical-align: middle;\n",
              "    }\n",
              "\n",
              "    .dataframe tbody tr th {\n",
              "        vertical-align: top;\n",
              "    }\n",
              "\n",
              "    .dataframe thead th {\n",
              "        text-align: right;\n",
              "    }\n",
              "</style>\n",
              "<table border=\"1\" class=\"dataframe\">\n",
              "  <thead>\n",
              "    <tr style=\"text-align: right;\">\n",
              "      <th></th>\n",
              "      <th>userID</th>\n",
              "      <th>ISBN</th>\n",
              "      <th>bookRating</th>\n",
              "    </tr>\n",
              "  </thead>\n",
              "  <tbody>\n",
              "    <tr>\n",
              "      <th>0</th>\n",
              "      <td>2</td>\n",
              "      <td>0195153448</td>\n",
              "      <td>0</td>\n",
              "    </tr>\n",
              "    <tr>\n",
              "      <th>1</th>\n",
              "      <td>7</td>\n",
              "      <td>034542252</td>\n",
              "      <td>0</td>\n",
              "    </tr>\n",
              "    <tr>\n",
              "      <th>2</th>\n",
              "      <td>8</td>\n",
              "      <td>0002005018</td>\n",
              "      <td>5</td>\n",
              "    </tr>\n",
              "    <tr>\n",
              "      <th>3</th>\n",
              "      <td>8</td>\n",
              "      <td>0060973129</td>\n",
              "      <td>0</td>\n",
              "    </tr>\n",
              "    <tr>\n",
              "      <th>4</th>\n",
              "      <td>8</td>\n",
              "      <td>0374157065</td>\n",
              "      <td>0</td>\n",
              "    </tr>\n",
              "  </tbody>\n",
              "</table>\n",
              "</div>\n",
              "      <button class=\"colab-df-convert\" onclick=\"convertToInteractive('df-e05a925f-46f5-4233-aa26-eb92ec134d9d')\"\n",
              "              title=\"Convert this dataframe to an interactive table.\"\n",
              "              style=\"display:none;\">\n",
              "        \n",
              "  <svg xmlns=\"http://www.w3.org/2000/svg\" height=\"24px\"viewBox=\"0 0 24 24\"\n",
              "       width=\"24px\">\n",
              "    <path d=\"M0 0h24v24H0V0z\" fill=\"none\"/>\n",
              "    <path d=\"M18.56 5.44l.94 2.06.94-2.06 2.06-.94-2.06-.94-.94-2.06-.94 2.06-2.06.94zm-11 1L8.5 8.5l.94-2.06 2.06-.94-2.06-.94L8.5 2.5l-.94 2.06-2.06.94zm10 10l.94 2.06.94-2.06 2.06-.94-2.06-.94-.94-2.06-.94 2.06-2.06.94z\"/><path d=\"M17.41 7.96l-1.37-1.37c-.4-.4-.92-.59-1.43-.59-.52 0-1.04.2-1.43.59L10.3 9.45l-7.72 7.72c-.78.78-.78 2.05 0 2.83L4 21.41c.39.39.9.59 1.41.59.51 0 1.02-.2 1.41-.59l7.78-7.78 2.81-2.81c.8-.78.8-2.07 0-2.86zM5.41 20L4 18.59l7.72-7.72 1.47 1.35L5.41 20z\"/>\n",
              "  </svg>\n",
              "      </button>\n",
              "      \n",
              "  <style>\n",
              "    .colab-df-container {\n",
              "      display:flex;\n",
              "      flex-wrap:wrap;\n",
              "      gap: 12px;\n",
              "    }\n",
              "\n",
              "    .colab-df-convert {\n",
              "      background-color: #E8F0FE;\n",
              "      border: none;\n",
              "      border-radius: 50%;\n",
              "      cursor: pointer;\n",
              "      display: none;\n",
              "      fill: #1967D2;\n",
              "      height: 32px;\n",
              "      padding: 0 0 0 0;\n",
              "      width: 32px;\n",
              "    }\n",
              "\n",
              "    .colab-df-convert:hover {\n",
              "      background-color: #E2EBFA;\n",
              "      box-shadow: 0px 1px 2px rgba(60, 64, 67, 0.3), 0px 1px 3px 1px rgba(60, 64, 67, 0.15);\n",
              "      fill: #174EA6;\n",
              "    }\n",
              "\n",
              "    [theme=dark] .colab-df-convert {\n",
              "      background-color: #3B4455;\n",
              "      fill: #D2E3FC;\n",
              "    }\n",
              "\n",
              "    [theme=dark] .colab-df-convert:hover {\n",
              "      background-color: #434B5C;\n",
              "      box-shadow: 0px 1px 3px 1px rgba(0, 0, 0, 0.15);\n",
              "      filter: drop-shadow(0px 1px 2px rgba(0, 0, 0, 0.3));\n",
              "      fill: #FFFFFF;\n",
              "    }\n",
              "  </style>\n",
              "\n",
              "      <script>\n",
              "        const buttonEl =\n",
              "          document.querySelector('#df-e05a925f-46f5-4233-aa26-eb92ec134d9d button.colab-df-convert');\n",
              "        buttonEl.style.display =\n",
              "          google.colab.kernel.accessAllowed ? 'block' : 'none';\n",
              "\n",
              "        async function convertToInteractive(key) {\n",
              "          const element = document.querySelector('#df-e05a925f-46f5-4233-aa26-eb92ec134d9d');\n",
              "          const dataTable =\n",
              "            await google.colab.kernel.invokeFunction('convertToInteractive',\n",
              "                                                     [key], {});\n",
              "          if (!dataTable) return;\n",
              "\n",
              "          const docLinkHtml = 'Like what you see? Visit the ' +\n",
              "            '<a target=\"_blank\" href=https://colab.research.google.com/notebooks/data_table.ipynb>data table notebook</a>'\n",
              "            + ' to learn more about interactive tables.';\n",
              "          element.innerHTML = '';\n",
              "          dataTable['output_type'] = 'display_data';\n",
              "          await google.colab.output.renderOutput(dataTable, element);\n",
              "          const docLink = document.createElement('div');\n",
              "          docLink.innerHTML = docLinkHtml;\n",
              "          element.appendChild(docLink);\n",
              "        }\n",
              "      </script>\n",
              "    </div>\n",
              "  </div>\n",
              "  "
            ]
          },
          "metadata": {},
          "execution_count": 85
        }
      ]
    },
    {
      "cell_type": "code",
      "source": [
        "df.shape"
      ],
      "metadata": {
        "colab": {
          "base_uri": "https://localhost:8080/"
        },
        "id": "pU7mylinecpw",
        "outputId": "adf216d2-a530-46a2-ba45-4260b498dbae"
      },
      "execution_count": null,
      "outputs": [
        {
          "output_type": "execute_result",
          "data": {
            "text/plain": [
              "(1149780, 3)"
            ]
          },
          "metadata": {},
          "execution_count": 86
        }
      ]
    },
    {
      "cell_type": "code",
      "source": [
        "df.info()"
      ],
      "metadata": {
        "colab": {
          "base_uri": "https://localhost:8080/"
        },
        "id": "C5YSxRX4eajk",
        "outputId": "ac0c8a33-eb9f-4fc3-ef4c-c2f6bbb5da96"
      },
      "execution_count": null,
      "outputs": [
        {
          "output_type": "stream",
          "name": "stdout",
          "text": [
            "<class 'pandas.core.frame.DataFrame'>\n",
            "Int64Index: 1149780 entries, 0 to 1149779\n",
            "Data columns (total 3 columns):\n",
            " #   Column      Non-Null Count    Dtype \n",
            "---  ------      --------------    ----- \n",
            " 0   userID      1149780 non-null  int64 \n",
            " 1   ISBN        1149780 non-null  object\n",
            " 2   bookRating  1149780 non-null  int64 \n",
            "dtypes: int64(2), object(1)\n",
            "memory usage: 35.1+ MB\n"
          ]
        }
      ]
    },
    {
      "cell_type": "markdown",
      "source": [
        "##Distribuzione rating per libro"
      ],
      "metadata": {
        "id": "suRsZOIEp96d"
      }
    },
    {
      "cell_type": "code",
      "source": [
        "figura, grafico= plt.subplots()\n",
        "data = df.groupby('ISBN')['bookRating'].count().clip(upper=50) # Number of ratings per book\n",
        "grafico.hist(x = data, \n",
        "             bins = 25,\n",
        "             ec = \"grey\",\n",
        "             fc = \"orange\")\n",
        "\n",
        "plt.xlabel('Numero di valutazioni per libro')\n",
        "plt.ylabel('Conteggio')\n",
        "plt.title('Distribution Of Number of Ratings Per Book (Clipped at 100)')\n",
        "plt.show()"
      ],
      "metadata": {
        "colab": {
          "base_uri": "https://localhost:8080/",
          "height": 309
        },
        "id": "BOtoEBLVtsV2",
        "outputId": "b84804d4-514e-499a-f6d1-5a96a12cb385"
      },
      "execution_count": null,
      "outputs": [
        {
          "output_type": "display_data",
          "data": {
            "text/plain": [
              "<Figure size 432x288 with 1 Axes>"
            ],
            "image/png": "[encoded data removed]"
          },
          "metadata": {
            "needs_background": "light"
          }
        }
      ]
    },
    {
      "cell_type": "code",
      "source": [
        "df.groupby('ISBN')['bookRating'].count().reset_index().sort_values('bookRating', ascending=False).head(10)"
      ],
      "metadata": {
        "colab": {
          "base_uri": "https://localhost:8080/",
          "height": 363
        },
        "id": "QIPEe3yhi_4S",
        "outputId": "69e67e09-0c50-49dc-f056-dcea61e9b0bc"
      },
      "execution_count": null,
      "outputs": [
        {
          "output_type": "execute_result",
          "data": {
            "text/plain": [
              "              ISBN  bookRating\n",
              "247408  0971880107        2502\n",
              "47371   0316666343        1295\n",
              "83359   0385504209         883\n",
              "9637    0060928336         732\n",
              "41007   0312195516         723\n",
              "101670  044023722X         647\n",
              "166705  0679781587         639\n",
              "28153   0142001740         615\n",
              "166434  067976402X         614\n",
              "153620  0671027360         586"
            ],
            "text/html": [
              "\n",
              "  <div id=\"df-b3d396b2-548b-4801-be0e-f459391a876d\">\n",
              "    <div class=\"colab-df-container\">\n",
              "      <div>\n",
              "<style scoped>\n",
              "    .dataframe tbody tr th:only-of-type {\n",
              "        vertical-align: middle;\n",
              "    }\n",
              "\n",
              "    .dataframe tbody tr th {\n",
              "        vertical-align: top;\n",
              "    }\n",
              "\n",
              "    .dataframe thead th {\n",
              "        text-align: right;\n",
              "    }\n",
              "</style>\n",
              "<table border=\"1\" class=\"dataframe\">\n",
              "  <thead>\n",
              "    <tr style=\"text-align: right;\">\n",
              "      <th></th>\n",
              "      <th>ISBN</th>\n",
              "      <th>bookRating</th>\n",
              "    </tr>\n",
              "  </thead>\n",
              "  <tbody>\n",
              "    <tr>\n",
              "      <th>247408</th>\n",
              "      <td>0971880107</td>\n",
              "      <td>2502</td>\n",
              "    </tr>\n",
              "    <tr>\n",
              "      <th>47371</th>\n",
              "      <td>0316666343</td>\n",
              "      <td>1295</td>\n",
              "    </tr>\n",
              "    <tr>\n",
              "      <th>83359</th>\n",
              "      <td>0385504209</td>\n",
              "      <td>883</td>\n",
              "    </tr>\n",
              "    <tr>\n",
              "      <th>9637</th>\n",
              "      <td>0060928336</td>\n",
              "      <td>732</td>\n",
              "    </tr>\n",
              "    <tr>\n",
              "      <th>41007</th>\n",
              "      <td>0312195516</td>\n",
              "      <td>723</td>\n",
              "    </tr>\n",
              "    <tr>\n",
              "      <th>101670</th>\n",
              "      <td>044023722X</td>\n",
              "      <td>647</td>\n",
              "    </tr>\n",
              "    <tr>\n",
              "      <th>166705</th>\n",
              "      <td>0679781587</td>\n",
              "      <td>639</td>\n",
              "    </tr>\n",
              "    <tr>\n",
              "      <th>28153</th>\n",
              "      <td>0142001740</td>\n",
              "      <td>615</td>\n",
              "    </tr>\n",
              "    <tr>\n",
              "      <th>166434</th>\n",
              "      <td>067976402X</td>\n",
              "      <td>614</td>\n",
              "    </tr>\n",
              "    <tr>\n",
              "      <th>153620</th>\n",
              "      <td>0671027360</td>\n",
              "      <td>586</td>\n",
              "    </tr>\n",
              "  </tbody>\n",
              "</table>\n",
              "</div>\n",
              "      <button class=\"colab-df-convert\" onclick=\"convertToInteractive('df-b3d396b2-548b-4801-be0e-f459391a876d')\"\n",
              "              title=\"Convert this dataframe to an interactive table.\"\n",
              "              style=\"display:none;\">\n",
              "        \n",
              "  <svg xmlns=\"http://www.w3.org/2000/svg\" height=\"24px\"viewBox=\"0 0 24 24\"\n",
              "       width=\"24px\">\n",
              "    <path d=\"M0 0h24v24H0V0z\" fill=\"none\"/>\n",
              "    <path d=\"M18.56 5.44l.94 2.06.94-2.06 2.06-.94-2.06-.94-.94-2.06-.94 2.06-2.06.94zm-11 1L8.5 8.5l.94-2.06 2.06-.94-2.06-.94L8.5 2.5l-.94 2.06-2.06.94zm10 10l.94 2.06.94-2.06 2.06-.94-2.06-.94-.94-2.06-.94 2.06-2.06.94z\"/><path d=\"M17.41 7.96l-1.37-1.37c-.4-.4-.92-.59-1.43-.59-.52 0-1.04.2-1.43.59L10.3 9.45l-7.72 7.72c-.78.78-.78 2.05 0 2.83L4 21.41c.39.39.9.59 1.41.59.51 0 1.02-.2 1.41-.59l7.78-7.78 2.81-2.81c.8-.78.8-2.07 0-2.86zM5.41 20L4 18.59l7.72-7.72 1.47 1.35L5.41 20z\"/>\n",
              "  </svg>\n",
              "      </button>\n",
              "      \n",
              "  <style>\n",
              "    .colab-df-container {\n",
              "      display:flex;\n",
              "      flex-wrap:wrap;\n",
              "      gap: 12px;\n",
              "    }\n",
              "\n",
              "    .colab-df-convert {\n",
              "      background-color: #E8F0FE;\n",
              "      border: none;\n",
              "      border-radius: 50%;\n",
              "      cursor: pointer;\n",
              "      display: none;\n",
              "      fill: #1967D2;\n",
              "      height: 32px;\n",
              "      padding: 0 0 0 0;\n",
              "      width: 32px;\n",
              "    }\n",
              "\n",
              "    .colab-df-convert:hover {\n",
              "      background-color: #E2EBFA;\n",
              "      box-shadow: 0px 1px 2px rgba(60, 64, 67, 0.3), 0px 1px 3px 1px rgba(60, 64, 67, 0.15);\n",
              "      fill: #174EA6;\n",
              "    }\n",
              "\n",
              "    [theme=dark] .colab-df-convert {\n",
              "      background-color: #3B4455;\n",
              "      fill: #D2E3FC;\n",
              "    }\n",
              "\n",
              "    [theme=dark] .colab-df-convert:hover {\n",
              "      background-color: #434B5C;\n",
              "      box-shadow: 0px 1px 3px 1px rgba(0, 0, 0, 0.15);\n",
              "      filter: drop-shadow(0px 1px 2px rgba(0, 0, 0, 0.3));\n",
              "      fill: #FFFFFF;\n",
              "    }\n",
              "  </style>\n",
              "\n",
              "      <script>\n",
              "        const buttonEl =\n",
              "          document.querySelector('#df-b3d396b2-548b-4801-be0e-f459391a876d button.colab-df-convert');\n",
              "        buttonEl.style.display =\n",
              "          google.colab.kernel.accessAllowed ? 'block' : 'none';\n",
              "\n",
              "        async function convertToInteractive(key) {\n",
              "          const element = document.querySelector('#df-b3d396b2-548b-4801-be0e-f459391a876d');\n",
              "          const dataTable =\n",
              "            await google.colab.kernel.invokeFunction('convertToInteractive',\n",
              "                                                     [key], {});\n",
              "          if (!dataTable) return;\n",
              "\n",
              "          const docLinkHtml = 'Like what you see? Visit the ' +\n",
              "            '<a target=\"_blank\" href=https://colab.research.google.com/notebooks/data_table.ipynb>data table notebook</a>'\n",
              "            + ' to learn more about interactive tables.';\n",
              "          element.innerHTML = '';\n",
              "          dataTable['output_type'] = 'display_data';\n",
              "          await google.colab.output.renderOutput(dataTable, element);\n",
              "          const docLink = document.createElement('div');\n",
              "          docLink.innerHTML = docLinkHtml;\n",
              "          element.appendChild(docLink);\n",
              "        }\n",
              "      </script>\n",
              "    </div>\n",
              "  </div>\n",
              "  "
            ]
          },
          "metadata": {},
          "execution_count": 89
        }
      ]
    },
    {
      "cell_type": "code",
      "source": [
        "df.groupby('ISBN')['bookRating'].count().reset_index().sort_values('bookRating', ascending=False).tail(10)"
      ],
      "metadata": {
        "colab": {
          "base_uri": "https://localhost:8080/",
          "height": 363
        },
        "id": "TJmFdqElphxl",
        "outputId": "58efa75c-7376-4a47-b2e4-9e224e752137"
      },
      "execution_count": null,
      "outputs": [
        {
          "output_type": "execute_result",
          "data": {
            "text/plain": [
              "              ISBN  bookRating\n",
              "200155  0801062918           1\n",
              "200156  0801063248           1\n",
              "200157  080106340X           1\n",
              "200158  080106385X           1\n",
              "200159  0801064031           1\n",
              "200161  0801064090           1\n",
              "200162  0801064252           1\n",
              "200163  0801064279           1\n",
              "200164  0801064333           1\n",
              "340555   Ô½crosoft           1"
            ],
            "text/html": [
              "\n",
              "  <div id=\"df-03e61401-ee3a-48d2-a231-a0da0d6e0af2\">\n",
              "    <div class=\"colab-df-container\">\n",
              "      <div>\n",
              "<style scoped>\n",
              "    .dataframe tbody tr th:only-of-type {\n",
              "        vertical-align: middle;\n",
              "    }\n",
              "\n",
              "    .dataframe tbody tr th {\n",
              "        vertical-align: top;\n",
              "    }\n",
              "\n",
              "    .dataframe thead th {\n",
              "        text-align: right;\n",
              "    }\n",
              "</style>\n",
              "<table border=\"1\" class=\"dataframe\">\n",
              "  <thead>\n",
              "    <tr style=\"text-align: right;\">\n",
              "      <th></th>\n",
              "      <th>ISBN</th>\n",
              "      <th>bookRating</th>\n",
              "    </tr>\n",
              "  </thead>\n",
              "  <tbody>\n",
              "    <tr>\n",
              "      <th>200155</th>\n",
              "      <td>0801062918</td>\n",
              "      <td>1</td>\n",
              "    </tr>\n",
              "    <tr>\n",
              "      <th>200156</th>\n",
              "      <td>0801063248</td>\n",
              "      <td>1</td>\n",
              "    </tr>\n",
              "    <tr>\n",
              "      <th>200157</th>\n",
              "      <td>080106340X</td>\n",
              "      <td>1</td>\n",
              "    </tr>\n",
              "    <tr>\n",
              "      <th>200158</th>\n",
              "      <td>080106385X</td>\n",
              "      <td>1</td>\n",
              "    </tr>\n",
              "    <tr>\n",
              "      <th>200159</th>\n",
              "      <td>0801064031</td>\n",
              "      <td>1</td>\n",
              "    </tr>\n",
              "    <tr>\n",
              "      <th>200161</th>\n",
              "      <td>0801064090</td>\n",
              "      <td>1</td>\n",
              "    </tr>\n",
              "    <tr>\n",
              "      <th>200162</th>\n",
              "      <td>0801064252</td>\n",
              "      <td>1</td>\n",
              "    </tr>\n",
              "    <tr>\n",
              "      <th>200163</th>\n",
              "      <td>0801064279</td>\n",
              "      <td>1</td>\n",
              "    </tr>\n",
              "    <tr>\n",
              "      <th>200164</th>\n",
              "      <td>0801064333</td>\n",
              "      <td>1</td>\n",
              "    </tr>\n",
              "    <tr>\n",
              "      <th>340555</th>\n",
              "      <td>Ô½crosoft</td>\n",
              "      <td>1</td>\n",
              "    </tr>\n",
              "  </tbody>\n",
              "</table>\n",
              "</div>\n",
              "      <button class=\"colab-df-convert\" onclick=\"convertToInteractive('df-03e61401-ee3a-48d2-a231-a0da0d6e0af2')\"\n",
              "              title=\"Convert this dataframe to an interactive table.\"\n",
              "              style=\"display:none;\">\n",
              "        \n",
              "  <svg xmlns=\"http://www.w3.org/2000/svg\" height=\"24px\"viewBox=\"0 0 24 24\"\n",
              "       width=\"24px\">\n",
              "    <path d=\"M0 0h24v24H0V0z\" fill=\"none\"/>\n",
              "    <path d=\"M18.56 5.44l.94 2.06.94-2.06 2.06-.94-2.06-.94-.94-2.06-.94 2.06-2.06.94zm-11 1L8.5 8.5l.94-2.06 2.06-.94-2.06-.94L8.5 2.5l-.94 2.06-2.06.94zm10 10l.94 2.06.94-2.06 2.06-.94-2.06-.94-.94-2.06-.94 2.06-2.06.94z\"/><path d=\"M17.41 7.96l-1.37-1.37c-.4-.4-.92-.59-1.43-.59-.52 0-1.04.2-1.43.59L10.3 9.45l-7.72 7.72c-.78.78-.78 2.05 0 2.83L4 21.41c.39.39.9.59 1.41.59.51 0 1.02-.2 1.41-.59l7.78-7.78 2.81-2.81c.8-.78.8-2.07 0-2.86zM5.41 20L4 18.59l7.72-7.72 1.47 1.35L5.41 20z\"/>\n",
              "  </svg>\n",
              "      </button>\n",
              "      \n",
              "  <style>\n",
              "    .colab-df-container {\n",
              "      display:flex;\n",
              "      flex-wrap:wrap;\n",
              "      gap: 12px;\n",
              "    }\n",
              "\n",
              "    .colab-df-convert {\n",
              "      background-color: #E8F0FE;\n",
              "      border: none;\n",
              "      border-radius: 50%;\n",
              "      cursor: pointer;\n",
              "      display: none;\n",
              "      fill: #1967D2;\n",
              "      height: 32px;\n",
              "      padding: 0 0 0 0;\n",
              "      width: 32px;\n",
              "    }\n",
              "\n",
              "    .colab-df-convert:hover {\n",
              "      background-color: #E2EBFA;\n",
              "      box-shadow: 0px 1px 2px rgba(60, 64, 67, 0.3), 0px 1px 3px 1px rgba(60, 64, 67, 0.15);\n",
              "      fill: #174EA6;\n",
              "    }\n",
              "\n",
              "    [theme=dark] .colab-df-convert {\n",
              "      background-color: #3B4455;\n",
              "      fill: #D2E3FC;\n",
              "    }\n",
              "\n",
              "    [theme=dark] .colab-df-convert:hover {\n",
              "      background-color: #434B5C;\n",
              "      box-shadow: 0px 1px 3px 1px rgba(0, 0, 0, 0.15);\n",
              "      filter: drop-shadow(0px 1px 2px rgba(0, 0, 0, 0.3));\n",
              "      fill: #FFFFFF;\n",
              "    }\n",
              "  </style>\n",
              "\n",
              "      <script>\n",
              "        const buttonEl =\n",
              "          document.querySelector('#df-03e61401-ee3a-48d2-a231-a0da0d6e0af2 button.colab-df-convert');\n",
              "        buttonEl.style.display =\n",
              "          google.colab.kernel.accessAllowed ? 'block' : 'none';\n",
              "\n",
              "        async function convertToInteractive(key) {\n",
              "          const element = document.querySelector('#df-03e61401-ee3a-48d2-a231-a0da0d6e0af2');\n",
              "          const dataTable =\n",
              "            await google.colab.kernel.invokeFunction('convertToInteractive',\n",
              "                                                     [key], {});\n",
              "          if (!dataTable) return;\n",
              "\n",
              "          const docLinkHtml = 'Like what you see? Visit the ' +\n",
              "            '<a target=\"_blank\" href=https://colab.research.google.com/notebooks/data_table.ipynb>data table notebook</a>'\n",
              "            + ' to learn more about interactive tables.';\n",
              "          element.innerHTML = '';\n",
              "          dataTable['output_type'] = 'display_data';\n",
              "          await google.colab.output.renderOutput(dataTable, element);\n",
              "          const docLink = document.createElement('div');\n",
              "          docLink.innerHTML = docLinkHtml;\n",
              "          element.appendChild(docLink);\n",
              "        }\n",
              "      </script>\n",
              "    </div>\n",
              "  </div>\n",
              "  "
            ]
          },
          "metadata": {},
          "execution_count": 90
        }
      ]
    },
    {
      "cell_type": "markdown",
      "source": [
        "Raggruppando i libri per numero di valutazioni ottenute osserviamo che alcuni libri hanno ricevuto troppi pochi voti; e quello che ne ha ricevute di più ne conta ben 2502."
      ],
      "metadata": {
        "id": "hZ5K55jPjFCC"
      }
    },
    {
      "cell_type": "markdown",
      "source": [
        "##Distribuzione rating per utente"
      ],
      "metadata": {
        "id": "nDNK-AqZqH3e"
      }
    },
    {
      "cell_type": "code",
      "source": [
        "df.groupby('userID')['bookRating'].count().reset_index().sort_values('bookRating', ascending=False).head(10)"
      ],
      "metadata": {
        "colab": {
          "base_uri": "https://localhost:8080/",
          "height": 363
        },
        "id": "W1VFGSwGjUlC",
        "outputId": "00591c7b-3b27-4cd6-b1e0-015ca8197e9a"
      },
      "execution_count": null,
      "outputs": [
        {
          "output_type": "execute_result",
          "data": {
            "text/plain": [
              "        userID  bookRating\n",
              "4213     11676       13602\n",
              "74815   198711        7550\n",
              "58113   153662        6109\n",
              "37356    98391        5891\n",
              "13576    35859        5850\n",
              "80185   212898        4785\n",
              "105111  278418        4533\n",
              "28884    76352        3367\n",
              "42037   110973        3100\n",
              "88584   235105        3067"
            ],
            "text/html": [
              "\n",
              "  <div id=\"df-a9f48359-5084-4a1f-95f6-14af71fdab3b\">\n",
              "    <div class=\"colab-df-container\">\n",
              "      <div>\n",
              "<style scoped>\n",
              "    .dataframe tbody tr th:only-of-type {\n",
              "        vertical-align: middle;\n",
              "    }\n",
              "\n",
              "    .dataframe tbody tr th {\n",
              "        vertical-align: top;\n",
              "    }\n",
              "\n",
              "    .dataframe thead th {\n",
              "        text-align: right;\n",
              "    }\n",
              "</style>\n",
              "<table border=\"1\" class=\"dataframe\">\n",
              "  <thead>\n",
              "    <tr style=\"text-align: right;\">\n",
              "      <th></th>\n",
              "      <th>userID</th>\n",
              "      <th>bookRating</th>\n",
              "    </tr>\n",
              "  </thead>\n",
              "  <tbody>\n",
              "    <tr>\n",
              "      <th>4213</th>\n",
              "      <td>11676</td>\n",
              "      <td>13602</td>\n",
              "    </tr>\n",
              "    <tr>\n",
              "      <th>74815</th>\n",
              "      <td>198711</td>\n",
              "      <td>7550</td>\n",
              "    </tr>\n",
              "    <tr>\n",
              "      <th>58113</th>\n",
              "      <td>153662</td>\n",
              "      <td>6109</td>\n",
              "    </tr>\n",
              "    <tr>\n",
              "      <th>37356</th>\n",
              "      <td>98391</td>\n",
              "      <td>5891</td>\n",
              "    </tr>\n",
              "    <tr>\n",
              "      <th>13576</th>\n",
              "      <td>35859</td>\n",
              "      <td>5850</td>\n",
              "    </tr>\n",
              "    <tr>\n",
              "      <th>80185</th>\n",
              "      <td>212898</td>\n",
              "      <td>4785</td>\n",
              "    </tr>\n",
              "    <tr>\n",
              "      <th>105111</th>\n",
              "      <td>278418</td>\n",
              "      <td>4533</td>\n",
              "    </tr>\n",
              "    <tr>\n",
              "      <th>28884</th>\n",
              "      <td>76352</td>\n",
              "      <td>3367</td>\n",
              "    </tr>\n",
              "    <tr>\n",
              "      <th>42037</th>\n",
              "      <td>110973</td>\n",
              "      <td>3100</td>\n",
              "    </tr>\n",
              "    <tr>\n",
              "      <th>88584</th>\n",
              "      <td>235105</td>\n",
              "      <td>3067</td>\n",
              "    </tr>\n",
              "  </tbody>\n",
              "</table>\n",
              "</div>\n",
              "      <button class=\"colab-df-convert\" onclick=\"convertToInteractive('df-a9f48359-5084-4a1f-95f6-14af71fdab3b')\"\n",
              "              title=\"Convert this dataframe to an interactive table.\"\n",
              "              style=\"display:none;\">\n",
              "        \n",
              "  <svg xmlns=\"http://www.w3.org/2000/svg\" height=\"24px\"viewBox=\"0 0 24 24\"\n",
              "       width=\"24px\">\n",
              "    <path d=\"M0 0h24v24H0V0z\" fill=\"none\"/>\n",
              "    <path d=\"M18.56 5.44l.94 2.06.94-2.06 2.06-.94-2.06-.94-.94-2.06-.94 2.06-2.06.94zm-11 1L8.5 8.5l.94-2.06 2.06-.94-2.06-.94L8.5 2.5l-.94 2.06-2.06.94zm10 10l.94 2.06.94-2.06 2.06-.94-2.06-.94-.94-2.06-.94 2.06-2.06.94z\"/><path d=\"M17.41 7.96l-1.37-1.37c-.4-.4-.92-.59-1.43-.59-.52 0-1.04.2-1.43.59L10.3 9.45l-7.72 7.72c-.78.78-.78 2.05 0 2.83L4 21.41c.39.39.9.59 1.41.59.51 0 1.02-.2 1.41-.59l7.78-7.78 2.81-2.81c.8-.78.8-2.07 0-2.86zM5.41 20L4 18.59l7.72-7.72 1.47 1.35L5.41 20z\"/>\n",
              "  </svg>\n",
              "      </button>\n",
              "      \n",
              "  <style>\n",
              "    .colab-df-container {\n",
              "      display:flex;\n",
              "      flex-wrap:wrap;\n",
              "      gap: 12px;\n",
              "    }\n",
              "\n",
              "    .colab-df-convert {\n",
              "      background-color: #E8F0FE;\n",
              "      border: none;\n",
              "      border-radius: 50%;\n",
              "      cursor: pointer;\n",
              "      display: none;\n",
              "      fill: #1967D2;\n",
              "      height: 32px;\n",
              "      padding: 0 0 0 0;\n",
              "      width: 32px;\n",
              "    }\n",
              "\n",
              "    .colab-df-convert:hover {\n",
              "      background-color: #E2EBFA;\n",
              "      box-shadow: 0px 1px 2px rgba(60, 64, 67, 0.3), 0px 1px 3px 1px rgba(60, 64, 67, 0.15);\n",
              "      fill: #174EA6;\n",
              "    }\n",
              "\n",
              "    [theme=dark] .colab-df-convert {\n",
              "      background-color: #3B4455;\n",
              "      fill: #D2E3FC;\n",
              "    }\n",
              "\n",
              "    [theme=dark] .colab-df-convert:hover {\n",
              "      background-color: #434B5C;\n",
              "      box-shadow: 0px 1px 3px 1px rgba(0, 0, 0, 0.15);\n",
              "      filter: drop-shadow(0px 1px 2px rgba(0, 0, 0, 0.3));\n",
              "      fill: #FFFFFF;\n",
              "    }\n",
              "  </style>\n",
              "\n",
              "      <script>\n",
              "        const buttonEl =\n",
              "          document.querySelector('#df-a9f48359-5084-4a1f-95f6-14af71fdab3b button.colab-df-convert');\n",
              "        buttonEl.style.display =\n",
              "          google.colab.kernel.accessAllowed ? 'block' : 'none';\n",
              "\n",
              "        async function convertToInteractive(key) {\n",
              "          const element = document.querySelector('#df-a9f48359-5084-4a1f-95f6-14af71fdab3b');\n",
              "          const dataTable =\n",
              "            await google.colab.kernel.invokeFunction('convertToInteractive',\n",
              "                                                     [key], {});\n",
              "          if (!dataTable) return;\n",
              "\n",
              "          const docLinkHtml = 'Like what you see? Visit the ' +\n",
              "            '<a target=\"_blank\" href=https://colab.research.google.com/notebooks/data_table.ipynb>data table notebook</a>'\n",
              "            + ' to learn more about interactive tables.';\n",
              "          element.innerHTML = '';\n",
              "          dataTable['output_type'] = 'display_data';\n",
              "          await google.colab.output.renderOutput(dataTable, element);\n",
              "          const docLink = document.createElement('div');\n",
              "          docLink.innerHTML = docLinkHtml;\n",
              "          element.appendChild(docLink);\n",
              "        }\n",
              "      </script>\n",
              "    </div>\n",
              "  </div>\n",
              "  "
            ]
          },
          "metadata": {},
          "execution_count": 91
        }
      ]
    },
    {
      "cell_type": "code",
      "source": [
        "df.groupby('userID')['bookRating'].count().reset_index().sort_values('bookRating', ascending=False).tail(10)"
      ],
      "metadata": {
        "colab": {
          "base_uri": "https://localhost:8080/",
          "height": 363
        },
        "id": "6HtCKlREqZpV",
        "outputId": "e918c6fe-7022-4772-812b-7de8ef3be311"
      },
      "execution_count": null,
      "outputs": [
        {
          "output_type": "execute_result",
          "data": {
            "text/plain": [
              "       userID  bookRating\n",
              "44886  118589           1\n",
              "44881  118582           1\n",
              "44874  118562           1\n",
              "44880  118581           1\n",
              "44879  118580           1\n",
              "44878  118579           1\n",
              "44877  118576           1\n",
              "44876  118574           1\n",
              "44875  118563           1\n",
              "52641  139146           1"
            ],
            "text/html": [
              "\n",
              "  <div id=\"df-cb973c60-5365-4cec-ac6b-aab21e56547c\">\n",
              "    <div class=\"colab-df-container\">\n",
              "      <div>\n",
              "<style scoped>\n",
              "    .dataframe tbody tr th:only-of-type {\n",
              "        vertical-align: middle;\n",
              "    }\n",
              "\n",
              "    .dataframe tbody tr th {\n",
              "        vertical-align: top;\n",
              "    }\n",
              "\n",
              "    .dataframe thead th {\n",
              "        text-align: right;\n",
              "    }\n",
              "</style>\n",
              "<table border=\"1\" class=\"dataframe\">\n",
              "  <thead>\n",
              "    <tr style=\"text-align: right;\">\n",
              "      <th></th>\n",
              "      <th>userID</th>\n",
              "      <th>bookRating</th>\n",
              "    </tr>\n",
              "  </thead>\n",
              "  <tbody>\n",
              "    <tr>\n",
              "      <th>44886</th>\n",
              "      <td>118589</td>\n",
              "      <td>1</td>\n",
              "    </tr>\n",
              "    <tr>\n",
              "      <th>44881</th>\n",
              "      <td>118582</td>\n",
              "      <td>1</td>\n",
              "    </tr>\n",
              "    <tr>\n",
              "      <th>44874</th>\n",
              "      <td>118562</td>\n",
              "      <td>1</td>\n",
              "    </tr>\n",
              "    <tr>\n",
              "      <th>44880</th>\n",
              "      <td>118581</td>\n",
              "      <td>1</td>\n",
              "    </tr>\n",
              "    <tr>\n",
              "      <th>44879</th>\n",
              "      <td>118580</td>\n",
              "      <td>1</td>\n",
              "    </tr>\n",
              "    <tr>\n",
              "      <th>44878</th>\n",
              "      <td>118579</td>\n",
              "      <td>1</td>\n",
              "    </tr>\n",
              "    <tr>\n",
              "      <th>44877</th>\n",
              "      <td>118576</td>\n",
              "      <td>1</td>\n",
              "    </tr>\n",
              "    <tr>\n",
              "      <th>44876</th>\n",
              "      <td>118574</td>\n",
              "      <td>1</td>\n",
              "    </tr>\n",
              "    <tr>\n",
              "      <th>44875</th>\n",
              "      <td>118563</td>\n",
              "      <td>1</td>\n",
              "    </tr>\n",
              "    <tr>\n",
              "      <th>52641</th>\n",
              "      <td>139146</td>\n",
              "      <td>1</td>\n",
              "    </tr>\n",
              "  </tbody>\n",
              "</table>\n",
              "</div>\n",
              "      <button class=\"colab-df-convert\" onclick=\"convertToInteractive('df-cb973c60-5365-4cec-ac6b-aab21e56547c')\"\n",
              "              title=\"Convert this dataframe to an interactive table.\"\n",
              "              style=\"display:none;\">\n",
              "        \n",
              "  <svg xmlns=\"http://www.w3.org/2000/svg\" height=\"24px\"viewBox=\"0 0 24 24\"\n",
              "       width=\"24px\">\n",
              "    <path d=\"M0 0h24v24H0V0z\" fill=\"none\"/>\n",
              "    <path d=\"M18.56 5.44l.94 2.06.94-2.06 2.06-.94-2.06-.94-.94-2.06-.94 2.06-2.06.94zm-11 1L8.5 8.5l.94-2.06 2.06-.94-2.06-.94L8.5 2.5l-.94 2.06-2.06.94zm10 10l.94 2.06.94-2.06 2.06-.94-2.06-.94-.94-2.06-.94 2.06-2.06.94z\"/><path d=\"M17.41 7.96l-1.37-1.37c-.4-.4-.92-.59-1.43-.59-.52 0-1.04.2-1.43.59L10.3 9.45l-7.72 7.72c-.78.78-.78 2.05 0 2.83L4 21.41c.39.39.9.59 1.41.59.51 0 1.02-.2 1.41-.59l7.78-7.78 2.81-2.81c.8-.78.8-2.07 0-2.86zM5.41 20L4 18.59l7.72-7.72 1.47 1.35L5.41 20z\"/>\n",
              "  </svg>\n",
              "      </button>\n",
              "      \n",
              "  <style>\n",
              "    .colab-df-container {\n",
              "      display:flex;\n",
              "      flex-wrap:wrap;\n",
              "      gap: 12px;\n",
              "    }\n",
              "\n",
              "    .colab-df-convert {\n",
              "      background-color: #E8F0FE;\n",
              "      border: none;\n",
              "      border-radius: 50%;\n",
              "      cursor: pointer;\n",
              "      display: none;\n",
              "      fill: #1967D2;\n",
              "      height: 32px;\n",
              "      padding: 0 0 0 0;\n",
              "      width: 32px;\n",
              "    }\n",
              "\n",
              "    .colab-df-convert:hover {\n",
              "      background-color: #E2EBFA;\n",
              "      box-shadow: 0px 1px 2px rgba(60, 64, 67, 0.3), 0px 1px 3px 1px rgba(60, 64, 67, 0.15);\n",
              "      fill: #174EA6;\n",
              "    }\n",
              "\n",
              "    [theme=dark] .colab-df-convert {\n",
              "      background-color: #3B4455;\n",
              "      fill: #D2E3FC;\n",
              "    }\n",
              "\n",
              "    [theme=dark] .colab-df-convert:hover {\n",
              "      background-color: #434B5C;\n",
              "      box-shadow: 0px 1px 3px 1px rgba(0, 0, 0, 0.15);\n",
              "      filter: drop-shadow(0px 1px 2px rgba(0, 0, 0, 0.3));\n",
              "      fill: #FFFFFF;\n",
              "    }\n",
              "  </style>\n",
              "\n",
              "      <script>\n",
              "        const buttonEl =\n",
              "          document.querySelector('#df-cb973c60-5365-4cec-ac6b-aab21e56547c button.colab-df-convert');\n",
              "        buttonEl.style.display =\n",
              "          google.colab.kernel.accessAllowed ? 'block' : 'none';\n",
              "\n",
              "        async function convertToInteractive(key) {\n",
              "          const element = document.querySelector('#df-cb973c60-5365-4cec-ac6b-aab21e56547c');\n",
              "          const dataTable =\n",
              "            await google.colab.kernel.invokeFunction('convertToInteractive',\n",
              "                                                     [key], {});\n",
              "          if (!dataTable) return;\n",
              "\n",
              "          const docLinkHtml = 'Like what you see? Visit the ' +\n",
              "            '<a target=\"_blank\" href=https://colab.research.google.com/notebooks/data_table.ipynb>data table notebook</a>'\n",
              "            + ' to learn more about interactive tables.';\n",
              "          element.innerHTML = '';\n",
              "          dataTable['output_type'] = 'display_data';\n",
              "          await google.colab.output.renderOutput(dataTable, element);\n",
              "          const docLink = document.createElement('div');\n",
              "          docLink.innerHTML = docLinkHtml;\n",
              "          element.appendChild(docLink);\n",
              "        }\n",
              "      </script>\n",
              "    </div>\n",
              "  </div>\n",
              "  "
            ]
          },
          "metadata": {},
          "execution_count": 92
        }
      ]
    },
    {
      "cell_type": "markdown",
      "source": [
        "Da questi dati emerge che alcuni utenti hanno dato meno di 5 voti e il più attivo ne ha dati 13602."
      ],
      "metadata": {
        "id": "Ni2bKMhpjZDq"
      }
    },
    {
      "cell_type": "markdown",
      "source": [
        "Per ridurre la dimensione del data frame, scartiamo i libri che sono stati votati da meno utenti e gli utenti meno attivi."
      ],
      "metadata": {
        "id": "pJj0MYHsdG3l"
      }
    },
    {
      "cell_type": "code",
      "source": [
        "min_book_ratings = 50\n",
        "filter_books = df['ISBN'].value_counts() > min_book_ratings\n",
        "filter_books = filter_books[filter_books].index.tolist()\n",
        "\n",
        "min_user_ratings = 50\n",
        "filter_users = df['userID'].value_counts() > min_user_ratings\n",
        "filter_users = filter_users[filter_users].index.tolist()\n",
        "\n",
        "df_new = df[(df['ISBN'].isin(filter_books)) & (df['userID'].isin(filter_users))]\n",
        "print('Dimensione data frame originale:\\t{}'.format(df.shape))\n",
        "print('Dimensione nuovo data frame:\\t{}'.format(df_new.shape))"
      ],
      "metadata": {
        "colab": {
          "base_uri": "https://localhost:8080/"
        },
        "id": "K1zScNzQdGiI",
        "outputId": "8a0ed304-9280-4ef5-dca8-255bff8b17dc"
      },
      "execution_count": null,
      "outputs": [
        {
          "output_type": "stream",
          "name": "stdout",
          "text": [
            "Dimensione data frame originale:\t(1149780, 3)\n",
            "Dimensione nuovo data frame:\t(140516, 3)\n"
          ]
        }
      ]
    },
    {
      "cell_type": "markdown",
      "source": [
        "Per convertire un dataframe pandas in dataset utilizziamo il metodo load_from_df().\n",
        "Poi avremo bisogno anche di un oggetto Reader in cui specificheremo una rating_scale.\n",
        "Il dataframe deve avere tre colonne corrispondenti all'id dell'utente, l'id del libro e la valutazione, in quest'ordine."
      ],
      "metadata": {
        "id": "z1KTbAyhjjzH"
      }
    },
    {
      "cell_type": "code",
      "source": [
        "reader = Reader(rating_scale=(0, 9))\n",
        "data = Dataset.load_from_df(df_new[['userID', 'ISBN', 'bookRating']], reader)"
      ],
      "metadata": {
        "id": "jD4glPmxjjGW"
      },
      "execution_count": null,
      "outputs": []
    },
    {
      "cell_type": "markdown",
      "source": [
        "Con la libreria Surprise, faremo una prova delle prestazioni (benchmark) dei seguenti algoritmi:"
      ],
      "metadata": {
        "id": "-dZPXyvl0Trm"
      }
    },
    {
      "cell_type": "markdown",
      "source": [
        "**NormalPredictor**\n",
        "\n",
        "*   prevede una valutazione casuale basata sulla distribuzione del training set, che si presume sia normale. \n",
        "\n",
        "**BaselineOnly**\n",
        "\n",
        "*  prevede la stima di base per un determinato utente ed elemento.\n",
        "\n",
        "**KNNBasic**\n",
        "*  algoritmo di collaborative filtering.\n",
        "\n",
        "**KNNWithMeans**\n",
        "*   algoritmo di collaborative filtering, che tiene conto delle valutazioni medie di ciascun utente.\n",
        "\n",
        "**KNNWithZScore**\n",
        "*   algoritmo di collaborative filtering, che tiene conto della normalizzazione del punteggio z di ogni utente.\n",
        "\n",
        "**KNNBaseline**\n",
        "* algoritmo di collaborative filtering, che tiene conto di una valutazione di base.\n",
        "\n",
        "**SVD**\n",
        "* l'equivalente della Probabilistic Matrix Factorization.\n",
        "\n",
        "**SVDpp**\n",
        "* un'estensione di SVD che tiene conto delle valutazioni implicite.\n",
        "\n",
        "**NMF**\n",
        "* algoritmo di collaborative filtering, basato sulla fattorizzazione della matrice non negativa. È molto simile a SVD.\n",
        "\n",
        "**Slope One**\n",
        "* una semplice implementazione dell'algoritmo SlopeOne. \n",
        "\n",
        "**Co-clustering**\n",
        "* algoritmo di collaborative filtering, basato sul co-clustering."
      ],
      "metadata": {
        "id": "_9XkAcz1kVAg"
      }
    },
    {
      "cell_type": "code",
      "source": [
        "benchmark = []\n",
        "# Iteriamo su tutti gli algoritmi\n",
        "for algorithm in [SVD(), SVDpp(), SlopeOne(), NMF(), NormalPredictor(), KNNBaseline(), KNNBasic(), KNNWithMeans(), KNNWithZScore(), BaselineOnly(), CoClustering()]:\n",
        "    # effettuiamo la cross validation\n",
        "    results = cross_validate(algorithm, data, measures=['RMSE'], cv=3, verbose=False)\n",
        "    \n",
        "    # associamo i risultati ai nomi degli algoritmi\n",
        "    tmp = pd.DataFrame.from_dict(results).mean(axis=0)\n",
        "    tmp = tmp.append(pd.Series([str(algorithm).split(' ')[0].split('.')[-1]], index=['Algorithm']))\n",
        "    benchmark.append(tmp)"
      ],
      "metadata": {
        "colab": {
          "base_uri": "https://localhost:8080/"
        },
        "id": "htVsAcqHjjCX",
        "outputId": "84a32203-91a8-4137-9faa-9a4eb8b960c1"
      },
      "execution_count": null,
      "outputs": [
        {
          "output_type": "stream",
          "name": "stdout",
          "text": [
            "Estimating biases using als...\n",
            "Computing the msd similarity matrix...\n",
            "Done computing similarity matrix.\n",
            "Estimating biases using als...\n",
            "Computing the msd similarity matrix...\n",
            "Done computing similarity matrix.\n",
            "Estimating biases using als...\n",
            "Computing the msd similarity matrix...\n",
            "Done computing similarity matrix.\n",
            "Computing the msd similarity matrix...\n",
            "Done computing similarity matrix.\n",
            "Computing the msd similarity matrix...\n",
            "Done computing similarity matrix.\n",
            "Computing the msd similarity matrix...\n",
            "Done computing similarity matrix.\n",
            "Computing the msd similarity matrix...\n",
            "Done computing similarity matrix.\n",
            "Computing the msd similarity matrix...\n",
            "Done computing similarity matrix.\n",
            "Computing the msd similarity matrix...\n",
            "Done computing similarity matrix.\n",
            "Computing the msd similarity matrix...\n",
            "Done computing similarity matrix.\n",
            "Computing the msd similarity matrix...\n",
            "Done computing similarity matrix.\n",
            "Computing the msd similarity matrix...\n",
            "Done computing similarity matrix.\n",
            "Estimating biases using als...\n",
            "Estimating biases using als...\n",
            "Estimating biases using als...\n"
          ]
        }
      ]
    },
    {
      "cell_type": "code",
      "source": [
        "surprise_results = pd.DataFrame(benchmark).set_index('Algorithm').sort_values('test_rmse')"
      ],
      "metadata": {
        "id": "1F3e-tI5lqef"
      },
      "execution_count": null,
      "outputs": []
    },
    {
      "cell_type": "code",
      "source": [
        "surprise_results"
      ],
      "metadata": {
        "colab": {
          "base_uri": "https://localhost:8080/",
          "height": 426
        },
        "id": "w1KP230Clrtc",
        "outputId": "6ca34cbc-6592-4a83-d2cb-062b0e1e4477"
      },
      "execution_count": null,
      "outputs": [
        {
          "output_type": "execute_result",
          "data": {
            "text/plain": [
              "                 test_rmse   fit_time  test_time\n",
              "Algorithm                                       \n",
              "BaselineOnly      3.377778   0.433086   0.389841\n",
              "CoClustering      3.466766   2.673927   0.535719\n",
              "SlopeOne          3.473029   0.766475   4.098478\n",
              "KNNBaseline       3.489354   1.009285   6.008245\n",
              "KNNWithMeans      3.490616   0.624383   5.215880\n",
              "KNNWithZScore     3.498534   0.727531   5.559130\n",
              "SVD               3.538699   1.787934   0.617917\n",
              "KNNBasic          3.720804   0.550464   5.039940\n",
              "SVDpp             3.788837  19.554731   8.292956\n",
              "NMF               3.841730   2.509608   0.435517\n",
              "NormalPredictor   4.669247   0.248922   0.605303"
            ],
            "text/html": [
              "\n",
              "  <div id=\"df-65ce6a1e-1b55-41b5-a9e4-e199727c56d4\">\n",
              "    <div class=\"colab-df-container\">\n",
              "      <div>\n",
              "<style scoped>\n",
              "    .dataframe tbody tr th:only-of-type {\n",
              "        vertical-align: middle;\n",
              "    }\n",
              "\n",
              "    .dataframe tbody tr th {\n",
              "        vertical-align: top;\n",
              "    }\n",
              "\n",
              "    .dataframe thead th {\n",
              "        text-align: right;\n",
              "    }\n",
              "</style>\n",
              "<table border=\"1\" class=\"dataframe\">\n",
              "  <thead>\n",
              "    <tr style=\"text-align: right;\">\n",
              "      <th></th>\n",
              "      <th>test_rmse</th>\n",
              "      <th>fit_time</th>\n",
              "      <th>test_time</th>\n",
              "    </tr>\n",
              "    <tr>\n",
              "      <th>Algorithm</th>\n",
              "      <th></th>\n",
              "      <th></th>\n",
              "      <th></th>\n",
              "    </tr>\n",
              "  </thead>\n",
              "  <tbody>\n",
              "    <tr>\n",
              "      <th>BaselineOnly</th>\n",
              "      <td>3.377778</td>\n",
              "      <td>0.433086</td>\n",
              "      <td>0.389841</td>\n",
              "    </tr>\n",
              "    <tr>\n",
              "      <th>CoClustering</th>\n",
              "      <td>3.466766</td>\n",
              "      <td>2.673927</td>\n",
              "      <td>0.535719</td>\n",
              "    </tr>\n",
              "    <tr>\n",
              "      <th>SlopeOne</th>\n",
              "      <td>3.473029</td>\n",
              "      <td>0.766475</td>\n",
              "      <td>4.098478</td>\n",
              "    </tr>\n",
              "    <tr>\n",
              "      <th>KNNBaseline</th>\n",
              "      <td>3.489354</td>\n",
              "      <td>1.009285</td>\n",
              "      <td>6.008245</td>\n",
              "    </tr>\n",
              "    <tr>\n",
              "      <th>KNNWithMeans</th>\n",
              "      <td>3.490616</td>\n",
              "      <td>0.624383</td>\n",
              "      <td>5.215880</td>\n",
              "    </tr>\n",
              "    <tr>\n",
              "      <th>KNNWithZScore</th>\n",
              "      <td>3.498534</td>\n",
              "      <td>0.727531</td>\n",
              "      <td>5.559130</td>\n",
              "    </tr>\n",
              "    <tr>\n",
              "      <th>SVD</th>\n",
              "      <td>3.538699</td>\n",
              "      <td>1.787934</td>\n",
              "      <td>0.617917</td>\n",
              "    </tr>\n",
              "    <tr>\n",
              "      <th>KNNBasic</th>\n",
              "      <td>3.720804</td>\n",
              "      <td>0.550464</td>\n",
              "      <td>5.039940</td>\n",
              "    </tr>\n",
              "    <tr>\n",
              "      <th>SVDpp</th>\n",
              "      <td>3.788837</td>\n",
              "      <td>19.554731</td>\n",
              "      <td>8.292956</td>\n",
              "    </tr>\n",
              "    <tr>\n",
              "      <th>NMF</th>\n",
              "      <td>3.841730</td>\n",
              "      <td>2.509608</td>\n",
              "      <td>0.435517</td>\n",
              "    </tr>\n",
              "    <tr>\n",
              "      <th>NormalPredictor</th>\n",
              "      <td>4.669247</td>\n",
              "      <td>0.248922</td>\n",
              "      <td>0.605303</td>\n",
              "    </tr>\n",
              "  </tbody>\n",
              "</table>\n",
              "</div>\n",
              "      <button class=\"colab-df-convert\" onclick=\"convertToInteractive('df-65ce6a1e-1b55-41b5-a9e4-e199727c56d4')\"\n",
              "              title=\"Convert this dataframe to an interactive table.\"\n",
              "              style=\"display:none;\">\n",
              "        \n",
              "  <svg xmlns=\"http://www.w3.org/2000/svg\" height=\"24px\"viewBox=\"0 0 24 24\"\n",
              "       width=\"24px\">\n",
              "    <path d=\"M0 0h24v24H0V0z\" fill=\"none\"/>\n",
              "    <path d=\"M18.56 5.44l.94 2.06.94-2.06 2.06-.94-2.06-.94-.94-2.06-.94 2.06-2.06.94zm-11 1L8.5 8.5l.94-2.06 2.06-.94-2.06-.94L8.5 2.5l-.94 2.06-2.06.94zm10 10l.94 2.06.94-2.06 2.06-.94-2.06-.94-.94-2.06-.94 2.06-2.06.94z\"/><path d=\"M17.41 7.96l-1.37-1.37c-.4-.4-.92-.59-1.43-.59-.52 0-1.04.2-1.43.59L10.3 9.45l-7.72 7.72c-.78.78-.78 2.05 0 2.83L4 21.41c.39.39.9.59 1.41.59.51 0 1.02-.2 1.41-.59l7.78-7.78 2.81-2.81c.8-.78.8-2.07 0-2.86zM5.41 20L4 18.59l7.72-7.72 1.47 1.35L5.41 20z\"/>\n",
              "  </svg>\n",
              "      </button>\n",
              "      \n",
              "  <style>\n",
              "    .colab-df-container {\n",
              "      display:flex;\n",
              "      flex-wrap:wrap;\n",
              "      gap: 12px;\n",
              "    }\n",
              "\n",
              "    .colab-df-convert {\n",
              "      background-color: #E8F0FE;\n",
              "      border: none;\n",
              "      border-radius: 50%;\n",
              "      cursor: pointer;\n",
              "      display: none;\n",
              "      fill: #1967D2;\n",
              "      height: 32px;\n",
              "      padding: 0 0 0 0;\n",
              "      width: 32px;\n",
              "    }\n",
              "\n",
              "    .colab-df-convert:hover {\n",
              "      background-color: #E2EBFA;\n",
              "      box-shadow: 0px 1px 2px rgba(60, 64, 67, 0.3), 0px 1px 3px 1px rgba(60, 64, 67, 0.15);\n",
              "      fill: #174EA6;\n",
              "    }\n",
              "\n",
              "    [theme=dark] .colab-df-convert {\n",
              "      background-color: #3B4455;\n",
              "      fill: #D2E3FC;\n",
              "    }\n",
              "\n",
              "    [theme=dark] .colab-df-convert:hover {\n",
              "      background-color: #434B5C;\n",
              "      box-shadow: 0px 1px 3px 1px rgba(0, 0, 0, 0.15);\n",
              "      filter: drop-shadow(0px 1px 2px rgba(0, 0, 0, 0.3));\n",
              "      fill: #FFFFFF;\n",
              "    }\n",
              "  </style>\n",
              "\n",
              "      <script>\n",
              "        const buttonEl =\n",
              "          document.querySelector('#df-65ce6a1e-1b55-41b5-a9e4-e199727c56d4 button.colab-df-convert');\n",
              "        buttonEl.style.display =\n",
              "          google.colab.kernel.accessAllowed ? 'block' : 'none';\n",
              "\n",
              "        async function convertToInteractive(key) {\n",
              "          const element = document.querySelector('#df-65ce6a1e-1b55-41b5-a9e4-e199727c56d4');\n",
              "          const dataTable =\n",
              "            await google.colab.kernel.invokeFunction('convertToInteractive',\n",
              "                                                     [key], {});\n",
              "          if (!dataTable) return;\n",
              "\n",
              "          const docLinkHtml = 'Like what you see? Visit the ' +\n",
              "            '<a target=\"_blank\" href=https://colab.research.google.com/notebooks/data_table.ipynb>data table notebook</a>'\n",
              "            + ' to learn more about interactive tables.';\n",
              "          element.innerHTML = '';\n",
              "          dataTable['output_type'] = 'display_data';\n",
              "          await google.colab.output.renderOutput(dataTable, element);\n",
              "          const docLink = document.createElement('div');\n",
              "          docLink.innerHTML = docLinkHtml;\n",
              "          element.appendChild(docLink);\n",
              "        }\n",
              "      </script>\n",
              "    </div>\n",
              "  </div>\n",
              "  "
            ]
          },
          "metadata": {},
          "execution_count": 97
        }
      ]
    },
    {
      "cell_type": "markdown",
      "source": [
        "L'algoritmo BaselineOnly ci ha fornito il miglior RMSE, pertanto procederemo con questo nella nostra analisi.\n",
        "\n",
        "Ricordiamo che BaselineOnly è un algoritmo che prevede la stima di base, dati un utente e un prodotto. Tale stima si può ottenere in due modi: attraverso uno Stochastic Gradient Descent (SGD) oppure usando un Alternating Least Squares (ALS). \n",
        "UTilizziamo i minimi quadrati alternati (ALS), il metodo di default e inizializziamo l'algoritmo passandogli un dizionario di configurazione con dei parametri indicati nella documentazione:\n",
        "\n",
        "\n",
        "*   **n_epochs** numero di iterazioni della procedura ALS\n",
        "*   **reg_i** parametro di regolarizzazione per gli items\n",
        "*   **reg_u** parametro di regolarizzazione per gli users\n",
        "\n",
        "\n",
        "\n"
      ],
      "metadata": {
        "id": "Tzs2pVEXluAA"
      }
    },
    {
      "cell_type": "code",
      "source": [
        "bsl_options = {'method': 'als',\n",
        "               'n_epochs': 5,\n",
        "               'reg_u': 12,\n",
        "               'reg_i': 5\n",
        "               }\n",
        "algo = BaselineOnly(bsl_options=bsl_options)\n",
        "cross_validate(algo, data, measures=['RMSE'], cv=3, verbose=False)"
      ],
      "metadata": {
        "colab": {
          "base_uri": "https://localhost:8080/"
        },
        "id": "ImYUEpQUmbxI",
        "outputId": "c600229e-4003-4748-8ab6-fbbcbe9f5200"
      },
      "execution_count": null,
      "outputs": [
        {
          "output_type": "stream",
          "name": "stdout",
          "text": [
            "Estimating biases using als...\n",
            "Estimating biases using als...\n",
            "Estimating biases using als...\n"
          ]
        },
        {
          "output_type": "execute_result",
          "data": {
            "text/plain": [
              "{'test_rmse': array([3.36461258, 3.37347253, 3.38736279]),\n",
              " 'fit_time': (0.24920940399169922, 0.2742276191711426, 0.27121400833129883),\n",
              " 'test_time': (0.38730454444885254, 0.37871551513671875, 0.23852801322937012)}"
            ]
          },
          "metadata": {},
          "execution_count": 98
        }
      ]
    },
    {
      "cell_type": "markdown",
      "source": [
        "Utilizziamo il metodo train_test_split() per ricavare un trainset e un testset Il metodo fit() addestrerà l'algoritmo sul trainset e il metodo test() restituirà le previsioni fatte dal testset."
      ],
      "metadata": {
        "id": "PhL-5LHr62mu"
      }
    },
    {
      "cell_type": "code",
      "source": [
        "trainset, testset = train_test_split(data, test_size=0.25)\n",
        "algo = BaselineOnly(bsl_options=bsl_options)\n",
        "predictions = algo.fit(trainset).test(testset)\n",
        "accuracy.rmse(predictions)"
      ],
      "metadata": {
        "colab": {
          "base_uri": "https://localhost:8080/"
        },
        "id": "TXAxOO9kmiOp",
        "outputId": "efac4e4c-c427-4dee-bb70-5126d045e136"
      },
      "execution_count": null,
      "outputs": [
        {
          "output_type": "stream",
          "name": "stdout",
          "text": [
            "Estimating biases using als...\n",
            "RMSE: 3.3626\n"
          ]
        },
        {
          "output_type": "execute_result",
          "data": {
            "text/plain": [
              "3.3626198887146947"
            ]
          },
          "metadata": {},
          "execution_count": 99
        }
      ]
    },
    {
      "cell_type": "markdown",
      "source": [
        "Per analizzate le previsioni nel dettaglio, inseriamole in un data frame pandas.\n",
        "\n",
        "*   **get_ratedByUser**: restituisce il numero di items valutati da un dato user;\n",
        "*   **get_usersRatedItem**: restituisce il numero di utenti che hanno valutato un dato item.\n",
        "\n"
      ],
      "metadata": {
        "id": "qdUT8fSa6-DH"
      }
    },
    {
      "cell_type": "code",
      "source": [
        "def get_ratedByUser(uid):\n",
        "    try:\n",
        "        return len(trainset.ur[trainset.to_inner_uid(uid)])\n",
        "    except ValueError:\n",
        "        return 0\n",
        "    \n",
        "def get_usersRatedItem(iid):\n",
        "    try: \n",
        "        return len(trainset.ir[trainset.to_inner_iid(iid)])\n",
        "    except ValueError:\n",
        "        return 0\n",
        "    \n",
        "prediction_df = pd.DataFrame(predictions, columns=['user_id', 'item_id', 'rating', 'val_predetto', 'dettagli'])\n",
        "prediction_df['votati da U'] = prediction_df.user_id.apply(get_ratedByUser)\n",
        "prediction_df['U che hanno votato Item'] = prediction_df.item_id.apply(get_usersRatedItem)\n",
        "prediction_df['Errore'] = abs(prediction_df.val_predetto - prediction_df.rating)"
      ],
      "metadata": {
        "id": "4dWP9JXjmsUA"
      },
      "execution_count": null,
      "outputs": []
    },
    {
      "cell_type": "code",
      "source": [
        "trainset = algo.trainset"
      ],
      "metadata": {
        "id": "_sPTyjdQmnv9"
      },
      "execution_count": null,
      "outputs": []
    },
    {
      "cell_type": "code",
      "source": [
        "prediction_df.head()"
      ],
      "metadata": {
        "colab": {
          "base_uri": "https://localhost:8080/",
          "height": 206
        },
        "id": "lEzxoHH4muG2",
        "outputId": "2978fe95-df8b-4d23-a58b-f90b81be9524"
      },
      "execution_count": null,
      "outputs": [
        {
          "output_type": "execute_result",
          "data": {
            "text/plain": [
              "   user_id     item_id  rating  val_predetto                   dettagli  \\\n",
              "0   126296  0590660543     8.0      3.982121  {'was_impossible': False}   \n",
              "1    18082  0804106304     0.0      2.376346  {'was_impossible': False}   \n",
              "2   254465  006109921X     0.0      2.101466  {'was_impossible': False}   \n",
              "3   107784  0440110653     8.0      1.970328  {'was_impossible': False}   \n",
              "4   157799  0743439740     0.0      2.521005  {'was_impossible': False}   \n",
              "\n",
              "   votati da U  U che hanno votato Item    Errore  \n",
              "0           35                       32  4.017879  \n",
              "1           22                      208  2.376346  \n",
              "2          171                       40  2.101466  \n",
              "3          109                       31  6.029672  \n",
              "4           31                       43  2.521005  "
            ],
            "text/html": [
              "\n",
              "  <div id=\"df-624cc4b3-557d-4eb5-98c2-843410831ffb\">\n",
              "    <div class=\"colab-df-container\">\n",
              "      <div>\n",
              "<style scoped>\n",
              "    .dataframe tbody tr th:only-of-type {\n",
              "        vertical-align: middle;\n",
              "    }\n",
              "\n",
              "    .dataframe tbody tr th {\n",
              "        vertical-align: top;\n",
              "    }\n",
              "\n",
              "    .dataframe thead th {\n",
              "        text-align: right;\n",
              "    }\n",
              "</style>\n",
              "<table border=\"1\" class=\"dataframe\">\n",
              "  <thead>\n",
              "    <tr style=\"text-align: right;\">\n",
              "      <th></th>\n",
              "      <th>user_id</th>\n",
              "      <th>item_id</th>\n",
              "      <th>rating</th>\n",
              "      <th>val_predetto</th>\n",
              "      <th>dettagli</th>\n",
              "      <th>votati da U</th>\n",
              "      <th>U che hanno votato Item</th>\n",
              "      <th>Errore</th>\n",
              "    </tr>\n",
              "  </thead>\n",
              "  <tbody>\n",
              "    <tr>\n",
              "      <th>0</th>\n",
              "      <td>126296</td>\n",
              "      <td>0590660543</td>\n",
              "      <td>8.0</td>\n",
              "      <td>3.982121</td>\n",
              "      <td>{'was_impossible': False}</td>\n",
              "      <td>35</td>\n",
              "      <td>32</td>\n",
              "      <td>4.017879</td>\n",
              "    </tr>\n",
              "    <tr>\n",
              "      <th>1</th>\n",
              "      <td>18082</td>\n",
              "      <td>0804106304</td>\n",
              "      <td>0.0</td>\n",
              "      <td>2.376346</td>\n",
              "      <td>{'was_impossible': False}</td>\n",
              "      <td>22</td>\n",
              "      <td>208</td>\n",
              "      <td>2.376346</td>\n",
              "    </tr>\n",
              "    <tr>\n",
              "      <th>2</th>\n",
              "      <td>254465</td>\n",
              "      <td>006109921X</td>\n",
              "      <td>0.0</td>\n",
              "      <td>2.101466</td>\n",
              "      <td>{'was_impossible': False}</td>\n",
              "      <td>171</td>\n",
              "      <td>40</td>\n",
              "      <td>2.101466</td>\n",
              "    </tr>\n",
              "    <tr>\n",
              "      <th>3</th>\n",
              "      <td>107784</td>\n",
              "      <td>0440110653</td>\n",
              "      <td>8.0</td>\n",
              "      <td>1.970328</td>\n",
              "      <td>{'was_impossible': False}</td>\n",
              "      <td>109</td>\n",
              "      <td>31</td>\n",
              "      <td>6.029672</td>\n",
              "    </tr>\n",
              "    <tr>\n",
              "      <th>4</th>\n",
              "      <td>157799</td>\n",
              "      <td>0743439740</td>\n",
              "      <td>0.0</td>\n",
              "      <td>2.521005</td>\n",
              "      <td>{'was_impossible': False}</td>\n",
              "      <td>31</td>\n",
              "      <td>43</td>\n",
              "      <td>2.521005</td>\n",
              "    </tr>\n",
              "  </tbody>\n",
              "</table>\n",
              "</div>\n",
              "      <button class=\"colab-df-convert\" onclick=\"convertToInteractive('df-624cc4b3-557d-4eb5-98c2-843410831ffb')\"\n",
              "              title=\"Convert this dataframe to an interactive table.\"\n",
              "              style=\"display:none;\">\n",
              "        \n",
              "  <svg xmlns=\"http://www.w3.org/2000/svg\" height=\"24px\"viewBox=\"0 0 24 24\"\n",
              "       width=\"24px\">\n",
              "    <path d=\"M0 0h24v24H0V0z\" fill=\"none\"/>\n",
              "    <path d=\"M18.56 5.44l.94 2.06.94-2.06 2.06-.94-2.06-.94-.94-2.06-.94 2.06-2.06.94zm-11 1L8.5 8.5l.94-2.06 2.06-.94-2.06-.94L8.5 2.5l-.94 2.06-2.06.94zm10 10l.94 2.06.94-2.06 2.06-.94-2.06-.94-.94-2.06-.94 2.06-2.06.94z\"/><path d=\"M17.41 7.96l-1.37-1.37c-.4-.4-.92-.59-1.43-.59-.52 0-1.04.2-1.43.59L10.3 9.45l-7.72 7.72c-.78.78-.78 2.05 0 2.83L4 21.41c.39.39.9.59 1.41.59.51 0 1.02-.2 1.41-.59l7.78-7.78 2.81-2.81c.8-.78.8-2.07 0-2.86zM5.41 20L4 18.59l7.72-7.72 1.47 1.35L5.41 20z\"/>\n",
              "  </svg>\n",
              "      </button>\n",
              "      \n",
              "  <style>\n",
              "    .colab-df-container {\n",
              "      display:flex;\n",
              "      flex-wrap:wrap;\n",
              "      gap: 12px;\n",
              "    }\n",
              "\n",
              "    .colab-df-convert {\n",
              "      background-color: #E8F0FE;\n",
              "      border: none;\n",
              "      border-radius: 50%;\n",
              "      cursor: pointer;\n",
              "      display: none;\n",
              "      fill: #1967D2;\n",
              "      height: 32px;\n",
              "      padding: 0 0 0 0;\n",
              "      width: 32px;\n",
              "    }\n",
              "\n",
              "    .colab-df-convert:hover {\n",
              "      background-color: #E2EBFA;\n",
              "      box-shadow: 0px 1px 2px rgba(60, 64, 67, 0.3), 0px 1px 3px 1px rgba(60, 64, 67, 0.15);\n",
              "      fill: #174EA6;\n",
              "    }\n",
              "\n",
              "    [theme=dark] .colab-df-convert {\n",
              "      background-color: #3B4455;\n",
              "      fill: #D2E3FC;\n",
              "    }\n",
              "\n",
              "    [theme=dark] .colab-df-convert:hover {\n",
              "      background-color: #434B5C;\n",
              "      box-shadow: 0px 1px 3px 1px rgba(0, 0, 0, 0.15);\n",
              "      filter: drop-shadow(0px 1px 2px rgba(0, 0, 0, 0.3));\n",
              "      fill: #FFFFFF;\n",
              "    }\n",
              "  </style>\n",
              "\n",
              "      <script>\n",
              "        const buttonEl =\n",
              "          document.querySelector('#df-624cc4b3-557d-4eb5-98c2-843410831ffb button.colab-df-convert');\n",
              "        buttonEl.style.display =\n",
              "          google.colab.kernel.accessAllowed ? 'block' : 'none';\n",
              "\n",
              "        async function convertToInteractive(key) {\n",
              "          const element = document.querySelector('#df-624cc4b3-557d-4eb5-98c2-843410831ffb');\n",
              "          const dataTable =\n",
              "            await google.colab.kernel.invokeFunction('convertToInteractive',\n",
              "                                                     [key], {});\n",
              "          if (!dataTable) return;\n",
              "\n",
              "          const docLinkHtml = 'Like what you see? Visit the ' +\n",
              "            '<a target=\"_blank\" href=https://colab.research.google.com/notebooks/data_table.ipynb>data table notebook</a>'\n",
              "            + ' to learn more about interactive tables.';\n",
              "          element.innerHTML = '';\n",
              "          dataTable['output_type'] = 'display_data';\n",
              "          await google.colab.output.renderOutput(dataTable, element);\n",
              "          const docLink = document.createElement('div');\n",
              "          docLink.innerHTML = docLinkHtml;\n",
              "          element.appendChild(docLink);\n",
              "        }\n",
              "      </script>\n",
              "    </div>\n",
              "  </div>\n",
              "  "
            ]
          },
          "metadata": {},
          "execution_count": 102
        }
      ]
    },
    {
      "cell_type": "code",
      "source": [
        "best_predictions = prediction_df.sort_values(by='Errore')[:10]\n",
        "worst_predictions = prediction_df.sort_values(by='Errore')[-10:]"
      ],
      "metadata": {
        "id": "HNVcZjCkm12G"
      },
      "execution_count": null,
      "outputs": []
    },
    {
      "cell_type": "code",
      "source": [
        "best_predictions"
      ],
      "metadata": {
        "colab": {
          "base_uri": "https://localhost:8080/",
          "height": 363
        },
        "id": "xAmR4wk-m3fw",
        "outputId": "da12308f-a044-4d13-a5f0-838408d71607"
      },
      "execution_count": null,
      "outputs": [
        {
          "output_type": "execute_result",
          "data": {
            "text/plain": [
              "       user_id     item_id  rating  val_predetto                   dettagli  \\\n",
              "4718     76352  0553566032     0.0           0.0  {'was_impossible': False}   \n",
              "33296   246655  0671000314     0.0           0.0  {'was_impossible': False}   \n",
              "26944   145451  0451202317     0.0           0.0  {'was_impossible': False}   \n",
              "20570   198711  0425150143     0.0           0.0  {'was_impossible': False}   \n",
              "14940    87746  0061031410     0.0           0.0  {'was_impossible': False}   \n",
              "14958   232131  0061030635     0.0           0.0  {'was_impossible': False}   \n",
              "6083     59971  0061099694     0.0           0.0  {'was_impossible': False}   \n",
              "33312    95923  0971880107     0.0           0.0  {'was_impossible': False}   \n",
              "33320   238120  006101351X     0.0           0.0  {'was_impossible': False}   \n",
              "26953   145451  0440217466     0.0           0.0  {'was_impossible': False}   \n",
              "\n",
              "       votati da U  U che hanno votato Item  Errore  \n",
              "4718           518                       29     0.0  \n",
              "33296           95                       33     0.0  \n",
              "26944          151                       31     0.0  \n",
              "20570          369                       47     0.0  \n",
              "14940          163                       34     0.0  \n",
              "14958          358                       29     0.0  \n",
              "6083            46                       31     0.0  \n",
              "33312           23                      642     0.0  \n",
              "33320          330                      161     0.0  \n",
              "26953          151                       29     0.0  "
            ],
            "text/html": [
              "\n",
              "  <div id=\"df-bb53db35-736f-40e9-acc3-1eacfae39b14\">\n",
              "    <div class=\"colab-df-container\">\n",
              "      <div>\n",
              "<style scoped>\n",
              "    .dataframe tbody tr th:only-of-type {\n",
              "        vertical-align: middle;\n",
              "    }\n",
              "\n",
              "    .dataframe tbody tr th {\n",
              "        vertical-align: top;\n",
              "    }\n",
              "\n",
              "    .dataframe thead th {\n",
              "        text-align: right;\n",
              "    }\n",
              "</style>\n",
              "<table border=\"1\" class=\"dataframe\">\n",
              "  <thead>\n",
              "    <tr style=\"text-align: right;\">\n",
              "      <th></th>\n",
              "      <th>user_id</th>\n",
              "      <th>item_id</th>\n",
              "      <th>rating</th>\n",
              "      <th>val_predetto</th>\n",
              "      <th>dettagli</th>\n",
              "      <th>votati da U</th>\n",
              "      <th>U che hanno votato Item</th>\n",
              "      <th>Errore</th>\n",
              "    </tr>\n",
              "  </thead>\n",
              "  <tbody>\n",
              "    <tr>\n",
              "      <th>4718</th>\n",
              "      <td>76352</td>\n",
              "      <td>0553566032</td>\n",
              "      <td>0.0</td>\n",
              "      <td>0.0</td>\n",
              "      <td>{'was_impossible': False}</td>\n",
              "      <td>518</td>\n",
              "      <td>29</td>\n",
              "      <td>0.0</td>\n",
              "    </tr>\n",
              "    <tr>\n",
              "      <th>33296</th>\n",
              "      <td>246655</td>\n",
              "      <td>0671000314</td>\n",
              "      <td>0.0</td>\n",
              "      <td>0.0</td>\n",
              "      <td>{'was_impossible': False}</td>\n",
              "      <td>95</td>\n",
              "      <td>33</td>\n",
              "      <td>0.0</td>\n",
              "    </tr>\n",
              "    <tr>\n",
              "      <th>26944</th>\n",
              "      <td>145451</td>\n",
              "      <td>0451202317</td>\n",
              "      <td>0.0</td>\n",
              "      <td>0.0</td>\n",
              "      <td>{'was_impossible': False}</td>\n",
              "      <td>151</td>\n",
              "      <td>31</td>\n",
              "      <td>0.0</td>\n",
              "    </tr>\n",
              "    <tr>\n",
              "      <th>20570</th>\n",
              "      <td>198711</td>\n",
              "      <td>0425150143</td>\n",
              "      <td>0.0</td>\n",
              "      <td>0.0</td>\n",
              "      <td>{'was_impossible': False}</td>\n",
              "      <td>369</td>\n",
              "      <td>47</td>\n",
              "      <td>0.0</td>\n",
              "    </tr>\n",
              "    <tr>\n",
              "      <th>14940</th>\n",
              "      <td>87746</td>\n",
              "      <td>0061031410</td>\n",
              "      <td>0.0</td>\n",
              "      <td>0.0</td>\n",
              "      <td>{'was_impossible': False}</td>\n",
              "      <td>163</td>\n",
              "      <td>34</td>\n",
              "      <td>0.0</td>\n",
              "    </tr>\n",
              "    <tr>\n",
              "      <th>14958</th>\n",
              "      <td>232131</td>\n",
              "      <td>0061030635</td>\n",
              "      <td>0.0</td>\n",
              "      <td>0.0</td>\n",
              "      <td>{'was_impossible': False}</td>\n",
              "      <td>358</td>\n",
              "      <td>29</td>\n",
              "      <td>0.0</td>\n",
              "    </tr>\n",
              "    <tr>\n",
              "      <th>6083</th>\n",
              "      <td>59971</td>\n",
              "      <td>0061099694</td>\n",
              "      <td>0.0</td>\n",
              "      <td>0.0</td>\n",
              "      <td>{'was_impossible': False}</td>\n",
              "      <td>46</td>\n",
              "      <td>31</td>\n",
              "      <td>0.0</td>\n",
              "    </tr>\n",
              "    <tr>\n",
              "      <th>33312</th>\n",
              "      <td>95923</td>\n",
              "      <td>0971880107</td>\n",
              "      <td>0.0</td>\n",
              "      <td>0.0</td>\n",
              "      <td>{'was_impossible': False}</td>\n",
              "      <td>23</td>\n",
              "      <td>642</td>\n",
              "      <td>0.0</td>\n",
              "    </tr>\n",
              "    <tr>\n",
              "      <th>33320</th>\n",
              "      <td>238120</td>\n",
              "      <td>006101351X</td>\n",
              "      <td>0.0</td>\n",
              "      <td>0.0</td>\n",
              "      <td>{'was_impossible': False}</td>\n",
              "      <td>330</td>\n",
              "      <td>161</td>\n",
              "      <td>0.0</td>\n",
              "    </tr>\n",
              "    <tr>\n",
              "      <th>26953</th>\n",
              "      <td>145451</td>\n",
              "      <td>0440217466</td>\n",
              "      <td>0.0</td>\n",
              "      <td>0.0</td>\n",
              "      <td>{'was_impossible': False}</td>\n",
              "      <td>151</td>\n",
              "      <td>29</td>\n",
              "      <td>0.0</td>\n",
              "    </tr>\n",
              "  </tbody>\n",
              "</table>\n",
              "</div>\n",
              "      <button class=\"colab-df-convert\" onclick=\"convertToInteractive('df-bb53db35-736f-40e9-acc3-1eacfae39b14')\"\n",
              "              title=\"Convert this dataframe to an interactive table.\"\n",
              "              style=\"display:none;\">\n",
              "        \n",
              "  <svg xmlns=\"http://www.w3.org/2000/svg\" height=\"24px\"viewBox=\"0 0 24 24\"\n",
              "       width=\"24px\">\n",
              "    <path d=\"M0 0h24v24H0V0z\" fill=\"none\"/>\n",
              "    <path d=\"M18.56 5.44l.94 2.06.94-2.06 2.06-.94-2.06-.94-.94-2.06-.94 2.06-2.06.94zm-11 1L8.5 8.5l.94-2.06 2.06-.94-2.06-.94L8.5 2.5l-.94 2.06-2.06.94zm10 10l.94 2.06.94-2.06 2.06-.94-2.06-.94-.94-2.06-.94 2.06-2.06.94z\"/><path d=\"M17.41 7.96l-1.37-1.37c-.4-.4-.92-.59-1.43-.59-.52 0-1.04.2-1.43.59L10.3 9.45l-7.72 7.72c-.78.78-.78 2.05 0 2.83L4 21.41c.39.39.9.59 1.41.59.51 0 1.02-.2 1.41-.59l7.78-7.78 2.81-2.81c.8-.78.8-2.07 0-2.86zM5.41 20L4 18.59l7.72-7.72 1.47 1.35L5.41 20z\"/>\n",
              "  </svg>\n",
              "      </button>\n",
              "      \n",
              "  <style>\n",
              "    .colab-df-container {\n",
              "      display:flex;\n",
              "      flex-wrap:wrap;\n",
              "      gap: 12px;\n",
              "    }\n",
              "\n",
              "    .colab-df-convert {\n",
              "      background-color: #E8F0FE;\n",
              "      border: none;\n",
              "      border-radius: 50%;\n",
              "      cursor: pointer;\n",
              "      display: none;\n",
              "      fill: #1967D2;\n",
              "      height: 32px;\n",
              "      padding: 0 0 0 0;\n",
              "      width: 32px;\n",
              "    }\n",
              "\n",
              "    .colab-df-convert:hover {\n",
              "      background-color: #E2EBFA;\n",
              "      box-shadow: 0px 1px 2px rgba(60, 64, 67, 0.3), 0px 1px 3px 1px rgba(60, 64, 67, 0.15);\n",
              "      fill: #174EA6;\n",
              "    }\n",
              "\n",
              "    [theme=dark] .colab-df-convert {\n",
              "      background-color: #3B4455;\n",
              "      fill: #D2E3FC;\n",
              "    }\n",
              "\n",
              "    [theme=dark] .colab-df-convert:hover {\n",
              "      background-color: #434B5C;\n",
              "      box-shadow: 0px 1px 3px 1px rgba(0, 0, 0, 0.15);\n",
              "      filter: drop-shadow(0px 1px 2px rgba(0, 0, 0, 0.3));\n",
              "      fill: #FFFFFF;\n",
              "    }\n",
              "  </style>\n",
              "\n",
              "      <script>\n",
              "        const buttonEl =\n",
              "          document.querySelector('#df-bb53db35-736f-40e9-acc3-1eacfae39b14 button.colab-df-convert');\n",
              "        buttonEl.style.display =\n",
              "          google.colab.kernel.accessAllowed ? 'block' : 'none';\n",
              "\n",
              "        async function convertToInteractive(key) {\n",
              "          const element = document.querySelector('#df-bb53db35-736f-40e9-acc3-1eacfae39b14');\n",
              "          const dataTable =\n",
              "            await google.colab.kernel.invokeFunction('convertToInteractive',\n",
              "                                                     [key], {});\n",
              "          if (!dataTable) return;\n",
              "\n",
              "          const docLinkHtml = 'Like what you see? Visit the ' +\n",
              "            '<a target=\"_blank\" href=https://colab.research.google.com/notebooks/data_table.ipynb>data table notebook</a>'\n",
              "            + ' to learn more about interactive tables.';\n",
              "          element.innerHTML = '';\n",
              "          dataTable['output_type'] = 'display_data';\n",
              "          await google.colab.output.renderOutput(dataTable, element);\n",
              "          const docLink = document.createElement('div');\n",
              "          docLink.innerHTML = docLinkHtml;\n",
              "          element.appendChild(docLink);\n",
              "        }\n",
              "      </script>\n",
              "    </div>\n",
              "  </div>\n",
              "  "
            ]
          },
          "metadata": {},
          "execution_count": 104
        }
      ]
    },
    {
      "cell_type": "code",
      "source": [
        "worst_predictions"
      ],
      "metadata": {
        "colab": {
          "base_uri": "https://localhost:8080/",
          "height": 363
        },
        "id": "yC--3onDm9m-",
        "outputId": "c7b937e1-79ee-4be5-de3d-5f55d4906c9c"
      },
      "execution_count": null,
      "outputs": [
        {
          "output_type": "execute_result",
          "data": {
            "text/plain": [
              "       user_id     item_id  rating  val_predetto                   dettagli  \\\n",
              "14361    69232  0440222656    10.0      0.470546  {'was_impossible': False}   \n",
              "10467   116599  0440170796    10.0      0.315423  {'was_impossible': False}   \n",
              "5104    190708  0380710722    10.0      0.309980  {'was_impossible': False}   \n",
              "2583     14897  0515099546    10.0      0.291709  {'was_impossible': False}   \n",
              "23011    40943  0380710722    10.0      0.095325  {'was_impossible': False}   \n",
              "3738     73394  0345387651    10.0      0.080241  {'was_impossible': False}   \n",
              "23015   245963  0425130711    10.0      0.042675  {'was_impossible': False}   \n",
              "21587   205735  0373825013    10.0      0.000000  {'was_impossible': False}   \n",
              "13966   172030  0425125467    10.0      0.000000  {'was_impossible': False}   \n",
              "21429   238120  0385413041    10.0      0.000000  {'was_impossible': False}   \n",
              "\n",
              "       votati da U  U che hanno votato Item     Errore  \n",
              "14361          138                      195   9.529454  \n",
              "10467           56                       28   9.684577  \n",
              "5104            77                       54   9.690020  \n",
              "2583            28                       26   9.708291  \n",
              "23011          137                       54   9.904675  \n",
              "3738           225                      109   9.919759  \n",
              "23015          147                       39   9.957325  \n",
              "21587           90                       64  10.000000  \n",
              "13966          103                       30  10.000000  \n",
              "21429          330                       29  10.000000  "
            ],
            "text/html": [
              "\n",
              "  <div id=\"df-e1db1cd8-427b-4ab7-a09a-ef5b65322554\">\n",
              "    <div class=\"colab-df-container\">\n",
              "      <div>\n",
              "<style scoped>\n",
              "    .dataframe tbody tr th:only-of-type {\n",
              "        vertical-align: middle;\n",
              "    }\n",
              "\n",
              "    .dataframe tbody tr th {\n",
              "        vertical-align: top;\n",
              "    }\n",
              "\n",
              "    .dataframe thead th {\n",
              "        text-align: right;\n",
              "    }\n",
              "</style>\n",
              "<table border=\"1\" class=\"dataframe\">\n",
              "  <thead>\n",
              "    <tr style=\"text-align: right;\">\n",
              "      <th></th>\n",
              "      <th>user_id</th>\n",
              "      <th>item_id</th>\n",
              "      <th>rating</th>\n",
              "      <th>val_predetto</th>\n",
              "      <th>dettagli</th>\n",
              "      <th>votati da U</th>\n",
              "      <th>U che hanno votato Item</th>\n",
              "      <th>Errore</th>\n",
              "    </tr>\n",
              "  </thead>\n",
              "  <tbody>\n",
              "    <tr>\n",
              "      <th>14361</th>\n",
              "      <td>69232</td>\n",
              "      <td>0440222656</td>\n",
              "      <td>10.0</td>\n",
              "      <td>0.470546</td>\n",
              "      <td>{'was_impossible': False}</td>\n",
              "      <td>138</td>\n",
              "      <td>195</td>\n",
              "      <td>9.529454</td>\n",
              "    </tr>\n",
              "    <tr>\n",
              "      <th>10467</th>\n",
              "      <td>116599</td>\n",
              "      <td>0440170796</td>\n",
              "      <td>10.0</td>\n",
              "      <td>0.315423</td>\n",
              "      <td>{'was_impossible': False}</td>\n",
              "      <td>56</td>\n",
              "      <td>28</td>\n",
              "      <td>9.684577</td>\n",
              "    </tr>\n",
              "    <tr>\n",
              "      <th>5104</th>\n",
              "      <td>190708</td>\n",
              "      <td>0380710722</td>\n",
              "      <td>10.0</td>\n",
              "      <td>0.309980</td>\n",
              "      <td>{'was_impossible': False}</td>\n",
              "      <td>77</td>\n",
              "      <td>54</td>\n",
              "      <td>9.690020</td>\n",
              "    </tr>\n",
              "    <tr>\n",
              "      <th>2583</th>\n",
              "      <td>14897</td>\n",
              "      <td>0515099546</td>\n",
              "      <td>10.0</td>\n",
              "      <td>0.291709</td>\n",
              "      <td>{'was_impossible': False}</td>\n",
              "      <td>28</td>\n",
              "      <td>26</td>\n",
              "      <td>9.708291</td>\n",
              "    </tr>\n",
              "    <tr>\n",
              "      <th>23011</th>\n",
              "      <td>40943</td>\n",
              "      <td>0380710722</td>\n",
              "      <td>10.0</td>\n",
              "      <td>0.095325</td>\n",
              "      <td>{'was_impossible': False}</td>\n",
              "      <td>137</td>\n",
              "      <td>54</td>\n",
              "      <td>9.904675</td>\n",
              "    </tr>\n",
              "    <tr>\n",
              "      <th>3738</th>\n",
              "      <td>73394</td>\n",
              "      <td>0345387651</td>\n",
              "      <td>10.0</td>\n",
              "      <td>0.080241</td>\n",
              "      <td>{'was_impossible': False}</td>\n",
              "      <td>225</td>\n",
              "      <td>109</td>\n",
              "      <td>9.919759</td>\n",
              "    </tr>\n",
              "    <tr>\n",
              "      <th>23015</th>\n",
              "      <td>245963</td>\n",
              "      <td>0425130711</td>\n",
              "      <td>10.0</td>\n",
              "      <td>0.042675</td>\n",
              "      <td>{'was_impossible': False}</td>\n",
              "      <td>147</td>\n",
              "      <td>39</td>\n",
              "      <td>9.957325</td>\n",
              "    </tr>\n",
              "    <tr>\n",
              "      <th>21587</th>\n",
              "      <td>205735</td>\n",
              "      <td>0373825013</td>\n",
              "      <td>10.0</td>\n",
              "      <td>0.000000</td>\n",
              "      <td>{'was_impossible': False}</td>\n",
              "      <td>90</td>\n",
              "      <td>64</td>\n",
              "      <td>10.000000</td>\n",
              "    </tr>\n",
              "    <tr>\n",
              "      <th>13966</th>\n",
              "      <td>172030</td>\n",
              "      <td>0425125467</td>\n",
              "      <td>10.0</td>\n",
              "      <td>0.000000</td>\n",
              "      <td>{'was_impossible': False}</td>\n",
              "      <td>103</td>\n",
              "      <td>30</td>\n",
              "      <td>10.000000</td>\n",
              "    </tr>\n",
              "    <tr>\n",
              "      <th>21429</th>\n",
              "      <td>238120</td>\n",
              "      <td>0385413041</td>\n",
              "      <td>10.0</td>\n",
              "      <td>0.000000</td>\n",
              "      <td>{'was_impossible': False}</td>\n",
              "      <td>330</td>\n",
              "      <td>29</td>\n",
              "      <td>10.000000</td>\n",
              "    </tr>\n",
              "  </tbody>\n",
              "</table>\n",
              "</div>\n",
              "      <button class=\"colab-df-convert\" onclick=\"convertToInteractive('df-e1db1cd8-427b-4ab7-a09a-ef5b65322554')\"\n",
              "              title=\"Convert this dataframe to an interactive table.\"\n",
              "              style=\"display:none;\">\n",
              "        \n",
              "  <svg xmlns=\"http://www.w3.org/2000/svg\" height=\"24px\"viewBox=\"0 0 24 24\"\n",
              "       width=\"24px\">\n",
              "    <path d=\"M0 0h24v24H0V0z\" fill=\"none\"/>\n",
              "    <path d=\"M18.56 5.44l.94 2.06.94-2.06 2.06-.94-2.06-.94-.94-2.06-.94 2.06-2.06.94zm-11 1L8.5 8.5l.94-2.06 2.06-.94-2.06-.94L8.5 2.5l-.94 2.06-2.06.94zm10 10l.94 2.06.94-2.06 2.06-.94-2.06-.94-.94-2.06-.94 2.06-2.06.94z\"/><path d=\"M17.41 7.96l-1.37-1.37c-.4-.4-.92-.59-1.43-.59-.52 0-1.04.2-1.43.59L10.3 9.45l-7.72 7.72c-.78.78-.78 2.05 0 2.83L4 21.41c.39.39.9.59 1.41.59.51 0 1.02-.2 1.41-.59l7.78-7.78 2.81-2.81c.8-.78.8-2.07 0-2.86zM5.41 20L4 18.59l7.72-7.72 1.47 1.35L5.41 20z\"/>\n",
              "  </svg>\n",
              "      </button>\n",
              "      \n",
              "  <style>\n",
              "    .colab-df-container {\n",
              "      display:flex;\n",
              "      flex-wrap:wrap;\n",
              "      gap: 12px;\n",
              "    }\n",
              "\n",
              "    .colab-df-convert {\n",
              "      background-color: #E8F0FE;\n",
              "      border: none;\n",
              "      border-radius: 50%;\n",
              "      cursor: pointer;\n",
              "      display: none;\n",
              "      fill: #1967D2;\n",
              "      height: 32px;\n",
              "      padding: 0 0 0 0;\n",
              "      width: 32px;\n",
              "    }\n",
              "\n",
              "    .colab-df-convert:hover {\n",
              "      background-color: #E2EBFA;\n",
              "      box-shadow: 0px 1px 2px rgba(60, 64, 67, 0.3), 0px 1px 3px 1px rgba(60, 64, 67, 0.15);\n",
              "      fill: #174EA6;\n",
              "    }\n",
              "\n",
              "    [theme=dark] .colab-df-convert {\n",
              "      background-color: #3B4455;\n",
              "      fill: #D2E3FC;\n",
              "    }\n",
              "\n",
              "    [theme=dark] .colab-df-convert:hover {\n",
              "      background-color: #434B5C;\n",
              "      box-shadow: 0px 1px 3px 1px rgba(0, 0, 0, 0.15);\n",
              "      filter: drop-shadow(0px 1px 2px rgba(0, 0, 0, 0.3));\n",
              "      fill: #FFFFFF;\n",
              "    }\n",
              "  </style>\n",
              "\n",
              "      <script>\n",
              "        const buttonEl =\n",
              "          document.querySelector('#df-e1db1cd8-427b-4ab7-a09a-ef5b65322554 button.colab-df-convert');\n",
              "        buttonEl.style.display =\n",
              "          google.colab.kernel.accessAllowed ? 'block' : 'none';\n",
              "\n",
              "        async function convertToInteractive(key) {\n",
              "          const element = document.querySelector('#df-e1db1cd8-427b-4ab7-a09a-ef5b65322554');\n",
              "          const dataTable =\n",
              "            await google.colab.kernel.invokeFunction('convertToInteractive',\n",
              "                                                     [key], {});\n",
              "          if (!dataTable) return;\n",
              "\n",
              "          const docLinkHtml = 'Like what you see? Visit the ' +\n",
              "            '<a target=\"_blank\" href=https://colab.research.google.com/notebooks/data_table.ipynb>data table notebook</a>'\n",
              "            + ' to learn more about interactive tables.';\n",
              "          element.innerHTML = '';\n",
              "          dataTable['output_type'] = 'display_data';\n",
              "          await google.colab.output.renderOutput(dataTable, element);\n",
              "          const docLink = document.createElement('div');\n",
              "          docLink.innerHTML = docLinkHtml;\n",
              "          element.appendChild(docLink);\n",
              "        }\n",
              "      </script>\n",
              "    </div>\n",
              "  </div>\n",
              "  "
            ]
          },
          "metadata": {},
          "execution_count": 105
        }
      ]
    },
    {
      "cell_type": "markdown",
      "source": [
        "Guardiamo nel dettaglio la previsione peggiore, l'ultima."
      ],
      "metadata": {
        "id": "5cVKgZ9Z9ut6"
      }
    },
    {
      "cell_type": "code",
      "source": [
        "last_isbn = worst_predictions.iloc[-1, worst_predictions.columns.get_loc('item_id')]\n",
        "user_rating_count = worst_predictions.iloc[-1, worst_predictions.columns.get_loc('U che hanno votato Item')]\n",
        "u = worst_predictions.iloc[-1, worst_predictions.columns.get_loc('user_id')]\n",
        "u_rating = worst_predictions.iloc[-1, worst_predictions.columns.get_loc('rating')]\n",
        "pred = worst_predictions.iloc[-1, worst_predictions.columns.get_loc('val_predetto')]"
      ],
      "metadata": {
        "id": "FZ1SGF0smhDW"
      },
      "execution_count": null,
      "outputs": []
    },
    {
      "cell_type": "code",
      "source": [
        "print('Il libro {0} è stato votato da {1} utenti'.format(last_isbn, user_rating_count))\n",
        "print('L\\'utente {0} gli ha dato una valutazione di {1}, ma il nostro modello ha predetto la seguente valutazione: {2}'.format(u, u_rating, pred))"
      ],
      "metadata": {
        "colab": {
          "base_uri": "https://localhost:8080/"
        },
        "id": "HxOQw909m4b0",
        "outputId": "447ce8d4-2300-4a82-f187-caee11101003"
      },
      "execution_count": null,
      "outputs": [
        {
          "output_type": "stream",
          "name": "stdout",
          "text": [
            "Il libro 0385413041 è stato votato da 29 utenti\n",
            "L'utente 238120 gli ha dato una valutazione di 10.0, ma il nostro modello ha predetto la seguente valutazione: 0.0\n"
          ]
        }
      ]
    },
    {
      "cell_type": "code",
      "source": [
        "df_new.loc[df_new['ISBN'] == last_isbn]['bookRating'].describe()"
      ],
      "metadata": {
        "colab": {
          "base_uri": "https://localhost:8080/"
        },
        "id": "4ljq7r-ZnG9y",
        "outputId": "6c35543c-2466-4709-94b9-80a686f32281"
      },
      "execution_count": null,
      "outputs": [
        {
          "output_type": "execute_result",
          "data": {
            "text/plain": [
              "count    37.000000\n",
              "mean      1.783784\n",
              "std       3.250087\n",
              "min       0.000000\n",
              "25%       0.000000\n",
              "50%       0.000000\n",
              "75%       0.000000\n",
              "max      10.000000\n",
              "Name: bookRating, dtype: float64"
            ]
          },
          "metadata": {},
          "execution_count": 108
        }
      ]
    },
    {
      "cell_type": "code",
      "source": [
        "figura, grafico= plt.subplots()\n",
        "grafico.hist(x = df_new.loc[df_new['ISBN'] == last_isbn]['bookRating'], \n",
        "             ec = \"grey\",\n",
        "             fc = \"orange\" )\n",
        "plt.xlabel('Valutazioni')\n",
        "plt.ylabel('Numero di valutazioni')\n",
        "plt.title('Numero di valutazioni che ha ricevuto il libro con stima peggiore')\n",
        "plt.show()"
      ],
      "metadata": {
        "colab": {
          "base_uri": "https://localhost:8080/",
          "height": 309
        },
        "id": "dEX_l5vbsdn1",
        "outputId": "1a414223-2314-4ce3-d660-b0028bc1f6cf"
      },
      "execution_count": null,
      "outputs": [
        {
          "output_type": "display_data",
          "data": {
            "text/plain": [
              "<Figure size 432x288 with 1 Axes>"
            ],
            "image/png": "[encoded data removed]"
          },
          "metadata": {
            "needs_background": "light"
          }
        }
      ]
    },
    {
      "cell_type": "markdown",
      "source": [
        "# Collaborative Filtering\n",
        "- I metodi di _collaborative filtering_ forniscono suggerimenti sulla base delle **associazioni** esistenti tra utenti e oggetti\n",
        "  - in genere vengono usati i **voti** dati dagli utenti agli oggetti\n",
        "  - non vengono usate informazioni specifiche su singoli utenti (es. età) e oggetti (es. genere)\n"
      ],
      "metadata": {
        "id": "R7h2FGsrnH66"
      }
    },
    {
      "cell_type": "markdown",
      "source": [
        "Uno step fondamentale in un sistema di reccomendation basato sul collaborative filtering è la creazione di una matrice utente-prodotto a partire dalla tabella new_ratings.\n",
        "La matrice sarà sparsa perchè non tutti gli utenti hanno votato ogni libro."
      ],
      "metadata": {
        "id": "rr49uxgNnTwy"
      }
    },
    {
      "cell_type": "code",
      "source": [
        "ratings_matrix = explicit_ratings.pivot(index='userId', columns='ISBN').bookRating\n",
        "userId = ratings_matrix.index\n",
        "ISBN = ratings_matrix.columns\n",
        "\n",
        "print(ratings_matrix.shape)\n",
        "ratings_matrix.head()"
      ],
      "metadata": {
        "colab": {
          "base_uri": "https://localhost:8080/",
          "height": 349
        },
        "id": "8JVtAxSOm-Kg",
        "outputId": "ed9d85e0-24b1-44f2-cf9d-7244a8ad1150"
      },
      "execution_count": null,
      "outputs": [
        {
          "output_type": "stream",
          "name": "stdout",
          "text": [
            "(449, 66574)\n"
          ]
        },
        {
          "output_type": "execute_result",
          "data": {
            "text/plain": [
              "ISBN    0000913154  0001046438  000104687X  0001047213  0001047973  \\\n",
              "userId                                                               \n",
              "2033           NaN         NaN         NaN         NaN         NaN   \n",
              "2110           NaN         NaN         NaN         NaN         NaN   \n",
              "2276           NaN         NaN         NaN         NaN         NaN   \n",
              "4017           NaN         NaN         NaN         NaN         NaN   \n",
              "4385           NaN         NaN         NaN         NaN         NaN   \n",
              "\n",
              "ISBN    000104799X  0001048082  0001053736  0001053744  0001055607  ...  \\\n",
              "userId                                                              ...   \n",
              "2033           NaN         NaN         NaN         NaN         NaN  ...   \n",
              "2110           NaN         NaN         NaN         NaN         NaN  ...   \n",
              "2276           NaN         NaN         NaN         NaN         NaN  ...   \n",
              "4017           NaN         NaN         NaN         NaN         NaN  ...   \n",
              "4385           NaN         NaN         NaN         NaN         NaN  ...   \n",
              "\n",
              "ISBN    B000092Q0A  B00009EF82  B00009NDAN  B0000DYXID  B0000T6KHI  \\\n",
              "userId                                                               \n",
              "2033           NaN         NaN         NaN         NaN         NaN   \n",
              "2110           NaN         NaN         NaN         NaN         NaN   \n",
              "2276           NaN         NaN         NaN         NaN         NaN   \n",
              "4017           NaN         NaN         NaN         NaN         NaN   \n",
              "4385           NaN         NaN         NaN         NaN         NaN   \n",
              "\n",
              "ISBN    B0000VZEJQ  B0000X8HIE  B00013AX9E  B0001I1KOG  B000234N3A  \n",
              "userId                                                              \n",
              "2033           NaN         NaN         NaN         NaN         NaN  \n",
              "2110           NaN         NaN         NaN         NaN         NaN  \n",
              "2276           NaN         NaN         NaN         NaN         NaN  \n",
              "4017           NaN         NaN         NaN         NaN         NaN  \n",
              "4385           NaN         NaN         NaN         NaN         NaN  \n",
              "\n",
              "[5 rows x 66574 columns]"
            ],
            "text/html": [
              "\n",
              "  <div id=\"df-145e44a5-926c-440f-976c-c85acf3549b1\">\n",
              "    <div class=\"colab-df-container\">\n",
              "      <div>\n",
              "<style scoped>\n",
              "    .dataframe tbody tr th:only-of-type {\n",
              "        vertical-align: middle;\n",
              "    }\n",
              "\n",
              "    .dataframe tbody tr th {\n",
              "        vertical-align: top;\n",
              "    }\n",
              "\n",
              "    .dataframe thead th {\n",
              "        text-align: right;\n",
              "    }\n",
              "</style>\n",
              "<table border=\"1\" class=\"dataframe\">\n",
              "  <thead>\n",
              "    <tr style=\"text-align: right;\">\n",
              "      <th>ISBN</th>\n",
              "      <th>0000913154</th>\n",
              "      <th>0001046438</th>\n",
              "      <th>000104687X</th>\n",
              "      <th>0001047213</th>\n",
              "      <th>0001047973</th>\n",
              "      <th>000104799X</th>\n",
              "      <th>0001048082</th>\n",
              "      <th>0001053736</th>\n",
              "      <th>0001053744</th>\n",
              "      <th>0001055607</th>\n",
              "      <th>...</th>\n",
              "      <th>B000092Q0A</th>\n",
              "      <th>B00009EF82</th>\n",
              "      <th>B00009NDAN</th>\n",
              "      <th>B0000DYXID</th>\n",
              "      <th>B0000T6KHI</th>\n",
              "      <th>B0000VZEJQ</th>\n",
              "      <th>B0000X8HIE</th>\n",
              "      <th>B00013AX9E</th>\n",
              "      <th>B0001I1KOG</th>\n",
              "      <th>B000234N3A</th>\n",
              "    </tr>\n",
              "    <tr>\n",
              "      <th>userId</th>\n",
              "      <th></th>\n",
              "      <th></th>\n",
              "      <th></th>\n",
              "      <th></th>\n",
              "      <th></th>\n",
              "      <th></th>\n",
              "      <th></th>\n",
              "      <th></th>\n",
              "      <th></th>\n",
              "      <th></th>\n",
              "      <th></th>\n",
              "      <th></th>\n",
              "      <th></th>\n",
              "      <th></th>\n",
              "      <th></th>\n",
              "      <th></th>\n",
              "      <th></th>\n",
              "      <th></th>\n",
              "      <th></th>\n",
              "      <th></th>\n",
              "      <th></th>\n",
              "    </tr>\n",
              "  </thead>\n",
              "  <tbody>\n",
              "    <tr>\n",
              "      <th>2033</th>\n",
              "      <td>NaN</td>\n",
              "      <td>NaN</td>\n",
              "      <td>NaN</td>\n",
              "      <td>NaN</td>\n",
              "      <td>NaN</td>\n",
              "      <td>NaN</td>\n",
              "      <td>NaN</td>\n",
              "      <td>NaN</td>\n",
              "      <td>NaN</td>\n",
              "      <td>NaN</td>\n",
              "      <td>...</td>\n",
              "      <td>NaN</td>\n",
              "      <td>NaN</td>\n",
              "      <td>NaN</td>\n",
              "      <td>NaN</td>\n",
              "      <td>NaN</td>\n",
              "      <td>NaN</td>\n",
              "      <td>NaN</td>\n",
              "      <td>NaN</td>\n",
              "      <td>NaN</td>\n",
              "      <td>NaN</td>\n",
              "    </tr>\n",
              "    <tr>\n",
              "      <th>2110</th>\n",
              "      <td>NaN</td>\n",
              "      <td>NaN</td>\n",
              "      <td>NaN</td>\n",
              "      <td>NaN</td>\n",
              "      <td>NaN</td>\n",
              "      <td>NaN</td>\n",
              "      <td>NaN</td>\n",
              "      <td>NaN</td>\n",
              "      <td>NaN</td>\n",
              "      <td>NaN</td>\n",
              "      <td>...</td>\n",
              "      <td>NaN</td>\n",
              "      <td>NaN</td>\n",
              "      <td>NaN</td>\n",
              "      <td>NaN</td>\n",
              "      <td>NaN</td>\n",
              "      <td>NaN</td>\n",
              "      <td>NaN</td>\n",
              "      <td>NaN</td>\n",
              "      <td>NaN</td>\n",
              "      <td>NaN</td>\n",
              "    </tr>\n",
              "    <tr>\n",
              "      <th>2276</th>\n",
              "      <td>NaN</td>\n",
              "      <td>NaN</td>\n",
              "      <td>NaN</td>\n",
              "      <td>NaN</td>\n",
              "      <td>NaN</td>\n",
              "      <td>NaN</td>\n",
              "      <td>NaN</td>\n",
              "      <td>NaN</td>\n",
              "      <td>NaN</td>\n",
              "      <td>NaN</td>\n",
              "      <td>...</td>\n",
              "      <td>NaN</td>\n",
              "      <td>NaN</td>\n",
              "      <td>NaN</td>\n",
              "      <td>NaN</td>\n",
              "      <td>NaN</td>\n",
              "      <td>NaN</td>\n",
              "      <td>NaN</td>\n",
              "      <td>NaN</td>\n",
              "      <td>NaN</td>\n",
              "      <td>NaN</td>\n",
              "    </tr>\n",
              "    <tr>\n",
              "      <th>4017</th>\n",
              "      <td>NaN</td>\n",
              "      <td>NaN</td>\n",
              "      <td>NaN</td>\n",
              "      <td>NaN</td>\n",
              "      <td>NaN</td>\n",
              "      <td>NaN</td>\n",
              "      <td>NaN</td>\n",
              "      <td>NaN</td>\n",
              "      <td>NaN</td>\n",
              "      <td>NaN</td>\n",
              "      <td>...</td>\n",
              "      <td>NaN</td>\n",
              "      <td>NaN</td>\n",
              "      <td>NaN</td>\n",
              "      <td>NaN</td>\n",
              "      <td>NaN</td>\n",
              "      <td>NaN</td>\n",
              "      <td>NaN</td>\n",
              "      <td>NaN</td>\n",
              "      <td>NaN</td>\n",
              "      <td>NaN</td>\n",
              "    </tr>\n",
              "    <tr>\n",
              "      <th>4385</th>\n",
              "      <td>NaN</td>\n",
              "      <td>NaN</td>\n",
              "      <td>NaN</td>\n",
              "      <td>NaN</td>\n",
              "      <td>NaN</td>\n",
              "      <td>NaN</td>\n",
              "      <td>NaN</td>\n",
              "      <td>NaN</td>\n",
              "      <td>NaN</td>\n",
              "      <td>NaN</td>\n",
              "      <td>...</td>\n",
              "      <td>NaN</td>\n",
              "      <td>NaN</td>\n",
              "      <td>NaN</td>\n",
              "      <td>NaN</td>\n",
              "      <td>NaN</td>\n",
              "      <td>NaN</td>\n",
              "      <td>NaN</td>\n",
              "      <td>NaN</td>\n",
              "      <td>NaN</td>\n",
              "      <td>NaN</td>\n",
              "    </tr>\n",
              "  </tbody>\n",
              "</table>\n",
              "<p>5 rows × 66574 columns</p>\n",
              "</div>\n",
              "      <button class=\"colab-df-convert\" onclick=\"convertToInteractive('df-145e44a5-926c-440f-976c-c85acf3549b1')\"\n",
              "              title=\"Convert this dataframe to an interactive table.\"\n",
              "              style=\"display:none;\">\n",
              "        \n",
              "  <svg xmlns=\"http://www.w3.org/2000/svg\" height=\"24px\"viewBox=\"0 0 24 24\"\n",
              "       width=\"24px\">\n",
              "    <path d=\"M0 0h24v24H0V0z\" fill=\"none\"/>\n",
              "    <path d=\"M18.56 5.44l.94 2.06.94-2.06 2.06-.94-2.06-.94-.94-2.06-.94 2.06-2.06.94zm-11 1L8.5 8.5l.94-2.06 2.06-.94-2.06-.94L8.5 2.5l-.94 2.06-2.06.94zm10 10l.94 2.06.94-2.06 2.06-.94-2.06-.94-.94-2.06-.94 2.06-2.06.94z\"/><path d=\"M17.41 7.96l-1.37-1.37c-.4-.4-.92-.59-1.43-.59-.52 0-1.04.2-1.43.59L10.3 9.45l-7.72 7.72c-.78.78-.78 2.05 0 2.83L4 21.41c.39.39.9.59 1.41.59.51 0 1.02-.2 1.41-.59l7.78-7.78 2.81-2.81c.8-.78.8-2.07 0-2.86zM5.41 20L4 18.59l7.72-7.72 1.47 1.35L5.41 20z\"/>\n",
              "  </svg>\n",
              "      </button>\n",
              "      \n",
              "  <style>\n",
              "    .colab-df-container {\n",
              "      display:flex;\n",
              "      flex-wrap:wrap;\n",
              "      gap: 12px;\n",
              "    }\n",
              "\n",
              "    .colab-df-convert {\n",
              "      background-color: #E8F0FE;\n",
              "      border: none;\n",
              "      border-radius: 50%;\n",
              "      cursor: pointer;\n",
              "      display: none;\n",
              "      fill: #1967D2;\n",
              "      height: 32px;\n",
              "      padding: 0 0 0 0;\n",
              "      width: 32px;\n",
              "    }\n",
              "\n",
              "    .colab-df-convert:hover {\n",
              "      background-color: #E2EBFA;\n",
              "      box-shadow: 0px 1px 2px rgba(60, 64, 67, 0.3), 0px 1px 3px 1px rgba(60, 64, 67, 0.15);\n",
              "      fill: #174EA6;\n",
              "    }\n",
              "\n",
              "    [theme=dark] .colab-df-convert {\n",
              "      background-color: #3B4455;\n",
              "      fill: #D2E3FC;\n",
              "    }\n",
              "\n",
              "    [theme=dark] .colab-df-convert:hover {\n",
              "      background-color: #434B5C;\n",
              "      box-shadow: 0px 1px 3px 1px rgba(0, 0, 0, 0.15);\n",
              "      filter: drop-shadow(0px 1px 2px rgba(0, 0, 0, 0.3));\n",
              "      fill: #FFFFFF;\n",
              "    }\n",
              "  </style>\n",
              "\n",
              "      <script>\n",
              "        const buttonEl =\n",
              "          document.querySelector('#df-145e44a5-926c-440f-976c-c85acf3549b1 button.colab-df-convert');\n",
              "        buttonEl.style.display =\n",
              "          google.colab.kernel.accessAllowed ? 'block' : 'none';\n",
              "\n",
              "        async function convertToInteractive(key) {\n",
              "          const element = document.querySelector('#df-145e44a5-926c-440f-976c-c85acf3549b1');\n",
              "          const dataTable =\n",
              "            await google.colab.kernel.invokeFunction('convertToInteractive',\n",
              "                                                     [key], {});\n",
              "          if (!dataTable) return;\n",
              "\n",
              "          const docLinkHtml = 'Like what you see? Visit the ' +\n",
              "            '<a target=\"_blank\" href=https://colab.research.google.com/notebooks/data_table.ipynb>data table notebook</a>'\n",
              "            + ' to learn more about interactive tables.';\n",
              "          element.innerHTML = '';\n",
              "          dataTable['output_type'] = 'display_data';\n",
              "          await google.colab.output.renderOutput(dataTable, element);\n",
              "          const docLink = document.createElement('div');\n",
              "          docLink.innerHTML = docLinkHtml;\n",
              "          element.appendChild(docLink);\n",
              "        }\n",
              "      </script>\n",
              "    </div>\n",
              "  </div>\n",
              "  "
            ]
          },
          "metadata": {},
          "execution_count": 110
        }
      ]
    },
    {
      "cell_type": "markdown",
      "source": [
        "## Collaborative Filtering basato sugli utenti"
      ],
      "metadata": {
        "id": "6k1NDYrbPB1M"
      }
    },
    {
      "cell_type": "markdown",
      "source": [
        "Vogliamo prevedere la valutazione che l'utente 7346 darà all'item 0001056107. \n",
        "Nella CF basata sugli utenti, troveremo, come prima cosa, gli utenti che sono più simili all'utente 7346. \n",
        "Le tecniche comunemente utilizzate sono la similità coseno, di Pearson, Euclidean ecc. Useremo in questa sede la similità coseno e la correlazione di Pearson."
      ],
      "metadata": {
        "id": "obBS86de8uBG"
      }
    },
    {
      "cell_type": "markdown",
      "source": [
        "**Similarità coseno**\n",
        "\n",
        "- La _similarità coseno_ è in generale una misura della similarità tra due vettori\n",
        "  - è il coseno dell'angolo formato tra i due vettori\n",
        "  - tiene conto del loro orientamento, non della lunghezza\n",
        "  - è pari al prodotto scalare dei vettori suddiviso per il prodotto delle loro norme euclidee\n",
        "  - è compresa tra 0 e 1 per vettori con valori non negativi\n",
        "$$ \\text{sim}(\\mathbf{a},\\mathbf{b}) = \\frac{\\sum_{i=1}^n a_i\\cdot b_i}{\\sqrt{\\sum_{i=1}^n a_i^2}\\cdot\\sqrt{\\sum_{i=1}^n b_i^2}} $$\n"
      ],
      "metadata": {
        "id": "SsKhh1PUOz7L"
      }
    },
    {
      "cell_type": "markdown",
      "source": [
        "**Correlazione di Pearson**\n",
        "- Nel modello user-based è possibile utilizzare altre misure di similarità diverse dal coseno\n",
        "- Una scelta comune è la _correlazione di Pearson_\n",
        "  - in pratica consiste nella similarità coseno misurata non sui voti ma sul loro scarto rispetto alla media\n",
        "  - questo bilancia le tendenze di voto diverse degli utenti, equiparando ad es. le 3 stelle di un utente alle 2 di uno più \"severo\"\n",
        "$$ {r} = \\frac{\\sum_{i=1}^n ({x_i}-\\bar{x}) \\cdot ({y_i}-\\bar{y})}{\\sqrt{\\sum_{i=1}^n ({x_i}-\\bar{x})^2}\\cdot\\sqrt{\\sum_{i=1}^n({y_i}-\\bar{y})^2}} $$"
      ],
      "metadata": {
        "id": "ekFg6YYOO8NN"
      }
    },
    {
      "cell_type": "markdown",
      "source": [
        "La funzione findKSimilarUsers prende in input l'Id utente e la matrice di valutazione e restituisce similarità e indici di K utenti simili. "
      ],
      "metadata": {
        "id": "HtWTZtOaPSWy"
      }
    },
    {
      "cell_type": "code",
      "source": [
        "import sklearn as skl\n",
        "import sklearn.neighbors as nbs"
      ],
      "metadata": {
        "id": "toJqZqM3Q-dN"
      },
      "execution_count": null,
      "outputs": []
    },
    {
      "cell_type": "code",
      "source": [
        "def findKSimilarUsers(user_id, ratings, metric, k = k):\n",
        "  similarities = []\n",
        "  indices = []\n",
        "  model = nbs.NearestNeighbors(metric = metric, algorithm = 'brute')\n",
        "  model.fit(ratings.to_numpy())\n",
        "  loc = ratings.index.get_loc(user_id)\n",
        "  distances, indices = model.kneighbors(ratings.iloc[loc, :].values.reshape(1, -1), n_neighbors = k+1)\n",
        "  similarities = 1-distances.flatten()\n",
        "  print ('I {0} utenti più simili all\\'utente {1} sono:\\n'.format(k,user_id))\n",
        "  for i in range(0, len(indices.flatten())):\n",
        "      if indices.flatten()[i]+1 == user_id:\n",
        "          continue;\n",
        "      else:\n",
        "          print('{0}: Utente {1}, con una similarità di {2}'.format(i, indices.flatten()[i]+1, similarities.flatten()[i]))\n",
        "          \n",
        "  return similarities,indices"
      ],
      "metadata": {
        "id": "GKNj47OoQAEP"
      },
      "execution_count": null,
      "outputs": []
    },
    {
      "cell_type": "code",
      "source": [
        "ratings_matrix.replace([np.inf, -np.inf], np.nan, inplace=True)\n",
        "ratings_matrix.fillna(0, inplace=True)"
      ],
      "metadata": {
        "id": "5i_gs1FyTjl9"
      },
      "execution_count": null,
      "outputs": []
    },
    {
      "cell_type": "markdown",
      "source": [
        "**Similarità coseno**"
      ],
      "metadata": {
        "id": "A9px4pxsSGLD"
      }
    },
    {
      "cell_type": "code",
      "source": [
        "findKSimilarUsers(7346, ratings_matrix, 'cosine')"
      ],
      "metadata": {
        "colab": {
          "base_uri": "https://localhost:8080/"
        },
        "id": "vM8M_cQxRRSe",
        "outputId": "f101e05e-5896-4197-d807-4be250642ef8"
      },
      "execution_count": null,
      "outputs": [
        {
          "output_type": "stream",
          "name": "stdout",
          "text": [
            "I 4 utenti più simili all'utente 7346 sono:\n",
            "\n",
            "0: Utente 12, con una similarità di 1.0\n",
            "1: Utente 424, con una similarità di 0.06456544237496042\n",
            "2: Utente 155, con una similarità di 0.057075683795396404\n",
            "3: Utente 10, con una similarità di 0.05440117676891487\n",
            "4: Utente 110, con una similarità di 0.05426173260146627\n"
          ]
        },
        {
          "output_type": "execute_result",
          "data": {
            "text/plain": [
              "(array([1.        , 0.06456544, 0.05707568, 0.05440118, 0.05426173]),\n",
              " array([[ 11, 423, 154,   9, 109]]))"
            ]
          },
          "metadata": {},
          "execution_count": 114
        }
      ]
    },
    {
      "cell_type": "markdown",
      "source": [
        "**Similarità di Pearson**"
      ],
      "metadata": {
        "id": "U5CqW6HmSI10"
      }
    },
    {
      "cell_type": "code",
      "source": [
        "findKSimilarUsers(7346, ratings_matrix, 'correlation')"
      ],
      "metadata": {
        "colab": {
          "base_uri": "https://localhost:8080/"
        },
        "id": "cdeEwEtMSJNG",
        "outputId": "a46cb838-81d9-42d5-d1e2-7a5ecbd98593"
      },
      "execution_count": null,
      "outputs": [
        {
          "output_type": "stream",
          "name": "stdout",
          "text": [
            "I 4 utenti più simili all'utente 7346 sono:\n",
            "\n",
            "0: Utente 12, con una similarità di 1.0\n",
            "1: Utente 424, con una similarità di 0.061168146408081214\n",
            "2: Utente 110, con una similarità di 0.0517274009503228\n",
            "3: Utente 155, con una similarità di 0.05109795250083049\n",
            "4: Utente 10, con una similarità di 0.05069836659933058\n"
          ]
        },
        {
          "output_type": "execute_result",
          "data": {
            "text/plain": [
              "(array([1.        , 0.06116815, 0.0517274 , 0.05109795, 0.05069837]),\n",
              " array([[ 11, 423, 109, 154,   9]]))"
            ]
          },
          "metadata": {},
          "execution_count": 115
        }
      ]
    },
    {
      "cell_type": "markdown",
      "source": [
        "La funzione predict_userbased prevede la valutazione che l'utente 7346 assegnerà all'elemento 0001056107, utilizzando l'approccio CF basato sull'utente. \n",
        "Le previsioni vengono calcolate come media ponderata delle deviazioni dalla media del vicino, sommata alla media delle valutazioni media dell'utente. \n",
        "Le deviazioni vengono utilizzate per aggiustare eventuali errori che si verificano, per esmepio, quando gli utenti tendono a dare valutazioni sempre alte o sempre basse a tutti i prodotti."
      ],
      "metadata": {
        "id": "WHWRdorYAZ3k"
      }
    },
    {
      "cell_type": "code",
      "source": [
        "def predict_userbased(user_id, item_id, ratings, metric, k=k):\n",
        "    prediction=0\n",
        "    user_loc = ratings.index.get_loc(user_id)\n",
        "    item_loc = ratings.columns.get_loc(item_id)\n",
        "    similarities, indices=findKSimilarUsers(user_id, ratings, metric) # utenti simili in base alla similarità coseno\n",
        "    mean_rating = ratings.iloc[user_loc,:].mean() \n",
        "    sum_wt = np.sum(similarities)-1\n",
        "    product=1\n",
        "    wtd_sum = 0 \n",
        "    \n",
        "    for i in range(0, len(indices.flatten())):\n",
        "        if indices.flatten()[i] == user_id:\n",
        "            continue;\n",
        "        else: \n",
        "            ratings_diff = ratings.iloc[indices.flatten()[i],item_loc]-np.mean(ratings.iloc[indices.flatten()[i],:])\n",
        "            product = ratings_diff * (similarities[i])\n",
        "            wtd_sum = wtd_sum + product\n",
        "    \n",
        "    prediction = int(round(mean_rating + (wtd_sum/sum_wt)))\n",
        "    print(\"Il punteggio predetto per l'utente {0} -> item {1}: {2}\".format(user_id, item_id, prediction))\n",
        "    return prediction"
      ],
      "metadata": {
        "id": "AlDHfr4QQAsc"
      },
      "execution_count": null,
      "outputs": []
    },
    {
      "cell_type": "code",
      "source": [
        "predict_userbased(7346, '0001056107', ratings_matrix, 'cosine')"
      ],
      "metadata": {
        "id": "N5OZtP9fT9nR",
        "colab": {
          "base_uri": "https://localhost:8080/"
        },
        "outputId": "4cbbd688-bcf8-49ae-db98-298134068585"
      },
      "execution_count": null,
      "outputs": [
        {
          "output_type": "stream",
          "name": "stdout",
          "text": [
            "I 4 utenti più simili all'utente 7346 sono:\n",
            "\n",
            "0: Utente 12, con una similarità di 1.0\n",
            "1: Utente 424, con una similarità di 0.06456544237496042\n",
            "2: Utente 155, con una similarità di 0.057075683795396404\n",
            "3: Utente 10, con una similarità di 0.05440117676891487\n",
            "4: Utente 110, con una similarità di 0.05426173260146627\n",
            "Il punteggio predetto per l'utente 7346 -> item 0001056107: 2\n"
          ]
        },
        {
          "output_type": "execute_result",
          "data": {
            "text/plain": [
              "2"
            ]
          },
          "metadata": {},
          "execution_count": 117
        }
      ]
    },
    {
      "cell_type": "code",
      "source": [
        "predict_userbased(7346, '0001056107', ratings_matrix, 'correlation')"
      ],
      "metadata": {
        "colab": {
          "base_uri": "https://localhost:8080/"
        },
        "id": "9MF9O0VPlUPW",
        "outputId": "e0a5d0aa-89b4-46f5-8e3a-a59443ad3917"
      },
      "execution_count": null,
      "outputs": [
        {
          "output_type": "stream",
          "name": "stdout",
          "text": [
            "I 4 utenti più simili all'utente 7346 sono:\n",
            "\n",
            "0: Utente 12, con una similarità di 1.0\n",
            "1: Utente 424, con una similarità di 0.061168146408081214\n",
            "2: Utente 110, con una similarità di 0.0517274009503228\n",
            "3: Utente 155, con una similarità di 0.05109795250083049\n",
            "4: Utente 10, con una similarità di 0.05069836659933058\n",
            "Il punteggio predetto per l'utente 7346 -> item 0001056107: 2\n"
          ]
        },
        {
          "output_type": "execute_result",
          "data": {
            "text/plain": [
              "2"
            ]
          },
          "metadata": {},
          "execution_count": 118
        }
      ]
    },
    {
      "cell_type": "markdown",
      "source": [
        "## Collaborative Filtering basato sui prodotti"
      ],
      "metadata": {
        "id": "F0lxKs8dPHhl"
      }
    },
    {
      "cell_type": "markdown",
      "source": [
        "In questo approccio, le somiglianze tra coppie di elementi vengono calcolate utilizzando la metrica di similarità coseno e con la correlazione di Pearson. \n",
        "\n",
        "La valutazione dell'elemento i per l'utente considerato u può essere prevista calcolando una media ponderata semplice come:\n",
        "\n",
        "$$ {p}_{ui} = \\frac{\\sum\\limits_{j \\in K} \\text{sim}(i, j) \\cdot r_{uj}}{\\sum\\limits_{j \\in K} \\text{sim}(i, j)} $$\n",
        "\n",
        "dove K è l'intorno degli elementi simili valutati dall'utente u, \n",
        "e sim(i,j) è la similarità tra gli elementi i e j.\n"
      ],
      "metadata": {
        "id": "BxwEX-8VJ1si"
      }
    },
    {
      "cell_type": "markdown",
      "source": [
        "Andiamo ora ad implementare funzioni simili per un CF non più basato sugli utenti, ma sui prodotti. \n",
        "\n",
        "Il metodo findKSimilarItems individua k libri simili e prevede le valutazioni degli utenti per ognuno di essi. "
      ],
      "metadata": {
        "id": "1CBueU4WDss9"
      }
    },
    {
      "cell_type": "code",
      "source": [
        "def findKSimilarItems(item_id, ratings, metric, k = k):\n",
        "  similarities = []\n",
        "  indices = []\n",
        "  ratings = ratings.T\n",
        "  loc = ratings.index.get_loc(item_id)\n",
        "  model = nbs.NearestNeighbors(metric = metric, algorithm = 'brute')\n",
        "  model.fit(ratings.to_numpy())\n",
        "  distances, indices = model.kneighbors(ratings.iloc[loc, :].values.reshape(1, -1), n_neighbors = k+1)\n",
        "  similarities = 1-distances.flatten()\n",
        "  print ('I {0} libri più simili al libro {1} sono:\\n'.format(k, item_id))\n",
        "  for i in range(1, len(indices.flatten())):\n",
        "      if indices.flatten()[i]+1 == item_id:\n",
        "          continue;\n",
        "      else:\n",
        "          print('{0}: Libro {1}, con una similarità di {2}'.format(i, indices.flatten()[i]+1, similarities.flatten()[i]))\n",
        "          \n",
        "  return similarities,indices"
      ],
      "metadata": {
        "id": "DzQAJG06DsYl"
      },
      "execution_count": null,
      "outputs": []
    },
    {
      "cell_type": "code",
      "source": [
        "findKSimilarItems('000104687X', ratings_matrix, 'cosine')"
      ],
      "metadata": {
        "colab": {
          "base_uri": "https://localhost:8080/"
        },
        "id": "qpcAOffnI0XX",
        "outputId": "a8090674-471a-49d5-fdba-2fe89795d6a9"
      },
      "execution_count": null,
      "outputs": [
        {
          "output_type": "stream",
          "name": "stdout",
          "text": [
            "I 4 libri più simili al libro 000104687X sono:\n",
            "\n",
            "1: Libro 61510, con una similarità di 1.0\n",
            "2: Libro 38455, con una similarità di 1.0\n",
            "3: Libro 4121, con una similarità di 1.0\n",
            "4: Libro 788, con una similarità di 1.0\n"
          ]
        },
        {
          "output_type": "execute_result",
          "data": {
            "text/plain": [
              "(array([1., 1., 1., 1., 1.]), array([[61510, 61509, 38454,  4120,   787]]))"
            ]
          },
          "metadata": {},
          "execution_count": 120
        }
      ]
    },
    {
      "cell_type": "code",
      "source": [
        "findKSimilarItems('000104687X', ratings_matrix, 'correlation')"
      ],
      "metadata": {
        "colab": {
          "base_uri": "https://localhost:8080/"
        },
        "id": "DHKQ4BbDJtar",
        "outputId": "f5e35171-ea29-41cb-dcbb-c758458d8eb5"
      },
      "execution_count": null,
      "outputs": [
        {
          "output_type": "stream",
          "name": "stdout",
          "text": [
            "I 4 libri più simili al libro 000104687X sono:\n",
            "\n",
            "1: Libro 52431, con una similarità di 1.0\n",
            "2: Libro 18973, con una similarità di 1.0\n",
            "3: Libro 62335, con una similarità di 1.0\n",
            "4: Libro 12788, con una similarità di 1.0\n"
          ]
        },
        {
          "output_type": "execute_result",
          "data": {
            "text/plain": [
              "(array([1., 1., 1., 1., 1.]), array([[53201, 52430, 18972, 62334, 12787]]))"
            ]
          },
          "metadata": {},
          "execution_count": 121
        }
      ]
    },
    {
      "cell_type": "markdown",
      "source": [
        "La funzione predict_itemBased, invece, può essere utilizzata per consigliare libri sempre secondo un approccio basato sui prodotti.\n",
        "Le recommendation vengono fornite se la valutazione prevista per un libro è maggiore o uguale a 6 e i libri non sono già stati valutati."
      ],
      "metadata": {
        "id": "Cy7r89EgI8fv"
      }
    },
    {
      "cell_type": "code",
      "source": [
        "def predict_itembased(user_id, item_id, ratings, metric, k = k):\n",
        "  prediction = wtd_sum = 0\n",
        "  user_loc = ratings.index.get_loc(user_id)\n",
        "  item_loc = ratings.columns.get_loc(item_id)\n",
        "  similarities, indices = findKSimilarItems(item_id, ratings, metric)\n",
        "  sum_wt = np.sum(similarities)-1\n",
        "  product = 1\n",
        "  for i in range(0, len(indices.flatten())):\n",
        "    if indices.flatten()[i] == item_loc:\n",
        "      continue;\n",
        "    else :\n",
        "      product = ratings.iloc[user_loc, indices.flatten()[i]]*(similarities[i])\n",
        "  prediction = int(round(wtd_sum/sum_wt))\n",
        "  if prediction <= 0:\n",
        "    prediction = 1\n",
        "  elif prediction > 10 :\n",
        "    preditcion = 10\n",
        "  print('Il punteggio predetto per l\\'utente {0} -> item {1}: {2}'.format(user_id, item_id, prediction))\n",
        "  return prediction"
      ],
      "metadata": {
        "id": "rLJF0t_LQZAP"
      },
      "execution_count": null,
      "outputs": []
    },
    {
      "cell_type": "code",
      "source": [
        "prediction = predict_itembased(4385, '0001056107', ratings_matrix, 'cosine')"
      ],
      "metadata": {
        "colab": {
          "base_uri": "https://localhost:8080/"
        },
        "id": "pAtdbA-ySEZq",
        "outputId": "a5dbed2a-6769-4a6d-cf52-6f8d604f7612"
      },
      "execution_count": null,
      "outputs": [
        {
          "output_type": "stream",
          "name": "stdout",
          "text": [
            "I 4 libri più simili al libro 0001056107 sono:\n",
            "\n",
            "1: Libro 61361, con una similarità di 0.9922778767136676\n",
            "2: Libro 47740, con una similarità di 0.8781140799175227\n",
            "3: Libro 2054, con una similarità di 0.7358236637186912\n",
            "4: Libro 33936, con una similarità di 0.7071067811865475\n",
            "Il punteggio predetto per l'utente 4385 -> item 0001056107: 1\n"
          ]
        }
      ]
    },
    {
      "cell_type": "code",
      "source": [
        "prediction = predict_itembased(4385, '0001056107', ratings_matrix, 'correlation')"
      ],
      "metadata": {
        "colab": {
          "base_uri": "https://localhost:8080/"
        },
        "id": "EyeFKIpoVRkt",
        "outputId": "334b9e24-1b4e-4a2c-a52e-3aa95a94d209"
      },
      "execution_count": null,
      "outputs": [
        {
          "output_type": "stream",
          "name": "stdout",
          "text": [
            "I 4 libri più simili al libro 0001056107 sono:\n",
            "\n",
            "1: Libro 61361, con una similarità di 0.9922437267686637\n",
            "2: Libro 47740, con una similarità di 0.8775399987138389\n",
            "3: Libro 2054, con una similarità di 0.7344655967827276\n",
            "4: Libro 62788, con una similarità di 0.7063171586273639\n",
            "Il punteggio predetto per l'utente 4385 -> item 0001056107: 1\n"
          ]
        }
      ]
    },
    {
      "cell_type": "code",
      "source": [
        "import re\n",
        "import ipywidgets as widgets\n",
        "import IPython.display as ipd\n",
        "import contextlib\n",
        "import sys\n",
        "\n",
        "@contextlib.contextmanager\n",
        "def suppress_stdout(suppress=True):\n",
        "    std_ref = sys.stdout\n",
        "    if suppress:\n",
        "        sys.stdout = open('/dev/null', 'w')\n",
        "        yield\n",
        "    sys.stdout = std_ref"
      ],
      "metadata": {
        "id": "Rqv7wMf0mmH9"
      },
      "execution_count": null,
      "outputs": []
    },
    {
      "cell_type": "markdown",
      "source": [
        "In base all'approccio e alla metrica di similarità selezionati, la funzione recommendItem prevede la valutazione per l'utente e il libro specificati e suggerisce anche se il libro potrebbe essere consigliato all'utente. \n",
        "\n",
        "Se l'elemento non è già valutato dall'utente e se la valutazione prevista è maggiore di 6, il libro viene consigliato all'utente. Se la valutazione è inferiore a 6, il libro non è consigliato all'utente."
      ],
      "metadata": {
        "id": "QN1feSOum-nQ"
      }
    },
    {
      "cell_type": "code",
      "source": [
        "def recommendItem(user_id, ratings):\n",
        "    if (user_id not in ratings.index.values) or type(user_id) is not int:\n",
        "      print(\"userId deve essere un integer valido tra questi: {} \".format(re.sub('[\\[\\]]', '', np.array_str(ratings_matrix))))\n",
        "    else :\n",
        "      ids = ['Correlazione item-based', 'Similarità coseno item-based', 'Correlazione user-based', 'Similarità coseno user-based']\n",
        "      select = widgets.Dropdown(options=ids, value=None, description='Seleziona approccio', width='1000px')\n",
        "      def on_change(change):\n",
        "        ipd.clear_output(wait = True)\n",
        "        prediction = []\n",
        "        if change['type'] == 'change' and change['name'] == 'value':\n",
        "          if (select.value == 'Correlazione item-based') | (select.value == 'Correlazione user-based') :\n",
        "            metric = 'correlation'\n",
        "          else :\n",
        "            metric = 'cosine'\n",
        "          with suppress_stdout():\n",
        "            if (select.value == 'Correlazione item-based') | (select.value == 'Similarità coseno item-based'):\n",
        "              for i in range(ratings.shape[1]):\n",
        "                if(ratings[str(ratings.columns[i])][user_id] != 0): # non è stato ancora recensito\n",
        "                 prediction.append(predict_itembased(user_id, str(ratings.columns[i]), ratings, metric))\n",
        "                 print('da fare')\n",
        "                else :\n",
        "                  prediction.append(-1)\n",
        "            else :\n",
        "              for i in range(ratings.shape[1]):\n",
        "                if(ratings[str(ratings.columns[i])][user_id] != 0): # non è stato ancora recensito\n",
        "                 prediction.append(predict_userbased(user_id, str(ratings.columns[i]), ratings, metric))\n",
        "                else :\n",
        "                  prediction.append(-1)\n",
        "          prediction = pd.Series(prediction)\n",
        "          prediction = prediction.sort_values(ascending=False)\n",
        "          recommended = prediction[:10]\n",
        "          print(\"secondo l'approccio {0}, i seguenti libri sono consigliati...\".format(select.value))\n",
        "          for i in range(len(recommended)):\n",
        "            print(\"{0}. {1}\".format(i+1, books.bookTitle[recommended.index[i]]))\n",
        "      select.observe(on_change)\n",
        "      display(select)"
      ],
      "metadata": {
        "id": "uNOPjpUWmmsf"
      },
      "execution_count": null,
      "outputs": []
    },
    {
      "cell_type": "code",
      "source": [
        "recommendItem(4385, ratings_matrix)"
      ],
      "metadata": {
        "colab": {
          "base_uri": "https://localhost:8080/",
          "height": 218,
          "referenced_widgets": [
            "0c9d6688c7234474827b7de90ed47a2a",
            "ad5d5a293a7649fa9e09c6459638b53e",
            "c14e6340d3734c51bba3d6e1ef931fa8"
          ]
        },
        "id": "by7Us0AzZSA0",
        "outputId": "d9110323-6f03-486d-c684-2d45392bd37c"
      },
      "execution_count": null,
      "outputs": [
        {
          "output_type": "stream",
          "name": "stdout",
          "text": [
            "secondo l'approccio Correlazione item-based, i seguenti libri sono consigliati...\n",
            "1. The Red Badge of Courage\n",
            "2. Mi mamÃ¡ me ama (Nueva narrativa hispÃ¡nica)\n",
            "3. The Lathe of Heaven\n",
            "4. Hologram of Liberty: The Constitution's Shocking Alliance With Big Government\n",
            "5. An American Requiem : God, My Father, and the War That Came Between Us\n",
            "6. Grimm's Tales for Young and Old\n",
            "7. One Thousand Paper Cranes: The Story of Sadako and the Children's Peace Statue\n",
            "8. Macaws of Death\n",
            "9. The Legend\n",
            "10. Fear Street. Teufelskreis. Es gibt kein Entkommen... ( Ab 12 J.).\n"
          ]
        }
      ]
    },
    {
      "cell_type": "code",
      "source": [
        "recommendItem(4385, ratings_matrix)"
      ],
      "metadata": {
        "colab": {
          "base_uri": "https://localhost:8080/",
          "height": 218,
          "referenced_widgets": [
            "cdf5ff0ac15c4244a26b3d405e0976cd",
            "83f8d23b401447a084bdc0513ce62a59",
            "9ac26e651bb4417c9827e092af57de46"
          ]
        },
        "id": "ikRmxi3WVFNV",
        "outputId": "005f0349-aa29-4e0c-b22e-09d3531238ad"
      },
      "execution_count": null,
      "outputs": [
        {
          "output_type": "stream",
          "name": "stdout",
          "text": [
            "secondo l'approccio Similarità coseno item-based, i seguenti libri sono consigliati...\n",
            "1. The Red Badge of Courage\n",
            "2. Mi mamÃ¡ me ama (Nueva narrativa hispÃ¡nica)\n",
            "3. The Lathe of Heaven\n",
            "4. Hologram of Liberty: The Constitution's Shocking Alliance With Big Government\n",
            "5. An American Requiem : God, My Father, and the War That Came Between Us\n",
            "6. Grimm's Tales for Young and Old\n",
            "7. One Thousand Paper Cranes: The Story of Sadako and the Children's Peace Statue\n",
            "8. Macaws of Death\n",
            "9. The Legend\n",
            "10. Fear Street. Teufelskreis. Es gibt kein Entkommen... ( Ab 12 J.).\n"
          ]
        }
      ]
    },
    {
      "cell_type": "code",
      "source": [
        "recommendItem(4385, ratings_matrix)"
      ],
      "metadata": {
        "colab": {
          "base_uri": "https://localhost:8080/",
          "height": 218,
          "referenced_widgets": [
            "b933ab522efe43e68aa7b842f7e0c2fa",
            "0bac77b5f4c84359a18f568c8cfe6fc2",
            "f5224cd82bd44bafb07d9f6c15220b2b"
          ]
        },
        "id": "-oa7QoZ2MLi2",
        "outputId": "da151ab8-c1d6-4a39-8650-c5b6e75bd438"
      },
      "execution_count": null,
      "outputs": [
        {
          "output_type": "stream",
          "name": "stdout",
          "text": [
            "secondo l'approccio Correlazione user-based, i seguenti libri sono consigliati...\n",
            "1. The Gift\n",
            "2. A Close Run Thing : A Novel of Wellington's Army of 1815\n",
            "3. The Romantic: A Novel\n",
            "4. And Never Let Her Go : Thomas Capano: The Deadly Seducer\n",
            "5. The Titanic Conspiracy: Cover-Ups and Mysteries of the World's Most Famous Sea Disaster\n",
            "6. The Trouble With Valentines\n",
            "7. Roger Caras' Treasury of Great Cat Stories\n",
            "8. Under the Volcano\n",
            "9. Chop Wood, Carry Water: A Guide to Finding Spiritual Fulfillment in Everyday Life\n",
            "10. Outerbridge Reach\n"
          ]
        }
      ]
    },
    {
      "cell_type": "code",
      "source": [
        "recommendItem(4385, ratings_matrix)"
      ],
      "metadata": {
        "colab": {
          "base_uri": "https://localhost:8080/",
          "height": 218,
          "referenced_widgets": [
            "1123444da0d6400abd6125dc84a8ef6b",
            "6c0c479672d6433da6f68b83d534c8c7",
            "7e2369926d794963befe7d3bef530f48"
          ]
        },
        "id": "HzfQgqVcMMUj",
        "outputId": "809d10b7-78f8-4da2-b6dc-979588c6b37e"
      },
      "execution_count": null,
      "outputs": [
        {
          "output_type": "stream",
          "name": "stdout",
          "text": [
            "secondo l'approccio Similarità coseno user-based, i seguenti libri sono consigliati...\n",
            "1. The Gift\n",
            "2. A Close Run Thing : A Novel of Wellington's Army of 1815\n",
            "3. El perfume\n",
            "4. The Romantic: A Novel\n",
            "5. And Never Let Her Go : Thomas Capano: The Deadly Seducer\n",
            "6. The Titanic Conspiracy: Cover-Ups and Mysteries of the World's Most Famous Sea Disaster\n",
            "7. The Trouble With Valentines\n",
            "8. Roger Caras' Treasury of Great Cat Stories\n",
            "9. Under the Volcano\n",
            "10. Chop Wood, Carry Water: A Guide to Finding Spiritual Fulfillment in Everyday Life\n"
          ]
        }
      ]
    }
  ]
}