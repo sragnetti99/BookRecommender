{
  "nbformat": 4,
  "nbformat_minor": 0,
  "metadata": {
    "colab": {
      "provenance": [],
      "collapsed_sections": [
        "SsTTHEF7ow9f",
        "ZIz1j8greyl0",
        "QH6_jpa5tb6Z",
        "-PdKII7WXtCt",
        "R7h2FGsrnH66",
        "XvxjAJ7QOG2n"
      ],
      "authorship_tag": "ABX9TyMkDkrbnT08ZuHGB+rqly37",
      "include_colab_link": true
    },
    "kernelspec": {
      "name": "python3",
      "display_name": "Python 3"
    },
    "language_info": {
      "name": "python"
    },
    "widgets": {
      "application/vnd.jupyter.widget-state+json": {
        "3f42007ba12d471cb287f56f1ff92e03": {
          "model_module": "@jupyter-widgets/controls",
          "model_name": "DropdownModel",
          "model_module_version": "1.5.0",
          "state": {
            "_dom_classes": [],
            "_model_module": "@jupyter-widgets/controls",
            "_model_module_version": "1.5.0",
            "_model_name": "DropdownModel",
            "_options_labels": [
              "Correlazione item-based",
              "Similarità coseno item-based",
              "Correlazione user-based",
              "Similarità coseno user-based"
            ],
            "_view_count": null,
            "_view_module": "@jupyter-widgets/controls",
            "_view_module_version": "1.5.0",
            "_view_name": "DropdownView",
            "description": "Seleziona approccio",
            "description_tooltip": null,
            "disabled": false,
            "index": 0,
            "layout": "IPY_MODEL_10d1f2fccac646b4a9cd5afd3d8668f5",
            "style": "IPY_MODEL_c62e918a4a7c4f169b728a5a3a041394"
          }
        },
        "10d1f2fccac646b4a9cd5afd3d8668f5": {
          "model_module": "@jupyter-widgets/base",
          "model_name": "LayoutModel",
          "model_module_version": "1.2.0",
          "state": {
            "_model_module": "@jupyter-widgets/base",
            "_model_module_version": "1.2.0",
            "_model_name": "LayoutModel",
            "_view_count": null,
            "_view_module": "@jupyter-widgets/base",
            "_view_module_version": "1.2.0",
            "_view_name": "LayoutView",
            "align_content": null,
            "align_items": null,
            "align_self": null,
            "border": null,
            "bottom": null,
            "display": null,
            "flex": null,
            "flex_flow": null,
            "grid_area": null,
            "grid_auto_columns": null,
            "grid_auto_flow": null,
            "grid_auto_rows": null,
            "grid_column": null,
            "grid_gap": null,
            "grid_row": null,
            "grid_template_areas": null,
            "grid_template_columns": null,
            "grid_template_rows": null,
            "height": null,
            "justify_content": null,
            "justify_items": null,
            "left": null,
            "margin": null,
            "max_height": null,
            "max_width": null,
            "min_height": null,
            "min_width": null,
            "object_fit": null,
            "object_position": null,
            "order": null,
            "overflow": null,
            "overflow_x": null,
            "overflow_y": null,
            "padding": null,
            "right": null,
            "top": null,
            "visibility": null,
            "width": null
          }
        },
        "c62e918a4a7c4f169b728a5a3a041394": {
          "model_module": "@jupyter-widgets/controls",
          "model_name": "DescriptionStyleModel",
          "model_module_version": "1.5.0",
          "state": {
            "_model_module": "@jupyter-widgets/controls",
            "_model_module_version": "1.5.0",
            "_model_name": "DescriptionStyleModel",
            "_view_count": null,
            "_view_module": "@jupyter-widgets/base",
            "_view_module_version": "1.2.0",
            "_view_name": "StyleView",
            "description_width": ""
          }
        },
        "0661231f5dca4812a45c94a1139a0ebe": {
          "model_module": "@jupyter-widgets/controls",
          "model_name": "DropdownModel",
          "model_module_version": "1.5.0",
          "state": {
            "_dom_classes": [],
            "_model_module": "@jupyter-widgets/controls",
            "_model_module_version": "1.5.0",
            "_model_name": "DropdownModel",
            "_options_labels": [
              "Correlazione item-based",
              "Similarità coseno item-based",
              "Correlazione user-based",
              "Similarità coseno user-based"
            ],
            "_view_count": null,
            "_view_module": "@jupyter-widgets/controls",
            "_view_module_version": "1.5.0",
            "_view_name": "DropdownView",
            "description": "Seleziona approccio",
            "description_tooltip": null,
            "disabled": false,
            "index": 1,
            "layout": "IPY_MODEL_31421712076e442daf91a4e1a2e9c25a",
            "style": "IPY_MODEL_4c63dc8f83744f71bd06bc1544eb3d72"
          }
        },
        "31421712076e442daf91a4e1a2e9c25a": {
          "model_module": "@jupyter-widgets/base",
          "model_name": "LayoutModel",
          "model_module_version": "1.2.0",
          "state": {
            "_model_module": "@jupyter-widgets/base",
            "_model_module_version": "1.2.0",
            "_model_name": "LayoutModel",
            "_view_count": null,
            "_view_module": "@jupyter-widgets/base",
            "_view_module_version": "1.2.0",
            "_view_name": "LayoutView",
            "align_content": null,
            "align_items": null,
            "align_self": null,
            "border": null,
            "bottom": null,
            "display": null,
            "flex": null,
            "flex_flow": null,
            "grid_area": null,
            "grid_auto_columns": null,
            "grid_auto_flow": null,
            "grid_auto_rows": null,
            "grid_column": null,
            "grid_gap": null,
            "grid_row": null,
            "grid_template_areas": null,
            "grid_template_columns": null,
            "grid_template_rows": null,
            "height": null,
            "justify_content": null,
            "justify_items": null,
            "left": null,
            "margin": null,
            "max_height": null,
            "max_width": null,
            "min_height": null,
            "min_width": null,
            "object_fit": null,
            "object_position": null,
            "order": null,
            "overflow": null,
            "overflow_x": null,
            "overflow_y": null,
            "padding": null,
            "right": null,
            "top": null,
            "visibility": null,
            "width": null
          }
        },
        "4c63dc8f83744f71bd06bc1544eb3d72": {
          "model_module": "@jupyter-widgets/controls",
          "model_name": "DescriptionStyleModel",
          "model_module_version": "1.5.0",
          "state": {
            "_model_module": "@jupyter-widgets/controls",
            "_model_module_version": "1.5.0",
            "_model_name": "DescriptionStyleModel",
            "_view_count": null,
            "_view_module": "@jupyter-widgets/base",
            "_view_module_version": "1.2.0",
            "_view_name": "StyleView",
            "description_width": ""
          }
        },
        "96a4d5cf79554aa2a1c3b4609dc46486": {
          "model_module": "@jupyter-widgets/controls",
          "model_name": "DropdownModel",
          "model_module_version": "1.5.0",
          "state": {
            "_dom_classes": [],
            "_model_module": "@jupyter-widgets/controls",
            "_model_module_version": "1.5.0",
            "_model_name": "DropdownModel",
            "_options_labels": [
              "Correlazione item-based",
              "Similarità coseno item-based",
              "Correlazione user-based",
              "Similarità coseno user-based"
            ],
            "_view_count": null,
            "_view_module": "@jupyter-widgets/controls",
            "_view_module_version": "1.5.0",
            "_view_name": "DropdownView",
            "description": "Seleziona approccio",
            "description_tooltip": null,
            "disabled": false,
            "index": 2,
            "layout": "IPY_MODEL_cc72464e73d54d5abed7fe1065562cf5",
            "style": "IPY_MODEL_fde0ae017b834025afc240fa8683a04e"
          }
        },
        "cc72464e73d54d5abed7fe1065562cf5": {
          "model_module": "@jupyter-widgets/base",
          "model_name": "LayoutModel",
          "model_module_version": "1.2.0",
          "state": {
            "_model_module": "@jupyter-widgets/base",
            "_model_module_version": "1.2.0",
            "_model_name": "LayoutModel",
            "_view_count": null,
            "_view_module": "@jupyter-widgets/base",
            "_view_module_version": "1.2.0",
            "_view_name": "LayoutView",
            "align_content": null,
            "align_items": null,
            "align_self": null,
            "border": null,
            "bottom": null,
            "display": null,
            "flex": null,
            "flex_flow": null,
            "grid_area": null,
            "grid_auto_columns": null,
            "grid_auto_flow": null,
            "grid_auto_rows": null,
            "grid_column": null,
            "grid_gap": null,
            "grid_row": null,
            "grid_template_areas": null,
            "grid_template_columns": null,
            "grid_template_rows": null,
            "height": null,
            "justify_content": null,
            "justify_items": null,
            "left": null,
            "margin": null,
            "max_height": null,
            "max_width": null,
            "min_height": null,
            "min_width": null,
            "object_fit": null,
            "object_position": null,
            "order": null,
            "overflow": null,
            "overflow_x": null,
            "overflow_y": null,
            "padding": null,
            "right": null,
            "top": null,
            "visibility": null,
            "width": null
          }
        },
        "fde0ae017b834025afc240fa8683a04e": {
          "model_module": "@jupyter-widgets/controls",
          "model_name": "DescriptionStyleModel",
          "model_module_version": "1.5.0",
          "state": {
            "_model_module": "@jupyter-widgets/controls",
            "_model_module_version": "1.5.0",
            "_model_name": "DescriptionStyleModel",
            "_view_count": null,
            "_view_module": "@jupyter-widgets/base",
            "_view_module_version": "1.2.0",
            "_view_name": "StyleView",
            "description_width": ""
          }
        },
        "908b8a0ecca44849bdf61b529026497c": {
          "model_module": "@jupyter-widgets/controls",
          "model_name": "DropdownModel",
          "model_module_version": "1.5.0",
          "state": {
            "_dom_classes": [],
            "_model_module": "@jupyter-widgets/controls",
            "_model_module_version": "1.5.0",
            "_model_name": "DropdownModel",
            "_options_labels": [
              "Correlazione item-based",
              "Similarità coseno item-based",
              "Correlazione user-based",
              "Similarità coseno user-based"
            ],
            "_view_count": null,
            "_view_module": "@jupyter-widgets/controls",
            "_view_module_version": "1.5.0",
            "_view_name": "DropdownView",
            "description": "Seleziona approccio",
            "description_tooltip": null,
            "disabled": false,
            "index": 3,
            "layout": "IPY_MODEL_d32142126d8e4f3fb1861cee73226ead",
            "style": "IPY_MODEL_698e9574f0054921b0e22712c16c1603"
          }
        },
        "d32142126d8e4f3fb1861cee73226ead": {
          "model_module": "@jupyter-widgets/base",
          "model_name": "LayoutModel",
          "model_module_version": "1.2.0",
          "state": {
            "_model_module": "@jupyter-widgets/base",
            "_model_module_version": "1.2.0",
            "_model_name": "LayoutModel",
            "_view_count": null,
            "_view_module": "@jupyter-widgets/base",
            "_view_module_version": "1.2.0",
            "_view_name": "LayoutView",
            "align_content": null,
            "align_items": null,
            "align_self": null,
            "border": null,
            "bottom": null,
            "display": null,
            "flex": null,
            "flex_flow": null,
            "grid_area": null,
            "grid_auto_columns": null,
            "grid_auto_flow": null,
            "grid_auto_rows": null,
            "grid_column": null,
            "grid_gap": null,
            "grid_row": null,
            "grid_template_areas": null,
            "grid_template_columns": null,
            "grid_template_rows": null,
            "height": null,
            "justify_content": null,
            "justify_items": null,
            "left": null,
            "margin": null,
            "max_height": null,
            "max_width": null,
            "min_height": null,
            "min_width": null,
            "object_fit": null,
            "object_position": null,
            "order": null,
            "overflow": null,
            "overflow_x": null,
            "overflow_y": null,
            "padding": null,
            "right": null,
            "top": null,
            "visibility": null,
            "width": null
          }
        },
        "698e9574f0054921b0e22712c16c1603": {
          "model_module": "@jupyter-widgets/controls",
          "model_name": "DescriptionStyleModel",
          "model_module_version": "1.5.0",
          "state": {
            "_model_module": "@jupyter-widgets/controls",
            "_model_module_version": "1.5.0",
            "_model_name": "DescriptionStyleModel",
            "_view_count": null,
            "_view_module": "@jupyter-widgets/base",
            "_view_module_version": "1.2.0",
            "_view_name": "StyleView",
            "description_width": ""
          }
        }
      }
    }
  },
  "cells": [
    {
      "cell_type": "markdown",
      "metadata": {
        "id": "view-in-github",
        "colab_type": "text"
      },
      "source": [
        "<a href=\"https://colab.research.google.com/github/sragnetti99/BookRecommender/blob/main/book_recommender_v2.ipynb\" target=\"_parent\"><img src=\"https://colab.research.google.com/assets/colab-badge.svg\" alt=\"Open In Colab\"/></a>"
      ]
    },
    {
      "cell_type": "markdown",
      "source": [
        "## Book Recommender"
      ],
      "metadata": {
        "id": "wNEgtDednvIx"
      }
    },
    {
      "cell_type": "markdown",
      "source": [
        "Scopo del progetto è quello di realizzare un semplice Book recommender sulla base dei dati raccolti in tre dataset diversi:\n",
        "\n",
        "1.   BX-Books contiene informazioni sui libri;\n",
        "2.   BX-Users contiene informazioni sugli utenti;\n",
        "3.   BX-Book-Ratings contiene informazioni relative ai voti dati dagli utenti sui libri.\n",
        "\n",
        "Verranno presentati diversi modelli di recommender."
      ],
      "metadata": {
        "id": "rd-_wXGoqOFK"
      }
    },
    {
      "cell_type": "markdown",
      "source": [
        "Progetto di Applicazioni di Data Intensive a.a. 2021/2022"
      ],
      "metadata": {
        "id": "_9wU_K8gn3yH"
      }
    },
    {
      "cell_type": "markdown",
      "source": [
        "**Realizzato da**: Sara Ragnetti\n",
        "\n",
        "sara.ragnetti@studio.unibo.it"
      ],
      "metadata": {
        "id": "Hqi8JBqtoZyf"
      }
    },
    {
      "cell_type": "markdown",
      "source": [
        "# Caricamento Librerie"
      ],
      "metadata": {
        "id": "SsTTHEF7ow9f"
      }
    },
    {
      "cell_type": "markdown",
      "source": [
        "Prima di iniziare, è bene importare tutte le librerie necessarie per effettuare operazioni sui dati.\n",
        "\n",
        "*   csv: libreria per leggere e scrivere dati da forma tabulare in file CSV; \n",
        "*   pandas: libreria che fornisce strutture e strumenti per l'analisi di dati in linguaggio Python;\n",
        "*   numpy: lavorare con vettori e matrici in maniera più efficiente e veloce;\n",
        "* seaborn: libreria per la creazione di grafici statistici;\n",
        "* pyplot:  libreria per la creazione di grafici per il linguaggio di programmazione Python e la libreria matematica NumPy.\n"
      ],
      "metadata": {
        "id": "2soDKMn_o6Dn"
      }
    },
    {
      "cell_type": "code",
      "source": [
        "import csv\n",
        "import pandas as pd\n",
        "import numpy as np\n",
        "import seaborn as sns\n",
        "import matplotlib.pyplot as plt\n",
        "from sklearn.metrics import mean_squared_error\n",
        "from math import sqrt"
      ],
      "metadata": {
        "id": "IUQfrEBs3JZk"
      },
      "execution_count": 5,
      "outputs": []
    },
    {
      "cell_type": "code",
      "source": [
        "global k #,metric\n",
        "k=4\n",
        "#metric='cosine'"
      ],
      "metadata": {
        "id": "fP1EttOvQZDz"
      },
      "execution_count": 6,
      "outputs": []
    },
    {
      "cell_type": "markdown",
      "source": [
        "I dataset utilizzati in questa sede sono stati reperiti dal seguente indirizzo: http://www2.informatik.uni-freiburg.de/~cziegler/BX/\n",
        "\n",
        "Per poter eseguire tutte le seguenti istruzioni bisognerà importare i file .csv nella cartella \"sample_data\"."
      ],
      "metadata": {
        "id": "oKqyaAwNT4q4"
      }
    },
    {
      "cell_type": "markdown",
      "source": [
        "Prima di costruire il modello di Machine Learning per un book recommender, occorre comprendere ed analizzare i dati che saranno utilizzati nello svolgimento del progetto."
      ],
      "metadata": {
        "id": "zrzsphjJrwv9"
      }
    },
    {
      "cell_type": "code",
      "source": [
        "books = pd.read_csv('sample_data/BX-Books.csv', sep=\";\", error_bad_lines=False, encoding=\"latin-1\")\n",
        "books.columns = [\"ISBN\", \"bookTitle\", \"bookAuthor\", \"yearOfPubblication\", \"publisher\", \"imageUrlS\", \"imageUrlM\", \"imageUrlL\"]"
      ],
      "metadata": {
        "id": "RDc6CDiSBtBZ"
      },
      "execution_count": null,
      "outputs": []
    },
    {
      "cell_type": "code",
      "source": [
        "books.shape"
      ],
      "metadata": {
        "id": "b-oYnGR2EUki"
      },
      "execution_count": null,
      "outputs": []
    },
    {
      "cell_type": "code",
      "source": [
        "users = pd.read_csv('sample_data/BX-Users.csv', sep=\";\", encoding=\"latin-1\") # error_bad_lines=False\n",
        "users.columns = [\"userId\", \"Location\", \"Age\"]"
      ],
      "metadata": {
        "id": "4jR49uZhD6mq"
      },
      "execution_count": null,
      "outputs": []
    },
    {
      "cell_type": "code",
      "source": [
        "users.shape"
      ],
      "metadata": {
        "id": "uOkj1Ne1EZYI"
      },
      "execution_count": null,
      "outputs": []
    },
    {
      "cell_type": "code",
      "source": [
        "ratings = pd.read_csv('sample_data/BX-Book-Ratings.csv', sep=\";\", encoding=\"latin-1\",) # error_bad_lines=False\n",
        "ratings.columns = [\"userId\", \"ISBN\", \"bookRating\"]"
      ],
      "metadata": {
        "id": "gA0gpOSpD6cz"
      },
      "execution_count": null,
      "outputs": []
    },
    {
      "cell_type": "code",
      "source": [
        "ratings.shape"
      ],
      "metadata": {
        "id": "_W92Asg2Ea_q"
      },
      "execution_count": null,
      "outputs": []
    },
    {
      "cell_type": "markdown",
      "source": [
        "## Books"
      ],
      "metadata": {
        "id": "ZIz1j8greyl0"
      }
    },
    {
      "cell_type": "markdown",
      "source": [
        "Esploriamo ora ciascuno dei tre dataset importati, iniziando da quello dei libri. Le colonne relative alle immagini non sono necessarie per l'analisi, quindi sarebbe opportuno rimuoverle."
      ],
      "metadata": {
        "id": "D_oopqSMgXJ7"
      }
    },
    {
      "cell_type": "code",
      "source": [
        "books.head()"
      ],
      "metadata": {
        "id": "JJKEe486e1lY"
      },
      "execution_count": null,
      "outputs": []
    },
    {
      "cell_type": "markdown",
      "source": [
        "### Significati delle colonne\n",
        "\n",
        "- `ISBN`: codice univoco del libro\n",
        "- `bookTitle`: titolo del libro\n",
        "- `bookAuthor`: autore del libro\n",
        "- `yearOfPublication`: anno di pubblicazione\n",
        "- `publisher`: casa editrice\n",
        "- `imageUrlS`: immagine della copertina del libro in formato small (S)\n",
        "- `imageUrlM`: immagine della copertina del libro in formato medium (M)\n",
        "- `imageUrlL`: immagine della copertina del libro in formato large (L)"
      ],
      "metadata": {
        "id": "Eny68gIfJ34v"
      }
    },
    {
      "cell_type": "markdown",
      "source": [
        "Rimuoviamo le colonne che non ci saranno utili nel corso della nostra indagine."
      ],
      "metadata": {
        "id": "eAmN2xsBKxF-"
      }
    },
    {
      "cell_type": "code",
      "source": [
        "books.drop(['imageUrlS', 'imageUrlM', 'imageUrlL'], axis=1, inplace=True)"
      ],
      "metadata": {
        "id": "NA7_6m7mgt_K"
      },
      "execution_count": null,
      "outputs": []
    },
    {
      "cell_type": "code",
      "source": [
        "books.head()"
      ],
      "metadata": {
        "id": "3OfhShVKhFCS"
      },
      "execution_count": null,
      "outputs": []
    },
    {
      "cell_type": "markdown",
      "source": [
        "Sistemiamo la tabella in modo che sia visibile il testo completo di ogni sua colonna."
      ],
      "metadata": {
        "id": "3yEGwi9Sh0J1"
      }
    },
    {
      "cell_type": "code",
      "source": [
        "pd.set_option('display.max_colwidth', None)"
      ],
      "metadata": {
        "id": "oVrEhHTXhVa3"
      },
      "execution_count": null,
      "outputs": []
    },
    {
      "cell_type": "markdown",
      "source": [
        "Effettuiamo dei controlli su alcuni attributi. Iniziamo visualizzando i tipi degli elementi lungo le colonne."
      ],
      "metadata": {
        "id": "_TCFTyTEmdo6"
      }
    },
    {
      "cell_type": "code",
      "source": [
        "books.dtypes"
      ],
      "metadata": {
        "id": "dcGk_vkxM3xr"
      },
      "execution_count": null,
      "outputs": []
    },
    {
      "cell_type": "markdown",
      "source": [
        "**yearOfPubblication**"
      ],
      "metadata": {
        "id": "36EmmzjppB9D"
      }
    },
    {
      "cell_type": "markdown",
      "source": [
        "Prima controlliamo i valori della colonna yearOfPubblication e osserviamo che è presente uno 0. \n",
        "Probabilmente si tratta di un errore del dataset, quindi andiamo a sostituire quel valore con la media degli anni di pubblicazione di tutti gli altri libri.\n",
        "\n",
        "Sembrerebbe inoltre ragionevole convertire il tipo di tutti valori della colonna yearOfPubblication in int32."
      ],
      "metadata": {
        "id": "mkVQE5iypJmV"
      }
    },
    {
      "cell_type": "code",
      "source": [
        "books.yearOfPubblication.unique()"
      ],
      "metadata": {
        "id": "jgSYGfbImVk0"
      },
      "execution_count": null,
      "outputs": []
    },
    {
      "cell_type": "markdown",
      "source": [
        "Risulta inotre evidente che due publisher siano stati erroneamente inseriti come yearOfPublication. Dobbiamo rimuoverli."
      ],
      "metadata": {
        "id": "1RqcgxAFNoKW"
      }
    },
    {
      "cell_type": "code",
      "source": [
        "books.loc[books.yearOfPubblication == 'DK Publishing Inc', :]"
      ],
      "metadata": {
        "id": "LpljHyp5NoZ3"
      },
      "execution_count": null,
      "outputs": []
    },
    {
      "cell_type": "markdown",
      "source": [
        "Adesso sistemiamo manualmente i valori sballati, in particolare effettiamo lo switch tra il valore di yearOfPubblication e quello di publisher."
      ],
      "metadata": {
        "id": "nRRuHIxXbD83"
      }
    },
    {
      "cell_type": "code",
      "source": [
        "books.loc[books.ISBN == '078946697X', 'yearOfPubblication'] = 2000\n",
        "books.loc[books.ISBN == '078946697X', 'bookAuthor'] = \"Michael Teitelbaum\"\n",
        "books.loc[books.ISBN == '078946697X', 'bookTitle'] = 'DK Readers: Creating the X-Men, How It All Began (Level 4: Proficient Readers)'\n",
        "books.loc[books.ISBN == '078946697X', 'publisher'] = 'DK Publishing Inc'\n",
        "\n",
        "books.loc[books.ISBN == '0789466953', 'yearOfPubblication'] = 2000\n",
        "books.loc[books.ISBN == '0789466953', 'bookAuthor'] = \"James Buckley\"\n",
        "books.loc[books.ISBN == '0789466953', 'bookTitle'] = 'DK Readers: Creating the X-Men, How Comic Books Come to Life (Level 4: Proficient Readers)'\n",
        "books.loc[books.ISBN == '0789466953', 'publisher'] = 'DK Publishing Inc'"
      ],
      "metadata": {
        "id": "Mt6_hg_7ON0A"
      },
      "execution_count": null,
      "outputs": []
    },
    {
      "cell_type": "code",
      "source": [
        "books.loc[books.yearOfPubblication == 'Gallimard', :]"
      ],
      "metadata": {
        "id": "4XW3xo1RPXyX"
      },
      "execution_count": null,
      "outputs": []
    },
    {
      "cell_type": "code",
      "source": [
        "books.loc[books.ISBN == '2070426769', 'yearOfPubblication'] = 2003\n",
        "books.loc[books.ISBN == '2070426769', 'bookAuthor'] = \"Jean-Marie Gustave\"\n",
        "books.loc[books.ISBN == '2070426769', 'bookTitle'] = 'Peuple du ciel, suivi de Les Bergers'\n",
        "books.loc[books.ISBN == '2070426769', 'publisher'] = 'Gallimard'"
      ],
      "metadata": {
        "id": "buRTrMNgPb4P"
      },
      "execution_count": null,
      "outputs": []
    },
    {
      "cell_type": "code",
      "source": [
        "books.yearOfPubblication = pd.to_numeric(books.yearOfPubblication, errors = 'coerce')\n",
        "sorted(books['yearOfPubblication'].unique())"
      ],
      "metadata": {
        "id": "6VF_JUOmPxN8"
      },
      "execution_count": null,
      "outputs": []
    },
    {
      "cell_type": "markdown",
      "source": [
        "È possibile vedere che yearOfPublication è di tipo int e ha valori compresi tra 0 e 2050. Considerando che questo set di dati è stato creato nel 2004, si presume che tutti gli anni successivi al 2006 non siano validi. Si mantiene comunque un margine di due anni nell'eventualità che il set di dati possa essere stato aggiornato. \n",
        "Tutti i valori non validi (inclusi gli 0), li converto in NaN, quindi li sostituirò con i valori medi degli anni rimanenti."
      ],
      "metadata": {
        "id": "uflBL6-6dnv3"
      }
    },
    {
      "cell_type": "code",
      "source": [
        "books.loc[(books.yearOfPubblication > 2006) | (books.yearOfPubblication == 0), 'yearOfPubblication'] = np.NAN\n",
        "books.yearOfPubblication.fillna(round(books.yearOfPubblication.mean()), inplace=True)"
      ],
      "metadata": {
        "id": "lcjVNmmqnYtb"
      },
      "execution_count": null,
      "outputs": []
    },
    {
      "cell_type": "code",
      "source": [
        "books.yearOfPubblication = books.yearOfPubblication.astype(np.int32)"
      ],
      "metadata": {
        "id": "guDU4OSnov4J"
      },
      "execution_count": null,
      "outputs": []
    },
    {
      "cell_type": "code",
      "source": [
        "books.yearOfPubblication.unique()"
      ],
      "metadata": {
        "id": "llNKa-fIoZxv"
      },
      "execution_count": null,
      "outputs": []
    },
    {
      "cell_type": "markdown",
      "source": [
        "**publisher**"
      ],
      "metadata": {
        "id": "NhMpbxuDQdme"
      }
    },
    {
      "cell_type": "markdown",
      "source": [
        "Anche nella colonna publisher ci sono dei valori sballati.\n",
        "In questo caso, non potendo fare dei calcoli con questi dati, rimpiazziamo i vaori nulli con 'other'."
      ],
      "metadata": {
        "id": "v19MgIdjQsEh"
      }
    },
    {
      "cell_type": "code",
      "source": [
        "books.loc[books.publisher.isnull(), :]"
      ],
      "metadata": {
        "id": "y2H24ihQQfOm"
      },
      "execution_count": null,
      "outputs": []
    },
    {
      "cell_type": "code",
      "source": [
        "books.loc[(books.ISBN == '193169656X'), 'publisher'] = 'other'\n",
        "books.loc[(books.ISBN == '1931696993'), 'publisher'] = 'other'"
      ],
      "metadata": {
        "id": "EfbeV2NOQyCg"
      },
      "execution_count": null,
      "outputs": []
    },
    {
      "cell_type": "markdown",
      "source": [
        "## Users"
      ],
      "metadata": {
        "id": "QH6_jpa5tb6Z"
      }
    },
    {
      "cell_type": "code",
      "source": [
        "users.head()"
      ],
      "metadata": {
        "id": "crVPPpgAMBf2"
      },
      "execution_count": null,
      "outputs": []
    },
    {
      "cell_type": "markdown",
      "source": [
        "### Significati delle colonne\n",
        "\n",
        "- `userId`: codice univoco dell'utente\n",
        "- `age`: età dell'utente\n",
        "- `location`: città, stato e paese di residenza dell'utente"
      ],
      "metadata": {
        "id": "sFLVziOFMG6C"
      }
    },
    {
      "cell_type": "markdown",
      "source": [
        "Effettuiamo alcuni controlli preliminari sul dataset relativo agli utenti."
      ],
      "metadata": {
        "id": "UcaFmwJvt3sf"
      }
    },
    {
      "cell_type": "code",
      "source": [
        "users.shape"
      ],
      "metadata": {
        "id": "pjsedQrEtql3"
      },
      "execution_count": null,
      "outputs": []
    },
    {
      "cell_type": "code",
      "source": [
        "users.userId.nunique()"
      ],
      "metadata": {
        "id": "iPIj5phuhQXe"
      },
      "execution_count": null,
      "outputs": []
    },
    {
      "cell_type": "code",
      "source": [
        "users.head()"
      ],
      "metadata": {
        "id": "2_gfNrSbtezg"
      },
      "execution_count": null,
      "outputs": []
    },
    {
      "cell_type": "code",
      "source": [
        "users.dtypes"
      ],
      "metadata": {
        "id": "usN-Ja4lts_Y"
      },
      "execution_count": null,
      "outputs": []
    },
    {
      "cell_type": "markdown",
      "source": [
        "**Age**"
      ],
      "metadata": {
        "id": "pJEq1cCfxlFs"
      }
    },
    {
      "cell_type": "markdown",
      "source": [
        "La colonna degli ID sembra essere corretta poichè il numero di ID univoci corrisponde al totale degli utenti, ma lo stesso non si può dire di age. Qui compaiono dei NaN e alcuni valori o troppo alti (> 90) o troppo bassi (< 5). \n",
        "Inizialmente trasformiamo queste ultime età in NaN, e poi sostituiamo tutti i NaN con un valore pari alla medià delle età di tutti gli utenti."
      ],
      "metadata": {
        "id": "HpV9oAQNuAX4"
      }
    },
    {
      "cell_type": "markdown",
      "source": [
        "Controlliamo la distribuzione dell'età: gli utenti più 'attivi' hanno un'età compresa tra i 20 e i 30 anni."
      ],
      "metadata": {
        "id": "-TJiVky1ZHix"
      }
    },
    {
      "cell_type": "code",
      "source": [
        "users.Age.hist(bins=[0, 10, 20, 30, 40, 50, 100])\n",
        "plt.title('Distribuzione dell\\'età')\n",
        "plt.xlabel('Età')\n",
        "plt.ylabel('Count')\n",
        "plt.savefig('System2.png', bbox_inches='tight')\n",
        "plt.show()"
      ],
      "metadata": {
        "id": "bW0fBI2aZGul"
      },
      "execution_count": null,
      "outputs": []
    },
    {
      "cell_type": "code",
      "source": [
        "users.Age.unique()"
      ],
      "metadata": {
        "id": "O1v6zlliwJfJ"
      },
      "execution_count": null,
      "outputs": []
    },
    {
      "cell_type": "code",
      "source": [
        "users.loc[(users.Age < 5) | (users.Age > 90), 'Age'] = np.nan"
      ],
      "metadata": {
        "id": "leEkWaSFwOv5"
      },
      "execution_count": null,
      "outputs": []
    },
    {
      "cell_type": "code",
      "source": [
        "users.Age = users.Age.fillna(users.Age.mean())\n",
        "users.Age = users.Age.astype(np.int32)\n",
        "users.Age.unique()"
      ],
      "metadata": {
        "id": "wT9Ax2NVwhid"
      },
      "execution_count": null,
      "outputs": []
    },
    {
      "cell_type": "markdown",
      "source": [
        "**Location**"
      ],
      "metadata": {
        "id": "V3HbEOPYxpct"
      }
    },
    {
      "cell_type": "markdown",
      "source": [
        "Per fare un po' di chiarezza, divdiamo la colonna Location in 3 colonne:\n",
        "* City;\n",
        "* State;\n",
        "* Country.\n",
        "\n",
        "e consideriamo, da ora in poi, solo Country."
      ],
      "metadata": {
        "id": "MTtIdTZuxNHx"
      }
    },
    {
      "cell_type": "code",
      "source": [
        "users[['City', 'State', 'Country']] = users['Location'].str.split(',', 2, expand=True)\n",
        "users"
      ],
      "metadata": {
        "id": "V4ajpApZxurv"
      },
      "execution_count": null,
      "outputs": []
    },
    {
      "cell_type": "code",
      "source": [
        "users.drop(['Location', 'City', 'State'], axis=1, inplace=True)\n",
        "users"
      ],
      "metadata": {
        "id": "c4fvW4tR9Pjg"
      },
      "execution_count": null,
      "outputs": []
    },
    {
      "cell_type": "code",
      "source": [
        "users.rename(columns = {'Country':'Location'}, inplace = True)\n",
        "users"
      ],
      "metadata": {
        "id": "-H_h53JH8qRl"
      },
      "execution_count": null,
      "outputs": []
    },
    {
      "cell_type": "markdown",
      "source": [
        "## Ratings"
      ],
      "metadata": {
        "id": "GB_Dx5Mq9bwi"
      }
    },
    {
      "cell_type": "code",
      "source": [
        "ratings.head()"
      ],
      "metadata": {
        "id": "PoxPLgB1Oo2J"
      },
      "execution_count": null,
      "outputs": []
    },
    {
      "cell_type": "markdown",
      "source": [
        "### Significati delle colonne\n",
        "\n",
        "- `userId`: codice univoco dell'utente\n",
        "- `ISBN`: codice univoco del libro\n",
        "- `bookRating`: voto dato dall'utente x ad un libro y"
      ],
      "metadata": {
        "id": "7l0mA62-OoM0"
      }
    },
    {
      "cell_type": "markdown",
      "source": [
        "Analizzando il dataset dei ratings ci accorgiamo che la matrice user-books ratings ha dei valori sparsi, in quanto il numero di ratings è inferiore alla dimensione della matrice books x users."
      ],
      "metadata": {
        "id": "K6r0WC8Q95GP"
      }
    },
    {
      "cell_type": "code",
      "source": [
        "ratings.shape"
      ],
      "metadata": {
        "id": "81RSDKWp95eI"
      },
      "execution_count": null,
      "outputs": []
    },
    {
      "cell_type": "code",
      "source": [
        "n_users = users.shape[0]\n",
        "n_books = books.shape[0]\n",
        "\n",
        "n_users * n_books "
      ],
      "metadata": {
        "id": "oKYnUTIo98N1"
      },
      "execution_count": null,
      "outputs": []
    },
    {
      "cell_type": "markdown",
      "source": [
        "# Distribuzione dei ratings"
      ],
      "metadata": {
        "id": "-PdKII7WXtCt"
      }
    },
    {
      "cell_type": "markdown",
      "source": [
        "I ratings hanno una distribuzione tutt'altro che comparabile. Infatti, la maggior parte dei punteggi ha valore 0, che indica assenza di voto."
      ],
      "metadata": {
        "id": "NGYzyR9BXwHM"
      }
    },
    {
      "cell_type": "code",
      "source": [
        "from pyparsing.helpers import counted_array\n",
        "plt.rc(\"font\", size=15)\n",
        "ratings.bookRating.value_counts(sort=False).plot(kind='bar')\n",
        "plt.title('Distribuzione dei Rating\\n')\n",
        "plt.xlabel('Rating')\n",
        "plt.ylabel('Conteggio')\n",
        "plt.savefig('system1.png', bbox_inches='tight')\n",
        "plt.show()"
      ],
      "metadata": {
        "colab": {
          "base_uri": "https://localhost:8080/"
        },
        "id": "_kC3qKdWX-5B",
        "outputId": "770a1c22-132c-400b-8051-1159d698dfb0"
      },
      "execution_count": null,
      "outputs": [
        {
          "output_type": "display_data",
          "data": {
            "text/plain": [
              "<Figure size 432x288 with 1 Axes>"
            ],
            "image/png": "[encoded data removed]"
          },
          "metadata": {
            "needs_background": "light"
          }
        }
      ]
    },
    {
      "cell_type": "markdown",
      "source": [
        "Diamo una misura della sparsità dei dati."
      ],
      "metadata": {
        "id": "xZKJhuCQX-gH"
      }
    },
    {
      "cell_type": "code",
      "source": [
        "sparsity = 1.0-len(ratings)/float(n_users*n_books)\n",
        "\n",
        "print(\"La sparsità dei dati è pari al \" + str(sparsity*100) + \" %\")"
      ],
      "metadata": {
        "id": "Ur87-UYCrjBl",
        "colab": {
          "base_uri": "https://localhost:8080/"
        },
        "outputId": "4bf0d929-8cae-42ee-d80c-91905348c1c6"
      },
      "execution_count": null,
      "outputs": [
        {
          "output_type": "stream",
          "name": "stdout",
          "text": [
            "La sparsità dei dati è pari al 99.99848055210727 %\n"
          ]
        }
      ]
    },
    {
      "cell_type": "markdown",
      "source": [
        "Verifichiamo che i ratings siano relativi a dei libri presenti nel dataset books e che siano effettuati da utenti presenti in users."
      ],
      "metadata": {
        "id": "o-oQjVDb1RTl"
      }
    },
    {
      "cell_type": "code",
      "source": [
        "new_ratings = ratings[ratings.ISBN.isin(books.ISBN)]\n",
        "new_ratings = new_ratings[new_ratings.userId.isin(users.userId)]"
      ],
      "metadata": {
        "id": "H_upskt41eM6"
      },
      "execution_count": null,
      "outputs": []
    },
    {
      "cell_type": "code",
      "source": [
        "ratings.shape"
      ],
      "metadata": {
        "id": "R46mskSe3Nf0",
        "colab": {
          "base_uri": "https://localhost:8080/"
        },
        "outputId": "c79c6e81-124f-4418-ad42-ee7318f5f32d"
      },
      "execution_count": null,
      "outputs": [
        {
          "output_type": "execute_result",
          "data": {
            "text/plain": [
              "(1149780, 3)"
            ]
          },
          "metadata": {},
          "execution_count": 176
        }
      ]
    },
    {
      "cell_type": "markdown",
      "source": [
        "Il numero di ratings è diminuito, quindi alcuni voti erano stati erroneamente inseriti nel dataset."
      ],
      "metadata": {
        "id": "ntOQnRm1YPDZ"
      }
    },
    {
      "cell_type": "code",
      "source": [
        "new_ratings.shape"
      ],
      "metadata": {
        "id": "AFm4iC_C3HcJ",
        "colab": {
          "base_uri": "https://localhost:8080/"
        },
        "outputId": "33157e32-b46b-4577-86f9-0e4817f4b807"
      },
      "execution_count": null,
      "outputs": [
        {
          "output_type": "execute_result",
          "data": {
            "text/plain": [
              "(1031136, 3)"
            ]
          },
          "metadata": {},
          "execution_count": 177
        }
      ]
    },
    {
      "cell_type": "markdown",
      "source": [
        "Occorre fare una distinzione, separando le valutazioni **esplicite**, rappresentate dai voti compresi tra 1–10 dalle valutazioni **implicite**, con valori pari a 0. \n",
        "Utilizzeremo solo valutazioni esplicite per creare il nostro sistema di book recommendation. \n",
        "Allo stesso modo, bisogna separare gli utenti che hanno dato valutazioni esplicite e quelli che hanno dato valutazioni implicite."
      ],
      "metadata": {
        "id": "Md5Nb9cU7yhT"
      }
    },
    {
      "cell_type": "code",
      "source": [
        "ratings.bookRating.unique()"
      ],
      "metadata": {
        "id": "n9YJhD-e8g-N",
        "colab": {
          "base_uri": "https://localhost:8080/"
        },
        "outputId": "2bf17dbc-7299-4edc-b914-555502da99ba"
      },
      "execution_count": null,
      "outputs": [
        {
          "output_type": "execute_result",
          "data": {
            "text/plain": [
              "array([ 0,  5,  3,  6,  8,  7, 10,  9,  4,  1,  2])"
            ]
          },
          "metadata": {},
          "execution_count": 178
        }
      ]
    },
    {
      "cell_type": "code",
      "source": [
        "explicit_ratings = new_ratings[new_ratings.bookRating  != 0]\n",
        "implicit_ratings = new_ratings[new_ratings.bookRating  == 0]"
      ],
      "metadata": {
        "id": "NApekfT_8sne"
      },
      "execution_count": null,
      "outputs": []
    },
    {
      "cell_type": "code",
      "source": [
        "users_explicit_ratings = users[users.userId.isin(explicit_ratings.userId)]\n",
        "users_implicit_ratings = users[users.userId.isin(implicit_ratings.userId)]"
      ],
      "metadata": {
        "id": "bvAIK4BD9DhJ"
      },
      "execution_count": null,
      "outputs": []
    },
    {
      "cell_type": "markdown",
      "source": [
        "Visualizziamo graficamente il conteggio di ciascun rating attraverso un countplot e notiamo che il voto 8 è quello dato più volte."
      ],
      "metadata": {
        "id": "gg7kFu7H-uR8"
      }
    },
    {
      "cell_type": "code",
      "source": [
        "sns.countplot(data=explicit_ratings, x='bookRating')\n",
        "plt.show()"
      ],
      "metadata": {
        "id": "E9SSNlRC-yh2",
        "colab": {
          "base_uri": "https://localhost:8080/"
        },
        "outputId": "345c790c-e983-4610-fa5e-50dbfd21a145"
      },
      "execution_count": null,
      "outputs": [
        {
          "output_type": "display_data",
          "data": {
            "text/plain": [
              "<Figure size 432x288 with 1 Axes>"
            ],
            "image/png": "[encoded data removed]"
          },
          "metadata": {
            "needs_background": "light"
          }
        }
      ]
    },
    {
      "cell_type": "markdown",
      "source": [
        "# Sistema di recommendation basato sulla popolarità"
      ],
      "metadata": {
        "id": "sXpmmfSGCY2t"
      }
    },
    {
      "cell_type": "markdown",
      "source": [
        "Si può creare un semplice sistema di recommedation basato sulla popolarità in base al conteggio delle valutazioni degli utenti per i diversi libri. \n"
      ],
      "metadata": {
        "id": "dUVQgmS5Chm7"
      }
    },
    {
      "cell_type": "markdown",
      "source": [
        "Per assicurarci di ottenere delle statistiche significative, per questo tipo di analisi riduciamo le dimensioni del dataset escludendo gli utenti che hanno dato meno di 100 voti e i libri che hanno ricevuto meno di 100 voti."
      ],
      "metadata": {
        "id": "UE4GaAg1hwcp"
      }
    },
    {
      "cell_type": "code",
      "source": [
        "counts1 = explicit_ratings['userId'].value_counts()\n",
        "explicit_ratings = explicit_ratings[explicit_ratings['userId'].isin(counts1[counts1 >= 100].index)]\n",
        "counts = explicit_ratings['bookRating'].value_counts()\n",
        "explicit_ratings = explicit_ratings[explicit_ratings['bookRating'].isin(counts[counts >= 100].index)]"
      ],
      "metadata": {
        "id": "frT_Sb-1iKXj"
      },
      "execution_count": null,
      "outputs": []
    },
    {
      "cell_type": "code",
      "source": [
        "# calcolo la somma dei ratings di ogni libro\n",
        "ratings_count = pd.DataFrame(explicit_ratings.groupby(['ISBN'])['bookRating'].sum())\n",
        "# cerco i 10 libri più votati ordinando per bookRating decrescente\n",
        "top10 = ratings_count.sort_values('bookRating', ascending=False).head(10)\n",
        "\n",
        "print(\"I libri seguenti sono quelli più consigliati:\")\n",
        "\n",
        "# unisco i 10 libri più votati alle informazioni specifiche relative ad essi\n",
        "top10.merge(books, left_index = True, right_on = 'ISBN')"
      ],
      "metadata": {
        "id": "tDkEDcHrDPaU",
        "colab": {
          "base_uri": "https://localhost:8080/"
        },
        "outputId": "273d756d-a6d2-4bfe-db22-4dbef2b45446"
      },
      "execution_count": null,
      "outputs": [
        {
          "output_type": "stream",
          "name": "stdout",
          "text": [
            "I libri seguenti sono quelli più consigliati:\n"
          ]
        },
        {
          "output_type": "execute_result",
          "data": {
            "text/plain": [
              "      bookRating        ISBN  \\\n",
              "408          595  0316666343   \n",
              "2143         411  059035342X   \n",
              "5506         409  043935806X   \n",
              "748          400  0385504209   \n",
              "522          375  0312195516   \n",
              "37           358  0446310786   \n",
              "5431         331  0439139597   \n",
              "1195         320  0345370775   \n",
              "5432         314  0439064864   \n",
              "3839         300  0439136350   \n",
              "\n",
              "                                                             bookTitle  \\\n",
              "408                                          The Lovely Bones: A Novel   \n",
              "2143  Harry Potter and the Sorcerer's Stone (Harry Potter (Paperback))   \n",
              "5506                Harry Potter and the Order of the Phoenix (Book 5)   \n",
              "748                                                  The Da Vinci Code   \n",
              "522                                The Red Tent (Bestselling Backlist)   \n",
              "37                                               To Kill a Mockingbird   \n",
              "5431                      Harry Potter and the Goblet of Fire (Book 4)   \n",
              "1195                                                     Jurassic Park   \n",
              "5432                  Harry Potter and the Chamber of Secrets (Book 2)   \n",
              "3839                 Harry Potter and the Prisoner of Azkaban (Book 3)   \n",
              "\n",
              "            bookAuthor  yearOfPubblication                   publisher  \n",
              "408       Alice Sebold                2002               Little, Brown  \n",
              "2143     J. K. Rowling                1999      Arthur A. Levine Books  \n",
              "5506     J. K. Rowling                2003                  Scholastic  \n",
              "748          Dan Brown                2003                   Doubleday  \n",
              "522      Anita Diamant                1998                 Picador USA  \n",
              "37          Harper Lee                1988  Little Brown &amp; Company  \n",
              "5431     J. K. Rowling                2000                  Scholastic  \n",
              "1195  Michael Crichton                1999            Ballantine Books  \n",
              "5432     J. K. Rowling                1999                  Scholastic  \n",
              "3839     J. K. Rowling                1999                  Scholastic  "
            ],
            "text/html": [
              "\n",
              "  <div id=\"df-5f3f8536-3f68-48a1-ad33-268057847b5f\">\n",
              "    <div class=\"colab-df-container\">\n",
              "      <div>\n",
              "<style scoped>\n",
              "    .dataframe tbody tr th:only-of-type {\n",
              "        vertical-align: middle;\n",
              "    }\n",
              "\n",
              "    .dataframe tbody tr th {\n",
              "        vertical-align: top;\n",
              "    }\n",
              "\n",
              "    .dataframe thead th {\n",
              "        text-align: right;\n",
              "    }\n",
              "</style>\n",
              "<table border=\"1\" class=\"dataframe\">\n",
              "  <thead>\n",
              "    <tr style=\"text-align: right;\">\n",
              "      <th></th>\n",
              "      <th>bookRating</th>\n",
              "      <th>ISBN</th>\n",
              "      <th>bookTitle</th>\n",
              "      <th>bookAuthor</th>\n",
              "      <th>yearOfPubblication</th>\n",
              "      <th>publisher</th>\n",
              "    </tr>\n",
              "  </thead>\n",
              "  <tbody>\n",
              "    <tr>\n",
              "      <th>408</th>\n",
              "      <td>595</td>\n",
              "      <td>0316666343</td>\n",
              "      <td>The Lovely Bones: A Novel</td>\n",
              "      <td>Alice Sebold</td>\n",
              "      <td>2002</td>\n",
              "      <td>Little, Brown</td>\n",
              "    </tr>\n",
              "    <tr>\n",
              "      <th>2143</th>\n",
              "      <td>411</td>\n",
              "      <td>059035342X</td>\n",
              "      <td>Harry Potter and the Sorcerer's Stone (Harry Potter (Paperback))</td>\n",
              "      <td>J. K. Rowling</td>\n",
              "      <td>1999</td>\n",
              "      <td>Arthur A. Levine Books</td>\n",
              "    </tr>\n",
              "    <tr>\n",
              "      <th>5506</th>\n",
              "      <td>409</td>\n",
              "      <td>043935806X</td>\n",
              "      <td>Harry Potter and the Order of the Phoenix (Book 5)</td>\n",
              "      <td>J. K. Rowling</td>\n",
              "      <td>2003</td>\n",
              "      <td>Scholastic</td>\n",
              "    </tr>\n",
              "    <tr>\n",
              "      <th>748</th>\n",
              "      <td>400</td>\n",
              "      <td>0385504209</td>\n",
              "      <td>The Da Vinci Code</td>\n",
              "      <td>Dan Brown</td>\n",
              "      <td>2003</td>\n",
              "      <td>Doubleday</td>\n",
              "    </tr>\n",
              "    <tr>\n",
              "      <th>522</th>\n",
              "      <td>375</td>\n",
              "      <td>0312195516</td>\n",
              "      <td>The Red Tent (Bestselling Backlist)</td>\n",
              "      <td>Anita Diamant</td>\n",
              "      <td>1998</td>\n",
              "      <td>Picador USA</td>\n",
              "    </tr>\n",
              "    <tr>\n",
              "      <th>37</th>\n",
              "      <td>358</td>\n",
              "      <td>0446310786</td>\n",
              "      <td>To Kill a Mockingbird</td>\n",
              "      <td>Harper Lee</td>\n",
              "      <td>1988</td>\n",
              "      <td>Little Brown &amp;amp; Company</td>\n",
              "    </tr>\n",
              "    <tr>\n",
              "      <th>5431</th>\n",
              "      <td>331</td>\n",
              "      <td>0439139597</td>\n",
              "      <td>Harry Potter and the Goblet of Fire (Book 4)</td>\n",
              "      <td>J. K. Rowling</td>\n",
              "      <td>2000</td>\n",
              "      <td>Scholastic</td>\n",
              "    </tr>\n",
              "    <tr>\n",
              "      <th>1195</th>\n",
              "      <td>320</td>\n",
              "      <td>0345370775</td>\n",
              "      <td>Jurassic Park</td>\n",
              "      <td>Michael Crichton</td>\n",
              "      <td>1999</td>\n",
              "      <td>Ballantine Books</td>\n",
              "    </tr>\n",
              "    <tr>\n",
              "      <th>5432</th>\n",
              "      <td>314</td>\n",
              "      <td>0439064864</td>\n",
              "      <td>Harry Potter and the Chamber of Secrets (Book 2)</td>\n",
              "      <td>J. K. Rowling</td>\n",
              "      <td>1999</td>\n",
              "      <td>Scholastic</td>\n",
              "    </tr>\n",
              "    <tr>\n",
              "      <th>3839</th>\n",
              "      <td>300</td>\n",
              "      <td>0439136350</td>\n",
              "      <td>Harry Potter and the Prisoner of Azkaban (Book 3)</td>\n",
              "      <td>J. K. Rowling</td>\n",
              "      <td>1999</td>\n",
              "      <td>Scholastic</td>\n",
              "    </tr>\n",
              "  </tbody>\n",
              "</table>\n",
              "</div>\n",
              "      <button class=\"colab-df-convert\" onclick=\"convertToInteractive('df-5f3f8536-3f68-48a1-ad33-268057847b5f')\"\n",
              "              title=\"Convert this dataframe to an interactive table.\"\n",
              "              style=\"display:none;\">\n",
              "        \n",
              "  <svg xmlns=\"http://www.w3.org/2000/svg\" height=\"24px\"viewBox=\"0 0 24 24\"\n",
              "       width=\"24px\">\n",
              "    <path d=\"M0 0h24v24H0V0z\" fill=\"none\"/>\n",
              "    <path d=\"M18.56 5.44l.94 2.06.94-2.06 2.06-.94-2.06-.94-.94-2.06-.94 2.06-2.06.94zm-11 1L8.5 8.5l.94-2.06 2.06-.94-2.06-.94L8.5 2.5l-.94 2.06-2.06.94zm10 10l.94 2.06.94-2.06 2.06-.94-2.06-.94-.94-2.06-.94 2.06-2.06.94z\"/><path d=\"M17.41 7.96l-1.37-1.37c-.4-.4-.92-.59-1.43-.59-.52 0-1.04.2-1.43.59L10.3 9.45l-7.72 7.72c-.78.78-.78 2.05 0 2.83L4 21.41c.39.39.9.59 1.41.59.51 0 1.02-.2 1.41-.59l7.78-7.78 2.81-2.81c.8-.78.8-2.07 0-2.86zM5.41 20L4 18.59l7.72-7.72 1.47 1.35L5.41 20z\"/>\n",
              "  </svg>\n",
              "      </button>\n",
              "      \n",
              "  <style>\n",
              "    .colab-df-container {\n",
              "      display:flex;\n",
              "      flex-wrap:wrap;\n",
              "      gap: 12px;\n",
              "    }\n",
              "\n",
              "    .colab-df-convert {\n",
              "      background-color: #E8F0FE;\n",
              "      border: none;\n",
              "      border-radius: 50%;\n",
              "      cursor: pointer;\n",
              "      display: none;\n",
              "      fill: #1967D2;\n",
              "      height: 32px;\n",
              "      padding: 0 0 0 0;\n",
              "      width: 32px;\n",
              "    }\n",
              "\n",
              "    .colab-df-convert:hover {\n",
              "      background-color: #E2EBFA;\n",
              "      box-shadow: 0px 1px 2px rgba(60, 64, 67, 0.3), 0px 1px 3px 1px rgba(60, 64, 67, 0.15);\n",
              "      fill: #174EA6;\n",
              "    }\n",
              "\n",
              "    [theme=dark] .colab-df-convert {\n",
              "      background-color: #3B4455;\n",
              "      fill: #D2E3FC;\n",
              "    }\n",
              "\n",
              "    [theme=dark] .colab-df-convert:hover {\n",
              "      background-color: #434B5C;\n",
              "      box-shadow: 0px 1px 3px 1px rgba(0, 0, 0, 0.15);\n",
              "      filter: drop-shadow(0px 1px 2px rgba(0, 0, 0, 0.3));\n",
              "      fill: #FFFFFF;\n",
              "    }\n",
              "  </style>\n",
              "\n",
              "      <script>\n",
              "        const buttonEl =\n",
              "          document.querySelector('#df-5f3f8536-3f68-48a1-ad33-268057847b5f button.colab-df-convert');\n",
              "        buttonEl.style.display =\n",
              "          google.colab.kernel.accessAllowed ? 'block' : 'none';\n",
              "\n",
              "        async function convertToInteractive(key) {\n",
              "          const element = document.querySelector('#df-5f3f8536-3f68-48a1-ad33-268057847b5f');\n",
              "          const dataTable =\n",
              "            await google.colab.kernel.invokeFunction('convertToInteractive',\n",
              "                                                     [key], {});\n",
              "          if (!dataTable) return;\n",
              "\n",
              "          const docLinkHtml = 'Like what you see? Visit the ' +\n",
              "            '<a target=\"_blank\" href=https://colab.research.google.com/notebooks/data_table.ipynb>data table notebook</a>'\n",
              "            + ' to learn more about interactive tables.';\n",
              "          element.innerHTML = '';\n",
              "          dataTable['output_type'] = 'display_data';\n",
              "          await google.colab.output.renderOutput(dataTable, element);\n",
              "          const docLink = document.createElement('div');\n",
              "          docLink.innerHTML = docLinkHtml;\n",
              "          element.appendChild(docLink);\n",
              "        }\n",
              "      </script>\n",
              "    </div>\n",
              "  </div>\n",
              "  "
            ]
          },
          "metadata": {},
          "execution_count": 183
        }
      ]
    },
    {
      "cell_type": "markdown",
      "source": [
        "Il recommender che abbiamo creato suggerisce che i romanzi sono molto popolari, in particolare quelli di J.K.Rowling; e anche che se a qualcuno, per esempio, è piaciuto \"The red tent\", probabilmente apprezzerà anche \"The lovely bones: a novel\".\n",
        "\n",
        "Chiaramente un modello di questo tipo non è molto affidabile dato che non si basa affatto sulle similarità tra utenti o prodotti."
      ],
      "metadata": {
        "id": "1ymJnI1EcX6D"
      }
    },
    {
      "cell_type": "markdown",
      "source": [
        "# Sistema di recommendation basato sulla correlazione"
      ],
      "metadata": {
        "id": "-UfXJmT7GAXb"
      }
    },
    {
      "cell_type": "markdown",
      "source": [
        "Usiamo il coefficiente di correlazione di Pearsons (R) per misurare la correlazione lineare tra due variabili, che nel nostro caso costituiscono le valutazioni di due libri.\n",
        "\n",
        "Innanzitutto, dobbiamo scoprire la valutazione media e il numero di valutazioni (ratings) ricevute da ciascun libro."
      ],
      "metadata": {
        "id": "j_L7K1eNlDXL"
      }
    },
    {
      "cell_type": "code",
      "source": [
        "# calcolo la media dei ratings di ogni libro\n",
        "average_rating = pd.DataFrame(ratings.groupby('ISBN')['bookRating'].mean())\n",
        "\n",
        "# aggiungo la colonna con il conteggio dei ratings che ha ricevuto ogni libro\n",
        "average_rating['ratingCount'] = pd.DataFrame(ratings.groupby('ISBN')['bookRating'].count())\n",
        "\n",
        "print(\"I libri seguenti sono quelli più consigliati:\")\n",
        "\n",
        "# ordino i risultati per numero di voti decrescente (ascending = false)\n",
        "average_rating.sort_values('ratingCount', ascending = False).merge(books, left_index = True, right_on = 'ISBN').head()\n"
      ],
      "metadata": {
        "colab": {
          "base_uri": "https://localhost:8080/"
        },
        "id": "jZWOdVCelIjX",
        "outputId": "188e7118-3960-4d0a-8771-d75e322e9928"
      },
      "execution_count": null,
      "outputs": [
        {
          "output_type": "stream",
          "name": "stdout",
          "text": [
            "I libri seguenti sono quelli più consigliati:\n"
          ]
        },
        {
          "output_type": "execute_result",
          "data": {
            "text/plain": [
              "      bookRating  ratingCount        ISBN  \\\n",
              "26      1.019584         2502  0971880107   \n",
              "408     4.468726         1295  0316666343   \n",
              "748     4.652322          883  0385504209   \n",
              "1105    3.448087          732  0060928336   \n",
              "522     4.334716          723  0312195516   \n",
              "\n",
              "                                            bookTitle     bookAuthor  \\\n",
              "26                                        Wild Animus   Rich Shapero   \n",
              "408                         The Lovely Bones: A Novel   Alice Sebold   \n",
              "748                                 The Da Vinci Code      Dan Brown   \n",
              "1105  Divine Secrets of the Ya-Ya Sisterhood: A Novel  Rebecca Wells   \n",
              "522               The Red Tent (Bestselling Backlist)  Anita Diamant   \n",
              "\n",
              "      yearOfPubblication      publisher  \n",
              "26                  2004        Too Far  \n",
              "408                 2002  Little, Brown  \n",
              "748                 2003      Doubleday  \n",
              "1105                1997      Perennial  \n",
              "522                 1998    Picador USA  "
            ],
            "text/html": [
              "\n",
              "  <div id=\"df-063bd89e-ebcc-4890-8690-ae2349874eca\">\n",
              "    <div class=\"colab-df-container\">\n",
              "      <div>\n",
              "<style scoped>\n",
              "    .dataframe tbody tr th:only-of-type {\n",
              "        vertical-align: middle;\n",
              "    }\n",
              "\n",
              "    .dataframe tbody tr th {\n",
              "        vertical-align: top;\n",
              "    }\n",
              "\n",
              "    .dataframe thead th {\n",
              "        text-align: right;\n",
              "    }\n",
              "</style>\n",
              "<table border=\"1\" class=\"dataframe\">\n",
              "  <thead>\n",
              "    <tr style=\"text-align: right;\">\n",
              "      <th></th>\n",
              "      <th>bookRating</th>\n",
              "      <th>ratingCount</th>\n",
              "      <th>ISBN</th>\n",
              "      <th>bookTitle</th>\n",
              "      <th>bookAuthor</th>\n",
              "      <th>yearOfPubblication</th>\n",
              "      <th>publisher</th>\n",
              "    </tr>\n",
              "  </thead>\n",
              "  <tbody>\n",
              "    <tr>\n",
              "      <th>26</th>\n",
              "      <td>1.019584</td>\n",
              "      <td>2502</td>\n",
              "      <td>0971880107</td>\n",
              "      <td>Wild Animus</td>\n",
              "      <td>Rich Shapero</td>\n",
              "      <td>2004</td>\n",
              "      <td>Too Far</td>\n",
              "    </tr>\n",
              "    <tr>\n",
              "      <th>408</th>\n",
              "      <td>4.468726</td>\n",
              "      <td>1295</td>\n",
              "      <td>0316666343</td>\n",
              "      <td>The Lovely Bones: A Novel</td>\n",
              "      <td>Alice Sebold</td>\n",
              "      <td>2002</td>\n",
              "      <td>Little, Brown</td>\n",
              "    </tr>\n",
              "    <tr>\n",
              "      <th>748</th>\n",
              "      <td>4.652322</td>\n",
              "      <td>883</td>\n",
              "      <td>0385504209</td>\n",
              "      <td>The Da Vinci Code</td>\n",
              "      <td>Dan Brown</td>\n",
              "      <td>2003</td>\n",
              "      <td>Doubleday</td>\n",
              "    </tr>\n",
              "    <tr>\n",
              "      <th>1105</th>\n",
              "      <td>3.448087</td>\n",
              "      <td>732</td>\n",
              "      <td>0060928336</td>\n",
              "      <td>Divine Secrets of the Ya-Ya Sisterhood: A Novel</td>\n",
              "      <td>Rebecca Wells</td>\n",
              "      <td>1997</td>\n",
              "      <td>Perennial</td>\n",
              "    </tr>\n",
              "    <tr>\n",
              "      <th>522</th>\n",
              "      <td>4.334716</td>\n",
              "      <td>723</td>\n",
              "      <td>0312195516</td>\n",
              "      <td>The Red Tent (Bestselling Backlist)</td>\n",
              "      <td>Anita Diamant</td>\n",
              "      <td>1998</td>\n",
              "      <td>Picador USA</td>\n",
              "    </tr>\n",
              "  </tbody>\n",
              "</table>\n",
              "</div>\n",
              "      <button class=\"colab-df-convert\" onclick=\"convertToInteractive('df-063bd89e-ebcc-4890-8690-ae2349874eca')\"\n",
              "              title=\"Convert this dataframe to an interactive table.\"\n",
              "              style=\"display:none;\">\n",
              "        \n",
              "  <svg xmlns=\"http://www.w3.org/2000/svg\" height=\"24px\"viewBox=\"0 0 24 24\"\n",
              "       width=\"24px\">\n",
              "    <path d=\"M0 0h24v24H0V0z\" fill=\"none\"/>\n",
              "    <path d=\"M18.56 5.44l.94 2.06.94-2.06 2.06-.94-2.06-.94-.94-2.06-.94 2.06-2.06.94zm-11 1L8.5 8.5l.94-2.06 2.06-.94-2.06-.94L8.5 2.5l-.94 2.06-2.06.94zm10 10l.94 2.06.94-2.06 2.06-.94-2.06-.94-.94-2.06-.94 2.06-2.06.94z\"/><path d=\"M17.41 7.96l-1.37-1.37c-.4-.4-.92-.59-1.43-.59-.52 0-1.04.2-1.43.59L10.3 9.45l-7.72 7.72c-.78.78-.78 2.05 0 2.83L4 21.41c.39.39.9.59 1.41.59.51 0 1.02-.2 1.41-.59l7.78-7.78 2.81-2.81c.8-.78.8-2.07 0-2.86zM5.41 20L4 18.59l7.72-7.72 1.47 1.35L5.41 20z\"/>\n",
              "  </svg>\n",
              "      </button>\n",
              "      \n",
              "  <style>\n",
              "    .colab-df-container {\n",
              "      display:flex;\n",
              "      flex-wrap:wrap;\n",
              "      gap: 12px;\n",
              "    }\n",
              "\n",
              "    .colab-df-convert {\n",
              "      background-color: #E8F0FE;\n",
              "      border: none;\n",
              "      border-radius: 50%;\n",
              "      cursor: pointer;\n",
              "      display: none;\n",
              "      fill: #1967D2;\n",
              "      height: 32px;\n",
              "      padding: 0 0 0 0;\n",
              "      width: 32px;\n",
              "    }\n",
              "\n",
              "    .colab-df-convert:hover {\n",
              "      background-color: #E2EBFA;\n",
              "      box-shadow: 0px 1px 2px rgba(60, 64, 67, 0.3), 0px 1px 3px 1px rgba(60, 64, 67, 0.15);\n",
              "      fill: #174EA6;\n",
              "    }\n",
              "\n",
              "    [theme=dark] .colab-df-convert {\n",
              "      background-color: #3B4455;\n",
              "      fill: #D2E3FC;\n",
              "    }\n",
              "\n",
              "    [theme=dark] .colab-df-convert:hover {\n",
              "      background-color: #434B5C;\n",
              "      box-shadow: 0px 1px 3px 1px rgba(0, 0, 0, 0.15);\n",
              "      filter: drop-shadow(0px 1px 2px rgba(0, 0, 0, 0.3));\n",
              "      fill: #FFFFFF;\n",
              "    }\n",
              "  </style>\n",
              "\n",
              "      <script>\n",
              "        const buttonEl =\n",
              "          document.querySelector('#df-063bd89e-ebcc-4890-8690-ae2349874eca button.colab-df-convert');\n",
              "        buttonEl.style.display =\n",
              "          google.colab.kernel.accessAllowed ? 'block' : 'none';\n",
              "\n",
              "        async function convertToInteractive(key) {\n",
              "          const element = document.querySelector('#df-063bd89e-ebcc-4890-8690-ae2349874eca');\n",
              "          const dataTable =\n",
              "            await google.colab.kernel.invokeFunction('convertToInteractive',\n",
              "                                                     [key], {});\n",
              "          if (!dataTable) return;\n",
              "\n",
              "          const docLinkHtml = 'Like what you see? Visit the ' +\n",
              "            '<a target=\"_blank\" href=https://colab.research.google.com/notebooks/data_table.ipynb>data table notebook</a>'\n",
              "            + ' to learn more about interactive tables.';\n",
              "          element.innerHTML = '';\n",
              "          dataTable['output_type'] = 'display_data';\n",
              "          await google.colab.output.renderOutput(dataTable, element);\n",
              "          const docLink = document.createElement('div');\n",
              "          docLink.innerHTML = docLinkHtml;\n",
              "          element.appendChild(docLink);\n",
              "        }\n",
              "      </script>\n",
              "    </div>\n",
              "  </div>\n",
              "  "
            ]
          },
          "metadata": {},
          "execution_count": 184
        }
      ]
    },
    {
      "cell_type": "markdown",
      "source": [
        "**Osservazioni**\n",
        "\n",
        "Da questo dataset risulta evidente che il libro che ha ricevuto più votazioni (2502 per l'esattezza) ha realtà ricevuto un punteggio totale troppo basso (1.019584)."
      ],
      "metadata": {
        "id": "M9Hyxrwy-Ly0"
      }
    },
    {
      "cell_type": "markdown",
      "source": [
        "Escludiamo gli utenti che hanno dato meno di 200 voti e i libri che hanno ricevuto meno di 100 voti."
      ],
      "metadata": {
        "id": "JjOHWPHXoSUs"
      }
    },
    {
      "cell_type": "code",
      "source": [
        "counts1 = ratings['userId'].value_counts()\n",
        "ratings = ratings[ratings['userId'].isin(counts1[counts1 >= 200].index)]\n",
        "counts = ratings['bookRating'].value_counts()\n",
        "ratings = ratings[ratings['bookRating'].isin(counts[counts >= 100].index)]"
      ],
      "metadata": {
        "id": "MIHcxZLHoLp0"
      },
      "execution_count": null,
      "outputs": []
    },
    {
      "cell_type": "markdown",
      "source": [
        "Convertiamo la tabella ratings in una matrice 2D. QUesta matrice sarà sparsa perché non tutti gli utenti hanno valutato tutti i libri."
      ],
      "metadata": {
        "id": "cCk8YdBYCQgw"
      }
    },
    {
      "cell_type": "code",
      "source": [
        "ratings_matrix = ratings.pivot(index='userId', columns='ISBN').bookRating\n",
        "userId = ratings_matrix.index\n",
        "ISBN = ratings_matrix.columns\n",
        "\n",
        "print(ratings_matrix.shape)\n",
        "ratings_matrix.head()"
      ],
      "metadata": {
        "colab": {
          "base_uri": "https://localhost:8080/"
        },
        "id": "Hw9PHB90oAfm",
        "outputId": "ffd23da3-8d62-41e2-98a4-3ed1585689b4"
      },
      "execution_count": null,
      "outputs": [
        {
          "output_type": "stream",
          "name": "stdout",
          "text": [
            "(905, 207699)\n"
          ]
        },
        {
          "output_type": "execute_result",
          "data": {
            "text/plain": [
              "ISBN     0330299891   0375404120   0586045007   9022906116   9032803328  \\\n",
              "userId                                                                    \n",
              "254             NaN          NaN          NaN          NaN          NaN   \n",
              "2276            NaN          NaN          NaN          NaN          NaN   \n",
              "2766            NaN          NaN          NaN          NaN          NaN   \n",
              "2977            NaN          NaN          NaN          NaN          NaN   \n",
              "3363            NaN          NaN          NaN          NaN          NaN   \n",
              "\n",
              "ISBN     9044922564   9044922572   9044922718   9044923161   904492401X  ...  \\\n",
              "userId                                                                   ...   \n",
              "254             NaN          NaN          NaN          NaN          NaN  ...   \n",
              "2276            NaN          NaN          NaN          NaN          NaN  ...   \n",
              "2766            NaN          NaN          NaN          NaN          NaN  ...   \n",
              "2977            NaN          NaN          NaN          NaN          NaN  ...   \n",
              "3363            NaN          NaN          NaN          NaN          NaN  ...   \n",
              "\n",
              "ISBN    UNGRANDHOMMED  X000000000  YOUTELLEM,AND  ZR903CX0003  \\0432534220\\\"\"  \\\n",
              "userId                                                                          \n",
              "254               NaN         NaN            NaN          NaN             NaN   \n",
              "2276              NaN         NaN            NaN          NaN             NaN   \n",
              "2766              NaN         NaN            NaN          NaN             NaN   \n",
              "2977              NaN         NaN            NaN          NaN             NaN   \n",
              "3363              NaN         NaN            NaN          NaN             NaN   \n",
              "\n",
              "ISBN    \\2842053052\\\"\"  b00005wz75  cn108465  cn113107  Ô½crosoft  \n",
              "userId                                                             \n",
              "254                NaN         NaN       NaN       NaN        NaN  \n",
              "2276               NaN         NaN       NaN       NaN        NaN  \n",
              "2766               NaN         NaN       NaN       NaN        NaN  \n",
              "2977               NaN         NaN       NaN       NaN        NaN  \n",
              "3363               NaN         NaN       NaN       NaN        NaN  \n",
              "\n",
              "[5 rows x 207699 columns]"
            ],
            "text/html": [
              "\n",
              "  <div id=\"df-a1425f03-9ec7-4642-b19c-edfc0a73a001\">\n",
              "    <div class=\"colab-df-container\">\n",
              "      <div>\n",
              "<style scoped>\n",
              "    .dataframe tbody tr th:only-of-type {\n",
              "        vertical-align: middle;\n",
              "    }\n",
              "\n",
              "    .dataframe tbody tr th {\n",
              "        vertical-align: top;\n",
              "    }\n",
              "\n",
              "    .dataframe thead th {\n",
              "        text-align: right;\n",
              "    }\n",
              "</style>\n",
              "<table border=\"1\" class=\"dataframe\">\n",
              "  <thead>\n",
              "    <tr style=\"text-align: right;\">\n",
              "      <th>ISBN</th>\n",
              "      <th>0330299891</th>\n",
              "      <th>0375404120</th>\n",
              "      <th>0586045007</th>\n",
              "      <th>9022906116</th>\n",
              "      <th>9032803328</th>\n",
              "      <th>9044922564</th>\n",
              "      <th>9044922572</th>\n",
              "      <th>9044922718</th>\n",
              "      <th>9044923161</th>\n",
              "      <th>904492401X</th>\n",
              "      <th>...</th>\n",
              "      <th>UNGRANDHOMMED</th>\n",
              "      <th>X000000000</th>\n",
              "      <th>YOUTELLEM,AND</th>\n",
              "      <th>ZR903CX0003</th>\n",
              "      <th>\\0432534220\\\"\"</th>\n",
              "      <th>\\2842053052\\\"\"</th>\n",
              "      <th>b00005wz75</th>\n",
              "      <th>cn108465</th>\n",
              "      <th>cn113107</th>\n",
              "      <th>Ô½crosoft</th>\n",
              "    </tr>\n",
              "    <tr>\n",
              "      <th>userId</th>\n",
              "      <th></th>\n",
              "      <th></th>\n",
              "      <th></th>\n",
              "      <th></th>\n",
              "      <th></th>\n",
              "      <th></th>\n",
              "      <th></th>\n",
              "      <th></th>\n",
              "      <th></th>\n",
              "      <th></th>\n",
              "      <th></th>\n",
              "      <th></th>\n",
              "      <th></th>\n",
              "      <th></th>\n",
              "      <th></th>\n",
              "      <th></th>\n",
              "      <th></th>\n",
              "      <th></th>\n",
              "      <th></th>\n",
              "      <th></th>\n",
              "      <th></th>\n",
              "    </tr>\n",
              "  </thead>\n",
              "  <tbody>\n",
              "    <tr>\n",
              "      <th>254</th>\n",
              "      <td>NaN</td>\n",
              "      <td>NaN</td>\n",
              "      <td>NaN</td>\n",
              "      <td>NaN</td>\n",
              "      <td>NaN</td>\n",
              "      <td>NaN</td>\n",
              "      <td>NaN</td>\n",
              "      <td>NaN</td>\n",
              "      <td>NaN</td>\n",
              "      <td>NaN</td>\n",
              "      <td>...</td>\n",
              "      <td>NaN</td>\n",
              "      <td>NaN</td>\n",
              "      <td>NaN</td>\n",
              "      <td>NaN</td>\n",
              "      <td>NaN</td>\n",
              "      <td>NaN</td>\n",
              "      <td>NaN</td>\n",
              "      <td>NaN</td>\n",
              "      <td>NaN</td>\n",
              "      <td>NaN</td>\n",
              "    </tr>\n",
              "    <tr>\n",
              "      <th>2276</th>\n",
              "      <td>NaN</td>\n",
              "      <td>NaN</td>\n",
              "      <td>NaN</td>\n",
              "      <td>NaN</td>\n",
              "      <td>NaN</td>\n",
              "      <td>NaN</td>\n",
              "      <td>NaN</td>\n",
              "      <td>NaN</td>\n",
              "      <td>NaN</td>\n",
              "      <td>NaN</td>\n",
              "      <td>...</td>\n",
              "      <td>NaN</td>\n",
              "      <td>NaN</td>\n",
              "      <td>NaN</td>\n",
              "      <td>NaN</td>\n",
              "      <td>NaN</td>\n",
              "      <td>NaN</td>\n",
              "      <td>NaN</td>\n",
              "      <td>NaN</td>\n",
              "      <td>NaN</td>\n",
              "      <td>NaN</td>\n",
              "    </tr>\n",
              "    <tr>\n",
              "      <th>2766</th>\n",
              "      <td>NaN</td>\n",
              "      <td>NaN</td>\n",
              "      <td>NaN</td>\n",
              "      <td>NaN</td>\n",
              "      <td>NaN</td>\n",
              "      <td>NaN</td>\n",
              "      <td>NaN</td>\n",
              "      <td>NaN</td>\n",
              "      <td>NaN</td>\n",
              "      <td>NaN</td>\n",
              "      <td>...</td>\n",
              "      <td>NaN</td>\n",
              "      <td>NaN</td>\n",
              "      <td>NaN</td>\n",
              "      <td>NaN</td>\n",
              "      <td>NaN</td>\n",
              "      <td>NaN</td>\n",
              "      <td>NaN</td>\n",
              "      <td>NaN</td>\n",
              "      <td>NaN</td>\n",
              "      <td>NaN</td>\n",
              "    </tr>\n",
              "    <tr>\n",
              "      <th>2977</th>\n",
              "      <td>NaN</td>\n",
              "      <td>NaN</td>\n",
              "      <td>NaN</td>\n",
              "      <td>NaN</td>\n",
              "      <td>NaN</td>\n",
              "      <td>NaN</td>\n",
              "      <td>NaN</td>\n",
              "      <td>NaN</td>\n",
              "      <td>NaN</td>\n",
              "      <td>NaN</td>\n",
              "      <td>...</td>\n",
              "      <td>NaN</td>\n",
              "      <td>NaN</td>\n",
              "      <td>NaN</td>\n",
              "      <td>NaN</td>\n",
              "      <td>NaN</td>\n",
              "      <td>NaN</td>\n",
              "      <td>NaN</td>\n",
              "      <td>NaN</td>\n",
              "      <td>NaN</td>\n",
              "      <td>NaN</td>\n",
              "    </tr>\n",
              "    <tr>\n",
              "      <th>3363</th>\n",
              "      <td>NaN</td>\n",
              "      <td>NaN</td>\n",
              "      <td>NaN</td>\n",
              "      <td>NaN</td>\n",
              "      <td>NaN</td>\n",
              "      <td>NaN</td>\n",
              "      <td>NaN</td>\n",
              "      <td>NaN</td>\n",
              "      <td>NaN</td>\n",
              "      <td>NaN</td>\n",
              "      <td>...</td>\n",
              "      <td>NaN</td>\n",
              "      <td>NaN</td>\n",
              "      <td>NaN</td>\n",
              "      <td>NaN</td>\n",
              "      <td>NaN</td>\n",
              "      <td>NaN</td>\n",
              "      <td>NaN</td>\n",
              "      <td>NaN</td>\n",
              "      <td>NaN</td>\n",
              "      <td>NaN</td>\n",
              "    </tr>\n",
              "  </tbody>\n",
              "</table>\n",
              "<p>5 rows × 207699 columns</p>\n",
              "</div>\n",
              "      <button class=\"colab-df-convert\" onclick=\"convertToInteractive('df-a1425f03-9ec7-4642-b19c-edfc0a73a001')\"\n",
              "              title=\"Convert this dataframe to an interactive table.\"\n",
              "              style=\"display:none;\">\n",
              "        \n",
              "  <svg xmlns=\"http://www.w3.org/2000/svg\" height=\"24px\"viewBox=\"0 0 24 24\"\n",
              "       width=\"24px\">\n",
              "    <path d=\"M0 0h24v24H0V0z\" fill=\"none\"/>\n",
              "    <path d=\"M18.56 5.44l.94 2.06.94-2.06 2.06-.94-2.06-.94-.94-2.06-.94 2.06-2.06.94zm-11 1L8.5 8.5l.94-2.06 2.06-.94-2.06-.94L8.5 2.5l-.94 2.06-2.06.94zm10 10l.94 2.06.94-2.06 2.06-.94-2.06-.94-.94-2.06-.94 2.06-2.06.94z\"/><path d=\"M17.41 7.96l-1.37-1.37c-.4-.4-.92-.59-1.43-.59-.52 0-1.04.2-1.43.59L10.3 9.45l-7.72 7.72c-.78.78-.78 2.05 0 2.83L4 21.41c.39.39.9.59 1.41.59.51 0 1.02-.2 1.41-.59l7.78-7.78 2.81-2.81c.8-.78.8-2.07 0-2.86zM5.41 20L4 18.59l7.72-7.72 1.47 1.35L5.41 20z\"/>\n",
              "  </svg>\n",
              "      </button>\n",
              "      \n",
              "  <style>\n",
              "    .colab-df-container {\n",
              "      display:flex;\n",
              "      flex-wrap:wrap;\n",
              "      gap: 12px;\n",
              "    }\n",
              "\n",
              "    .colab-df-convert {\n",
              "      background-color: #E8F0FE;\n",
              "      border: none;\n",
              "      border-radius: 50%;\n",
              "      cursor: pointer;\n",
              "      display: none;\n",
              "      fill: #1967D2;\n",
              "      height: 32px;\n",
              "      padding: 0 0 0 0;\n",
              "      width: 32px;\n",
              "    }\n",
              "\n",
              "    .colab-df-convert:hover {\n",
              "      background-color: #E2EBFA;\n",
              "      box-shadow: 0px 1px 2px rgba(60, 64, 67, 0.3), 0px 1px 3px 1px rgba(60, 64, 67, 0.15);\n",
              "      fill: #174EA6;\n",
              "    }\n",
              "\n",
              "    [theme=dark] .colab-df-convert {\n",
              "      background-color: #3B4455;\n",
              "      fill: #D2E3FC;\n",
              "    }\n",
              "\n",
              "    [theme=dark] .colab-df-convert:hover {\n",
              "      background-color: #434B5C;\n",
              "      box-shadow: 0px 1px 3px 1px rgba(0, 0, 0, 0.15);\n",
              "      filter: drop-shadow(0px 1px 2px rgba(0, 0, 0, 0.3));\n",
              "      fill: #FFFFFF;\n",
              "    }\n",
              "  </style>\n",
              "\n",
              "      <script>\n",
              "        const buttonEl =\n",
              "          document.querySelector('#df-a1425f03-9ec7-4642-b19c-edfc0a73a001 button.colab-df-convert');\n",
              "        buttonEl.style.display =\n",
              "          google.colab.kernel.accessAllowed ? 'block' : 'none';\n",
              "\n",
              "        async function convertToInteractive(key) {\n",
              "          const element = document.querySelector('#df-a1425f03-9ec7-4642-b19c-edfc0a73a001');\n",
              "          const dataTable =\n",
              "            await google.colab.kernel.invokeFunction('convertToInteractive',\n",
              "                                                     [key], {});\n",
              "          if (!dataTable) return;\n",
              "\n",
              "          const docLinkHtml = 'Like what you see? Visit the ' +\n",
              "            '<a target=\"_blank\" href=https://colab.research.google.com/notebooks/data_table.ipynb>data table notebook</a>'\n",
              "            + ' to learn more about interactive tables.';\n",
              "          element.innerHTML = '';\n",
              "          dataTable['output_type'] = 'display_data';\n",
              "          await google.colab.output.renderOutput(dataTable, element);\n",
              "          const docLink = document.createElement('div');\n",
              "          docLink.innerHTML = docLinkHtml;\n",
              "          element.appendChild(docLink);\n",
              "        }\n",
              "      </script>\n",
              "    </div>\n",
              "  </div>\n",
              "  "
            ]
          },
          "metadata": {},
          "execution_count": 186
        }
      ]
    },
    {
      "cell_type": "markdown",
      "source": [
        "Scopriamo quali libri sono correlati al secondo più votato \"The lovely bones: a novel\"."
      ],
      "metadata": {
        "id": "ka-j5rN0ks4J"
      }
    },
    {
      "cell_type": "code",
      "source": [
        "wild_ratings = ratings_matrix['0316666343']\n",
        "similar_to_wild = ratings_matrix.corrwith(wild_ratings)\n",
        "corr_wild = pd.DataFrame(similar_to_wild, columns=['pearsonR'])\n",
        "corr_wild.dropna(inplace=True)\n",
        "corr_summary = corr_wild.join(average_rating['ratingCount'])\n",
        "corr_summary[corr_summary['ratingCount']>= 300].sort_values('pearsonR', ascending=False).head(10)"
      ],
      "metadata": {
        "id": "OOH8FN3yid5Y",
        "colab": {
          "base_uri": "https://localhost:8080/"
        },
        "outputId": "fb8f3788-2f16-44d4-f6f8-9b964119c751"
      },
      "execution_count": null,
      "outputs": [
        {
          "output_type": "stream",
          "name": "stderr",
          "text": [
            "/usr/local/lib/python3.8/dist-packages/numpy/lib/function_base.py:2683: RuntimeWarning: Degrees of freedom <= 0 for slice\n",
            "  c = cov(x, y, rowvar, dtype=dtype)\n",
            "/usr/local/lib/python3.8/dist-packages/numpy/lib/function_base.py:2542: RuntimeWarning: divide by zero encountered in true_divide\n",
            "  c *= np.true_divide(1, fact)\n"
          ]
        },
        {
          "output_type": "execute_result",
          "data": {
            "text/plain": [
              "            pearsonR  ratingCount\n",
              "ISBN                             \n",
              "0316666343  1.000000         1295\n",
              "0312291639  0.471872          354\n",
              "0316601950  0.434248          568\n",
              "0446610038  0.429712          391\n",
              "0446672211  0.421478          585\n",
              "0385265700  0.351635          319\n",
              "0345342968  0.316922          321\n",
              "0060930535  0.309860          494\n",
              "0375707972  0.308145          354\n",
              "0684872153  0.272480          326"
            ],
            "text/html": [
              "\n",
              "  <div id=\"df-29638ee1-590f-45bb-9316-156574d2d782\">\n",
              "    <div class=\"colab-df-container\">\n",
              "      <div>\n",
              "<style scoped>\n",
              "    .dataframe tbody tr th:only-of-type {\n",
              "        vertical-align: middle;\n",
              "    }\n",
              "\n",
              "    .dataframe tbody tr th {\n",
              "        vertical-align: top;\n",
              "    }\n",
              "\n",
              "    .dataframe thead th {\n",
              "        text-align: right;\n",
              "    }\n",
              "</style>\n",
              "<table border=\"1\" class=\"dataframe\">\n",
              "  <thead>\n",
              "    <tr style=\"text-align: right;\">\n",
              "      <th></th>\n",
              "      <th>pearsonR</th>\n",
              "      <th>ratingCount</th>\n",
              "    </tr>\n",
              "    <tr>\n",
              "      <th>ISBN</th>\n",
              "      <th></th>\n",
              "      <th></th>\n",
              "    </tr>\n",
              "  </thead>\n",
              "  <tbody>\n",
              "    <tr>\n",
              "      <th>0316666343</th>\n",
              "      <td>1.000000</td>\n",
              "      <td>1295</td>\n",
              "    </tr>\n",
              "    <tr>\n",
              "      <th>0312291639</th>\n",
              "      <td>0.471872</td>\n",
              "      <td>354</td>\n",
              "    </tr>\n",
              "    <tr>\n",
              "      <th>0316601950</th>\n",
              "      <td>0.434248</td>\n",
              "      <td>568</td>\n",
              "    </tr>\n",
              "    <tr>\n",
              "      <th>0446610038</th>\n",
              "      <td>0.429712</td>\n",
              "      <td>391</td>\n",
              "    </tr>\n",
              "    <tr>\n",
              "      <th>0446672211</th>\n",
              "      <td>0.421478</td>\n",
              "      <td>585</td>\n",
              "    </tr>\n",
              "    <tr>\n",
              "      <th>0385265700</th>\n",
              "      <td>0.351635</td>\n",
              "      <td>319</td>\n",
              "    </tr>\n",
              "    <tr>\n",
              "      <th>0345342968</th>\n",
              "      <td>0.316922</td>\n",
              "      <td>321</td>\n",
              "    </tr>\n",
              "    <tr>\n",
              "      <th>0060930535</th>\n",
              "      <td>0.309860</td>\n",
              "      <td>494</td>\n",
              "    </tr>\n",
              "    <tr>\n",
              "      <th>0375707972</th>\n",
              "      <td>0.308145</td>\n",
              "      <td>354</td>\n",
              "    </tr>\n",
              "    <tr>\n",
              "      <th>0684872153</th>\n",
              "      <td>0.272480</td>\n",
              "      <td>326</td>\n",
              "    </tr>\n",
              "  </tbody>\n",
              "</table>\n",
              "</div>\n",
              "      <button class=\"colab-df-convert\" onclick=\"convertToInteractive('df-29638ee1-590f-45bb-9316-156574d2d782')\"\n",
              "              title=\"Convert this dataframe to an interactive table.\"\n",
              "              style=\"display:none;\">\n",
              "        \n",
              "  <svg xmlns=\"http://www.w3.org/2000/svg\" height=\"24px\"viewBox=\"0 0 24 24\"\n",
              "       width=\"24px\">\n",
              "    <path d=\"M0 0h24v24H0V0z\" fill=\"none\"/>\n",
              "    <path d=\"M18.56 5.44l.94 2.06.94-2.06 2.06-.94-2.06-.94-.94-2.06-.94 2.06-2.06.94zm-11 1L8.5 8.5l.94-2.06 2.06-.94-2.06-.94L8.5 2.5l-.94 2.06-2.06.94zm10 10l.94 2.06.94-2.06 2.06-.94-2.06-.94-.94-2.06-.94 2.06-2.06.94z\"/><path d=\"M17.41 7.96l-1.37-1.37c-.4-.4-.92-.59-1.43-.59-.52 0-1.04.2-1.43.59L10.3 9.45l-7.72 7.72c-.78.78-.78 2.05 0 2.83L4 21.41c.39.39.9.59 1.41.59.51 0 1.02-.2 1.41-.59l7.78-7.78 2.81-2.81c.8-.78.8-2.07 0-2.86zM5.41 20L4 18.59l7.72-7.72 1.47 1.35L5.41 20z\"/>\n",
              "  </svg>\n",
              "      </button>\n",
              "      \n",
              "  <style>\n",
              "    .colab-df-container {\n",
              "      display:flex;\n",
              "      flex-wrap:wrap;\n",
              "      gap: 12px;\n",
              "    }\n",
              "\n",
              "    .colab-df-convert {\n",
              "      background-color: #E8F0FE;\n",
              "      border: none;\n",
              "      border-radius: 50%;\n",
              "      cursor: pointer;\n",
              "      display: none;\n",
              "      fill: #1967D2;\n",
              "      height: 32px;\n",
              "      padding: 0 0 0 0;\n",
              "      width: 32px;\n",
              "    }\n",
              "\n",
              "    .colab-df-convert:hover {\n",
              "      background-color: #E2EBFA;\n",
              "      box-shadow: 0px 1px 2px rgba(60, 64, 67, 0.3), 0px 1px 3px 1px rgba(60, 64, 67, 0.15);\n",
              "      fill: #174EA6;\n",
              "    }\n",
              "\n",
              "    [theme=dark] .colab-df-convert {\n",
              "      background-color: #3B4455;\n",
              "      fill: #D2E3FC;\n",
              "    }\n",
              "\n",
              "    [theme=dark] .colab-df-convert:hover {\n",
              "      background-color: #434B5C;\n",
              "      box-shadow: 0px 1px 3px 1px rgba(0, 0, 0, 0.15);\n",
              "      filter: drop-shadow(0px 1px 2px rgba(0, 0, 0, 0.3));\n",
              "      fill: #FFFFFF;\n",
              "    }\n",
              "  </style>\n",
              "\n",
              "      <script>\n",
              "        const buttonEl =\n",
              "          document.querySelector('#df-29638ee1-590f-45bb-9316-156574d2d782 button.colab-df-convert');\n",
              "        buttonEl.style.display =\n",
              "          google.colab.kernel.accessAllowed ? 'block' : 'none';\n",
              "\n",
              "        async function convertToInteractive(key) {\n",
              "          const element = document.querySelector('#df-29638ee1-590f-45bb-9316-156574d2d782');\n",
              "          const dataTable =\n",
              "            await google.colab.kernel.invokeFunction('convertToInteractive',\n",
              "                                                     [key], {});\n",
              "          if (!dataTable) return;\n",
              "\n",
              "          const docLinkHtml = 'Like what you see? Visit the ' +\n",
              "            '<a target=\"_blank\" href=https://colab.research.google.com/notebooks/data_table.ipynb>data table notebook</a>'\n",
              "            + ' to learn more about interactive tables.';\n",
              "          element.innerHTML = '';\n",
              "          dataTable['output_type'] = 'display_data';\n",
              "          await google.colab.output.renderOutput(dataTable, element);\n",
              "          const docLink = document.createElement('div');\n",
              "          docLink.innerHTML = docLinkHtml;\n",
              "          element.appendChild(docLink);\n",
              "        }\n",
              "      </script>\n",
              "    </div>\n",
              "  </div>\n",
              "  "
            ]
          },
          "metadata": {},
          "execution_count": 187
        }
      ]
    },
    {
      "cell_type": "markdown",
      "source": [
        "Otteniamo i titoli dei libri a partire dagli ISBN del precedente risultato, in modo da avere una tabella leggibile."
      ],
      "metadata": {
        "id": "NEYIY7oRmMSt"
      }
    },
    {
      "cell_type": "code",
      "source": [
        "books_corr_to_bones = pd.DataFrame(['0312291639', '0316601950', '0446610038', '0446672211', '0385265700', '0345342968', '0060930535', '0375707972', '0671021001'], \n",
        "                                  index=np.arange(9), columns=['ISBN'])\n",
        "corr_books = pd.merge(books_corr_to_bones, books, on='ISBN')\n",
        "corr_books"
      ],
      "metadata": {
        "id": "3ja1LzipmLzn",
        "colab": {
          "base_uri": "https://localhost:8080/"
        },
        "outputId": "db468f9e-d95d-4dc8-87aa-e2f2c03691b2"
      },
      "execution_count": null,
      "outputs": [
        {
          "output_type": "execute_result",
          "data": {
            "text/plain": [
              "         ISBN                                           bookTitle  \\\n",
              "0  0312291639                          The Nanny Diaries: A Novel   \n",
              "1  0316601950                          The Pilot's Wife : A Novel   \n",
              "2  0446610038                                 1st to Die: A Novel   \n",
              "3  0446672211  Where the Heart Is (Oprah's Book Club (Paperback))   \n",
              "4  0385265700    The Book of Ruth (Oprah's Book Club (Paperback))   \n",
              "5  0345342968                                      Fahrenheit 451   \n",
              "6  0060930535                       The Poisonwood Bible: A Novel   \n",
              "7  0375707972                                          The Reader   \n",
              "8  0671021001               She's Come Undone (Oprah's Book Club)   \n",
              "\n",
              "           bookAuthor  yearOfPubblication             publisher  \n",
              "0     Emma McLaughlin                2003  St. Martin's Griffin  \n",
              "1        Anita Shreve                1999        Back Bay Books  \n",
              "2     James Patterson                2002         Warner Vision  \n",
              "3        Billie Letts                1998          Warner Books  \n",
              "4       Jane Hamilton                1990                Anchor  \n",
              "5        RAY BRADBURY                1987               Del Rey  \n",
              "6  Barbara Kingsolver                1999             Perennial  \n",
              "7    Bernhard Schlink                1999     Vintage Books USA  \n",
              "8          Wally Lamb                1998                Pocket  "
            ],
            "text/html": [
              "\n",
              "  <div id=\"df-68533289-ed58-4d31-b96e-e44f5911c466\">\n",
              "    <div class=\"colab-df-container\">\n",
              "      <div>\n",
              "<style scoped>\n",
              "    .dataframe tbody tr th:only-of-type {\n",
              "        vertical-align: middle;\n",
              "    }\n",
              "\n",
              "    .dataframe tbody tr th {\n",
              "        vertical-align: top;\n",
              "    }\n",
              "\n",
              "    .dataframe thead th {\n",
              "        text-align: right;\n",
              "    }\n",
              "</style>\n",
              "<table border=\"1\" class=\"dataframe\">\n",
              "  <thead>\n",
              "    <tr style=\"text-align: right;\">\n",
              "      <th></th>\n",
              "      <th>ISBN</th>\n",
              "      <th>bookTitle</th>\n",
              "      <th>bookAuthor</th>\n",
              "      <th>yearOfPubblication</th>\n",
              "      <th>publisher</th>\n",
              "    </tr>\n",
              "  </thead>\n",
              "  <tbody>\n",
              "    <tr>\n",
              "      <th>0</th>\n",
              "      <td>0312291639</td>\n",
              "      <td>The Nanny Diaries: A Novel</td>\n",
              "      <td>Emma McLaughlin</td>\n",
              "      <td>2003</td>\n",
              "      <td>St. Martin's Griffin</td>\n",
              "    </tr>\n",
              "    <tr>\n",
              "      <th>1</th>\n",
              "      <td>0316601950</td>\n",
              "      <td>The Pilot's Wife : A Novel</td>\n",
              "      <td>Anita Shreve</td>\n",
              "      <td>1999</td>\n",
              "      <td>Back Bay Books</td>\n",
              "    </tr>\n",
              "    <tr>\n",
              "      <th>2</th>\n",
              "      <td>0446610038</td>\n",
              "      <td>1st to Die: A Novel</td>\n",
              "      <td>James Patterson</td>\n",
              "      <td>2002</td>\n",
              "      <td>Warner Vision</td>\n",
              "    </tr>\n",
              "    <tr>\n",
              "      <th>3</th>\n",
              "      <td>0446672211</td>\n",
              "      <td>Where the Heart Is (Oprah's Book Club (Paperback))</td>\n",
              "      <td>Billie Letts</td>\n",
              "      <td>1998</td>\n",
              "      <td>Warner Books</td>\n",
              "    </tr>\n",
              "    <tr>\n",
              "      <th>4</th>\n",
              "      <td>0385265700</td>\n",
              "      <td>The Book of Ruth (Oprah's Book Club (Paperback))</td>\n",
              "      <td>Jane Hamilton</td>\n",
              "      <td>1990</td>\n",
              "      <td>Anchor</td>\n",
              "    </tr>\n",
              "    <tr>\n",
              "      <th>5</th>\n",
              "      <td>0345342968</td>\n",
              "      <td>Fahrenheit 451</td>\n",
              "      <td>RAY BRADBURY</td>\n",
              "      <td>1987</td>\n",
              "      <td>Del Rey</td>\n",
              "    </tr>\n",
              "    <tr>\n",
              "      <th>6</th>\n",
              "      <td>0060930535</td>\n",
              "      <td>The Poisonwood Bible: A Novel</td>\n",
              "      <td>Barbara Kingsolver</td>\n",
              "      <td>1999</td>\n",
              "      <td>Perennial</td>\n",
              "    </tr>\n",
              "    <tr>\n",
              "      <th>7</th>\n",
              "      <td>0375707972</td>\n",
              "      <td>The Reader</td>\n",
              "      <td>Bernhard Schlink</td>\n",
              "      <td>1999</td>\n",
              "      <td>Vintage Books USA</td>\n",
              "    </tr>\n",
              "    <tr>\n",
              "      <th>8</th>\n",
              "      <td>0671021001</td>\n",
              "      <td>She's Come Undone (Oprah's Book Club)</td>\n",
              "      <td>Wally Lamb</td>\n",
              "      <td>1998</td>\n",
              "      <td>Pocket</td>\n",
              "    </tr>\n",
              "  </tbody>\n",
              "</table>\n",
              "</div>\n",
              "      <button class=\"colab-df-convert\" onclick=\"convertToInteractive('df-68533289-ed58-4d31-b96e-e44f5911c466')\"\n",
              "              title=\"Convert this dataframe to an interactive table.\"\n",
              "              style=\"display:none;\">\n",
              "        \n",
              "  <svg xmlns=\"http://www.w3.org/2000/svg\" height=\"24px\"viewBox=\"0 0 24 24\"\n",
              "       width=\"24px\">\n",
              "    <path d=\"M0 0h24v24H0V0z\" fill=\"none\"/>\n",
              "    <path d=\"M18.56 5.44l.94 2.06.94-2.06 2.06-.94-2.06-.94-.94-2.06-.94 2.06-2.06.94zm-11 1L8.5 8.5l.94-2.06 2.06-.94-2.06-.94L8.5 2.5l-.94 2.06-2.06.94zm10 10l.94 2.06.94-2.06 2.06-.94-2.06-.94-.94-2.06-.94 2.06-2.06.94z\"/><path d=\"M17.41 7.96l-1.37-1.37c-.4-.4-.92-.59-1.43-.59-.52 0-1.04.2-1.43.59L10.3 9.45l-7.72 7.72c-.78.78-.78 2.05 0 2.83L4 21.41c.39.39.9.59 1.41.59.51 0 1.02-.2 1.41-.59l7.78-7.78 2.81-2.81c.8-.78.8-2.07 0-2.86zM5.41 20L4 18.59l7.72-7.72 1.47 1.35L5.41 20z\"/>\n",
              "  </svg>\n",
              "      </button>\n",
              "      \n",
              "  <style>\n",
              "    .colab-df-container {\n",
              "      display:flex;\n",
              "      flex-wrap:wrap;\n",
              "      gap: 12px;\n",
              "    }\n",
              "\n",
              "    .colab-df-convert {\n",
              "      background-color: #E8F0FE;\n",
              "      border: none;\n",
              "      border-radius: 50%;\n",
              "      cursor: pointer;\n",
              "      display: none;\n",
              "      fill: #1967D2;\n",
              "      height: 32px;\n",
              "      padding: 0 0 0 0;\n",
              "      width: 32px;\n",
              "    }\n",
              "\n",
              "    .colab-df-convert:hover {\n",
              "      background-color: #E2EBFA;\n",
              "      box-shadow: 0px 1px 2px rgba(60, 64, 67, 0.3), 0px 1px 3px 1px rgba(60, 64, 67, 0.15);\n",
              "      fill: #174EA6;\n",
              "    }\n",
              "\n",
              "    [theme=dark] .colab-df-convert {\n",
              "      background-color: #3B4455;\n",
              "      fill: #D2E3FC;\n",
              "    }\n",
              "\n",
              "    [theme=dark] .colab-df-convert:hover {\n",
              "      background-color: #434B5C;\n",
              "      box-shadow: 0px 1px 3px 1px rgba(0, 0, 0, 0.15);\n",
              "      filter: drop-shadow(0px 1px 2px rgba(0, 0, 0, 0.3));\n",
              "      fill: #FFFFFF;\n",
              "    }\n",
              "  </style>\n",
              "\n",
              "      <script>\n",
              "        const buttonEl =\n",
              "          document.querySelector('#df-68533289-ed58-4d31-b96e-e44f5911c466 button.colab-df-convert');\n",
              "        buttonEl.style.display =\n",
              "          google.colab.kernel.accessAllowed ? 'block' : 'none';\n",
              "\n",
              "        async function convertToInteractive(key) {\n",
              "          const element = document.querySelector('#df-68533289-ed58-4d31-b96e-e44f5911c466');\n",
              "          const dataTable =\n",
              "            await google.colab.kernel.invokeFunction('convertToInteractive',\n",
              "                                                     [key], {});\n",
              "          if (!dataTable) return;\n",
              "\n",
              "          const docLinkHtml = 'Like what you see? Visit the ' +\n",
              "            '<a target=\"_blank\" href=https://colab.research.google.com/notebooks/data_table.ipynb>data table notebook</a>'\n",
              "            + ' to learn more about interactive tables.';\n",
              "          element.innerHTML = '';\n",
              "          dataTable['output_type'] = 'display_data';\n",
              "          await google.colab.output.renderOutput(dataTable, element);\n",
              "          const docLink = document.createElement('div');\n",
              "          docLink.innerHTML = docLinkHtml;\n",
              "          element.appendChild(docLink);\n",
              "        }\n",
              "      </script>\n",
              "    </div>\n",
              "  </div>\n",
              "  "
            ]
          },
          "metadata": {},
          "execution_count": 188
        }
      ]
    },
    {
      "cell_type": "markdown",
      "source": [
        "# Recommendation con Surprise\n",
        "\n",
        "- _Surprise_ è una libreria Python per la creazione e la validazione di modelli di recommendation\n",
        "  - definisce strutture per rappresentare i dati su cui addestrare i modelli\n",
        "  - permette di caricare dati da diverse fonti o di utilizzare dataset d'esempio\n",
        "  - implementa diverse tecniche basate su similarità, scomposizione di matrici, ecc...\n",
        "  - fornisce funzionalità per validare i modelli calcolando comuni metriche di accuratezza come il RMSE"
      ],
      "metadata": {
        "id": "4JDucGoodDNp"
      }
    },
    {
      "cell_type": "code",
      "source": [
        "pip install scikit-surprise"
      ],
      "metadata": {
        "colab": {
          "base_uri": "https://localhost:8080/"
        },
        "id": "f4-3SXGMj03z",
        "outputId": "d3391b02-830c-40b9-d43e-24edc31b8064"
      },
      "execution_count": null,
      "outputs": [
        {
          "output_type": "stream",
          "name": "stdout",
          "text": [
            "Looking in indexes: https://pypi.org/simple, https://us-python.pkg.dev/colab-wheels/public/simple/\n",
            "Requirement already satisfied: scikit-surprise in /usr/local/lib/python3.8/dist-packages (1.1.3)\n",
            "Requirement already satisfied: scipy>=1.3.2 in /usr/local/lib/python3.8/dist-packages (from scikit-surprise) (1.7.3)\n",
            "Requirement already satisfied: joblib>=1.0.0 in /usr/local/lib/python3.8/dist-packages (from scikit-surprise) (1.2.0)\n",
            "Requirement already satisfied: numpy>=1.17.3 in /usr/local/lib/python3.8/dist-packages (from scikit-surprise) (1.21.6)\n"
          ]
        }
      ]
    },
    {
      "cell_type": "code",
      "source": [
        "import surprise"
      ],
      "metadata": {
        "id": "F7U8pn4KPfpT"
      },
      "execution_count": null,
      "outputs": []
    },
    {
      "cell_type": "code",
      "source": [
        "from surprise import Reader\n",
        "from surprise import Dataset\n",
        "from surprise.model_selection import cross_validate\n",
        "from surprise import NormalPredictor\n",
        "from surprise import KNNBasic\n",
        "from surprise import KNNWithMeans\n",
        "from surprise import KNNWithZScore\n",
        "from surprise import KNNBaseline\n",
        "from surprise import SVD\n",
        "from surprise import BaselineOnly\n",
        "from surprise import SVDpp\n",
        "from surprise import NMF\n",
        "from surprise import SlopeOne\n",
        "from surprise import CoClustering\n",
        "from surprise.accuracy import rmse\n",
        "from surprise import accuracy\n",
        "from surprise.model_selection import train_test_split"
      ],
      "metadata": {
        "id": "0HSWXmAbjrtP"
      },
      "execution_count": null,
      "outputs": []
    },
    {
      "cell_type": "code",
      "source": [
        "user = pd.read_csv('sample_data/BX-Users.csv', sep=';', error_bad_lines=False, encoding=\"latin-1\")\n",
        "user.columns = ['userID', 'Location', 'Age']\n",
        "rating = pd.read_csv('sample_data/BX-Book-Ratings.csv', sep=';', error_bad_lines=False, encoding=\"latin-1\")\n",
        "rating.columns = ['userID', 'ISBN', 'bookRating']"
      ],
      "metadata": {
        "id": "PxZwNOamdx_T",
        "colab": {
          "base_uri": "https://localhost:8080/"
        },
        "outputId": "e16777cd-cbd9-4be5-80ba-679f894bd736"
      },
      "execution_count": null,
      "outputs": [
        {
          "output_type": "stream",
          "name": "stderr",
          "text": [
            "/usr/local/lib/python3.8/dist-packages/IPython/core/interactiveshell.py:3326: FutureWarning: The error_bad_lines argument has been deprecated and will be removed in a future version.\n",
            "\n",
            "\n",
            "  exec(code_obj, self.user_global_ns, self.user_ns)\n"
          ]
        }
      ]
    },
    {
      "cell_type": "markdown",
      "source": [
        "Uniamo i dataset user e ratings per affrontare questo tipo di analisi fatta con Surprise."
      ],
      "metadata": {
        "id": "pQdHSJK6o_MC"
      }
    },
    {
      "cell_type": "code",
      "source": [
        "df = pd.merge(user, rating, on='userID', how='inner')\n",
        "df.drop(['Location', 'Age'], axis=1, inplace=True)\n",
        "df.head()"
      ],
      "metadata": {
        "colab": {
          "base_uri": "https://localhost:8080/",
          "height": 206
        },
        "id": "HBHaIfSEo-4I",
        "outputId": "e7182f13-d9c2-4df4-8c0d-a432fa5dcf50"
      },
      "execution_count": null,
      "outputs": [
        {
          "output_type": "execute_result",
          "data": {
            "text/plain": [
              "   userID        ISBN  bookRating\n",
              "0       2  0195153448           0\n",
              "1       7   034542252           0\n",
              "2       8  0002005018           5\n",
              "3       8  0060973129           0\n",
              "4       8  0374157065           0"
            ],
            "text/html": [
              "\n",
              "  <div id=\"df-3c8c58ef-8104-471c-a3f4-056f6f89be8a\">\n",
              "    <div class=\"colab-df-container\">\n",
              "      <div>\n",
              "<style scoped>\n",
              "    .dataframe tbody tr th:only-of-type {\n",
              "        vertical-align: middle;\n",
              "    }\n",
              "\n",
              "    .dataframe tbody tr th {\n",
              "        vertical-align: top;\n",
              "    }\n",
              "\n",
              "    .dataframe thead th {\n",
              "        text-align: right;\n",
              "    }\n",
              "</style>\n",
              "<table border=\"1\" class=\"dataframe\">\n",
              "  <thead>\n",
              "    <tr style=\"text-align: right;\">\n",
              "      <th></th>\n",
              "      <th>userID</th>\n",
              "      <th>ISBN</th>\n",
              "      <th>bookRating</th>\n",
              "    </tr>\n",
              "  </thead>\n",
              "  <tbody>\n",
              "    <tr>\n",
              "      <th>0</th>\n",
              "      <td>2</td>\n",
              "      <td>0195153448</td>\n",
              "      <td>0</td>\n",
              "    </tr>\n",
              "    <tr>\n",
              "      <th>1</th>\n",
              "      <td>7</td>\n",
              "      <td>034542252</td>\n",
              "      <td>0</td>\n",
              "    </tr>\n",
              "    <tr>\n",
              "      <th>2</th>\n",
              "      <td>8</td>\n",
              "      <td>0002005018</td>\n",
              "      <td>5</td>\n",
              "    </tr>\n",
              "    <tr>\n",
              "      <th>3</th>\n",
              "      <td>8</td>\n",
              "      <td>0060973129</td>\n",
              "      <td>0</td>\n",
              "    </tr>\n",
              "    <tr>\n",
              "      <th>4</th>\n",
              "      <td>8</td>\n",
              "      <td>0374157065</td>\n",
              "      <td>0</td>\n",
              "    </tr>\n",
              "  </tbody>\n",
              "</table>\n",
              "</div>\n",
              "      <button class=\"colab-df-convert\" onclick=\"convertToInteractive('df-3c8c58ef-8104-471c-a3f4-056f6f89be8a')\"\n",
              "              title=\"Convert this dataframe to an interactive table.\"\n",
              "              style=\"display:none;\">\n",
              "        \n",
              "  <svg xmlns=\"http://www.w3.org/2000/svg\" height=\"24px\"viewBox=\"0 0 24 24\"\n",
              "       width=\"24px\">\n",
              "    <path d=\"M0 0h24v24H0V0z\" fill=\"none\"/>\n",
              "    <path d=\"M18.56 5.44l.94 2.06.94-2.06 2.06-.94-2.06-.94-.94-2.06-.94 2.06-2.06.94zm-11 1L8.5 8.5l.94-2.06 2.06-.94-2.06-.94L8.5 2.5l-.94 2.06-2.06.94zm10 10l.94 2.06.94-2.06 2.06-.94-2.06-.94-.94-2.06-.94 2.06-2.06.94z\"/><path d=\"M17.41 7.96l-1.37-1.37c-.4-.4-.92-.59-1.43-.59-.52 0-1.04.2-1.43.59L10.3 9.45l-7.72 7.72c-.78.78-.78 2.05 0 2.83L4 21.41c.39.39.9.59 1.41.59.51 0 1.02-.2 1.41-.59l7.78-7.78 2.81-2.81c.8-.78.8-2.07 0-2.86zM5.41 20L4 18.59l7.72-7.72 1.47 1.35L5.41 20z\"/>\n",
              "  </svg>\n",
              "      </button>\n",
              "      \n",
              "  <style>\n",
              "    .colab-df-container {\n",
              "      display:flex;\n",
              "      flex-wrap:wrap;\n",
              "      gap: 12px;\n",
              "    }\n",
              "\n",
              "    .colab-df-convert {\n",
              "      background-color: #E8F0FE;\n",
              "      border: none;\n",
              "      border-radius: 50%;\n",
              "      cursor: pointer;\n",
              "      display: none;\n",
              "      fill: #1967D2;\n",
              "      height: 32px;\n",
              "      padding: 0 0 0 0;\n",
              "      width: 32px;\n",
              "    }\n",
              "\n",
              "    .colab-df-convert:hover {\n",
              "      background-color: #E2EBFA;\n",
              "      box-shadow: 0px 1px 2px rgba(60, 64, 67, 0.3), 0px 1px 3px 1px rgba(60, 64, 67, 0.15);\n",
              "      fill: #174EA6;\n",
              "    }\n",
              "\n",
              "    [theme=dark] .colab-df-convert {\n",
              "      background-color: #3B4455;\n",
              "      fill: #D2E3FC;\n",
              "    }\n",
              "\n",
              "    [theme=dark] .colab-df-convert:hover {\n",
              "      background-color: #434B5C;\n",
              "      box-shadow: 0px 1px 3px 1px rgba(0, 0, 0, 0.15);\n",
              "      filter: drop-shadow(0px 1px 2px rgba(0, 0, 0, 0.3));\n",
              "      fill: #FFFFFF;\n",
              "    }\n",
              "  </style>\n",
              "\n",
              "      <script>\n",
              "        const buttonEl =\n",
              "          document.querySelector('#df-3c8c58ef-8104-471c-a3f4-056f6f89be8a button.colab-df-convert');\n",
              "        buttonEl.style.display =\n",
              "          google.colab.kernel.accessAllowed ? 'block' : 'none';\n",
              "\n",
              "        async function convertToInteractive(key) {\n",
              "          const element = document.querySelector('#df-3c8c58ef-8104-471c-a3f4-056f6f89be8a');\n",
              "          const dataTable =\n",
              "            await google.colab.kernel.invokeFunction('convertToInteractive',\n",
              "                                                     [key], {});\n",
              "          if (!dataTable) return;\n",
              "\n",
              "          const docLinkHtml = 'Like what you see? Visit the ' +\n",
              "            '<a target=\"_blank\" href=https://colab.research.google.com/notebooks/data_table.ipynb>data table notebook</a>'\n",
              "            + ' to learn more about interactive tables.';\n",
              "          element.innerHTML = '';\n",
              "          dataTable['output_type'] = 'display_data';\n",
              "          await google.colab.output.renderOutput(dataTable, element);\n",
              "          const docLink = document.createElement('div');\n",
              "          docLink.innerHTML = docLinkHtml;\n",
              "          element.appendChild(docLink);\n",
              "        }\n",
              "      </script>\n",
              "    </div>\n",
              "  </div>\n",
              "  "
            ]
          },
          "metadata": {},
          "execution_count": 272
        }
      ]
    },
    {
      "cell_type": "code",
      "source": [
        "df.shape"
      ],
      "metadata": {
        "colab": {
          "base_uri": "https://localhost:8080/"
        },
        "id": "pU7mylinecpw",
        "outputId": "fdcd051d-80bd-46d4-bdc3-2172e0412548"
      },
      "execution_count": null,
      "outputs": [
        {
          "output_type": "execute_result",
          "data": {
            "text/plain": [
              "(1149780, 3)"
            ]
          },
          "metadata": {},
          "execution_count": 273
        }
      ]
    },
    {
      "cell_type": "code",
      "source": [
        "df.info()"
      ],
      "metadata": {
        "colab": {
          "base_uri": "https://localhost:8080/"
        },
        "id": "C5YSxRX4eajk",
        "outputId": "ea5a3959-301d-4d38-ab4b-f8f620415bd4"
      },
      "execution_count": null,
      "outputs": [
        {
          "output_type": "stream",
          "name": "stdout",
          "text": [
            "<class 'pandas.core.frame.DataFrame'>\n",
            "Int64Index: 1149780 entries, 0 to 1149779\n",
            "Data columns (total 3 columns):\n",
            " #   Column      Non-Null Count    Dtype \n",
            "---  ------      --------------    ----- \n",
            " 0   userID      1149780 non-null  int64 \n",
            " 1   ISBN        1149780 non-null  object\n",
            " 2   bookRating  1149780 non-null  int64 \n",
            "dtypes: int64(2), object(1)\n",
            "memory usage: 35.1+ MB\n"
          ]
        }
      ]
    },
    {
      "cell_type": "markdown",
      "source": [
        "##Distribuzione rating per libro"
      ],
      "metadata": {
        "id": "suRsZOIEp96d"
      }
    },
    {
      "cell_type": "code",
      "source": [
        "figura, grafico= plt.subplots()\n",
        "data = df.groupby('ISBN')['bookRating'].count().clip(upper=50) # Number of ratings per book\n",
        "grafico.hist(x = data, \n",
        "             bins = 25,\n",
        "             ec = \"grey\",\n",
        "             fc = \"orange\")\n",
        "\n",
        "plt.xlabel('Numero di valutazioni per libro')\n",
        "plt.ylabel('Conteggio')\n",
        "plt.title('Distribution Of Number of Ratings Per Book (Clipped at 100)')\n",
        "plt.show()"
      ],
      "metadata": {
        "colab": {
          "base_uri": "https://localhost:8080/",
          "height": 309
        },
        "id": "BOtoEBLVtsV2",
        "outputId": "acf01162-bafc-469e-ed20-a41b63c9c4ff"
      },
      "execution_count": null,
      "outputs": [
        {
          "output_type": "display_data",
          "data": {
            "text/plain": [
              "<Figure size 432x288 with 1 Axes>"
            ],
            "image/png": "[encoded data removed]"
          },
          "metadata": {
            "needs_background": "light"
          }
        }
      ]
    },
    {
      "cell_type": "code",
      "source": [
        "df.groupby('ISBN')['bookRating'].count().reset_index().sort_values('bookRating', ascending=False).head(10)"
      ],
      "metadata": {
        "colab": {
          "base_uri": "https://localhost:8080/",
          "height": 363
        },
        "id": "QIPEe3yhi_4S",
        "outputId": "e9fabcb1-27f6-4acb-d028-19a188248740"
      },
      "execution_count": null,
      "outputs": [
        {
          "output_type": "execute_result",
          "data": {
            "text/plain": [
              "              ISBN  bookRating\n",
              "247408  0971880107        2502\n",
              "47371   0316666343        1295\n",
              "83359   0385504209         883\n",
              "9637    0060928336         732\n",
              "41007   0312195516         723\n",
              "101670  044023722X         647\n",
              "166705  0679781587         639\n",
              "28153   0142001740         615\n",
              "166434  067976402X         614\n",
              "153620  0671027360         586"
            ],
            "text/html": [
              "\n",
              "  <div id=\"df-395e9a2e-30af-4849-9986-ee47f4ec7e34\">\n",
              "    <div class=\"colab-df-container\">\n",
              "      <div>\n",
              "<style scoped>\n",
              "    .dataframe tbody tr th:only-of-type {\n",
              "        vertical-align: middle;\n",
              "    }\n",
              "\n",
              "    .dataframe tbody tr th {\n",
              "        vertical-align: top;\n",
              "    }\n",
              "\n",
              "    .dataframe thead th {\n",
              "        text-align: right;\n",
              "    }\n",
              "</style>\n",
              "<table border=\"1\" class=\"dataframe\">\n",
              "  <thead>\n",
              "    <tr style=\"text-align: right;\">\n",
              "      <th></th>\n",
              "      <th>ISBN</th>\n",
              "      <th>bookRating</th>\n",
              "    </tr>\n",
              "  </thead>\n",
              "  <tbody>\n",
              "    <tr>\n",
              "      <th>247408</th>\n",
              "      <td>0971880107</td>\n",
              "      <td>2502</td>\n",
              "    </tr>\n",
              "    <tr>\n",
              "      <th>47371</th>\n",
              "      <td>0316666343</td>\n",
              "      <td>1295</td>\n",
              "    </tr>\n",
              "    <tr>\n",
              "      <th>83359</th>\n",
              "      <td>0385504209</td>\n",
              "      <td>883</td>\n",
              "    </tr>\n",
              "    <tr>\n",
              "      <th>9637</th>\n",
              "      <td>0060928336</td>\n",
              "      <td>732</td>\n",
              "    </tr>\n",
              "    <tr>\n",
              "      <th>41007</th>\n",
              "      <td>0312195516</td>\n",
              "      <td>723</td>\n",
              "    </tr>\n",
              "    <tr>\n",
              "      <th>101670</th>\n",
              "      <td>044023722X</td>\n",
              "      <td>647</td>\n",
              "    </tr>\n",
              "    <tr>\n",
              "      <th>166705</th>\n",
              "      <td>0679781587</td>\n",
              "      <td>639</td>\n",
              "    </tr>\n",
              "    <tr>\n",
              "      <th>28153</th>\n",
              "      <td>0142001740</td>\n",
              "      <td>615</td>\n",
              "    </tr>\n",
              "    <tr>\n",
              "      <th>166434</th>\n",
              "      <td>067976402X</td>\n",
              "      <td>614</td>\n",
              "    </tr>\n",
              "    <tr>\n",
              "      <th>153620</th>\n",
              "      <td>0671027360</td>\n",
              "      <td>586</td>\n",
              "    </tr>\n",
              "  </tbody>\n",
              "</table>\n",
              "</div>\n",
              "      <button class=\"colab-df-convert\" onclick=\"convertToInteractive('df-395e9a2e-30af-4849-9986-ee47f4ec7e34')\"\n",
              "              title=\"Convert this dataframe to an interactive table.\"\n",
              "              style=\"display:none;\">\n",
              "        \n",
              "  <svg xmlns=\"http://www.w3.org/2000/svg\" height=\"24px\"viewBox=\"0 0 24 24\"\n",
              "       width=\"24px\">\n",
              "    <path d=\"M0 0h24v24H0V0z\" fill=\"none\"/>\n",
              "    <path d=\"M18.56 5.44l.94 2.06.94-2.06 2.06-.94-2.06-.94-.94-2.06-.94 2.06-2.06.94zm-11 1L8.5 8.5l.94-2.06 2.06-.94-2.06-.94L8.5 2.5l-.94 2.06-2.06.94zm10 10l.94 2.06.94-2.06 2.06-.94-2.06-.94-.94-2.06-.94 2.06-2.06.94z\"/><path d=\"M17.41 7.96l-1.37-1.37c-.4-.4-.92-.59-1.43-.59-.52 0-1.04.2-1.43.59L10.3 9.45l-7.72 7.72c-.78.78-.78 2.05 0 2.83L4 21.41c.39.39.9.59 1.41.59.51 0 1.02-.2 1.41-.59l7.78-7.78 2.81-2.81c.8-.78.8-2.07 0-2.86zM5.41 20L4 18.59l7.72-7.72 1.47 1.35L5.41 20z\"/>\n",
              "  </svg>\n",
              "      </button>\n",
              "      \n",
              "  <style>\n",
              "    .colab-df-container {\n",
              "      display:flex;\n",
              "      flex-wrap:wrap;\n",
              "      gap: 12px;\n",
              "    }\n",
              "\n",
              "    .colab-df-convert {\n",
              "      background-color: #E8F0FE;\n",
              "      border: none;\n",
              "      border-radius: 50%;\n",
              "      cursor: pointer;\n",
              "      display: none;\n",
              "      fill: #1967D2;\n",
              "      height: 32px;\n",
              "      padding: 0 0 0 0;\n",
              "      width: 32px;\n",
              "    }\n",
              "\n",
              "    .colab-df-convert:hover {\n",
              "      background-color: #E2EBFA;\n",
              "      box-shadow: 0px 1px 2px rgba(60, 64, 67, 0.3), 0px 1px 3px 1px rgba(60, 64, 67, 0.15);\n",
              "      fill: #174EA6;\n",
              "    }\n",
              "\n",
              "    [theme=dark] .colab-df-convert {\n",
              "      background-color: #3B4455;\n",
              "      fill: #D2E3FC;\n",
              "    }\n",
              "\n",
              "    [theme=dark] .colab-df-convert:hover {\n",
              "      background-color: #434B5C;\n",
              "      box-shadow: 0px 1px 3px 1px rgba(0, 0, 0, 0.15);\n",
              "      filter: drop-shadow(0px 1px 2px rgba(0, 0, 0, 0.3));\n",
              "      fill: #FFFFFF;\n",
              "    }\n",
              "  </style>\n",
              "\n",
              "      <script>\n",
              "        const buttonEl =\n",
              "          document.querySelector('#df-395e9a2e-30af-4849-9986-ee47f4ec7e34 button.colab-df-convert');\n",
              "        buttonEl.style.display =\n",
              "          google.colab.kernel.accessAllowed ? 'block' : 'none';\n",
              "\n",
              "        async function convertToInteractive(key) {\n",
              "          const element = document.querySelector('#df-395e9a2e-30af-4849-9986-ee47f4ec7e34');\n",
              "          const dataTable =\n",
              "            await google.colab.kernel.invokeFunction('convertToInteractive',\n",
              "                                                     [key], {});\n",
              "          if (!dataTable) return;\n",
              "\n",
              "          const docLinkHtml = 'Like what you see? Visit the ' +\n",
              "            '<a target=\"_blank\" href=https://colab.research.google.com/notebooks/data_table.ipynb>data table notebook</a>'\n",
              "            + ' to learn more about interactive tables.';\n",
              "          element.innerHTML = '';\n",
              "          dataTable['output_type'] = 'display_data';\n",
              "          await google.colab.output.renderOutput(dataTable, element);\n",
              "          const docLink = document.createElement('div');\n",
              "          docLink.innerHTML = docLinkHtml;\n",
              "          element.appendChild(docLink);\n",
              "        }\n",
              "      </script>\n",
              "    </div>\n",
              "  </div>\n",
              "  "
            ]
          },
          "metadata": {},
          "execution_count": 276
        }
      ]
    },
    {
      "cell_type": "code",
      "source": [
        "df.groupby('ISBN')['bookRating'].count().reset_index().sort_values('bookRating', ascending=False).tail(10)"
      ],
      "metadata": {
        "colab": {
          "base_uri": "https://localhost:8080/",
          "height": 363
        },
        "id": "TJmFdqElphxl",
        "outputId": "38c37615-3b7e-4e5e-da43-b013f17efa05"
      },
      "execution_count": null,
      "outputs": [
        {
          "output_type": "execute_result",
          "data": {
            "text/plain": [
              "              ISBN  bookRating\n",
              "200155  0801062918           1\n",
              "200156  0801063248           1\n",
              "200157  080106340X           1\n",
              "200158  080106385X           1\n",
              "200159  0801064031           1\n",
              "200161  0801064090           1\n",
              "200162  0801064252           1\n",
              "200163  0801064279           1\n",
              "200164  0801064333           1\n",
              "340555   Ô½crosoft           1"
            ],
            "text/html": [
              "\n",
              "  <div id=\"df-e6c74dff-abf0-4447-826b-a60048383c35\">\n",
              "    <div class=\"colab-df-container\">\n",
              "      <div>\n",
              "<style scoped>\n",
              "    .dataframe tbody tr th:only-of-type {\n",
              "        vertical-align: middle;\n",
              "    }\n",
              "\n",
              "    .dataframe tbody tr th {\n",
              "        vertical-align: top;\n",
              "    }\n",
              "\n",
              "    .dataframe thead th {\n",
              "        text-align: right;\n",
              "    }\n",
              "</style>\n",
              "<table border=\"1\" class=\"dataframe\">\n",
              "  <thead>\n",
              "    <tr style=\"text-align: right;\">\n",
              "      <th></th>\n",
              "      <th>ISBN</th>\n",
              "      <th>bookRating</th>\n",
              "    </tr>\n",
              "  </thead>\n",
              "  <tbody>\n",
              "    <tr>\n",
              "      <th>200155</th>\n",
              "      <td>0801062918</td>\n",
              "      <td>1</td>\n",
              "    </tr>\n",
              "    <tr>\n",
              "      <th>200156</th>\n",
              "      <td>0801063248</td>\n",
              "      <td>1</td>\n",
              "    </tr>\n",
              "    <tr>\n",
              "      <th>200157</th>\n",
              "      <td>080106340X</td>\n",
              "      <td>1</td>\n",
              "    </tr>\n",
              "    <tr>\n",
              "      <th>200158</th>\n",
              "      <td>080106385X</td>\n",
              "      <td>1</td>\n",
              "    </tr>\n",
              "    <tr>\n",
              "      <th>200159</th>\n",
              "      <td>0801064031</td>\n",
              "      <td>1</td>\n",
              "    </tr>\n",
              "    <tr>\n",
              "      <th>200161</th>\n",
              "      <td>0801064090</td>\n",
              "      <td>1</td>\n",
              "    </tr>\n",
              "    <tr>\n",
              "      <th>200162</th>\n",
              "      <td>0801064252</td>\n",
              "      <td>1</td>\n",
              "    </tr>\n",
              "    <tr>\n",
              "      <th>200163</th>\n",
              "      <td>0801064279</td>\n",
              "      <td>1</td>\n",
              "    </tr>\n",
              "    <tr>\n",
              "      <th>200164</th>\n",
              "      <td>0801064333</td>\n",
              "      <td>1</td>\n",
              "    </tr>\n",
              "    <tr>\n",
              "      <th>340555</th>\n",
              "      <td>Ô½crosoft</td>\n",
              "      <td>1</td>\n",
              "    </tr>\n",
              "  </tbody>\n",
              "</table>\n",
              "</div>\n",
              "      <button class=\"colab-df-convert\" onclick=\"convertToInteractive('df-e6c74dff-abf0-4447-826b-a60048383c35')\"\n",
              "              title=\"Convert this dataframe to an interactive table.\"\n",
              "              style=\"display:none;\">\n",
              "        \n",
              "  <svg xmlns=\"http://www.w3.org/2000/svg\" height=\"24px\"viewBox=\"0 0 24 24\"\n",
              "       width=\"24px\">\n",
              "    <path d=\"M0 0h24v24H0V0z\" fill=\"none\"/>\n",
              "    <path d=\"M18.56 5.44l.94 2.06.94-2.06 2.06-.94-2.06-.94-.94-2.06-.94 2.06-2.06.94zm-11 1L8.5 8.5l.94-2.06 2.06-.94-2.06-.94L8.5 2.5l-.94 2.06-2.06.94zm10 10l.94 2.06.94-2.06 2.06-.94-2.06-.94-.94-2.06-.94 2.06-2.06.94z\"/><path d=\"M17.41 7.96l-1.37-1.37c-.4-.4-.92-.59-1.43-.59-.52 0-1.04.2-1.43.59L10.3 9.45l-7.72 7.72c-.78.78-.78 2.05 0 2.83L4 21.41c.39.39.9.59 1.41.59.51 0 1.02-.2 1.41-.59l7.78-7.78 2.81-2.81c.8-.78.8-2.07 0-2.86zM5.41 20L4 18.59l7.72-7.72 1.47 1.35L5.41 20z\"/>\n",
              "  </svg>\n",
              "      </button>\n",
              "      \n",
              "  <style>\n",
              "    .colab-df-container {\n",
              "      display:flex;\n",
              "      flex-wrap:wrap;\n",
              "      gap: 12px;\n",
              "    }\n",
              "\n",
              "    .colab-df-convert {\n",
              "      background-color: #E8F0FE;\n",
              "      border: none;\n",
              "      border-radius: 50%;\n",
              "      cursor: pointer;\n",
              "      display: none;\n",
              "      fill: #1967D2;\n",
              "      height: 32px;\n",
              "      padding: 0 0 0 0;\n",
              "      width: 32px;\n",
              "    }\n",
              "\n",
              "    .colab-df-convert:hover {\n",
              "      background-color: #E2EBFA;\n",
              "      box-shadow: 0px 1px 2px rgba(60, 64, 67, 0.3), 0px 1px 3px 1px rgba(60, 64, 67, 0.15);\n",
              "      fill: #174EA6;\n",
              "    }\n",
              "\n",
              "    [theme=dark] .colab-df-convert {\n",
              "      background-color: #3B4455;\n",
              "      fill: #D2E3FC;\n",
              "    }\n",
              "\n",
              "    [theme=dark] .colab-df-convert:hover {\n",
              "      background-color: #434B5C;\n",
              "      box-shadow: 0px 1px 3px 1px rgba(0, 0, 0, 0.15);\n",
              "      filter: drop-shadow(0px 1px 2px rgba(0, 0, 0, 0.3));\n",
              "      fill: #FFFFFF;\n",
              "    }\n",
              "  </style>\n",
              "\n",
              "      <script>\n",
              "        const buttonEl =\n",
              "          document.querySelector('#df-e6c74dff-abf0-4447-826b-a60048383c35 button.colab-df-convert');\n",
              "        buttonEl.style.display =\n",
              "          google.colab.kernel.accessAllowed ? 'block' : 'none';\n",
              "\n",
              "        async function convertToInteractive(key) {\n",
              "          const element = document.querySelector('#df-e6c74dff-abf0-4447-826b-a60048383c35');\n",
              "          const dataTable =\n",
              "            await google.colab.kernel.invokeFunction('convertToInteractive',\n",
              "                                                     [key], {});\n",
              "          if (!dataTable) return;\n",
              "\n",
              "          const docLinkHtml = 'Like what you see? Visit the ' +\n",
              "            '<a target=\"_blank\" href=https://colab.research.google.com/notebooks/data_table.ipynb>data table notebook</a>'\n",
              "            + ' to learn more about interactive tables.';\n",
              "          element.innerHTML = '';\n",
              "          dataTable['output_type'] = 'display_data';\n",
              "          await google.colab.output.renderOutput(dataTable, element);\n",
              "          const docLink = document.createElement('div');\n",
              "          docLink.innerHTML = docLinkHtml;\n",
              "          element.appendChild(docLink);\n",
              "        }\n",
              "      </script>\n",
              "    </div>\n",
              "  </div>\n",
              "  "
            ]
          },
          "metadata": {},
          "execution_count": 277
        }
      ]
    },
    {
      "cell_type": "markdown",
      "source": [
        "Raggruppando i libri per numero di valutazioni ottenute osserviamo che alcuni libri hanno ricevuto troppi pochi voti; e quello che ne ha ricevute di più ne conta ben 2502."
      ],
      "metadata": {
        "id": "hZ5K55jPjFCC"
      }
    },
    {
      "cell_type": "markdown",
      "source": [
        "##Distribuzione rating per utente"
      ],
      "metadata": {
        "id": "nDNK-AqZqH3e"
      }
    },
    {
      "cell_type": "code",
      "source": [
        "df.groupby('userID')['bookRating'].count().reset_index().sort_values('bookRating', ascending=False).head(10)"
      ],
      "metadata": {
        "colab": {
          "base_uri": "https://localhost:8080/",
          "height": 363
        },
        "id": "W1VFGSwGjUlC",
        "outputId": "c6188214-5d9a-4ea8-fdb3-d3b3e6844ff1"
      },
      "execution_count": null,
      "outputs": [
        {
          "output_type": "execute_result",
          "data": {
            "text/plain": [
              "        userID  bookRating\n",
              "4213     11676       13602\n",
              "74815   198711        7550\n",
              "58113   153662        6109\n",
              "37356    98391        5891\n",
              "13576    35859        5850\n",
              "80185   212898        4785\n",
              "105111  278418        4533\n",
              "28884    76352        3367\n",
              "42037   110973        3100\n",
              "88584   235105        3067"
            ],
            "text/html": [
              "\n",
              "  <div id=\"df-30834807-7de2-4c7d-82a5-769ed0d11bb3\">\n",
              "    <div class=\"colab-df-container\">\n",
              "      <div>\n",
              "<style scoped>\n",
              "    .dataframe tbody tr th:only-of-type {\n",
              "        vertical-align: middle;\n",
              "    }\n",
              "\n",
              "    .dataframe tbody tr th {\n",
              "        vertical-align: top;\n",
              "    }\n",
              "\n",
              "    .dataframe thead th {\n",
              "        text-align: right;\n",
              "    }\n",
              "</style>\n",
              "<table border=\"1\" class=\"dataframe\">\n",
              "  <thead>\n",
              "    <tr style=\"text-align: right;\">\n",
              "      <th></th>\n",
              "      <th>userID</th>\n",
              "      <th>bookRating</th>\n",
              "    </tr>\n",
              "  </thead>\n",
              "  <tbody>\n",
              "    <tr>\n",
              "      <th>4213</th>\n",
              "      <td>11676</td>\n",
              "      <td>13602</td>\n",
              "    </tr>\n",
              "    <tr>\n",
              "      <th>74815</th>\n",
              "      <td>198711</td>\n",
              "      <td>7550</td>\n",
              "    </tr>\n",
              "    <tr>\n",
              "      <th>58113</th>\n",
              "      <td>153662</td>\n",
              "      <td>6109</td>\n",
              "    </tr>\n",
              "    <tr>\n",
              "      <th>37356</th>\n",
              "      <td>98391</td>\n",
              "      <td>5891</td>\n",
              "    </tr>\n",
              "    <tr>\n",
              "      <th>13576</th>\n",
              "      <td>35859</td>\n",
              "      <td>5850</td>\n",
              "    </tr>\n",
              "    <tr>\n",
              "      <th>80185</th>\n",
              "      <td>212898</td>\n",
              "      <td>4785</td>\n",
              "    </tr>\n",
              "    <tr>\n",
              "      <th>105111</th>\n",
              "      <td>278418</td>\n",
              "      <td>4533</td>\n",
              "    </tr>\n",
              "    <tr>\n",
              "      <th>28884</th>\n",
              "      <td>76352</td>\n",
              "      <td>3367</td>\n",
              "    </tr>\n",
              "    <tr>\n",
              "      <th>42037</th>\n",
              "      <td>110973</td>\n",
              "      <td>3100</td>\n",
              "    </tr>\n",
              "    <tr>\n",
              "      <th>88584</th>\n",
              "      <td>235105</td>\n",
              "      <td>3067</td>\n",
              "    </tr>\n",
              "  </tbody>\n",
              "</table>\n",
              "</div>\n",
              "      <button class=\"colab-df-convert\" onclick=\"convertToInteractive('df-30834807-7de2-4c7d-82a5-769ed0d11bb3')\"\n",
              "              title=\"Convert this dataframe to an interactive table.\"\n",
              "              style=\"display:none;\">\n",
              "        \n",
              "  <svg xmlns=\"http://www.w3.org/2000/svg\" height=\"24px\"viewBox=\"0 0 24 24\"\n",
              "       width=\"24px\">\n",
              "    <path d=\"M0 0h24v24H0V0z\" fill=\"none\"/>\n",
              "    <path d=\"M18.56 5.44l.94 2.06.94-2.06 2.06-.94-2.06-.94-.94-2.06-.94 2.06-2.06.94zm-11 1L8.5 8.5l.94-2.06 2.06-.94-2.06-.94L8.5 2.5l-.94 2.06-2.06.94zm10 10l.94 2.06.94-2.06 2.06-.94-2.06-.94-.94-2.06-.94 2.06-2.06.94z\"/><path d=\"M17.41 7.96l-1.37-1.37c-.4-.4-.92-.59-1.43-.59-.52 0-1.04.2-1.43.59L10.3 9.45l-7.72 7.72c-.78.78-.78 2.05 0 2.83L4 21.41c.39.39.9.59 1.41.59.51 0 1.02-.2 1.41-.59l7.78-7.78 2.81-2.81c.8-.78.8-2.07 0-2.86zM5.41 20L4 18.59l7.72-7.72 1.47 1.35L5.41 20z\"/>\n",
              "  </svg>\n",
              "      </button>\n",
              "      \n",
              "  <style>\n",
              "    .colab-df-container {\n",
              "      display:flex;\n",
              "      flex-wrap:wrap;\n",
              "      gap: 12px;\n",
              "    }\n",
              "\n",
              "    .colab-df-convert {\n",
              "      background-color: #E8F0FE;\n",
              "      border: none;\n",
              "      border-radius: 50%;\n",
              "      cursor: pointer;\n",
              "      display: none;\n",
              "      fill: #1967D2;\n",
              "      height: 32px;\n",
              "      padding: 0 0 0 0;\n",
              "      width: 32px;\n",
              "    }\n",
              "\n",
              "    .colab-df-convert:hover {\n",
              "      background-color: #E2EBFA;\n",
              "      box-shadow: 0px 1px 2px rgba(60, 64, 67, 0.3), 0px 1px 3px 1px rgba(60, 64, 67, 0.15);\n",
              "      fill: #174EA6;\n",
              "    }\n",
              "\n",
              "    [theme=dark] .colab-df-convert {\n",
              "      background-color: #3B4455;\n",
              "      fill: #D2E3FC;\n",
              "    }\n",
              "\n",
              "    [theme=dark] .colab-df-convert:hover {\n",
              "      background-color: #434B5C;\n",
              "      box-shadow: 0px 1px 3px 1px rgba(0, 0, 0, 0.15);\n",
              "      filter: drop-shadow(0px 1px 2px rgba(0, 0, 0, 0.3));\n",
              "      fill: #FFFFFF;\n",
              "    }\n",
              "  </style>\n",
              "\n",
              "      <script>\n",
              "        const buttonEl =\n",
              "          document.querySelector('#df-30834807-7de2-4c7d-82a5-769ed0d11bb3 button.colab-df-convert');\n",
              "        buttonEl.style.display =\n",
              "          google.colab.kernel.accessAllowed ? 'block' : 'none';\n",
              "\n",
              "        async function convertToInteractive(key) {\n",
              "          const element = document.querySelector('#df-30834807-7de2-4c7d-82a5-769ed0d11bb3');\n",
              "          const dataTable =\n",
              "            await google.colab.kernel.invokeFunction('convertToInteractive',\n",
              "                                                     [key], {});\n",
              "          if (!dataTable) return;\n",
              "\n",
              "          const docLinkHtml = 'Like what you see? Visit the ' +\n",
              "            '<a target=\"_blank\" href=https://colab.research.google.com/notebooks/data_table.ipynb>data table notebook</a>'\n",
              "            + ' to learn more about interactive tables.';\n",
              "          element.innerHTML = '';\n",
              "          dataTable['output_type'] = 'display_data';\n",
              "          await google.colab.output.renderOutput(dataTable, element);\n",
              "          const docLink = document.createElement('div');\n",
              "          docLink.innerHTML = docLinkHtml;\n",
              "          element.appendChild(docLink);\n",
              "        }\n",
              "      </script>\n",
              "    </div>\n",
              "  </div>\n",
              "  "
            ]
          },
          "metadata": {},
          "execution_count": 278
        }
      ]
    },
    {
      "cell_type": "code",
      "source": [
        "df.groupby('userID')['bookRating'].count().reset_index().sort_values('bookRating', ascending=False).tail(10)"
      ],
      "metadata": {
        "colab": {
          "base_uri": "https://localhost:8080/",
          "height": 363
        },
        "id": "6HtCKlREqZpV",
        "outputId": "aa70d6e0-75d8-4757-a5c2-0f78f677d866"
      },
      "execution_count": null,
      "outputs": [
        {
          "output_type": "execute_result",
          "data": {
            "text/plain": [
              "       userID  bookRating\n",
              "44886  118589           1\n",
              "44881  118582           1\n",
              "44874  118562           1\n",
              "44880  118581           1\n",
              "44879  118580           1\n",
              "44878  118579           1\n",
              "44877  118576           1\n",
              "44876  118574           1\n",
              "44875  118563           1\n",
              "52641  139146           1"
            ],
            "text/html": [
              "\n",
              "  <div id=\"df-0b27f5c8-2cfb-4bba-8430-834e147ea051\">\n",
              "    <div class=\"colab-df-container\">\n",
              "      <div>\n",
              "<style scoped>\n",
              "    .dataframe tbody tr th:only-of-type {\n",
              "        vertical-align: middle;\n",
              "    }\n",
              "\n",
              "    .dataframe tbody tr th {\n",
              "        vertical-align: top;\n",
              "    }\n",
              "\n",
              "    .dataframe thead th {\n",
              "        text-align: right;\n",
              "    }\n",
              "</style>\n",
              "<table border=\"1\" class=\"dataframe\">\n",
              "  <thead>\n",
              "    <tr style=\"text-align: right;\">\n",
              "      <th></th>\n",
              "      <th>userID</th>\n",
              "      <th>bookRating</th>\n",
              "    </tr>\n",
              "  </thead>\n",
              "  <tbody>\n",
              "    <tr>\n",
              "      <th>44886</th>\n",
              "      <td>118589</td>\n",
              "      <td>1</td>\n",
              "    </tr>\n",
              "    <tr>\n",
              "      <th>44881</th>\n",
              "      <td>118582</td>\n",
              "      <td>1</td>\n",
              "    </tr>\n",
              "    <tr>\n",
              "      <th>44874</th>\n",
              "      <td>118562</td>\n",
              "      <td>1</td>\n",
              "    </tr>\n",
              "    <tr>\n",
              "      <th>44880</th>\n",
              "      <td>118581</td>\n",
              "      <td>1</td>\n",
              "    </tr>\n",
              "    <tr>\n",
              "      <th>44879</th>\n",
              "      <td>118580</td>\n",
              "      <td>1</td>\n",
              "    </tr>\n",
              "    <tr>\n",
              "      <th>44878</th>\n",
              "      <td>118579</td>\n",
              "      <td>1</td>\n",
              "    </tr>\n",
              "    <tr>\n",
              "      <th>44877</th>\n",
              "      <td>118576</td>\n",
              "      <td>1</td>\n",
              "    </tr>\n",
              "    <tr>\n",
              "      <th>44876</th>\n",
              "      <td>118574</td>\n",
              "      <td>1</td>\n",
              "    </tr>\n",
              "    <tr>\n",
              "      <th>44875</th>\n",
              "      <td>118563</td>\n",
              "      <td>1</td>\n",
              "    </tr>\n",
              "    <tr>\n",
              "      <th>52641</th>\n",
              "      <td>139146</td>\n",
              "      <td>1</td>\n",
              "    </tr>\n",
              "  </tbody>\n",
              "</table>\n",
              "</div>\n",
              "      <button class=\"colab-df-convert\" onclick=\"convertToInteractive('df-0b27f5c8-2cfb-4bba-8430-834e147ea051')\"\n",
              "              title=\"Convert this dataframe to an interactive table.\"\n",
              "              style=\"display:none;\">\n",
              "        \n",
              "  <svg xmlns=\"http://www.w3.org/2000/svg\" height=\"24px\"viewBox=\"0 0 24 24\"\n",
              "       width=\"24px\">\n",
              "    <path d=\"M0 0h24v24H0V0z\" fill=\"none\"/>\n",
              "    <path d=\"M18.56 5.44l.94 2.06.94-2.06 2.06-.94-2.06-.94-.94-2.06-.94 2.06-2.06.94zm-11 1L8.5 8.5l.94-2.06 2.06-.94-2.06-.94L8.5 2.5l-.94 2.06-2.06.94zm10 10l.94 2.06.94-2.06 2.06-.94-2.06-.94-.94-2.06-.94 2.06-2.06.94z\"/><path d=\"M17.41 7.96l-1.37-1.37c-.4-.4-.92-.59-1.43-.59-.52 0-1.04.2-1.43.59L10.3 9.45l-7.72 7.72c-.78.78-.78 2.05 0 2.83L4 21.41c.39.39.9.59 1.41.59.51 0 1.02-.2 1.41-.59l7.78-7.78 2.81-2.81c.8-.78.8-2.07 0-2.86zM5.41 20L4 18.59l7.72-7.72 1.47 1.35L5.41 20z\"/>\n",
              "  </svg>\n",
              "      </button>\n",
              "      \n",
              "  <style>\n",
              "    .colab-df-container {\n",
              "      display:flex;\n",
              "      flex-wrap:wrap;\n",
              "      gap: 12px;\n",
              "    }\n",
              "\n",
              "    .colab-df-convert {\n",
              "      background-color: #E8F0FE;\n",
              "      border: none;\n",
              "      border-radius: 50%;\n",
              "      cursor: pointer;\n",
              "      display: none;\n",
              "      fill: #1967D2;\n",
              "      height: 32px;\n",
              "      padding: 0 0 0 0;\n",
              "      width: 32px;\n",
              "    }\n",
              "\n",
              "    .colab-df-convert:hover {\n",
              "      background-color: #E2EBFA;\n",
              "      box-shadow: 0px 1px 2px rgba(60, 64, 67, 0.3), 0px 1px 3px 1px rgba(60, 64, 67, 0.15);\n",
              "      fill: #174EA6;\n",
              "    }\n",
              "\n",
              "    [theme=dark] .colab-df-convert {\n",
              "      background-color: #3B4455;\n",
              "      fill: #D2E3FC;\n",
              "    }\n",
              "\n",
              "    [theme=dark] .colab-df-convert:hover {\n",
              "      background-color: #434B5C;\n",
              "      box-shadow: 0px 1px 3px 1px rgba(0, 0, 0, 0.15);\n",
              "      filter: drop-shadow(0px 1px 2px rgba(0, 0, 0, 0.3));\n",
              "      fill: #FFFFFF;\n",
              "    }\n",
              "  </style>\n",
              "\n",
              "      <script>\n",
              "        const buttonEl =\n",
              "          document.querySelector('#df-0b27f5c8-2cfb-4bba-8430-834e147ea051 button.colab-df-convert');\n",
              "        buttonEl.style.display =\n",
              "          google.colab.kernel.accessAllowed ? 'block' : 'none';\n",
              "\n",
              "        async function convertToInteractive(key) {\n",
              "          const element = document.querySelector('#df-0b27f5c8-2cfb-4bba-8430-834e147ea051');\n",
              "          const dataTable =\n",
              "            await google.colab.kernel.invokeFunction('convertToInteractive',\n",
              "                                                     [key], {});\n",
              "          if (!dataTable) return;\n",
              "\n",
              "          const docLinkHtml = 'Like what you see? Visit the ' +\n",
              "            '<a target=\"_blank\" href=https://colab.research.google.com/notebooks/data_table.ipynb>data table notebook</a>'\n",
              "            + ' to learn more about interactive tables.';\n",
              "          element.innerHTML = '';\n",
              "          dataTable['output_type'] = 'display_data';\n",
              "          await google.colab.output.renderOutput(dataTable, element);\n",
              "          const docLink = document.createElement('div');\n",
              "          docLink.innerHTML = docLinkHtml;\n",
              "          element.appendChild(docLink);\n",
              "        }\n",
              "      </script>\n",
              "    </div>\n",
              "  </div>\n",
              "  "
            ]
          },
          "metadata": {},
          "execution_count": 279
        }
      ]
    },
    {
      "cell_type": "markdown",
      "source": [
        "Da questi dati emerge che alcuni utenti hanno dato meno di 5 voti e il più attivo ne ha dati 13602."
      ],
      "metadata": {
        "id": "Ni2bKMhpjZDq"
      }
    },
    {
      "cell_type": "markdown",
      "source": [
        "Per ridurre la dimensione del data frame, scartiamo i libri che sono stati votati da meno utenti e gli utenti meno attivi."
      ],
      "metadata": {
        "id": "pJj0MYHsdG3l"
      }
    },
    {
      "cell_type": "code",
      "source": [
        "min_book_ratings = 50\n",
        "filter_books = df['ISBN'].value_counts() > min_book_ratings\n",
        "filter_books = filter_books[filter_books].index.tolist()\n",
        "\n",
        "min_user_ratings = 50\n",
        "filter_users = df['userID'].value_counts() > min_user_ratings\n",
        "filter_users = filter_users[filter_users].index.tolist()\n",
        "\n",
        "df_new = df[(df['ISBN'].isin(filter_books)) & (df['userID'].isin(filter_users))]\n",
        "print('Dimensione data frame originale:\\t{}'.format(df.shape))\n",
        "print('Dimensione nuovo data frame:\\t{}'.format(df_new.shape))"
      ],
      "metadata": {
        "colab": {
          "base_uri": "https://localhost:8080/"
        },
        "id": "K1zScNzQdGiI",
        "outputId": "723e5c69-952e-4b09-9cec-73c0d56952b3"
      },
      "execution_count": null,
      "outputs": [
        {
          "output_type": "stream",
          "name": "stdout",
          "text": [
            "Dimensione data frame originale:\t(1149780, 3)\n",
            "Dimensione nuovo data frame:\t(140516, 3)\n"
          ]
        }
      ]
    },
    {
      "cell_type": "markdown",
      "source": [
        "Per convertire un dataframe pandas in dataset utilizziamo il metodo load_from_df().\n",
        "Poi avremo bisogno anche di un oggetto Reader in cui specificheremo una rating_scale.\n",
        "Il dataframe deve avere tre colonne corrispondenti all'id dell'utente, l'id del libro e la valutazione, in quest'ordine."
      ],
      "metadata": {
        "id": "z1KTbAyhjjzH"
      }
    },
    {
      "cell_type": "code",
      "source": [
        "reader = Reader(rating_scale=(0, 9))\n",
        "data = Dataset.load_from_df(df_new[['userID', 'ISBN', 'bookRating']], reader)"
      ],
      "metadata": {
        "id": "jD4glPmxjjGW"
      },
      "execution_count": null,
      "outputs": []
    },
    {
      "cell_type": "markdown",
      "source": [
        "Con la libreria Surprise, faremo una prova delle prestazioni (benchmark) dei seguenti algoritmi:"
      ],
      "metadata": {
        "id": "-dZPXyvl0Trm"
      }
    },
    {
      "cell_type": "markdown",
      "source": [
        "**NormalPredictor**\n",
        "\n",
        "*   prevede una valutazione casuale basata sulla distribuzione del training set, che si presume sia normale. \n",
        "\n",
        "**BaselineOnly**\n",
        "\n",
        "*  prevede la stima di base per un determinato utente ed elemento.\n",
        "\n",
        "**KNNBasic**\n",
        "*  algoritmo di collaborative filtering.\n",
        "\n",
        "**KNNWithMeans**\n",
        "*   algoritmo di collaborative filtering, che tiene conto delle valutazioni medie di ciascun utente.\n",
        "\n",
        "**KNNWithZScore**\n",
        "*   algoritmo di collaborative filtering, che tiene conto della normalizzazione del punteggio z di ogni utente.\n",
        "\n",
        "**KNNBaseline**\n",
        "* algoritmo di collaborative filtering, che tiene conto di una valutazione di base.\n",
        "\n",
        "**SVD**\n",
        "* l'equivalente della Probabilistic Matrix Factorization.\n",
        "\n",
        "**SVDpp**\n",
        "* un'estensione di SVD che tiene conto delle valutazioni implicite.\n",
        "\n",
        "**NMF**\n",
        "* algoritmo di collaborative filtering, basato sulla fattorizzazione della matrice non negativa. È molto simile a SVD.\n",
        "\n",
        "**Slope One**\n",
        "* una semplice implementazione dell'algoritmo SlopeOne. \n",
        "\n",
        "**Co-clustering**\n",
        "* algoritmo di collaborative filtering, basato sul co-clustering."
      ],
      "metadata": {
        "id": "_9XkAcz1kVAg"
      }
    },
    {
      "cell_type": "code",
      "source": [
        "benchmark = []\n",
        "# Iteriamo su tutti gli algoritmi\n",
        "for algorithm in [SVD(), SVDpp(), SlopeOne(), NMF(), NormalPredictor(), KNNBaseline(), KNNBasic(), KNNWithMeans(), KNNWithZScore(), BaselineOnly(), CoClustering()]:\n",
        "    # effettuiamo la cross validation\n",
        "    results = cross_validate(algorithm, data, measures=['RMSE'], cv=3, verbose=False)\n",
        "    \n",
        "    # associamo i risultati ai nomi degli algoritmi\n",
        "    tmp = pd.DataFrame.from_dict(results).mean(axis=0)\n",
        "    tmp = tmp.append(pd.Series([str(algorithm).split(' ')[0].split('.')[-1]], index=['Algorithm']))\n",
        "    benchmark.append(tmp)"
      ],
      "metadata": {
        "colab": {
          "base_uri": "https://localhost:8080/"
        },
        "id": "htVsAcqHjjCX",
        "outputId": "8aecd64b-07ab-4d73-fe31-e219583e7803"
      },
      "execution_count": null,
      "outputs": [
        {
          "output_type": "stream",
          "name": "stdout",
          "text": [
            "Estimating biases using als...\n",
            "Computing the msd similarity matrix...\n",
            "Done computing similarity matrix.\n",
            "Estimating biases using als...\n",
            "Computing the msd similarity matrix...\n",
            "Done computing similarity matrix.\n",
            "Estimating biases using als...\n",
            "Computing the msd similarity matrix...\n",
            "Done computing similarity matrix.\n",
            "Computing the msd similarity matrix...\n",
            "Done computing similarity matrix.\n",
            "Computing the msd similarity matrix...\n",
            "Done computing similarity matrix.\n",
            "Computing the msd similarity matrix...\n",
            "Done computing similarity matrix.\n",
            "Computing the msd similarity matrix...\n",
            "Done computing similarity matrix.\n",
            "Computing the msd similarity matrix...\n",
            "Done computing similarity matrix.\n",
            "Computing the msd similarity matrix...\n",
            "Done computing similarity matrix.\n",
            "Computing the msd similarity matrix...\n",
            "Done computing similarity matrix.\n",
            "Computing the msd similarity matrix...\n",
            "Done computing similarity matrix.\n",
            "Computing the msd similarity matrix...\n",
            "Done computing similarity matrix.\n",
            "Estimating biases using als...\n",
            "Estimating biases using als...\n",
            "Estimating biases using als...\n"
          ]
        }
      ]
    },
    {
      "cell_type": "code",
      "source": [
        "surprise_results = pd.DataFrame(benchmark).set_index('Algorithm').sort_values('test_rmse')"
      ],
      "metadata": {
        "id": "1F3e-tI5lqef"
      },
      "execution_count": null,
      "outputs": []
    },
    {
      "cell_type": "code",
      "source": [
        "surprise_results"
      ],
      "metadata": {
        "colab": {
          "base_uri": "https://localhost:8080/",
          "height": 426
        },
        "id": "w1KP230Clrtc",
        "outputId": "21c741fd-f398-418b-f993-b6b954622ce7"
      },
      "execution_count": null,
      "outputs": [
        {
          "output_type": "execute_result",
          "data": {
            "text/plain": [
              "                 test_rmse   fit_time  test_time\n",
              "Algorithm                                       \n",
              "BaselineOnly      3.376906   0.523338   0.429584\n",
              "SlopeOne          3.471148   0.796398   4.310173\n",
              "CoClustering      3.472845   3.012059   0.272908\n",
              "KNNWithMeans      3.488702   0.679043   5.796860\n",
              "KNNBaseline       3.495870   1.078942   6.527815\n",
              "KNNWithZScore     3.502032   0.779752   6.158612\n",
              "SVD               3.546795   1.736825   0.394528\n",
              "KNNBasic          3.730733   0.558851   5.395665\n",
              "SVDpp             3.796093  19.216144   6.836930\n",
              "NMF               3.841126   2.829721   0.509878\n",
              "NormalPredictor   4.673172   0.182744   0.364377"
            ],
            "text/html": [
              "\n",
              "  <div id=\"df-b5bda704-4084-429d-b72f-edeaf2511dfe\">\n",
              "    <div class=\"colab-df-container\">\n",
              "      <div>\n",
              "<style scoped>\n",
              "    .dataframe tbody tr th:only-of-type {\n",
              "        vertical-align: middle;\n",
              "    }\n",
              "\n",
              "    .dataframe tbody tr th {\n",
              "        vertical-align: top;\n",
              "    }\n",
              "\n",
              "    .dataframe thead th {\n",
              "        text-align: right;\n",
              "    }\n",
              "</style>\n",
              "<table border=\"1\" class=\"dataframe\">\n",
              "  <thead>\n",
              "    <tr style=\"text-align: right;\">\n",
              "      <th></th>\n",
              "      <th>test_rmse</th>\n",
              "      <th>fit_time</th>\n",
              "      <th>test_time</th>\n",
              "    </tr>\n",
              "    <tr>\n",
              "      <th>Algorithm</th>\n",
              "      <th></th>\n",
              "      <th></th>\n",
              "      <th></th>\n",
              "    </tr>\n",
              "  </thead>\n",
              "  <tbody>\n",
              "    <tr>\n",
              "      <th>BaselineOnly</th>\n",
              "      <td>3.376906</td>\n",
              "      <td>0.523338</td>\n",
              "      <td>0.429584</td>\n",
              "    </tr>\n",
              "    <tr>\n",
              "      <th>SlopeOne</th>\n",
              "      <td>3.471148</td>\n",
              "      <td>0.796398</td>\n",
              "      <td>4.310173</td>\n",
              "    </tr>\n",
              "    <tr>\n",
              "      <th>CoClustering</th>\n",
              "      <td>3.472845</td>\n",
              "      <td>3.012059</td>\n",
              "      <td>0.272908</td>\n",
              "    </tr>\n",
              "    <tr>\n",
              "      <th>KNNWithMeans</th>\n",
              "      <td>3.488702</td>\n",
              "      <td>0.679043</td>\n",
              "      <td>5.796860</td>\n",
              "    </tr>\n",
              "    <tr>\n",
              "      <th>KNNBaseline</th>\n",
              "      <td>3.495870</td>\n",
              "      <td>1.078942</td>\n",
              "      <td>6.527815</td>\n",
              "    </tr>\n",
              "    <tr>\n",
              "      <th>KNNWithZScore</th>\n",
              "      <td>3.502032</td>\n",
              "      <td>0.779752</td>\n",
              "      <td>6.158612</td>\n",
              "    </tr>\n",
              "    <tr>\n",
              "      <th>SVD</th>\n",
              "      <td>3.546795</td>\n",
              "      <td>1.736825</td>\n",
              "      <td>0.394528</td>\n",
              "    </tr>\n",
              "    <tr>\n",
              "      <th>KNNBasic</th>\n",
              "      <td>3.730733</td>\n",
              "      <td>0.558851</td>\n",
              "      <td>5.395665</td>\n",
              "    </tr>\n",
              "    <tr>\n",
              "      <th>SVDpp</th>\n",
              "      <td>3.796093</td>\n",
              "      <td>19.216144</td>\n",
              "      <td>6.836930</td>\n",
              "    </tr>\n",
              "    <tr>\n",
              "      <th>NMF</th>\n",
              "      <td>3.841126</td>\n",
              "      <td>2.829721</td>\n",
              "      <td>0.509878</td>\n",
              "    </tr>\n",
              "    <tr>\n",
              "      <th>NormalPredictor</th>\n",
              "      <td>4.673172</td>\n",
              "      <td>0.182744</td>\n",
              "      <td>0.364377</td>\n",
              "    </tr>\n",
              "  </tbody>\n",
              "</table>\n",
              "</div>\n",
              "      <button class=\"colab-df-convert\" onclick=\"convertToInteractive('df-b5bda704-4084-429d-b72f-edeaf2511dfe')\"\n",
              "              title=\"Convert this dataframe to an interactive table.\"\n",
              "              style=\"display:none;\">\n",
              "        \n",
              "  <svg xmlns=\"http://www.w3.org/2000/svg\" height=\"24px\"viewBox=\"0 0 24 24\"\n",
              "       width=\"24px\">\n",
              "    <path d=\"M0 0h24v24H0V0z\" fill=\"none\"/>\n",
              "    <path d=\"M18.56 5.44l.94 2.06.94-2.06 2.06-.94-2.06-.94-.94-2.06-.94 2.06-2.06.94zm-11 1L8.5 8.5l.94-2.06 2.06-.94-2.06-.94L8.5 2.5l-.94 2.06-2.06.94zm10 10l.94 2.06.94-2.06 2.06-.94-2.06-.94-.94-2.06-.94 2.06-2.06.94z\"/><path d=\"M17.41 7.96l-1.37-1.37c-.4-.4-.92-.59-1.43-.59-.52 0-1.04.2-1.43.59L10.3 9.45l-7.72 7.72c-.78.78-.78 2.05 0 2.83L4 21.41c.39.39.9.59 1.41.59.51 0 1.02-.2 1.41-.59l7.78-7.78 2.81-2.81c.8-.78.8-2.07 0-2.86zM5.41 20L4 18.59l7.72-7.72 1.47 1.35L5.41 20z\"/>\n",
              "  </svg>\n",
              "      </button>\n",
              "      \n",
              "  <style>\n",
              "    .colab-df-container {\n",
              "      display:flex;\n",
              "      flex-wrap:wrap;\n",
              "      gap: 12px;\n",
              "    }\n",
              "\n",
              "    .colab-df-convert {\n",
              "      background-color: #E8F0FE;\n",
              "      border: none;\n",
              "      border-radius: 50%;\n",
              "      cursor: pointer;\n",
              "      display: none;\n",
              "      fill: #1967D2;\n",
              "      height: 32px;\n",
              "      padding: 0 0 0 0;\n",
              "      width: 32px;\n",
              "    }\n",
              "\n",
              "    .colab-df-convert:hover {\n",
              "      background-color: #E2EBFA;\n",
              "      box-shadow: 0px 1px 2px rgba(60, 64, 67, 0.3), 0px 1px 3px 1px rgba(60, 64, 67, 0.15);\n",
              "      fill: #174EA6;\n",
              "    }\n",
              "\n",
              "    [theme=dark] .colab-df-convert {\n",
              "      background-color: #3B4455;\n",
              "      fill: #D2E3FC;\n",
              "    }\n",
              "\n",
              "    [theme=dark] .colab-df-convert:hover {\n",
              "      background-color: #434B5C;\n",
              "      box-shadow: 0px 1px 3px 1px rgba(0, 0, 0, 0.15);\n",
              "      filter: drop-shadow(0px 1px 2px rgba(0, 0, 0, 0.3));\n",
              "      fill: #FFFFFF;\n",
              "    }\n",
              "  </style>\n",
              "\n",
              "      <script>\n",
              "        const buttonEl =\n",
              "          document.querySelector('#df-b5bda704-4084-429d-b72f-edeaf2511dfe button.colab-df-convert');\n",
              "        buttonEl.style.display =\n",
              "          google.colab.kernel.accessAllowed ? 'block' : 'none';\n",
              "\n",
              "        async function convertToInteractive(key) {\n",
              "          const element = document.querySelector('#df-b5bda704-4084-429d-b72f-edeaf2511dfe');\n",
              "          const dataTable =\n",
              "            await google.colab.kernel.invokeFunction('convertToInteractive',\n",
              "                                                     [key], {});\n",
              "          if (!dataTable) return;\n",
              "\n",
              "          const docLinkHtml = 'Like what you see? Visit the ' +\n",
              "            '<a target=\"_blank\" href=https://colab.research.google.com/notebooks/data_table.ipynb>data table notebook</a>'\n",
              "            + ' to learn more about interactive tables.';\n",
              "          element.innerHTML = '';\n",
              "          dataTable['output_type'] = 'display_data';\n",
              "          await google.colab.output.renderOutput(dataTable, element);\n",
              "          const docLink = document.createElement('div');\n",
              "          docLink.innerHTML = docLinkHtml;\n",
              "          element.appendChild(docLink);\n",
              "        }\n",
              "      </script>\n",
              "    </div>\n",
              "  </div>\n",
              "  "
            ]
          },
          "metadata": {},
          "execution_count": 284
        }
      ]
    },
    {
      "cell_type": "markdown",
      "source": [
        "L'algoritmo BaselineOnly ci ha fornito il miglior RMSE, pertanto procederemo con questo nella nostra analisi.\n",
        "\n",
        "Ricordiamo che BaselineOnly è un algoritmo che prevede la stima di base, dati un utente e un prodotto. Tale stima si può ottenere in due modi: attraverso uno Stochastic Gradient Descent (SGD) oppure usando un Alternating Least Squares (ALS). \n",
        "UTilizziamo i minimi quadrati alternati (ALS), il metodo di default e inizializziamo l'algoritmo passandogli un dizionario di configurazione con dei parametri indicati nella documentazione:\n",
        "\n",
        "\n",
        "*   **n_epochs** numero di iterazioni della procedura ALS\n",
        "*   **reg_i** parametro di regolarizzazione per gli items\n",
        "*   **reg_u** parametro di regolarizzazione per gli users\n",
        "\n",
        "\n",
        "\n"
      ],
      "metadata": {
        "id": "Tzs2pVEXluAA"
      }
    },
    {
      "cell_type": "code",
      "source": [
        "bsl_options = {'method': 'als',\n",
        "               'n_epochs': 5,\n",
        "               'reg_u': 12,\n",
        "               'reg_i': 5\n",
        "               }\n",
        "algo = BaselineOnly(bsl_options=bsl_options)\n",
        "cross_validate(algo, data, measures=['RMSE'], cv=3, verbose=False)"
      ],
      "metadata": {
        "colab": {
          "base_uri": "https://localhost:8080/"
        },
        "id": "ImYUEpQUmbxI",
        "outputId": "d12a138a-1454-46ed-fd3f-0aa87aac3166"
      },
      "execution_count": null,
      "outputs": [
        {
          "output_type": "stream",
          "name": "stdout",
          "text": [
            "Estimating biases using als...\n",
            "Estimating biases using als...\n",
            "Estimating biases using als...\n"
          ]
        },
        {
          "output_type": "execute_result",
          "data": {
            "text/plain": [
              "{'test_rmse': array([3.36711382, 3.3798213 , 3.37870569]),\n",
              " 'fit_time': (0.27750492095947266, 0.32767796516418457, 0.3344261646270752),\n",
              " 'test_time': (0.6688423156738281, 0.26687121391296387, 0.2617061138153076)}"
            ]
          },
          "metadata": {},
          "execution_count": 285
        }
      ]
    },
    {
      "cell_type": "markdown",
      "source": [
        "Utilizziamo il metodo train_test_split() per ricavare un trainset e un testset Il metodo fit() addestrerà l'algoritmo sul trainset e il metodo test() restituirà le previsioni fatte dal testset."
      ],
      "metadata": {
        "id": "PhL-5LHr62mu"
      }
    },
    {
      "cell_type": "code",
      "source": [
        "trainset, testset = train_test_split(data, test_size=0.25)\n",
        "algo = BaselineOnly(bsl_options=bsl_options)\n",
        "predictions = algo.fit(trainset).test(testset)\n",
        "accuracy.rmse(predictions)"
      ],
      "metadata": {
        "colab": {
          "base_uri": "https://localhost:8080/"
        },
        "id": "TXAxOO9kmiOp",
        "outputId": "91977d83-db0a-4ca5-9998-af3e045c23c8"
      },
      "execution_count": null,
      "outputs": [
        {
          "output_type": "stream",
          "name": "stdout",
          "text": [
            "Estimating biases using als...\n",
            "RMSE: 3.3511\n"
          ]
        },
        {
          "output_type": "execute_result",
          "data": {
            "text/plain": [
              "3.351086964190652"
            ]
          },
          "metadata": {},
          "execution_count": 286
        }
      ]
    },
    {
      "cell_type": "markdown",
      "source": [
        "Per analizzate le previsioni nel dettaglio, inseriamole in un data frame pandas.\n",
        "\n",
        "*   **get_ratedByUser**: restituisce il numero di items valutati da un dato user;\n",
        "*   **get_usersRatedItem**: restituisce il numero di utenti che hanno valutato un dato item.\n",
        "\n"
      ],
      "metadata": {
        "id": "qdUT8fSa6-DH"
      }
    },
    {
      "cell_type": "code",
      "source": [
        "def get_ratedByUser(uid):\n",
        "    try:\n",
        "        return len(trainset.ur[trainset.to_inner_uid(uid)])\n",
        "    except ValueError:\n",
        "        return 0\n",
        "    \n",
        "def get_usersRatedItem(iid):\n",
        "    try: \n",
        "        return len(trainset.ir[trainset.to_inner_iid(iid)])\n",
        "    except ValueError:\n",
        "        return 0\n",
        "    \n",
        "prediction_df = pd.DataFrame(predictions, columns=['user_id', 'item_id', 'rating', 'val_predetto', 'dettagli'])\n",
        "prediction_df['votati da U'] = prediction_df.user_id.apply(get_ratedByUser)\n",
        "prediction_df['U che hanno votato Item'] = prediction_df.item_id.apply(get_usersRatedItem)\n",
        "prediction_df['Errore'] = abs(prediction_df.val_predetto - prediction_df.rating)"
      ],
      "metadata": {
        "id": "4dWP9JXjmsUA"
      },
      "execution_count": null,
      "outputs": []
    },
    {
      "cell_type": "code",
      "source": [
        "trainset = algo.trainset"
      ],
      "metadata": {
        "id": "_sPTyjdQmnv9"
      },
      "execution_count": null,
      "outputs": []
    },
    {
      "cell_type": "code",
      "source": [
        "prediction_df.head()"
      ],
      "metadata": {
        "colab": {
          "base_uri": "https://localhost:8080/",
          "height": 206
        },
        "id": "lEzxoHH4muG2",
        "outputId": "297dab17-277f-4750-ce70-c441375dc727"
      },
      "execution_count": null,
      "outputs": [
        {
          "output_type": "execute_result",
          "data": {
            "text/plain": [
              "   user_id     item_id  rating  val_predetto                   dettagli  \\\n",
              "0    85656  0440219078     0.0      2.881761  {'was_impossible': False}   \n",
              "1    70065  0380718340     0.0      2.520754  {'was_impossible': False}   \n",
              "2   277427  0399501487     9.0      3.002084  {'was_impossible': False}   \n",
              "3   224430  068484477X    10.0      2.119437  {'was_impossible': False}   \n",
              "4   113519  067169507X     0.0      1.654178  {'was_impossible': False}   \n",
              "\n",
              "   votati da U  U che hanno votato Item    Errore  \n",
              "0           41                       60  2.881761  \n",
              "1           33                       92  2.520754  \n",
              "2          102                      124  5.997916  \n",
              "3           74                      134  7.880563  \n",
              "4          211                       33  1.654178  "
            ],
            "text/html": [
              "\n",
              "  <div id=\"df-818c127c-24d3-4458-830d-4d5c1a620019\">\n",
              "    <div class=\"colab-df-container\">\n",
              "      <div>\n",
              "<style scoped>\n",
              "    .dataframe tbody tr th:only-of-type {\n",
              "        vertical-align: middle;\n",
              "    }\n",
              "\n",
              "    .dataframe tbody tr th {\n",
              "        vertical-align: top;\n",
              "    }\n",
              "\n",
              "    .dataframe thead th {\n",
              "        text-align: right;\n",
              "    }\n",
              "</style>\n",
              "<table border=\"1\" class=\"dataframe\">\n",
              "  <thead>\n",
              "    <tr style=\"text-align: right;\">\n",
              "      <th></th>\n",
              "      <th>user_id</th>\n",
              "      <th>item_id</th>\n",
              "      <th>rating</th>\n",
              "      <th>val_predetto</th>\n",
              "      <th>dettagli</th>\n",
              "      <th>votati da U</th>\n",
              "      <th>U che hanno votato Item</th>\n",
              "      <th>Errore</th>\n",
              "    </tr>\n",
              "  </thead>\n",
              "  <tbody>\n",
              "    <tr>\n",
              "      <th>0</th>\n",
              "      <td>85656</td>\n",
              "      <td>0440219078</td>\n",
              "      <td>0.0</td>\n",
              "      <td>2.881761</td>\n",
              "      <td>{'was_impossible': False}</td>\n",
              "      <td>41</td>\n",
              "      <td>60</td>\n",
              "      <td>2.881761</td>\n",
              "    </tr>\n",
              "    <tr>\n",
              "      <th>1</th>\n",
              "      <td>70065</td>\n",
              "      <td>0380718340</td>\n",
              "      <td>0.0</td>\n",
              "      <td>2.520754</td>\n",
              "      <td>{'was_impossible': False}</td>\n",
              "      <td>33</td>\n",
              "      <td>92</td>\n",
              "      <td>2.520754</td>\n",
              "    </tr>\n",
              "    <tr>\n",
              "      <th>2</th>\n",
              "      <td>277427</td>\n",
              "      <td>0399501487</td>\n",
              "      <td>9.0</td>\n",
              "      <td>3.002084</td>\n",
              "      <td>{'was_impossible': False}</td>\n",
              "      <td>102</td>\n",
              "      <td>124</td>\n",
              "      <td>5.997916</td>\n",
              "    </tr>\n",
              "    <tr>\n",
              "      <th>3</th>\n",
              "      <td>224430</td>\n",
              "      <td>068484477X</td>\n",
              "      <td>10.0</td>\n",
              "      <td>2.119437</td>\n",
              "      <td>{'was_impossible': False}</td>\n",
              "      <td>74</td>\n",
              "      <td>134</td>\n",
              "      <td>7.880563</td>\n",
              "    </tr>\n",
              "    <tr>\n",
              "      <th>4</th>\n",
              "      <td>113519</td>\n",
              "      <td>067169507X</td>\n",
              "      <td>0.0</td>\n",
              "      <td>1.654178</td>\n",
              "      <td>{'was_impossible': False}</td>\n",
              "      <td>211</td>\n",
              "      <td>33</td>\n",
              "      <td>1.654178</td>\n",
              "    </tr>\n",
              "  </tbody>\n",
              "</table>\n",
              "</div>\n",
              "      <button class=\"colab-df-convert\" onclick=\"convertToInteractive('df-818c127c-24d3-4458-830d-4d5c1a620019')\"\n",
              "              title=\"Convert this dataframe to an interactive table.\"\n",
              "              style=\"display:none;\">\n",
              "        \n",
              "  <svg xmlns=\"http://www.w3.org/2000/svg\" height=\"24px\"viewBox=\"0 0 24 24\"\n",
              "       width=\"24px\">\n",
              "    <path d=\"M0 0h24v24H0V0z\" fill=\"none\"/>\n",
              "    <path d=\"M18.56 5.44l.94 2.06.94-2.06 2.06-.94-2.06-.94-.94-2.06-.94 2.06-2.06.94zm-11 1L8.5 8.5l.94-2.06 2.06-.94-2.06-.94L8.5 2.5l-.94 2.06-2.06.94zm10 10l.94 2.06.94-2.06 2.06-.94-2.06-.94-.94-2.06-.94 2.06-2.06.94z\"/><path d=\"M17.41 7.96l-1.37-1.37c-.4-.4-.92-.59-1.43-.59-.52 0-1.04.2-1.43.59L10.3 9.45l-7.72 7.72c-.78.78-.78 2.05 0 2.83L4 21.41c.39.39.9.59 1.41.59.51 0 1.02-.2 1.41-.59l7.78-7.78 2.81-2.81c.8-.78.8-2.07 0-2.86zM5.41 20L4 18.59l7.72-7.72 1.47 1.35L5.41 20z\"/>\n",
              "  </svg>\n",
              "      </button>\n",
              "      \n",
              "  <style>\n",
              "    .colab-df-container {\n",
              "      display:flex;\n",
              "      flex-wrap:wrap;\n",
              "      gap: 12px;\n",
              "    }\n",
              "\n",
              "    .colab-df-convert {\n",
              "      background-color: #E8F0FE;\n",
              "      border: none;\n",
              "      border-radius: 50%;\n",
              "      cursor: pointer;\n",
              "      display: none;\n",
              "      fill: #1967D2;\n",
              "      height: 32px;\n",
              "      padding: 0 0 0 0;\n",
              "      width: 32px;\n",
              "    }\n",
              "\n",
              "    .colab-df-convert:hover {\n",
              "      background-color: #E2EBFA;\n",
              "      box-shadow: 0px 1px 2px rgba(60, 64, 67, 0.3), 0px 1px 3px 1px rgba(60, 64, 67, 0.15);\n",
              "      fill: #174EA6;\n",
              "    }\n",
              "\n",
              "    [theme=dark] .colab-df-convert {\n",
              "      background-color: #3B4455;\n",
              "      fill: #D2E3FC;\n",
              "    }\n",
              "\n",
              "    [theme=dark] .colab-df-convert:hover {\n",
              "      background-color: #434B5C;\n",
              "      box-shadow: 0px 1px 3px 1px rgba(0, 0, 0, 0.15);\n",
              "      filter: drop-shadow(0px 1px 2px rgba(0, 0, 0, 0.3));\n",
              "      fill: #FFFFFF;\n",
              "    }\n",
              "  </style>\n",
              "\n",
              "      <script>\n",
              "        const buttonEl =\n",
              "          document.querySelector('#df-818c127c-24d3-4458-830d-4d5c1a620019 button.colab-df-convert');\n",
              "        buttonEl.style.display =\n",
              "          google.colab.kernel.accessAllowed ? 'block' : 'none';\n",
              "\n",
              "        async function convertToInteractive(key) {\n",
              "          const element = document.querySelector('#df-818c127c-24d3-4458-830d-4d5c1a620019');\n",
              "          const dataTable =\n",
              "            await google.colab.kernel.invokeFunction('convertToInteractive',\n",
              "                                                     [key], {});\n",
              "          if (!dataTable) return;\n",
              "\n",
              "          const docLinkHtml = 'Like what you see? Visit the ' +\n",
              "            '<a target=\"_blank\" href=https://colab.research.google.com/notebooks/data_table.ipynb>data table notebook</a>'\n",
              "            + ' to learn more about interactive tables.';\n",
              "          element.innerHTML = '';\n",
              "          dataTable['output_type'] = 'display_data';\n",
              "          await google.colab.output.renderOutput(dataTable, element);\n",
              "          const docLink = document.createElement('div');\n",
              "          docLink.innerHTML = docLinkHtml;\n",
              "          element.appendChild(docLink);\n",
              "        }\n",
              "      </script>\n",
              "    </div>\n",
              "  </div>\n",
              "  "
            ]
          },
          "metadata": {},
          "execution_count": 289
        }
      ]
    },
    {
      "cell_type": "code",
      "source": [
        "best_predictions = prediction_df.sort_values(by='Errore')[:10]\n",
        "worst_predictions = prediction_df.sort_values(by='Errore')[-10:]"
      ],
      "metadata": {
        "id": "HNVcZjCkm12G"
      },
      "execution_count": null,
      "outputs": []
    },
    {
      "cell_type": "code",
      "source": [
        "best_predictions"
      ],
      "metadata": {
        "colab": {
          "base_uri": "https://localhost:8080/",
          "height": 363
        },
        "id": "xAmR4wk-m3fw",
        "outputId": "2195988f-cbe6-4092-fe0f-4cf935d22575"
      },
      "execution_count": null,
      "outputs": [
        {
          "output_type": "execute_result",
          "data": {
            "text/plain": [
              "       user_id     item_id  rating  val_predetto                   dettagli  \\\n",
              "17564    69042  0061031429     0.0           0.0  {'was_impossible': False}   \n",
              "7576     61619  0452277337     0.0           0.0  {'was_impossible': False}   \n",
              "7563    230249  0446609323     0.0           0.0  {'was_impossible': False}   \n",
              "7559     76352  8873122933     0.0           0.0  {'was_impossible': False}   \n",
              "29997    57449  0971880107     0.0           0.0  {'was_impossible': False}   \n",
              "30005   278418  0671695142     0.0           0.0  {'was_impossible': False}   \n",
              "7521    238120  0425180638     0.0           0.0  {'was_impossible': False}   \n",
              "7505    174304  0971880107     0.0           0.0  {'was_impossible': False}   \n",
              "7426    244736  067103619X     0.0           0.0  {'was_impossible': False}   \n",
              "7372    198711  0440200563     0.0           0.0  {'was_impossible': False}   \n",
              "\n",
              "       votati da U  U che hanno votato Item  Errore  \n",
              "17564          101                       33     0.0  \n",
              "7576           107                       28     0.0  \n",
              "7563            48                       48     0.0  \n",
              "7559           511                       15     0.0  \n",
              "29997           16                      627     0.0  \n",
              "30005          181                       51     0.0  \n",
              "7521           320                       95     0.0  \n",
              "7505           141                      627     0.0  \n",
              "7426            69                       30     0.0  \n",
              "7372           339                       51     0.0  "
            ],
            "text/html": [
              "\n",
              "  <div id=\"df-6de51bef-bec8-43a0-8793-ed2e01371506\">\n",
              "    <div class=\"colab-df-container\">\n",
              "      <div>\n",
              "<style scoped>\n",
              "    .dataframe tbody tr th:only-of-type {\n",
              "        vertical-align: middle;\n",
              "    }\n",
              "\n",
              "    .dataframe tbody tr th {\n",
              "        vertical-align: top;\n",
              "    }\n",
              "\n",
              "    .dataframe thead th {\n",
              "        text-align: right;\n",
              "    }\n",
              "</style>\n",
              "<table border=\"1\" class=\"dataframe\">\n",
              "  <thead>\n",
              "    <tr style=\"text-align: right;\">\n",
              "      <th></th>\n",
              "      <th>user_id</th>\n",
              "      <th>item_id</th>\n",
              "      <th>rating</th>\n",
              "      <th>val_predetto</th>\n",
              "      <th>dettagli</th>\n",
              "      <th>votati da U</th>\n",
              "      <th>U che hanno votato Item</th>\n",
              "      <th>Errore</th>\n",
              "    </tr>\n",
              "  </thead>\n",
              "  <tbody>\n",
              "    <tr>\n",
              "      <th>17564</th>\n",
              "      <td>69042</td>\n",
              "      <td>0061031429</td>\n",
              "      <td>0.0</td>\n",
              "      <td>0.0</td>\n",
              "      <td>{'was_impossible': False}</td>\n",
              "      <td>101</td>\n",
              "      <td>33</td>\n",
              "      <td>0.0</td>\n",
              "    </tr>\n",
              "    <tr>\n",
              "      <th>7576</th>\n",
              "      <td>61619</td>\n",
              "      <td>0452277337</td>\n",
              "      <td>0.0</td>\n",
              "      <td>0.0</td>\n",
              "      <td>{'was_impossible': False}</td>\n",
              "      <td>107</td>\n",
              "      <td>28</td>\n",
              "      <td>0.0</td>\n",
              "    </tr>\n",
              "    <tr>\n",
              "      <th>7563</th>\n",
              "      <td>230249</td>\n",
              "      <td>0446609323</td>\n",
              "      <td>0.0</td>\n",
              "      <td>0.0</td>\n",
              "      <td>{'was_impossible': False}</td>\n",
              "      <td>48</td>\n",
              "      <td>48</td>\n",
              "      <td>0.0</td>\n",
              "    </tr>\n",
              "    <tr>\n",
              "      <th>7559</th>\n",
              "      <td>76352</td>\n",
              "      <td>8873122933</td>\n",
              "      <td>0.0</td>\n",
              "      <td>0.0</td>\n",
              "      <td>{'was_impossible': False}</td>\n",
              "      <td>511</td>\n",
              "      <td>15</td>\n",
              "      <td>0.0</td>\n",
              "    </tr>\n",
              "    <tr>\n",
              "      <th>29997</th>\n",
              "      <td>57449</td>\n",
              "      <td>0971880107</td>\n",
              "      <td>0.0</td>\n",
              "      <td>0.0</td>\n",
              "      <td>{'was_impossible': False}</td>\n",
              "      <td>16</td>\n",
              "      <td>627</td>\n",
              "      <td>0.0</td>\n",
              "    </tr>\n",
              "    <tr>\n",
              "      <th>30005</th>\n",
              "      <td>278418</td>\n",
              "      <td>0671695142</td>\n",
              "      <td>0.0</td>\n",
              "      <td>0.0</td>\n",
              "      <td>{'was_impossible': False}</td>\n",
              "      <td>181</td>\n",
              "      <td>51</td>\n",
              "      <td>0.0</td>\n",
              "    </tr>\n",
              "    <tr>\n",
              "      <th>7521</th>\n",
              "      <td>238120</td>\n",
              "      <td>0425180638</td>\n",
              "      <td>0.0</td>\n",
              "      <td>0.0</td>\n",
              "      <td>{'was_impossible': False}</td>\n",
              "      <td>320</td>\n",
              "      <td>95</td>\n",
              "      <td>0.0</td>\n",
              "    </tr>\n",
              "    <tr>\n",
              "      <th>7505</th>\n",
              "      <td>174304</td>\n",
              "      <td>0971880107</td>\n",
              "      <td>0.0</td>\n",
              "      <td>0.0</td>\n",
              "      <td>{'was_impossible': False}</td>\n",
              "      <td>141</td>\n",
              "      <td>627</td>\n",
              "      <td>0.0</td>\n",
              "    </tr>\n",
              "    <tr>\n",
              "      <th>7426</th>\n",
              "      <td>244736</td>\n",
              "      <td>067103619X</td>\n",
              "      <td>0.0</td>\n",
              "      <td>0.0</td>\n",
              "      <td>{'was_impossible': False}</td>\n",
              "      <td>69</td>\n",
              "      <td>30</td>\n",
              "      <td>0.0</td>\n",
              "    </tr>\n",
              "    <tr>\n",
              "      <th>7372</th>\n",
              "      <td>198711</td>\n",
              "      <td>0440200563</td>\n",
              "      <td>0.0</td>\n",
              "      <td>0.0</td>\n",
              "      <td>{'was_impossible': False}</td>\n",
              "      <td>339</td>\n",
              "      <td>51</td>\n",
              "      <td>0.0</td>\n",
              "    </tr>\n",
              "  </tbody>\n",
              "</table>\n",
              "</div>\n",
              "      <button class=\"colab-df-convert\" onclick=\"convertToInteractive('df-6de51bef-bec8-43a0-8793-ed2e01371506')\"\n",
              "              title=\"Convert this dataframe to an interactive table.\"\n",
              "              style=\"display:none;\">\n",
              "        \n",
              "  <svg xmlns=\"http://www.w3.org/2000/svg\" height=\"24px\"viewBox=\"0 0 24 24\"\n",
              "       width=\"24px\">\n",
              "    <path d=\"M0 0h24v24H0V0z\" fill=\"none\"/>\n",
              "    <path d=\"M18.56 5.44l.94 2.06.94-2.06 2.06-.94-2.06-.94-.94-2.06-.94 2.06-2.06.94zm-11 1L8.5 8.5l.94-2.06 2.06-.94-2.06-.94L8.5 2.5l-.94 2.06-2.06.94zm10 10l.94 2.06.94-2.06 2.06-.94-2.06-.94-.94-2.06-.94 2.06-2.06.94z\"/><path d=\"M17.41 7.96l-1.37-1.37c-.4-.4-.92-.59-1.43-.59-.52 0-1.04.2-1.43.59L10.3 9.45l-7.72 7.72c-.78.78-.78 2.05 0 2.83L4 21.41c.39.39.9.59 1.41.59.51 0 1.02-.2 1.41-.59l7.78-7.78 2.81-2.81c.8-.78.8-2.07 0-2.86zM5.41 20L4 18.59l7.72-7.72 1.47 1.35L5.41 20z\"/>\n",
              "  </svg>\n",
              "      </button>\n",
              "      \n",
              "  <style>\n",
              "    .colab-df-container {\n",
              "      display:flex;\n",
              "      flex-wrap:wrap;\n",
              "      gap: 12px;\n",
              "    }\n",
              "\n",
              "    .colab-df-convert {\n",
              "      background-color: #E8F0FE;\n",
              "      border: none;\n",
              "      border-radius: 50%;\n",
              "      cursor: pointer;\n",
              "      display: none;\n",
              "      fill: #1967D2;\n",
              "      height: 32px;\n",
              "      padding: 0 0 0 0;\n",
              "      width: 32px;\n",
              "    }\n",
              "\n",
              "    .colab-df-convert:hover {\n",
              "      background-color: #E2EBFA;\n",
              "      box-shadow: 0px 1px 2px rgba(60, 64, 67, 0.3), 0px 1px 3px 1px rgba(60, 64, 67, 0.15);\n",
              "      fill: #174EA6;\n",
              "    }\n",
              "\n",
              "    [theme=dark] .colab-df-convert {\n",
              "      background-color: #3B4455;\n",
              "      fill: #D2E3FC;\n",
              "    }\n",
              "\n",
              "    [theme=dark] .colab-df-convert:hover {\n",
              "      background-color: #434B5C;\n",
              "      box-shadow: 0px 1px 3px 1px rgba(0, 0, 0, 0.15);\n",
              "      filter: drop-shadow(0px 1px 2px rgba(0, 0, 0, 0.3));\n",
              "      fill: #FFFFFF;\n",
              "    }\n",
              "  </style>\n",
              "\n",
              "      <script>\n",
              "        const buttonEl =\n",
              "          document.querySelector('#df-6de51bef-bec8-43a0-8793-ed2e01371506 button.colab-df-convert');\n",
              "        buttonEl.style.display =\n",
              "          google.colab.kernel.accessAllowed ? 'block' : 'none';\n",
              "\n",
              "        async function convertToInteractive(key) {\n",
              "          const element = document.querySelector('#df-6de51bef-bec8-43a0-8793-ed2e01371506');\n",
              "          const dataTable =\n",
              "            await google.colab.kernel.invokeFunction('convertToInteractive',\n",
              "                                                     [key], {});\n",
              "          if (!dataTable) return;\n",
              "\n",
              "          const docLinkHtml = 'Like what you see? Visit the ' +\n",
              "            '<a target=\"_blank\" href=https://colab.research.google.com/notebooks/data_table.ipynb>data table notebook</a>'\n",
              "            + ' to learn more about interactive tables.';\n",
              "          element.innerHTML = '';\n",
              "          dataTable['output_type'] = 'display_data';\n",
              "          await google.colab.output.renderOutput(dataTable, element);\n",
              "          const docLink = document.createElement('div');\n",
              "          docLink.innerHTML = docLinkHtml;\n",
              "          element.appendChild(docLink);\n",
              "        }\n",
              "      </script>\n",
              "    </div>\n",
              "  </div>\n",
              "  "
            ]
          },
          "metadata": {},
          "execution_count": 291
        }
      ]
    },
    {
      "cell_type": "code",
      "source": [
        "worst_predictions"
      ],
      "metadata": {
        "colab": {
          "base_uri": "https://localhost:8080/",
          "height": 363
        },
        "id": "yC--3onDm9m-",
        "outputId": "e4bbf7c3-2cc9-42fe-bdc2-26f03e935f2e"
      },
      "execution_count": null,
      "outputs": [
        {
          "output_type": "execute_result",
          "data": {
            "text/plain": [
              "       user_id     item_id  rating  val_predetto                   dettagli  \\\n",
              "29135    35857  0380710722    10.0      0.358970  {'was_impossible': False}   \n",
              "25163   266226  006092988X    10.0      0.348471  {'was_impossible': False}   \n",
              "21910   205735  0671695169    10.0      0.244335  {'was_impossible': False}   \n",
              "32593   251422  0684801469    10.0      0.209678  {'was_impossible': False}   \n",
              "19462   256407  0345388771    10.0      0.053881  {'was_impossible': False}   \n",
              "12204    26544  055358264X    10.0      0.041329  {'was_impossible': False}   \n",
              "2414     55548  0553278398    10.0      0.016308  {'was_impossible': False}   \n",
              "3393    245963  0425130711    10.0      0.000000  {'was_impossible': False}   \n",
              "8330    205735  0373825013    10.0      0.000000  {'was_impossible': False}   \n",
              "18898   166596  0312144075    10.0      0.000000  {'was_impossible': False}   \n",
              "\n",
              "       votati da U  U che hanno votato Item     Errore  \n",
              "29135          194                       52   9.641030  \n",
              "25163          135                       42   9.651529  \n",
              "21910           81                       43   9.755665  \n",
              "32593          102                       22   9.790322  \n",
              "19462          137                       33   9.946119  \n",
              "12204          189                       43   9.958671  \n",
              "2414           135                       21   9.983692  \n",
              "3393           145                       38  10.000000  \n",
              "8330            81                       74  10.000000  \n",
              "18898          200                       48  10.000000  "
            ],
            "text/html": [
              "\n",
              "  <div id=\"df-da626a4a-eb54-4632-a895-4ee08fa07e82\">\n",
              "    <div class=\"colab-df-container\">\n",
              "      <div>\n",
              "<style scoped>\n",
              "    .dataframe tbody tr th:only-of-type {\n",
              "        vertical-align: middle;\n",
              "    }\n",
              "\n",
              "    .dataframe tbody tr th {\n",
              "        vertical-align: top;\n",
              "    }\n",
              "\n",
              "    .dataframe thead th {\n",
              "        text-align: right;\n",
              "    }\n",
              "</style>\n",
              "<table border=\"1\" class=\"dataframe\">\n",
              "  <thead>\n",
              "    <tr style=\"text-align: right;\">\n",
              "      <th></th>\n",
              "      <th>user_id</th>\n",
              "      <th>item_id</th>\n",
              "      <th>rating</th>\n",
              "      <th>val_predetto</th>\n",
              "      <th>dettagli</th>\n",
              "      <th>votati da U</th>\n",
              "      <th>U che hanno votato Item</th>\n",
              "      <th>Errore</th>\n",
              "    </tr>\n",
              "  </thead>\n",
              "  <tbody>\n",
              "    <tr>\n",
              "      <th>29135</th>\n",
              "      <td>35857</td>\n",
              "      <td>0380710722</td>\n",
              "      <td>10.0</td>\n",
              "      <td>0.358970</td>\n",
              "      <td>{'was_impossible': False}</td>\n",
              "      <td>194</td>\n",
              "      <td>52</td>\n",
              "      <td>9.641030</td>\n",
              "    </tr>\n",
              "    <tr>\n",
              "      <th>25163</th>\n",
              "      <td>266226</td>\n",
              "      <td>006092988X</td>\n",
              "      <td>10.0</td>\n",
              "      <td>0.348471</td>\n",
              "      <td>{'was_impossible': False}</td>\n",
              "      <td>135</td>\n",
              "      <td>42</td>\n",
              "      <td>9.651529</td>\n",
              "    </tr>\n",
              "    <tr>\n",
              "      <th>21910</th>\n",
              "      <td>205735</td>\n",
              "      <td>0671695169</td>\n",
              "      <td>10.0</td>\n",
              "      <td>0.244335</td>\n",
              "      <td>{'was_impossible': False}</td>\n",
              "      <td>81</td>\n",
              "      <td>43</td>\n",
              "      <td>9.755665</td>\n",
              "    </tr>\n",
              "    <tr>\n",
              "      <th>32593</th>\n",
              "      <td>251422</td>\n",
              "      <td>0684801469</td>\n",
              "      <td>10.0</td>\n",
              "      <td>0.209678</td>\n",
              "      <td>{'was_impossible': False}</td>\n",
              "      <td>102</td>\n",
              "      <td>22</td>\n",
              "      <td>9.790322</td>\n",
              "    </tr>\n",
              "    <tr>\n",
              "      <th>19462</th>\n",
              "      <td>256407</td>\n",
              "      <td>0345388771</td>\n",
              "      <td>10.0</td>\n",
              "      <td>0.053881</td>\n",
              "      <td>{'was_impossible': False}</td>\n",
              "      <td>137</td>\n",
              "      <td>33</td>\n",
              "      <td>9.946119</td>\n",
              "    </tr>\n",
              "    <tr>\n",
              "      <th>12204</th>\n",
              "      <td>26544</td>\n",
              "      <td>055358264X</td>\n",
              "      <td>10.0</td>\n",
              "      <td>0.041329</td>\n",
              "      <td>{'was_impossible': False}</td>\n",
              "      <td>189</td>\n",
              "      <td>43</td>\n",
              "      <td>9.958671</td>\n",
              "    </tr>\n",
              "    <tr>\n",
              "      <th>2414</th>\n",
              "      <td>55548</td>\n",
              "      <td>0553278398</td>\n",
              "      <td>10.0</td>\n",
              "      <td>0.016308</td>\n",
              "      <td>{'was_impossible': False}</td>\n",
              "      <td>135</td>\n",
              "      <td>21</td>\n",
              "      <td>9.983692</td>\n",
              "    </tr>\n",
              "    <tr>\n",
              "      <th>3393</th>\n",
              "      <td>245963</td>\n",
              "      <td>0425130711</td>\n",
              "      <td>10.0</td>\n",
              "      <td>0.000000</td>\n",
              "      <td>{'was_impossible': False}</td>\n",
              "      <td>145</td>\n",
              "      <td>38</td>\n",
              "      <td>10.000000</td>\n",
              "    </tr>\n",
              "    <tr>\n",
              "      <th>8330</th>\n",
              "      <td>205735</td>\n",
              "      <td>0373825013</td>\n",
              "      <td>10.0</td>\n",
              "      <td>0.000000</td>\n",
              "      <td>{'was_impossible': False}</td>\n",
              "      <td>81</td>\n",
              "      <td>74</td>\n",
              "      <td>10.000000</td>\n",
              "    </tr>\n",
              "    <tr>\n",
              "      <th>18898</th>\n",
              "      <td>166596</td>\n",
              "      <td>0312144075</td>\n",
              "      <td>10.0</td>\n",
              "      <td>0.000000</td>\n",
              "      <td>{'was_impossible': False}</td>\n",
              "      <td>200</td>\n",
              "      <td>48</td>\n",
              "      <td>10.000000</td>\n",
              "    </tr>\n",
              "  </tbody>\n",
              "</table>\n",
              "</div>\n",
              "      <button class=\"colab-df-convert\" onclick=\"convertToInteractive('df-da626a4a-eb54-4632-a895-4ee08fa07e82')\"\n",
              "              title=\"Convert this dataframe to an interactive table.\"\n",
              "              style=\"display:none;\">\n",
              "        \n",
              "  <svg xmlns=\"http://www.w3.org/2000/svg\" height=\"24px\"viewBox=\"0 0 24 24\"\n",
              "       width=\"24px\">\n",
              "    <path d=\"M0 0h24v24H0V0z\" fill=\"none\"/>\n",
              "    <path d=\"M18.56 5.44l.94 2.06.94-2.06 2.06-.94-2.06-.94-.94-2.06-.94 2.06-2.06.94zm-11 1L8.5 8.5l.94-2.06 2.06-.94-2.06-.94L8.5 2.5l-.94 2.06-2.06.94zm10 10l.94 2.06.94-2.06 2.06-.94-2.06-.94-.94-2.06-.94 2.06-2.06.94z\"/><path d=\"M17.41 7.96l-1.37-1.37c-.4-.4-.92-.59-1.43-.59-.52 0-1.04.2-1.43.59L10.3 9.45l-7.72 7.72c-.78.78-.78 2.05 0 2.83L4 21.41c.39.39.9.59 1.41.59.51 0 1.02-.2 1.41-.59l7.78-7.78 2.81-2.81c.8-.78.8-2.07 0-2.86zM5.41 20L4 18.59l7.72-7.72 1.47 1.35L5.41 20z\"/>\n",
              "  </svg>\n",
              "      </button>\n",
              "      \n",
              "  <style>\n",
              "    .colab-df-container {\n",
              "      display:flex;\n",
              "      flex-wrap:wrap;\n",
              "      gap: 12px;\n",
              "    }\n",
              "\n",
              "    .colab-df-convert {\n",
              "      background-color: #E8F0FE;\n",
              "      border: none;\n",
              "      border-radius: 50%;\n",
              "      cursor: pointer;\n",
              "      display: none;\n",
              "      fill: #1967D2;\n",
              "      height: 32px;\n",
              "      padding: 0 0 0 0;\n",
              "      width: 32px;\n",
              "    }\n",
              "\n",
              "    .colab-df-convert:hover {\n",
              "      background-color: #E2EBFA;\n",
              "      box-shadow: 0px 1px 2px rgba(60, 64, 67, 0.3), 0px 1px 3px 1px rgba(60, 64, 67, 0.15);\n",
              "      fill: #174EA6;\n",
              "    }\n",
              "\n",
              "    [theme=dark] .colab-df-convert {\n",
              "      background-color: #3B4455;\n",
              "      fill: #D2E3FC;\n",
              "    }\n",
              "\n",
              "    [theme=dark] .colab-df-convert:hover {\n",
              "      background-color: #434B5C;\n",
              "      box-shadow: 0px 1px 3px 1px rgba(0, 0, 0, 0.15);\n",
              "      filter: drop-shadow(0px 1px 2px rgba(0, 0, 0, 0.3));\n",
              "      fill: #FFFFFF;\n",
              "    }\n",
              "  </style>\n",
              "\n",
              "      <script>\n",
              "        const buttonEl =\n",
              "          document.querySelector('#df-da626a4a-eb54-4632-a895-4ee08fa07e82 button.colab-df-convert');\n",
              "        buttonEl.style.display =\n",
              "          google.colab.kernel.accessAllowed ? 'block' : 'none';\n",
              "\n",
              "        async function convertToInteractive(key) {\n",
              "          const element = document.querySelector('#df-da626a4a-eb54-4632-a895-4ee08fa07e82');\n",
              "          const dataTable =\n",
              "            await google.colab.kernel.invokeFunction('convertToInteractive',\n",
              "                                                     [key], {});\n",
              "          if (!dataTable) return;\n",
              "\n",
              "          const docLinkHtml = 'Like what you see? Visit the ' +\n",
              "            '<a target=\"_blank\" href=https://colab.research.google.com/notebooks/data_table.ipynb>data table notebook</a>'\n",
              "            + ' to learn more about interactive tables.';\n",
              "          element.innerHTML = '';\n",
              "          dataTable['output_type'] = 'display_data';\n",
              "          await google.colab.output.renderOutput(dataTable, element);\n",
              "          const docLink = document.createElement('div');\n",
              "          docLink.innerHTML = docLinkHtml;\n",
              "          element.appendChild(docLink);\n",
              "        }\n",
              "      </script>\n",
              "    </div>\n",
              "  </div>\n",
              "  "
            ]
          },
          "metadata": {},
          "execution_count": 292
        }
      ]
    },
    {
      "cell_type": "markdown",
      "source": [
        "Guardiamo nel dettaglio la previsione peggiore, l'ultima."
      ],
      "metadata": {
        "id": "5cVKgZ9Z9ut6"
      }
    },
    {
      "cell_type": "code",
      "source": [
        "last_isbn = worst_predictions.iloc[-1, worst_predictions.columns.get_loc('item_id')]\n",
        "user_rating_count = worst_predictions.iloc[-1, worst_predictions.columns.get_loc('U che hanno votato Item')]\n",
        "u = worst_predictions.iloc[-1, worst_predictions.columns.get_loc('user_id')]\n",
        "u_rating = worst_predictions.iloc[-1, worst_predictions.columns.get_loc('rating')]\n",
        "pred = worst_predictions.iloc[-1, worst_predictions.columns.get_loc('val_predetto')]"
      ],
      "metadata": {
        "id": "FZ1SGF0smhDW"
      },
      "execution_count": null,
      "outputs": []
    },
    {
      "cell_type": "code",
      "source": [
        "print('Il libro {0} è stato votato da {1} utenti'.format(last_isbn, user_rating_count))\n",
        "print('L\\'utente {0} gli ha dato una valutazione di {1}, ma il nostro modello ha predetto la seguente valutazione: {2}'.format(u, u_rating, pred))"
      ],
      "metadata": {
        "colab": {
          "base_uri": "https://localhost:8080/"
        },
        "id": "HxOQw909m4b0",
        "outputId": "ad641e05-96fb-4f32-f40f-71a6eb2ae7f3"
      },
      "execution_count": null,
      "outputs": [
        {
          "output_type": "stream",
          "name": "stdout",
          "text": [
            "Il libro 0312144075 è stato votato da 48 utenti\n",
            "L'utente 166596 gli ha dato una valutazione di 10.0, ma il nostro modello ha predetto la seguente valutazione: 0.0\n"
          ]
        }
      ]
    },
    {
      "cell_type": "code",
      "source": [
        "df_new.loc[df_new['ISBN'] == last_isbn]['bookRating'].describe()"
      ],
      "metadata": {
        "colab": {
          "base_uri": "https://localhost:8080/"
        },
        "id": "4ljq7r-ZnG9y",
        "outputId": "5c08fbcf-8eec-47c4-9e7a-8ce797618c13"
      },
      "execution_count": null,
      "outputs": [
        {
          "output_type": "execute_result",
          "data": {
            "text/plain": [
              "count    61.000000\n",
              "mean      2.213115\n",
              "std       3.825854\n",
              "min       0.000000\n",
              "25%       0.000000\n",
              "50%       0.000000\n",
              "75%       5.000000\n",
              "max      10.000000\n",
              "Name: bookRating, dtype: float64"
            ]
          },
          "metadata": {},
          "execution_count": 295
        }
      ]
    },
    {
      "cell_type": "code",
      "source": [
        "figura, grafico= plt.subplots()\n",
        "grafico.hist(x = df_new.loc[df_new['ISBN'] == last_isbn]['bookRating'], \n",
        "             ec = \"grey\",\n",
        "             fc = \"orange\" )\n",
        "plt.xlabel('Valutazioni')\n",
        "plt.ylabel('Numero di valutazioni')\n",
        "plt.title('Numero di valutazioni che ha ricevuto il libro con stima peggiore')\n",
        "plt.show()"
      ],
      "metadata": {
        "colab": {
          "base_uri": "https://localhost:8080/",
          "height": 309
        },
        "id": "dEX_l5vbsdn1",
        "outputId": "f3a7713d-3d5d-423c-de1e-83c2a8c08c40"
      },
      "execution_count": null,
      "outputs": [
        {
          "output_type": "display_data",
          "data": {
            "text/plain": [
              "<Figure size 432x288 with 1 Axes>"
            ],
            "image/png": "[encoded data removed]"
          },
          "metadata": {
            "needs_background": "light"
          }
        }
      ]
    },
    {
      "cell_type": "markdown",
      "source": [
        "# Collaborative Filtering\n",
        "- I metodi di _collaborative filtering_ forniscono suggerimenti sulla base delle **associazioni** esistenti tra utenti e oggetti\n",
        "  - in genere vengono usati i **voti** dati dagli utenti agli oggetti\n",
        "  - non vengono usate informazioni specifiche su singoli utenti (es. età) e oggetti (es. genere)\n"
      ],
      "metadata": {
        "id": "R7h2FGsrnH66"
      }
    },
    {
      "cell_type": "markdown",
      "source": [
        "Uno step fondamentale in un sistema di reccomendation basato sul collaborative filtering è la creazione di una matrice utente-prodotto a partire dalla tabella new_ratings.\n",
        "La matrice sarà sparsa perchè non tutti gli utenti hanno votato ogni libro."
      ],
      "metadata": {
        "id": "rr49uxgNnTwy"
      }
    },
    {
      "cell_type": "code",
      "source": [
        "ratings_matrix = explicit_ratings.pivot(index='userId', columns='ISBN').bookRating\n",
        "userId = ratings_matrix.index\n",
        "ISBN = ratings_matrix.columns\n",
        "\n",
        "print(ratings_matrix.shape)\n",
        "ratings_matrix.head()"
      ],
      "metadata": {
        "colab": {
          "base_uri": "https://localhost:8080/",
          "height": 349
        },
        "id": "8JVtAxSOm-Kg",
        "outputId": "5ee1dac3-cd7e-4d08-ba8b-f5591da6ad7d"
      },
      "execution_count": null,
      "outputs": [
        {
          "output_type": "stream",
          "name": "stdout",
          "text": [
            "(449, 66574)\n"
          ]
        },
        {
          "output_type": "execute_result",
          "data": {
            "text/plain": [
              "ISBN    0000913154  0001046438  000104687X  0001047213  0001047973  \\\n",
              "userId                                                               \n",
              "2033           NaN         NaN         NaN         NaN         NaN   \n",
              "2110           NaN         NaN         NaN         NaN         NaN   \n",
              "2276           NaN         NaN         NaN         NaN         NaN   \n",
              "4017           NaN         NaN         NaN         NaN         NaN   \n",
              "4385           NaN         NaN         NaN         NaN         NaN   \n",
              "\n",
              "ISBN    000104799X  0001048082  0001053736  0001053744  0001055607  ...  \\\n",
              "userId                                                              ...   \n",
              "2033           NaN         NaN         NaN         NaN         NaN  ...   \n",
              "2110           NaN         NaN         NaN         NaN         NaN  ...   \n",
              "2276           NaN         NaN         NaN         NaN         NaN  ...   \n",
              "4017           NaN         NaN         NaN         NaN         NaN  ...   \n",
              "4385           NaN         NaN         NaN         NaN         NaN  ...   \n",
              "\n",
              "ISBN    B000092Q0A  B00009EF82  B00009NDAN  B0000DYXID  B0000T6KHI  \\\n",
              "userId                                                               \n",
              "2033           NaN         NaN         NaN         NaN         NaN   \n",
              "2110           NaN         NaN         NaN         NaN         NaN   \n",
              "2276           NaN         NaN         NaN         NaN         NaN   \n",
              "4017           NaN         NaN         NaN         NaN         NaN   \n",
              "4385           NaN         NaN         NaN         NaN         NaN   \n",
              "\n",
              "ISBN    B0000VZEJQ  B0000X8HIE  B00013AX9E  B0001I1KOG  B000234N3A  \n",
              "userId                                                              \n",
              "2033           NaN         NaN         NaN         NaN         NaN  \n",
              "2110           NaN         NaN         NaN         NaN         NaN  \n",
              "2276           NaN         NaN         NaN         NaN         NaN  \n",
              "4017           NaN         NaN         NaN         NaN         NaN  \n",
              "4385           NaN         NaN         NaN         NaN         NaN  \n",
              "\n",
              "[5 rows x 66574 columns]"
            ],
            "text/html": [
              "\n",
              "  <div id=\"df-b9e8d2e6-2691-4349-83ae-c014f3a267e7\">\n",
              "    <div class=\"colab-df-container\">\n",
              "      <div>\n",
              "<style scoped>\n",
              "    .dataframe tbody tr th:only-of-type {\n",
              "        vertical-align: middle;\n",
              "    }\n",
              "\n",
              "    .dataframe tbody tr th {\n",
              "        vertical-align: top;\n",
              "    }\n",
              "\n",
              "    .dataframe thead th {\n",
              "        text-align: right;\n",
              "    }\n",
              "</style>\n",
              "<table border=\"1\" class=\"dataframe\">\n",
              "  <thead>\n",
              "    <tr style=\"text-align: right;\">\n",
              "      <th>ISBN</th>\n",
              "      <th>0000913154</th>\n",
              "      <th>0001046438</th>\n",
              "      <th>000104687X</th>\n",
              "      <th>0001047213</th>\n",
              "      <th>0001047973</th>\n",
              "      <th>000104799X</th>\n",
              "      <th>0001048082</th>\n",
              "      <th>0001053736</th>\n",
              "      <th>0001053744</th>\n",
              "      <th>0001055607</th>\n",
              "      <th>...</th>\n",
              "      <th>B000092Q0A</th>\n",
              "      <th>B00009EF82</th>\n",
              "      <th>B00009NDAN</th>\n",
              "      <th>B0000DYXID</th>\n",
              "      <th>B0000T6KHI</th>\n",
              "      <th>B0000VZEJQ</th>\n",
              "      <th>B0000X8HIE</th>\n",
              "      <th>B00013AX9E</th>\n",
              "      <th>B0001I1KOG</th>\n",
              "      <th>B000234N3A</th>\n",
              "    </tr>\n",
              "    <tr>\n",
              "      <th>userId</th>\n",
              "      <th></th>\n",
              "      <th></th>\n",
              "      <th></th>\n",
              "      <th></th>\n",
              "      <th></th>\n",
              "      <th></th>\n",
              "      <th></th>\n",
              "      <th></th>\n",
              "      <th></th>\n",
              "      <th></th>\n",
              "      <th></th>\n",
              "      <th></th>\n",
              "      <th></th>\n",
              "      <th></th>\n",
              "      <th></th>\n",
              "      <th></th>\n",
              "      <th></th>\n",
              "      <th></th>\n",
              "      <th></th>\n",
              "      <th></th>\n",
              "      <th></th>\n",
              "    </tr>\n",
              "  </thead>\n",
              "  <tbody>\n",
              "    <tr>\n",
              "      <th>2033</th>\n",
              "      <td>NaN</td>\n",
              "      <td>NaN</td>\n",
              "      <td>NaN</td>\n",
              "      <td>NaN</td>\n",
              "      <td>NaN</td>\n",
              "      <td>NaN</td>\n",
              "      <td>NaN</td>\n",
              "      <td>NaN</td>\n",
              "      <td>NaN</td>\n",
              "      <td>NaN</td>\n",
              "      <td>...</td>\n",
              "      <td>NaN</td>\n",
              "      <td>NaN</td>\n",
              "      <td>NaN</td>\n",
              "      <td>NaN</td>\n",
              "      <td>NaN</td>\n",
              "      <td>NaN</td>\n",
              "      <td>NaN</td>\n",
              "      <td>NaN</td>\n",
              "      <td>NaN</td>\n",
              "      <td>NaN</td>\n",
              "    </tr>\n",
              "    <tr>\n",
              "      <th>2110</th>\n",
              "      <td>NaN</td>\n",
              "      <td>NaN</td>\n",
              "      <td>NaN</td>\n",
              "      <td>NaN</td>\n",
              "      <td>NaN</td>\n",
              "      <td>NaN</td>\n",
              "      <td>NaN</td>\n",
              "      <td>NaN</td>\n",
              "      <td>NaN</td>\n",
              "      <td>NaN</td>\n",
              "      <td>...</td>\n",
              "      <td>NaN</td>\n",
              "      <td>NaN</td>\n",
              "      <td>NaN</td>\n",
              "      <td>NaN</td>\n",
              "      <td>NaN</td>\n",
              "      <td>NaN</td>\n",
              "      <td>NaN</td>\n",
              "      <td>NaN</td>\n",
              "      <td>NaN</td>\n",
              "      <td>NaN</td>\n",
              "    </tr>\n",
              "    <tr>\n",
              "      <th>2276</th>\n",
              "      <td>NaN</td>\n",
              "      <td>NaN</td>\n",
              "      <td>NaN</td>\n",
              "      <td>NaN</td>\n",
              "      <td>NaN</td>\n",
              "      <td>NaN</td>\n",
              "      <td>NaN</td>\n",
              "      <td>NaN</td>\n",
              "      <td>NaN</td>\n",
              "      <td>NaN</td>\n",
              "      <td>...</td>\n",
              "      <td>NaN</td>\n",
              "      <td>NaN</td>\n",
              "      <td>NaN</td>\n",
              "      <td>NaN</td>\n",
              "      <td>NaN</td>\n",
              "      <td>NaN</td>\n",
              "      <td>NaN</td>\n",
              "      <td>NaN</td>\n",
              "      <td>NaN</td>\n",
              "      <td>NaN</td>\n",
              "    </tr>\n",
              "    <tr>\n",
              "      <th>4017</th>\n",
              "      <td>NaN</td>\n",
              "      <td>NaN</td>\n",
              "      <td>NaN</td>\n",
              "      <td>NaN</td>\n",
              "      <td>NaN</td>\n",
              "      <td>NaN</td>\n",
              "      <td>NaN</td>\n",
              "      <td>NaN</td>\n",
              "      <td>NaN</td>\n",
              "      <td>NaN</td>\n",
              "      <td>...</td>\n",
              "      <td>NaN</td>\n",
              "      <td>NaN</td>\n",
              "      <td>NaN</td>\n",
              "      <td>NaN</td>\n",
              "      <td>NaN</td>\n",
              "      <td>NaN</td>\n",
              "      <td>NaN</td>\n",
              "      <td>NaN</td>\n",
              "      <td>NaN</td>\n",
              "      <td>NaN</td>\n",
              "    </tr>\n",
              "    <tr>\n",
              "      <th>4385</th>\n",
              "      <td>NaN</td>\n",
              "      <td>NaN</td>\n",
              "      <td>NaN</td>\n",
              "      <td>NaN</td>\n",
              "      <td>NaN</td>\n",
              "      <td>NaN</td>\n",
              "      <td>NaN</td>\n",
              "      <td>NaN</td>\n",
              "      <td>NaN</td>\n",
              "      <td>NaN</td>\n",
              "      <td>...</td>\n",
              "      <td>NaN</td>\n",
              "      <td>NaN</td>\n",
              "      <td>NaN</td>\n",
              "      <td>NaN</td>\n",
              "      <td>NaN</td>\n",
              "      <td>NaN</td>\n",
              "      <td>NaN</td>\n",
              "      <td>NaN</td>\n",
              "      <td>NaN</td>\n",
              "      <td>NaN</td>\n",
              "    </tr>\n",
              "  </tbody>\n",
              "</table>\n",
              "<p>5 rows × 66574 columns</p>\n",
              "</div>\n",
              "      <button class=\"colab-df-convert\" onclick=\"convertToInteractive('df-b9e8d2e6-2691-4349-83ae-c014f3a267e7')\"\n",
              "              title=\"Convert this dataframe to an interactive table.\"\n",
              "              style=\"display:none;\">\n",
              "        \n",
              "  <svg xmlns=\"http://www.w3.org/2000/svg\" height=\"24px\"viewBox=\"0 0 24 24\"\n",
              "       width=\"24px\">\n",
              "    <path d=\"M0 0h24v24H0V0z\" fill=\"none\"/>\n",
              "    <path d=\"M18.56 5.44l.94 2.06.94-2.06 2.06-.94-2.06-.94-.94-2.06-.94 2.06-2.06.94zm-11 1L8.5 8.5l.94-2.06 2.06-.94-2.06-.94L8.5 2.5l-.94 2.06-2.06.94zm10 10l.94 2.06.94-2.06 2.06-.94-2.06-.94-.94-2.06-.94 2.06-2.06.94z\"/><path d=\"M17.41 7.96l-1.37-1.37c-.4-.4-.92-.59-1.43-.59-.52 0-1.04.2-1.43.59L10.3 9.45l-7.72 7.72c-.78.78-.78 2.05 0 2.83L4 21.41c.39.39.9.59 1.41.59.51 0 1.02-.2 1.41-.59l7.78-7.78 2.81-2.81c.8-.78.8-2.07 0-2.86zM5.41 20L4 18.59l7.72-7.72 1.47 1.35L5.41 20z\"/>\n",
              "  </svg>\n",
              "      </button>\n",
              "      \n",
              "  <style>\n",
              "    .colab-df-container {\n",
              "      display:flex;\n",
              "      flex-wrap:wrap;\n",
              "      gap: 12px;\n",
              "    }\n",
              "\n",
              "    .colab-df-convert {\n",
              "      background-color: #E8F0FE;\n",
              "      border: none;\n",
              "      border-radius: 50%;\n",
              "      cursor: pointer;\n",
              "      display: none;\n",
              "      fill: #1967D2;\n",
              "      height: 32px;\n",
              "      padding: 0 0 0 0;\n",
              "      width: 32px;\n",
              "    }\n",
              "\n",
              "    .colab-df-convert:hover {\n",
              "      background-color: #E2EBFA;\n",
              "      box-shadow: 0px 1px 2px rgba(60, 64, 67, 0.3), 0px 1px 3px 1px rgba(60, 64, 67, 0.15);\n",
              "      fill: #174EA6;\n",
              "    }\n",
              "\n",
              "    [theme=dark] .colab-df-convert {\n",
              "      background-color: #3B4455;\n",
              "      fill: #D2E3FC;\n",
              "    }\n",
              "\n",
              "    [theme=dark] .colab-df-convert:hover {\n",
              "      background-color: #434B5C;\n",
              "      box-shadow: 0px 1px 3px 1px rgba(0, 0, 0, 0.15);\n",
              "      filter: drop-shadow(0px 1px 2px rgba(0, 0, 0, 0.3));\n",
              "      fill: #FFFFFF;\n",
              "    }\n",
              "  </style>\n",
              "\n",
              "      <script>\n",
              "        const buttonEl =\n",
              "          document.querySelector('#df-b9e8d2e6-2691-4349-83ae-c014f3a267e7 button.colab-df-convert');\n",
              "        buttonEl.style.display =\n",
              "          google.colab.kernel.accessAllowed ? 'block' : 'none';\n",
              "\n",
              "        async function convertToInteractive(key) {\n",
              "          const element = document.querySelector('#df-b9e8d2e6-2691-4349-83ae-c014f3a267e7');\n",
              "          const dataTable =\n",
              "            await google.colab.kernel.invokeFunction('convertToInteractive',\n",
              "                                                     [key], {});\n",
              "          if (!dataTable) return;\n",
              "\n",
              "          const docLinkHtml = 'Like what you see? Visit the ' +\n",
              "            '<a target=\"_blank\" href=https://colab.research.google.com/notebooks/data_table.ipynb>data table notebook</a>'\n",
              "            + ' to learn more about interactive tables.';\n",
              "          element.innerHTML = '';\n",
              "          dataTable['output_type'] = 'display_data';\n",
              "          await google.colab.output.renderOutput(dataTable, element);\n",
              "          const docLink = document.createElement('div');\n",
              "          docLink.innerHTML = docLinkHtml;\n",
              "          element.appendChild(docLink);\n",
              "        }\n",
              "      </script>\n",
              "    </div>\n",
              "  </div>\n",
              "  "
            ]
          },
          "metadata": {},
          "execution_count": 218
        }
      ]
    },
    {
      "cell_type": "markdown",
      "source": [
        "## Collaborative Filtering basato sugli utenti"
      ],
      "metadata": {
        "id": "6k1NDYrbPB1M"
      }
    },
    {
      "cell_type": "markdown",
      "source": [
        "Vogliamo prevedere la valutazione che l'utente 7346 darà all'item 0001056107. \n",
        "Nella CF basata sugli utenti, troveremo, come prima cosa, gli utenti che sono più simili all'utente 7346. \n",
        "Le tecniche comunemente utilizzate sono la similità coseno, di Pearson, Euclidean ecc. Useremo in questa sede la similità coseno e la correlazione di Pearson."
      ],
      "metadata": {
        "id": "obBS86de8uBG"
      }
    },
    {
      "cell_type": "markdown",
      "source": [
        "**Similarità coseno**\n",
        "\n",
        "- La _similarità coseno_ è in generale una misura della similarità tra due vettori\n",
        "  - è il coseno dell'angolo formato tra i due vettori\n",
        "  - tiene conto del loro orientamento, non della lunghezza\n",
        "  - è pari al prodotto scalare dei vettori suddiviso per il prodotto delle loro norme euclidee\n",
        "  - è compresa tra 0 e 1 per vettori con valori non negativi\n",
        "$$ \\text{sim}(\\mathbf{a},\\mathbf{b}) = \\frac{\\sum_{i=1}^n a_i\\cdot b_i}{\\sqrt{\\sum_{i=1}^n a_i^2}\\cdot\\sqrt{\\sum_{i=1}^n b_i^2}} $$\n"
      ],
      "metadata": {
        "id": "SsKhh1PUOz7L"
      }
    },
    {
      "cell_type": "markdown",
      "source": [
        "**Correlazione di Pearson**\n",
        "- Nel modello user-based è possibile utilizzare altre misure di similarità diverse dal coseno\n",
        "- Una scelta comune è la _correlazione di Pearson_\n",
        "  - in pratica consiste nella similarità coseno misurata non sui voti ma sul loro scarto rispetto alla media\n",
        "  - questo bilancia le tendenze di voto diverse degli utenti, equiparando ad es. le 3 stelle di un utente alle 2 di uno più \"severo\"\n",
        "$$ {r} = \\frac{\\sum_{i=1}^n ({x_i}-\\bar{x}) \\cdot ({y_i}-\\bar{y})}{\\sqrt{\\sum_{i=1}^n ({x_i}-\\bar{x})^2}\\cdot\\sqrt{\\sum_{i=1}^n({y_i}-\\bar{y})^2}} $$"
      ],
      "metadata": {
        "id": "ekFg6YYOO8NN"
      }
    },
    {
      "cell_type": "markdown",
      "source": [
        "La funzione findKSimilarUsers prende in input l'Id utente e la matrice di valutazione e restituisce similarità e indici di K utenti simili. "
      ],
      "metadata": {
        "id": "HtWTZtOaPSWy"
      }
    },
    {
      "cell_type": "code",
      "source": [
        "import sklearn as skl\n",
        "import sklearn.neighbors as nbs"
      ],
      "metadata": {
        "id": "toJqZqM3Q-dN"
      },
      "execution_count": null,
      "outputs": []
    },
    {
      "cell_type": "code",
      "source": [
        "def findKSimilarUsers(user_id, ratings, metric, k = k):\n",
        "  similarities = []\n",
        "  indices = []\n",
        "  model = nbs.NearestNeighbors(metric = metric, algorithm = 'brute')\n",
        "  model.fit(ratings.to_numpy())\n",
        "  loc = ratings.index.get_loc(user_id)\n",
        "  distances, indices = model.kneighbors(ratings.iloc[loc, :].values.reshape(1, -1), n_neighbors = k+1)\n",
        "  similarities = 1-distances.flatten()\n",
        "  print ('I {0} utenti più simili all\\'utente {1} sono:\\n'.format(k,user_id))\n",
        "  for i in range(0, len(indices.flatten())):\n",
        "      if indices.flatten()[i]+1 == user_id:\n",
        "          continue;\n",
        "      else:\n",
        "          print('{0}: Utente {1}, con una similarità di {2}'.format(i, indices.flatten()[i]+1, similarities.flatten()[i]))\n",
        "          \n",
        "  return similarities,indices"
      ],
      "metadata": {
        "id": "GKNj47OoQAEP"
      },
      "execution_count": null,
      "outputs": []
    },
    {
      "cell_type": "code",
      "source": [
        "ratings_matrix.replace([np.inf, -np.inf], np.nan, inplace=True)\n",
        "ratings_matrix.fillna(0, inplace=True)"
      ],
      "metadata": {
        "id": "5i_gs1FyTjl9"
      },
      "execution_count": null,
      "outputs": []
    },
    {
      "cell_type": "markdown",
      "source": [
        "**Similarità coseno**"
      ],
      "metadata": {
        "id": "A9px4pxsSGLD"
      }
    },
    {
      "cell_type": "code",
      "source": [
        "findKSimilarUsers(7346, ratings_matrix, 'cosine')"
      ],
      "metadata": {
        "colab": {
          "base_uri": "https://localhost:8080/"
        },
        "id": "vM8M_cQxRRSe",
        "outputId": "89e364c2-c17e-4542-e852-46e10f7d2af2"
      },
      "execution_count": null,
      "outputs": [
        {
          "output_type": "stream",
          "name": "stdout",
          "text": [
            "I 4 utenti più simili all'utente 7346 sono:\n",
            "\n",
            "0: Utente 12, con una similarità di 1.0\n",
            "1: Utente 424, con una similarità di 0.06456544237496042\n",
            "2: Utente 155, con una similarità di 0.057075683795396404\n",
            "3: Utente 10, con una similarità di 0.05440117676891487\n",
            "4: Utente 110, con una similarità di 0.05426173260146627\n"
          ]
        },
        {
          "output_type": "execute_result",
          "data": {
            "text/plain": [
              "(array([1.        , 0.06456544, 0.05707568, 0.05440118, 0.05426173]),\n",
              " array([[ 11, 423, 154,   9, 109]]))"
            ]
          },
          "metadata": {},
          "execution_count": 222
        }
      ]
    },
    {
      "cell_type": "markdown",
      "source": [
        "**Similarità di Pearson**"
      ],
      "metadata": {
        "id": "U5CqW6HmSI10"
      }
    },
    {
      "cell_type": "code",
      "source": [
        "findKSimilarUsers(7346, ratings_matrix, 'correlation')"
      ],
      "metadata": {
        "colab": {
          "base_uri": "https://localhost:8080/"
        },
        "id": "cdeEwEtMSJNG",
        "outputId": "e0db7867-6415-4d48-88de-f4aba7aa20da"
      },
      "execution_count": null,
      "outputs": [
        {
          "output_type": "stream",
          "name": "stdout",
          "text": [
            "I 4 utenti più simili all'utente 7346 sono:\n",
            "\n",
            "0: Utente 12, con una similarità di 1.0\n",
            "1: Utente 424, con una similarità di 0.061168146408081214\n",
            "2: Utente 110, con una similarità di 0.0517274009503228\n",
            "3: Utente 155, con una similarità di 0.05109795250083049\n",
            "4: Utente 10, con una similarità di 0.05069836659933058\n"
          ]
        },
        {
          "output_type": "execute_result",
          "data": {
            "text/plain": [
              "(array([1.        , 0.06116815, 0.0517274 , 0.05109795, 0.05069837]),\n",
              " array([[ 11, 423, 109, 154,   9]]))"
            ]
          },
          "metadata": {},
          "execution_count": 223
        }
      ]
    },
    {
      "cell_type": "markdown",
      "source": [
        "La funzione predict_userbased prevede la valutazione che l'utente 7346 assegnerà all'elemento 0001056107, utilizzando l'approccio CF basato sull'utente. \n",
        "Le previsioni vengono calcolate come media ponderata delle deviazioni dalla media del vicino, sommata alla media delle valutazioni media dell'utente. \n",
        "Le deviazioni vengono utilizzate per aggiustare eventuali errori che si verificano, per esmepio, quando gli utenti tendono a dare valutazioni sempre alte o sempre basse a tutti i prodotti."
      ],
      "metadata": {
        "id": "WHWRdorYAZ3k"
      }
    },
    {
      "cell_type": "code",
      "source": [
        "def predict_userbased(user_id, item_id, ratings, metric, k=k):\n",
        "    prediction=0\n",
        "    user_loc = ratings.index.get_loc(user_id)\n",
        "    item_loc = ratings.columns.get_loc(item_id)\n",
        "    similarities, indices=findKSimilarUsers(user_id, ratings, metric) # utenti simili in base alla similarità coseno\n",
        "    mean_rating = ratings.iloc[user_loc,:].mean() \n",
        "    sum_wt = np.sum(similarities)-1\n",
        "    product=1\n",
        "    wtd_sum = 0 \n",
        "    \n",
        "    for i in range(0, len(indices.flatten())):\n",
        "        if indices.flatten()[i] == user_id:\n",
        "            continue;\n",
        "        else: \n",
        "            ratings_diff = ratings.iloc[indices.flatten()[i],item_loc]-np.mean(ratings.iloc[indices.flatten()[i],:])\n",
        "            product = ratings_diff * (similarities[i])\n",
        "            wtd_sum = wtd_sum + product\n",
        "    \n",
        "    prediction = int(round(mean_rating + (wtd_sum/sum_wt)))\n",
        "    print(\"Il punteggio predetto per l'utente {0} -> item {1}: {2}\".format(user_id, item_id, prediction))\n",
        "    return prediction"
      ],
      "metadata": {
        "id": "AlDHfr4QQAsc"
      },
      "execution_count": null,
      "outputs": []
    },
    {
      "cell_type": "code",
      "source": [
        "predict_userbased(7346, '0001056107', ratings_matrix, 'cosine')"
      ],
      "metadata": {
        "id": "N5OZtP9fT9nR",
        "colab": {
          "base_uri": "https://localhost:8080/"
        },
        "outputId": "a1297c80-57c4-4de4-d9ee-7db02987506b"
      },
      "execution_count": null,
      "outputs": [
        {
          "output_type": "stream",
          "name": "stdout",
          "text": [
            "I 4 utenti più simili all'utente 7346 sono:\n",
            "\n",
            "0: Utente 12, con una similarità di 1.0\n",
            "1: Utente 424, con una similarità di 0.06456544237496042\n",
            "2: Utente 155, con una similarità di 0.057075683795396404\n",
            "3: Utente 10, con una similarità di 0.05440117676891487\n",
            "4: Utente 110, con una similarità di 0.05426173260146627\n",
            "Il punteggio predetto per l'utente 7346 -> item 0001056107: 2\n"
          ]
        },
        {
          "output_type": "execute_result",
          "data": {
            "text/plain": [
              "2"
            ]
          },
          "metadata": {},
          "execution_count": 225
        }
      ]
    },
    {
      "cell_type": "code",
      "source": [
        "predict_userbased(7346, '0001056107', ratings_matrix, 'correlation')"
      ],
      "metadata": {
        "colab": {
          "base_uri": "https://localhost:8080/"
        },
        "id": "9MF9O0VPlUPW",
        "outputId": "4a2195af-a4bc-4fd6-f31f-542954bb5a28"
      },
      "execution_count": null,
      "outputs": [
        {
          "output_type": "stream",
          "name": "stdout",
          "text": [
            "I 4 utenti più simili all'utente 7346 sono:\n",
            "\n",
            "0: Utente 12, con una similarità di 1.0\n",
            "1: Utente 424, con una similarità di 0.061168146408081214\n",
            "2: Utente 110, con una similarità di 0.0517274009503228\n",
            "3: Utente 155, con una similarità di 0.05109795250083049\n",
            "4: Utente 10, con una similarità di 0.05069836659933058\n",
            "Il punteggio predetto per l'utente 7346 -> item 0001056107: 2\n"
          ]
        },
        {
          "output_type": "execute_result",
          "data": {
            "text/plain": [
              "2"
            ]
          },
          "metadata": {},
          "execution_count": 226
        }
      ]
    },
    {
      "cell_type": "markdown",
      "source": [
        "## Collaborative Filtering basato sui prodotti"
      ],
      "metadata": {
        "id": "F0lxKs8dPHhl"
      }
    },
    {
      "cell_type": "markdown",
      "source": [
        "In questo approccio, le somiglianze tra coppie di elementi vengono calcolate utilizzando la metrica di similarità coseno e con la correlazione di Pearson. \n",
        "\n",
        "La valutazione dell'elemento i per l'utente considerato u può essere prevista calcolando una media ponderata semplice come:\n",
        "\n",
        "$$ {p}_{ui} = \\frac{\\sum\\limits_{j \\in K} \\text{sim}(i, j) \\cdot r_{uj}}{\\sum\\limits_{j \\in K} \\text{sim}(i, j)} $$\n",
        "\n",
        "dove K è l'intorno degli elementi simili valutati dall'utente u, \n",
        "e sim(i,j) è la similarità tra gli elementi i e j.\n"
      ],
      "metadata": {
        "id": "BxwEX-8VJ1si"
      }
    },
    {
      "cell_type": "markdown",
      "source": [
        "Andiamo ora ad implementare funzioni simili per un CF non più basato sugli utenti, ma sui prodotti. \n",
        "\n",
        "Il metodo findKSimilarItems individua k libri simili e prevede le valutazioni degli utenti per ognuno di essi. "
      ],
      "metadata": {
        "id": "1CBueU4WDss9"
      }
    },
    {
      "cell_type": "code",
      "source": [
        "def findKSimilarItems(item_id, ratings, metric, k = k):\n",
        "  similarities = []\n",
        "  indices = []\n",
        "  ratings = ratings.T\n",
        "  loc = ratings.index.get_loc(item_id)\n",
        "  model = nbs.NearestNeighbors(metric = metric, algorithm = 'brute')\n",
        "  model.fit(ratings.to_numpy())\n",
        "  distances, indices = model.kneighbors(ratings.iloc[loc, :].values.reshape(1, -1), n_neighbors = k+1)\n",
        "  similarities = 1-distances.flatten()\n",
        "  print ('I {0} libri più simili al libro {1} sono:\\n'.format(k, item_id))\n",
        "  for i in range(1, len(indices.flatten())):\n",
        "      if indices.flatten()[i]+1 == item_id:\n",
        "          continue;\n",
        "      else:\n",
        "          print('{0}: Libro {1}, con una similarità di {2}'.format(i, indices.flatten()[i]+1, similarities.flatten()[i]))\n",
        "          \n",
        "  return similarities,indices"
      ],
      "metadata": {
        "id": "DzQAJG06DsYl"
      },
      "execution_count": null,
      "outputs": []
    },
    {
      "cell_type": "code",
      "source": [
        "findKSimilarItems('000104687X', ratings_matrix, 'cosine')"
      ],
      "metadata": {
        "colab": {
          "base_uri": "https://localhost:8080/"
        },
        "id": "qpcAOffnI0XX",
        "outputId": "1bb2264c-4387-4f20-a97e-bf4ed853b1f6"
      },
      "execution_count": null,
      "outputs": [
        {
          "output_type": "stream",
          "name": "stdout",
          "text": [
            "I 4 libri più simili al libro 000104687X sono:\n",
            "\n",
            "1: Libro 61510, con una similarità di 1.0\n",
            "2: Libro 38455, con una similarità di 1.0\n",
            "3: Libro 4121, con una similarità di 1.0\n",
            "4: Libro 788, con una similarità di 1.0\n"
          ]
        },
        {
          "output_type": "execute_result",
          "data": {
            "text/plain": [
              "(array([1., 1., 1., 1., 1.]), array([[61510, 61509, 38454,  4120,   787]]))"
            ]
          },
          "metadata": {},
          "execution_count": 228
        }
      ]
    },
    {
      "cell_type": "code",
      "source": [
        "findKSimilarItems('000104687X', ratings_matrix, 'correlation')"
      ],
      "metadata": {
        "colab": {
          "base_uri": "https://localhost:8080/"
        },
        "id": "DHKQ4BbDJtar",
        "outputId": "acf8831c-3a5f-42a1-e9db-11e1fc826da6"
      },
      "execution_count": null,
      "outputs": [
        {
          "output_type": "stream",
          "name": "stdout",
          "text": [
            "I 4 libri più simili al libro 000104687X sono:\n",
            "\n",
            "1: Libro 52431, con una similarità di 1.0\n",
            "2: Libro 18973, con una similarità di 1.0\n",
            "3: Libro 62335, con una similarità di 1.0\n",
            "4: Libro 12788, con una similarità di 1.0\n"
          ]
        },
        {
          "output_type": "execute_result",
          "data": {
            "text/plain": [
              "(array([1., 1., 1., 1., 1.]), array([[53201, 52430, 18972, 62334, 12787]]))"
            ]
          },
          "metadata": {},
          "execution_count": 229
        }
      ]
    },
    {
      "cell_type": "markdown",
      "source": [
        "La funzione predict_itemBased, invece, può essere utilizzata per consigliare libri sempre secondo un approccio basato sui prodotti.\n",
        "Le recommendation vengono fornite se la valutazione prevista per un libro è maggiore o uguale a 6 e i libri non sono già stati valutati."
      ],
      "metadata": {
        "id": "Cy7r89EgI8fv"
      }
    },
    {
      "cell_type": "code",
      "source": [
        "def predict_itembased(user_id, item_id, ratings, metric, k = k):\n",
        "  prediction = wtd_sum = 0\n",
        "  user_loc = ratings.index.get_loc(user_id)\n",
        "  item_loc = ratings.columns.get_loc(item_id)\n",
        "  similarities, indices = findKSimilarItems(item_id, ratings, metric)\n",
        "  sum_wt = np.sum(similarities)-1\n",
        "  product = 1\n",
        "  for i in range(0, len(indices.flatten())):\n",
        "    if indices.flatten()[i] == item_loc:\n",
        "      continue;\n",
        "    else :\n",
        "      product = ratings.iloc[user_loc, indices.flatten()[i]]*(similarities[i])\n",
        "  prediction = int(round(wtd_sum/sum_wt))\n",
        "  if prediction <= 0:\n",
        "    prediction = 1\n",
        "  elif prediction > 10 :\n",
        "    preditcion = 10\n",
        "  print('Il punteggio predetto per l\\'utente {0} -> item {1}: {2}'.format(user_id, item_id, prediction))\n",
        "  return prediction"
      ],
      "metadata": {
        "id": "rLJF0t_LQZAP"
      },
      "execution_count": null,
      "outputs": []
    },
    {
      "cell_type": "code",
      "source": [
        "prediction = predict_itembased(4385, '0001056107', ratings_matrix, 'cosine')"
      ],
      "metadata": {
        "colab": {
          "base_uri": "https://localhost:8080/"
        },
        "id": "pAtdbA-ySEZq",
        "outputId": "1c923514-0526-40b0-eb5f-20c5344ed730"
      },
      "execution_count": null,
      "outputs": [
        {
          "output_type": "stream",
          "name": "stdout",
          "text": [
            "I 4 libri più simili al libro 0001056107 sono:\n",
            "\n",
            "1: Libro 61361, con una similarità di 0.9922778767136676\n",
            "2: Libro 47740, con una similarità di 0.8781140799175227\n",
            "3: Libro 2054, con una similarità di 0.7358236637186912\n",
            "4: Libro 33936, con una similarità di 0.7071067811865475\n",
            "Il punteggio predetto per l'utente 4385 -> item 0001056107: 1\n"
          ]
        }
      ]
    },
    {
      "cell_type": "code",
      "source": [
        "prediction = predict_itembased(4385, '0001056107', ratings_matrix, 'correlation')"
      ],
      "metadata": {
        "colab": {
          "base_uri": "https://localhost:8080/"
        },
        "id": "EyeFKIpoVRkt",
        "outputId": "c8e7d8fa-4e3c-4e93-c1af-e4612dc38015"
      },
      "execution_count": null,
      "outputs": [
        {
          "output_type": "stream",
          "name": "stdout",
          "text": [
            "I 4 libri più simili al libro 0001056107 sono:\n",
            "\n",
            "1: Libro 61361, con una similarità di 0.9922437267686637\n",
            "2: Libro 47740, con una similarità di 0.8775399987138389\n",
            "3: Libro 2054, con una similarità di 0.7344655967827276\n",
            "4: Libro 62788, con una similarità di 0.7063171586273639\n",
            "Il punteggio predetto per l'utente 4385 -> item 0001056107: 1\n"
          ]
        }
      ]
    },
    {
      "cell_type": "code",
      "source": [
        "import re\n",
        "import ipywidgets as widgets\n",
        "import IPython.display as ipd\n",
        "import contextlib\n",
        "import sys\n",
        "\n",
        "@contextlib.contextmanager\n",
        "def suppress_stdout(suppress=True):\n",
        "    std_ref = sys.stdout\n",
        "    if suppress:\n",
        "        sys.stdout = open('/dev/null', 'w')\n",
        "        yield\n",
        "    sys.stdout = std_ref"
      ],
      "metadata": {
        "id": "Rqv7wMf0mmH9"
      },
      "execution_count": null,
      "outputs": []
    },
    {
      "cell_type": "markdown",
      "source": [
        "In base all'approccio e alla metrica di similarità selezionati, la funzione recommendItem prevede la valutazione per l'utente e il libro specificati e suggerisce anche se il libro potrebbe essere consigliato all'utente. \n",
        "\n",
        "Se l'elemento non è già valutato dall'utente e se la valutazione prevista è maggiore di 6, il libro viene consigliato all'utente. Se la valutazione è inferiore a 6, il libro non è consigliato all'utente."
      ],
      "metadata": {
        "id": "QN1feSOum-nQ"
      }
    },
    {
      "cell_type": "code",
      "source": [
        "def recommendItem(user_id, ratings):\n",
        "    if (user_id not in ratings.index.values) or type(user_id) is not int:\n",
        "      print(\"userId deve essere un integer valido tra questi: {} \".format(re.sub('[\\[\\]]', '', np.array_str(ratings_matrix))))\n",
        "    else :\n",
        "      ids = ['Correlazione item-based', 'Similarità coseno item-based', 'Correlazione user-based', 'Similarità coseno user-based']\n",
        "      select = widgets.Dropdown(options=ids, value=None, description='Seleziona approccio', width='1000px')\n",
        "      def on_change(change):\n",
        "        ipd.clear_output(wait = True)\n",
        "        prediction = []\n",
        "        if change['type'] == 'change' and change['name'] == 'value':\n",
        "          if (select.value == 'Correlazione item-based') | (select.value == 'Correlazione user-based') :\n",
        "            metric = 'correlation'\n",
        "          else :\n",
        "            metric = 'cosine'\n",
        "          with suppress_stdout():\n",
        "            if (select.value == 'Correlazione item-based') | (select.value == 'Similarità coseno item-based'):\n",
        "              for i in range(ratings.shape[1]):\n",
        "                if(ratings[str(ratings.columns[i])][user_id] != 0): # non è stato ancora recensito\n",
        "                 prediction.append(predict_itembased(user_id, str(ratings.columns[i]), ratings, metric))\n",
        "                 print('da fare')\n",
        "                else :\n",
        "                  prediction.append(-1)\n",
        "            else :\n",
        "              for i in range(ratings.shape[1]):\n",
        "                if(ratings[str(ratings.columns[i])][user_id] != 0): # non è stato ancora recensito\n",
        "                 prediction.append(predict_userbased(user_id, str(ratings.columns[i]), ratings, metric))\n",
        "                else :\n",
        "                  prediction.append(-1)\n",
        "          prediction = pd.Series(prediction)\n",
        "          prediction = prediction.sort_values(ascending=False)\n",
        "          recommended = prediction[:10]\n",
        "          print(\"secondo l'approccio {0}, i seguenti libri sono consigliati...\".format(select.value))\n",
        "          for i in range(len(recommended)):\n",
        "            print(\"{0}. {1}\".format(i+1, books.bookTitle[recommended.index[i]]))\n",
        "      select.observe(on_change)\n",
        "      display(select)"
      ],
      "metadata": {
        "id": "uNOPjpUWmmsf"
      },
      "execution_count": null,
      "outputs": []
    },
    {
      "cell_type": "code",
      "source": [
        "recommendItem(4385, ratings_matrix)"
      ],
      "metadata": {
        "colab": {
          "base_uri": "https://localhost:8080/",
          "height": 218,
          "referenced_widgets": [
            "3f42007ba12d471cb287f56f1ff92e03",
            "10d1f2fccac646b4a9cd5afd3d8668f5",
            "c62e918a4a7c4f169b728a5a3a041394"
          ]
        },
        "id": "by7Us0AzZSA0",
        "outputId": "3c943592-a569-4130-82c9-da8697c7618d"
      },
      "execution_count": null,
      "outputs": [
        {
          "output_type": "stream",
          "name": "stdout",
          "text": [
            "secondo l'approccio Correlazione item-based, i seguenti libri sono consigliati...\n",
            "1. The Red Badge of Courage\n",
            "2. Mi mamÃ¡ me ama (Nueva narrativa hispÃ¡nica)\n",
            "3. The Lathe of Heaven\n",
            "4. Hologram of Liberty: The Constitution's Shocking Alliance With Big Government\n",
            "5. An American Requiem : God, My Father, and the War That Came Between Us\n",
            "6. Grimm's Tales for Young and Old\n",
            "7. One Thousand Paper Cranes: The Story of Sadako and the Children's Peace Statue\n",
            "8. Macaws of Death\n",
            "9. The Legend\n",
            "10. Fear Street. Teufelskreis. Es gibt kein Entkommen... ( Ab 12 J.).\n"
          ]
        }
      ]
    },
    {
      "cell_type": "code",
      "source": [
        "recommendItem(4385, ratings_matrix)"
      ],
      "metadata": {
        "colab": {
          "base_uri": "https://localhost:8080/",
          "height": 218,
          "referenced_widgets": [
            "0661231f5dca4812a45c94a1139a0ebe",
            "31421712076e442daf91a4e1a2e9c25a",
            "4c63dc8f83744f71bd06bc1544eb3d72"
          ]
        },
        "id": "ikRmxi3WVFNV",
        "outputId": "1132f375-f080-45fd-9f1c-c829da2bb4e5"
      },
      "execution_count": null,
      "outputs": [
        {
          "output_type": "stream",
          "name": "stdout",
          "text": [
            "secondo l'approccio Similarità coseno item-based, i seguenti libri sono consigliati...\n",
            "1. The Red Badge of Courage\n",
            "2. Mi mamÃ¡ me ama (Nueva narrativa hispÃ¡nica)\n",
            "3. The Lathe of Heaven\n",
            "4. Hologram of Liberty: The Constitution's Shocking Alliance With Big Government\n",
            "5. An American Requiem : God, My Father, and the War That Came Between Us\n",
            "6. Grimm's Tales for Young and Old\n",
            "7. One Thousand Paper Cranes: The Story of Sadako and the Children's Peace Statue\n",
            "8. Macaws of Death\n",
            "9. The Legend\n",
            "10. Fear Street. Teufelskreis. Es gibt kein Entkommen... ( Ab 12 J.).\n"
          ]
        }
      ]
    },
    {
      "cell_type": "code",
      "source": [
        "recommendItem(4385, ratings_matrix)"
      ],
      "metadata": {
        "colab": {
          "base_uri": "https://localhost:8080/",
          "height": 218,
          "referenced_widgets": [
            "96a4d5cf79554aa2a1c3b4609dc46486",
            "cc72464e73d54d5abed7fe1065562cf5",
            "fde0ae017b834025afc240fa8683a04e"
          ]
        },
        "id": "-oa7QoZ2MLi2",
        "outputId": "876de9ad-adfa-496a-9e2f-afee77279fd6"
      },
      "execution_count": null,
      "outputs": [
        {
          "output_type": "stream",
          "name": "stdout",
          "text": [
            "secondo l'approccio Correlazione user-based, i seguenti libri sono consigliati...\n",
            "1. The Gift\n",
            "2. A Close Run Thing : A Novel of Wellington's Army of 1815\n",
            "3. The Romantic: A Novel\n",
            "4. And Never Let Her Go : Thomas Capano: The Deadly Seducer\n",
            "5. The Titanic Conspiracy: Cover-Ups and Mysteries of the World's Most Famous Sea Disaster\n",
            "6. The Trouble With Valentines\n",
            "7. Roger Caras' Treasury of Great Cat Stories\n",
            "8. Under the Volcano\n",
            "9. Chop Wood, Carry Water: A Guide to Finding Spiritual Fulfillment in Everyday Life\n",
            "10. Outerbridge Reach\n"
          ]
        }
      ]
    },
    {
      "cell_type": "code",
      "source": [
        "recommendItem(4385, ratings_matrix)"
      ],
      "metadata": {
        "colab": {
          "base_uri": "https://localhost:8080/",
          "height": 218,
          "referenced_widgets": [
            "908b8a0ecca44849bdf61b529026497c",
            "d32142126d8e4f3fb1861cee73226ead",
            "698e9574f0054921b0e22712c16c1603"
          ]
        },
        "id": "HzfQgqVcMMUj",
        "outputId": "3e6b08ac-8afe-413d-b0b5-e8a1173126f8"
      },
      "execution_count": null,
      "outputs": [
        {
          "output_type": "stream",
          "name": "stdout",
          "text": [
            "secondo l'approccio Similarità coseno user-based, i seguenti libri sono consigliati...\n",
            "1. The Gift\n",
            "2. A Close Run Thing : A Novel of Wellington's Army of 1815\n",
            "3. El perfume\n",
            "4. The Romantic: A Novel\n",
            "5. And Never Let Her Go : Thomas Capano: The Deadly Seducer\n",
            "6. The Titanic Conspiracy: Cover-Ups and Mysteries of the World's Most Famous Sea Disaster\n",
            "7. The Trouble With Valentines\n",
            "8. Roger Caras' Treasury of Great Cat Stories\n",
            "9. Under the Volcano\n",
            "10. Chop Wood, Carry Water: A Guide to Finding Spiritual Fulfillment in Everyday Life\n"
          ]
        }
      ]
    },
    {
      "cell_type": "markdown",
      "source": [
        "# k-Nearest Neighbors (kNN)"
      ],
      "metadata": {
        "id": "XvxjAJ7QOG2n"
      }
    },
    {
      "cell_type": "markdown",
      "source": [
        "k-nearest neighbors è un algoritmo di machine learning per trovare blocchi di utenti simili in base ai voti dei libri che hanno in comune e fare predizioni usando la media dei voti dei miglio k vicini.\n",
        "\n",
        "Per esempio, presentiamo innanzitutto le valutazioni in una matrice avente nelle righe i libri e nelle colonne gli utenti."
      ],
      "metadata": {
        "id": "iOD0P1z0SV63"
      }
    },
    {
      "cell_type": "code",
      "source": [
        "combine_book_rating = pd.merge(new_ratings, books, on='ISBN')\n",
        "columns = ['yearOfPubblication', 'publisher', 'bookAuthor']\n",
        "combine_book_rating = combine_book_rating.drop(columns, axis=1)\n",
        "combine_book_rating.head()"
      ],
      "metadata": {
        "colab": {
          "base_uri": "https://localhost:8080/",
          "height": 206
        },
        "id": "vTDzwxoISOOF",
        "outputId": "a8738c4f-1c80-4e79-f1ea-b554b129ca57"
      },
      "execution_count": null,
      "outputs": [
        {
          "output_type": "execute_result",
          "data": {
            "text/plain": [
              "   userId        ISBN  bookRating             bookTitle\n",
              "0  276725  034545104X           0  Flesh Tones: A Novel\n",
              "1    2313  034545104X           5  Flesh Tones: A Novel\n",
              "2    6543  034545104X           0  Flesh Tones: A Novel\n",
              "3    8680  034545104X           5  Flesh Tones: A Novel\n",
              "4   10314  034545104X           9  Flesh Tones: A Novel"
            ],
            "text/html": [
              "\n",
              "  <div id=\"df-e190f6e2-6bb8-4331-ab4a-d9d68b7d4055\">\n",
              "    <div class=\"colab-df-container\">\n",
              "      <div>\n",
              "<style scoped>\n",
              "    .dataframe tbody tr th:only-of-type {\n",
              "        vertical-align: middle;\n",
              "    }\n",
              "\n",
              "    .dataframe tbody tr th {\n",
              "        vertical-align: top;\n",
              "    }\n",
              "\n",
              "    .dataframe thead th {\n",
              "        text-align: right;\n",
              "    }\n",
              "</style>\n",
              "<table border=\"1\" class=\"dataframe\">\n",
              "  <thead>\n",
              "    <tr style=\"text-align: right;\">\n",
              "      <th></th>\n",
              "      <th>userId</th>\n",
              "      <th>ISBN</th>\n",
              "      <th>bookRating</th>\n",
              "      <th>bookTitle</th>\n",
              "    </tr>\n",
              "  </thead>\n",
              "  <tbody>\n",
              "    <tr>\n",
              "      <th>0</th>\n",
              "      <td>276725</td>\n",
              "      <td>034545104X</td>\n",
              "      <td>0</td>\n",
              "      <td>Flesh Tones: A Novel</td>\n",
              "    </tr>\n",
              "    <tr>\n",
              "      <th>1</th>\n",
              "      <td>2313</td>\n",
              "      <td>034545104X</td>\n",
              "      <td>5</td>\n",
              "      <td>Flesh Tones: A Novel</td>\n",
              "    </tr>\n",
              "    <tr>\n",
              "      <th>2</th>\n",
              "      <td>6543</td>\n",
              "      <td>034545104X</td>\n",
              "      <td>0</td>\n",
              "      <td>Flesh Tones: A Novel</td>\n",
              "    </tr>\n",
              "    <tr>\n",
              "      <th>3</th>\n",
              "      <td>8680</td>\n",
              "      <td>034545104X</td>\n",
              "      <td>5</td>\n",
              "      <td>Flesh Tones: A Novel</td>\n",
              "    </tr>\n",
              "    <tr>\n",
              "      <th>4</th>\n",
              "      <td>10314</td>\n",
              "      <td>034545104X</td>\n",
              "      <td>9</td>\n",
              "      <td>Flesh Tones: A Novel</td>\n",
              "    </tr>\n",
              "  </tbody>\n",
              "</table>\n",
              "</div>\n",
              "      <button class=\"colab-df-convert\" onclick=\"convertToInteractive('df-e190f6e2-6bb8-4331-ab4a-d9d68b7d4055')\"\n",
              "              title=\"Convert this dataframe to an interactive table.\"\n",
              "              style=\"display:none;\">\n",
              "        \n",
              "  <svg xmlns=\"http://www.w3.org/2000/svg\" height=\"24px\"viewBox=\"0 0 24 24\"\n",
              "       width=\"24px\">\n",
              "    <path d=\"M0 0h24v24H0V0z\" fill=\"none\"/>\n",
              "    <path d=\"M18.56 5.44l.94 2.06.94-2.06 2.06-.94-2.06-.94-.94-2.06-.94 2.06-2.06.94zm-11 1L8.5 8.5l.94-2.06 2.06-.94-2.06-.94L8.5 2.5l-.94 2.06-2.06.94zm10 10l.94 2.06.94-2.06 2.06-.94-2.06-.94-.94-2.06-.94 2.06-2.06.94z\"/><path d=\"M17.41 7.96l-1.37-1.37c-.4-.4-.92-.59-1.43-.59-.52 0-1.04.2-1.43.59L10.3 9.45l-7.72 7.72c-.78.78-.78 2.05 0 2.83L4 21.41c.39.39.9.59 1.41.59.51 0 1.02-.2 1.41-.59l7.78-7.78 2.81-2.81c.8-.78.8-2.07 0-2.86zM5.41 20L4 18.59l7.72-7.72 1.47 1.35L5.41 20z\"/>\n",
              "  </svg>\n",
              "      </button>\n",
              "      \n",
              "  <style>\n",
              "    .colab-df-container {\n",
              "      display:flex;\n",
              "      flex-wrap:wrap;\n",
              "      gap: 12px;\n",
              "    }\n",
              "\n",
              "    .colab-df-convert {\n",
              "      background-color: #E8F0FE;\n",
              "      border: none;\n",
              "      border-radius: 50%;\n",
              "      cursor: pointer;\n",
              "      display: none;\n",
              "      fill: #1967D2;\n",
              "      height: 32px;\n",
              "      padding: 0 0 0 0;\n",
              "      width: 32px;\n",
              "    }\n",
              "\n",
              "    .colab-df-convert:hover {\n",
              "      background-color: #E2EBFA;\n",
              "      box-shadow: 0px 1px 2px rgba(60, 64, 67, 0.3), 0px 1px 3px 1px rgba(60, 64, 67, 0.15);\n",
              "      fill: #174EA6;\n",
              "    }\n",
              "\n",
              "    [theme=dark] .colab-df-convert {\n",
              "      background-color: #3B4455;\n",
              "      fill: #D2E3FC;\n",
              "    }\n",
              "\n",
              "    [theme=dark] .colab-df-convert:hover {\n",
              "      background-color: #434B5C;\n",
              "      box-shadow: 0px 1px 3px 1px rgba(0, 0, 0, 0.15);\n",
              "      filter: drop-shadow(0px 1px 2px rgba(0, 0, 0, 0.3));\n",
              "      fill: #FFFFFF;\n",
              "    }\n",
              "  </style>\n",
              "\n",
              "      <script>\n",
              "        const buttonEl =\n",
              "          document.querySelector('#df-e190f6e2-6bb8-4331-ab4a-d9d68b7d4055 button.colab-df-convert');\n",
              "        buttonEl.style.display =\n",
              "          google.colab.kernel.accessAllowed ? 'block' : 'none';\n",
              "\n",
              "        async function convertToInteractive(key) {\n",
              "          const element = document.querySelector('#df-e190f6e2-6bb8-4331-ab4a-d9d68b7d4055');\n",
              "          const dataTable =\n",
              "            await google.colab.kernel.invokeFunction('convertToInteractive',\n",
              "                                                     [key], {});\n",
              "          if (!dataTable) return;\n",
              "\n",
              "          const docLinkHtml = 'Like what you see? Visit the ' +\n",
              "            '<a target=\"_blank\" href=https://colab.research.google.com/notebooks/data_table.ipynb>data table notebook</a>'\n",
              "            + ' to learn more about interactive tables.';\n",
              "          element.innerHTML = '';\n",
              "          dataTable['output_type'] = 'display_data';\n",
              "          await google.colab.output.renderOutput(dataTable, element);\n",
              "          const docLink = document.createElement('div');\n",
              "          docLink.innerHTML = docLinkHtml;\n",
              "          element.appendChild(docLink);\n",
              "        }\n",
              "      </script>\n",
              "    </div>\n",
              "  </div>\n",
              "  "
            ]
          },
          "metadata": {},
          "execution_count": 155
        }
      ]
    },
    {
      "cell_type": "markdown",
      "source": [
        "Raggruppiamo per bookTitle e creiamo una nuova colonna per il conteggio totale delle valutazioni."
      ],
      "metadata": {
        "id": "eAzl0kxGYeLp"
      }
    },
    {
      "cell_type": "code",
      "source": [
        "combine_book_rating = combine_book_rating.dropna(axis=0, subset=['bookTitle'])"
      ],
      "metadata": {
        "id": "6XHn3ic4Yh0x"
      },
      "execution_count": null,
      "outputs": []
    },
    {
      "cell_type": "code",
      "source": [
        "book_ratingCount = (combine_book_rating.\n",
        "                    groupby(by=['bookTitle'])['bookRating'].\n",
        "                    count().\n",
        "                    reset_index().\n",
        "                    rename(columns={'bookRating': 'totalRatingCount'})\n",
        "                    [['bookTitle', 'totalRatingCount']]\n",
        "                    )\n",
        "book_ratingCount.head()"
      ],
      "metadata": {
        "colab": {
          "base_uri": "https://localhost:8080/",
          "height": 206
        },
        "id": "4mVRPTH4Ypox",
        "outputId": "b0712602-5d9e-4e9e-dae0-153da4b73272"
      },
      "execution_count": null,
      "outputs": [
        {
          "output_type": "execute_result",
          "data": {
            "text/plain": [
              "                                                                                                    bookTitle  \\\n",
              "0   A Light in the Storm: The Civil War Diary of Amelia Martin, Fenwick Island, Delaware, 1861 (Dear America)   \n",
              "1                                                                                       Always Have Popsicles   \n",
              "2                                                                        Apple Magic (The Collector's series)   \n",
              "3                                                  Beyond IBM: Leadership Marketing and Finance for the 1990s   \n",
              "4                                               Clifford Visita El Hospital (Clifford El Gran Perro Colorado)   \n",
              "\n",
              "   totalRatingCount  \n",
              "0                 2  \n",
              "1                 1  \n",
              "2                 1  \n",
              "3                 1  \n",
              "4                 1  "
            ],
            "text/html": [
              "\n",
              "  <div id=\"df-16658a5d-67cd-4174-928b-d17610f724cb\">\n",
              "    <div class=\"colab-df-container\">\n",
              "      <div>\n",
              "<style scoped>\n",
              "    .dataframe tbody tr th:only-of-type {\n",
              "        vertical-align: middle;\n",
              "    }\n",
              "\n",
              "    .dataframe tbody tr th {\n",
              "        vertical-align: top;\n",
              "    }\n",
              "\n",
              "    .dataframe thead th {\n",
              "        text-align: right;\n",
              "    }\n",
              "</style>\n",
              "<table border=\"1\" class=\"dataframe\">\n",
              "  <thead>\n",
              "    <tr style=\"text-align: right;\">\n",
              "      <th></th>\n",
              "      <th>bookTitle</th>\n",
              "      <th>totalRatingCount</th>\n",
              "    </tr>\n",
              "  </thead>\n",
              "  <tbody>\n",
              "    <tr>\n",
              "      <th>0</th>\n",
              "      <td>A Light in the Storm: The Civil War Diary of Amelia Martin, Fenwick Island, Delaware, 1861 (Dear America)</td>\n",
              "      <td>2</td>\n",
              "    </tr>\n",
              "    <tr>\n",
              "      <th>1</th>\n",
              "      <td>Always Have Popsicles</td>\n",
              "      <td>1</td>\n",
              "    </tr>\n",
              "    <tr>\n",
              "      <th>2</th>\n",
              "      <td>Apple Magic (The Collector's series)</td>\n",
              "      <td>1</td>\n",
              "    </tr>\n",
              "    <tr>\n",
              "      <th>3</th>\n",
              "      <td>Beyond IBM: Leadership Marketing and Finance for the 1990s</td>\n",
              "      <td>1</td>\n",
              "    </tr>\n",
              "    <tr>\n",
              "      <th>4</th>\n",
              "      <td>Clifford Visita El Hospital (Clifford El Gran Perro Colorado)</td>\n",
              "      <td>1</td>\n",
              "    </tr>\n",
              "  </tbody>\n",
              "</table>\n",
              "</div>\n",
              "      <button class=\"colab-df-convert\" onclick=\"convertToInteractive('df-16658a5d-67cd-4174-928b-d17610f724cb')\"\n",
              "              title=\"Convert this dataframe to an interactive table.\"\n",
              "              style=\"display:none;\">\n",
              "        \n",
              "  <svg xmlns=\"http://www.w3.org/2000/svg\" height=\"24px\"viewBox=\"0 0 24 24\"\n",
              "       width=\"24px\">\n",
              "    <path d=\"M0 0h24v24H0V0z\" fill=\"none\"/>\n",
              "    <path d=\"M18.56 5.44l.94 2.06.94-2.06 2.06-.94-2.06-.94-.94-2.06-.94 2.06-2.06.94zm-11 1L8.5 8.5l.94-2.06 2.06-.94-2.06-.94L8.5 2.5l-.94 2.06-2.06.94zm10 10l.94 2.06.94-2.06 2.06-.94-2.06-.94-.94-2.06-.94 2.06-2.06.94z\"/><path d=\"M17.41 7.96l-1.37-1.37c-.4-.4-.92-.59-1.43-.59-.52 0-1.04.2-1.43.59L10.3 9.45l-7.72 7.72c-.78.78-.78 2.05 0 2.83L4 21.41c.39.39.9.59 1.41.59.51 0 1.02-.2 1.41-.59l7.78-7.78 2.81-2.81c.8-.78.8-2.07 0-2.86zM5.41 20L4 18.59l7.72-7.72 1.47 1.35L5.41 20z\"/>\n",
              "  </svg>\n",
              "      </button>\n",
              "      \n",
              "  <style>\n",
              "    .colab-df-container {\n",
              "      display:flex;\n",
              "      flex-wrap:wrap;\n",
              "      gap: 12px;\n",
              "    }\n",
              "\n",
              "    .colab-df-convert {\n",
              "      background-color: #E8F0FE;\n",
              "      border: none;\n",
              "      border-radius: 50%;\n",
              "      cursor: pointer;\n",
              "      display: none;\n",
              "      fill: #1967D2;\n",
              "      height: 32px;\n",
              "      padding: 0 0 0 0;\n",
              "      width: 32px;\n",
              "    }\n",
              "\n",
              "    .colab-df-convert:hover {\n",
              "      background-color: #E2EBFA;\n",
              "      box-shadow: 0px 1px 2px rgba(60, 64, 67, 0.3), 0px 1px 3px 1px rgba(60, 64, 67, 0.15);\n",
              "      fill: #174EA6;\n",
              "    }\n",
              "\n",
              "    [theme=dark] .colab-df-convert {\n",
              "      background-color: #3B4455;\n",
              "      fill: #D2E3FC;\n",
              "    }\n",
              "\n",
              "    [theme=dark] .colab-df-convert:hover {\n",
              "      background-color: #434B5C;\n",
              "      box-shadow: 0px 1px 3px 1px rgba(0, 0, 0, 0.15);\n",
              "      filter: drop-shadow(0px 1px 2px rgba(0, 0, 0, 0.3));\n",
              "      fill: #FFFFFF;\n",
              "    }\n",
              "  </style>\n",
              "\n",
              "      <script>\n",
              "        const buttonEl =\n",
              "          document.querySelector('#df-16658a5d-67cd-4174-928b-d17610f724cb button.colab-df-convert');\n",
              "        buttonEl.style.display =\n",
              "          google.colab.kernel.accessAllowed ? 'block' : 'none';\n",
              "\n",
              "        async function convertToInteractive(key) {\n",
              "          const element = document.querySelector('#df-16658a5d-67cd-4174-928b-d17610f724cb');\n",
              "          const dataTable =\n",
              "            await google.colab.kernel.invokeFunction('convertToInteractive',\n",
              "                                                     [key], {});\n",
              "          if (!dataTable) return;\n",
              "\n",
              "          const docLinkHtml = 'Like what you see? Visit the ' +\n",
              "            '<a target=\"_blank\" href=https://colab.research.google.com/notebooks/data_table.ipynb>data table notebook</a>'\n",
              "            + ' to learn more about interactive tables.';\n",
              "          element.innerHTML = '';\n",
              "          dataTable['output_type'] = 'display_data';\n",
              "          await google.colab.output.renderOutput(dataTable, element);\n",
              "          const docLink = document.createElement('div');\n",
              "          docLink.innerHTML = docLinkHtml;\n",
              "          element.appendChild(docLink);\n",
              "        }\n",
              "      </script>\n",
              "    </div>\n",
              "  </div>\n",
              "  "
            ]
          },
          "metadata": {},
          "execution_count": 98
        }
      ]
    },
    {
      "cell_type": "markdown",
      "source": [
        "Ora combiniamo i vecchi dati con quelli nuovi, ottendendo esattamente quello che ci serve per capire quali sono i libri meno conosciuti ed escluderli dalla nostra indagine."
      ],
      "metadata": {
        "id": "Rh8zrgaGGm7j"
      }
    },
    {
      "cell_type": "code",
      "source": [
        "rating_with_totalRatingCount = combine_book_rating.merge(book_ratingCount, left_on='bookTitle', right_on='bookTitle', how='left')\n",
        "rating_with_totalRatingCount.head()"
      ],
      "metadata": {
        "id": "mywX9fXKGd6a",
        "colab": {
          "base_uri": "https://localhost:8080/",
          "height": 206
        },
        "outputId": "b45348eb-c0fb-4ddb-95f3-ba45112591ae"
      },
      "execution_count": null,
      "outputs": [
        {
          "output_type": "execute_result",
          "data": {
            "text/plain": [
              "   userId        ISBN  bookRating  \\\n",
              "0  277427  002542730X          10   \n",
              "1    3363  002542730X           0   \n",
              "2   11676  002542730X           6   \n",
              "3   12538  002542730X          10   \n",
              "4   13552  002542730X           0   \n",
              "\n",
              "                                                                  bookTitle  \\\n",
              "0  Politically Correct Bedtime Stories: Modern Tales for Our Life and Times   \n",
              "1  Politically Correct Bedtime Stories: Modern Tales for Our Life and Times   \n",
              "2  Politically Correct Bedtime Stories: Modern Tales for Our Life and Times   \n",
              "3  Politically Correct Bedtime Stories: Modern Tales for Our Life and Times   \n",
              "4  Politically Correct Bedtime Stories: Modern Tales for Our Life and Times   \n",
              "\n",
              "   totalRatingCount  \n",
              "0                80  \n",
              "1                80  \n",
              "2                80  \n",
              "3                80  \n",
              "4                80  "
            ],
            "text/html": [
              "\n",
              "  <div id=\"df-5e427275-5678-4505-8141-89b626a7dd9f\">\n",
              "    <div class=\"colab-df-container\">\n",
              "      <div>\n",
              "<style scoped>\n",
              "    .dataframe tbody tr th:only-of-type {\n",
              "        vertical-align: middle;\n",
              "    }\n",
              "\n",
              "    .dataframe tbody tr th {\n",
              "        vertical-align: top;\n",
              "    }\n",
              "\n",
              "    .dataframe thead th {\n",
              "        text-align: right;\n",
              "    }\n",
              "</style>\n",
              "<table border=\"1\" class=\"dataframe\">\n",
              "  <thead>\n",
              "    <tr style=\"text-align: right;\">\n",
              "      <th></th>\n",
              "      <th>userId</th>\n",
              "      <th>ISBN</th>\n",
              "      <th>bookRating</th>\n",
              "      <th>bookTitle</th>\n",
              "      <th>totalRatingCount</th>\n",
              "    </tr>\n",
              "  </thead>\n",
              "  <tbody>\n",
              "    <tr>\n",
              "      <th>0</th>\n",
              "      <td>277427</td>\n",
              "      <td>002542730X</td>\n",
              "      <td>10</td>\n",
              "      <td>Politically Correct Bedtime Stories: Modern Tales for Our Life and Times</td>\n",
              "      <td>80</td>\n",
              "    </tr>\n",
              "    <tr>\n",
              "      <th>1</th>\n",
              "      <td>3363</td>\n",
              "      <td>002542730X</td>\n",
              "      <td>0</td>\n",
              "      <td>Politically Correct Bedtime Stories: Modern Tales for Our Life and Times</td>\n",
              "      <td>80</td>\n",
              "    </tr>\n",
              "    <tr>\n",
              "      <th>2</th>\n",
              "      <td>11676</td>\n",
              "      <td>002542730X</td>\n",
              "      <td>6</td>\n",
              "      <td>Politically Correct Bedtime Stories: Modern Tales for Our Life and Times</td>\n",
              "      <td>80</td>\n",
              "    </tr>\n",
              "    <tr>\n",
              "      <th>3</th>\n",
              "      <td>12538</td>\n",
              "      <td>002542730X</td>\n",
              "      <td>10</td>\n",
              "      <td>Politically Correct Bedtime Stories: Modern Tales for Our Life and Times</td>\n",
              "      <td>80</td>\n",
              "    </tr>\n",
              "    <tr>\n",
              "      <th>4</th>\n",
              "      <td>13552</td>\n",
              "      <td>002542730X</td>\n",
              "      <td>0</td>\n",
              "      <td>Politically Correct Bedtime Stories: Modern Tales for Our Life and Times</td>\n",
              "      <td>80</td>\n",
              "    </tr>\n",
              "  </tbody>\n",
              "</table>\n",
              "</div>\n",
              "      <button class=\"colab-df-convert\" onclick=\"convertToInteractive('df-5e427275-5678-4505-8141-89b626a7dd9f')\"\n",
              "              title=\"Convert this dataframe to an interactive table.\"\n",
              "              style=\"display:none;\">\n",
              "        \n",
              "  <svg xmlns=\"http://www.w3.org/2000/svg\" height=\"24px\"viewBox=\"0 0 24 24\"\n",
              "       width=\"24px\">\n",
              "    <path d=\"M0 0h24v24H0V0z\" fill=\"none\"/>\n",
              "    <path d=\"M18.56 5.44l.94 2.06.94-2.06 2.06-.94-2.06-.94-.94-2.06-.94 2.06-2.06.94zm-11 1L8.5 8.5l.94-2.06 2.06-.94-2.06-.94L8.5 2.5l-.94 2.06-2.06.94zm10 10l.94 2.06.94-2.06 2.06-.94-2.06-.94-.94-2.06-.94 2.06-2.06.94z\"/><path d=\"M17.41 7.96l-1.37-1.37c-.4-.4-.92-.59-1.43-.59-.52 0-1.04.2-1.43.59L10.3 9.45l-7.72 7.72c-.78.78-.78 2.05 0 2.83L4 21.41c.39.39.9.59 1.41.59.51 0 1.02-.2 1.41-.59l7.78-7.78 2.81-2.81c.8-.78.8-2.07 0-2.86zM5.41 20L4 18.59l7.72-7.72 1.47 1.35L5.41 20z\"/>\n",
              "  </svg>\n",
              "      </button>\n",
              "      \n",
              "  <style>\n",
              "    .colab-df-container {\n",
              "      display:flex;\n",
              "      flex-wrap:wrap;\n",
              "      gap: 12px;\n",
              "    }\n",
              "\n",
              "    .colab-df-convert {\n",
              "      background-color: #E8F0FE;\n",
              "      border: none;\n",
              "      border-radius: 50%;\n",
              "      cursor: pointer;\n",
              "      display: none;\n",
              "      fill: #1967D2;\n",
              "      height: 32px;\n",
              "      padding: 0 0 0 0;\n",
              "      width: 32px;\n",
              "    }\n",
              "\n",
              "    .colab-df-convert:hover {\n",
              "      background-color: #E2EBFA;\n",
              "      box-shadow: 0px 1px 2px rgba(60, 64, 67, 0.3), 0px 1px 3px 1px rgba(60, 64, 67, 0.15);\n",
              "      fill: #174EA6;\n",
              "    }\n",
              "\n",
              "    [theme=dark] .colab-df-convert {\n",
              "      background-color: #3B4455;\n",
              "      fill: #D2E3FC;\n",
              "    }\n",
              "\n",
              "    [theme=dark] .colab-df-convert:hover {\n",
              "      background-color: #434B5C;\n",
              "      box-shadow: 0px 1px 3px 1px rgba(0, 0, 0, 0.15);\n",
              "      filter: drop-shadow(0px 1px 2px rgba(0, 0, 0, 0.3));\n",
              "      fill: #FFFFFF;\n",
              "    }\n",
              "  </style>\n",
              "\n",
              "      <script>\n",
              "        const buttonEl =\n",
              "          document.querySelector('#df-5e427275-5678-4505-8141-89b626a7dd9f button.colab-df-convert');\n",
              "        buttonEl.style.display =\n",
              "          google.colab.kernel.accessAllowed ? 'block' : 'none';\n",
              "\n",
              "        async function convertToInteractive(key) {\n",
              "          const element = document.querySelector('#df-5e427275-5678-4505-8141-89b626a7dd9f');\n",
              "          const dataTable =\n",
              "            await google.colab.kernel.invokeFunction('convertToInteractive',\n",
              "                                                     [key], {});\n",
              "          if (!dataTable) return;\n",
              "\n",
              "          const docLinkHtml = 'Like what you see? Visit the ' +\n",
              "            '<a target=\"_blank\" href=https://colab.research.google.com/notebooks/data_table.ipynb>data table notebook</a>'\n",
              "            + ' to learn more about interactive tables.';\n",
              "          element.innerHTML = '';\n",
              "          dataTable['output_type'] = 'display_data';\n",
              "          await google.colab.output.renderOutput(dataTable, element);\n",
              "          const docLink = document.createElement('div');\n",
              "          docLink.innerHTML = docLinkHtml;\n",
              "          element.appendChild(docLink);\n",
              "        }\n",
              "      </script>\n",
              "    </div>\n",
              "  </div>\n",
              "  "
            ]
          },
          "metadata": {},
          "execution_count": 99
        }
      ]
    },
    {
      "cell_type": "code",
      "source": [
        "pd.set_option('display.float_format', lambda x: '%.3f' % x)\n",
        "print(rating_with_totalRatingCount['totalRatingCount'].describe())"
      ],
      "metadata": {
        "colab": {
          "base_uri": "https://localhost:8080/"
        },
        "id": "a-SS3rFg2bEM",
        "outputId": "677abdd1-f494-48a4-ec4b-b09a60fe1b4a"
      },
      "execution_count": null,
      "outputs": [
        {
          "output_type": "stream",
          "name": "stdout",
          "text": [
            "count   475007.000\n",
            "mean        20.793\n",
            "std         36.084\n",
            "min          1.000\n",
            "25%          2.000\n",
            "50%          6.000\n",
            "75%         22.000\n",
            "max        332.000\n",
            "Name: totalRatingCount, dtype: float64\n"
          ]
        }
      ]
    },
    {
      "cell_type": "code",
      "source": [
        "print(book_ratingCount['totalRatingCount'].quantile(np.arange(.9, 1, .01)))"
      ],
      "metadata": {
        "colab": {
          "base_uri": "https://localhost:8080/"
        },
        "id": "ch25H1eK7_pn",
        "outputId": "2b236e4c-239c-446a-f4e9-2821f6a0c77f"
      },
      "execution_count": null,
      "outputs": [
        {
          "output_type": "stream",
          "name": "stdout",
          "text": [
            "0.900    5.000\n",
            "0.910    6.000\n",
            "0.920    7.000\n",
            "0.930    7.000\n",
            "0.940    8.000\n",
            "0.950   10.000\n",
            "0.960   11.000\n",
            "0.970   14.000\n",
            "0.980   19.000\n",
            "0.990   31.000\n",
            "Name: totalRatingCount, dtype: float64\n"
          ]
        }
      ]
    },
    {
      "cell_type": "markdown",
      "source": [
        "Circa l'1% dei libri ha ricevuto 50 o più voti. Siccome abbiamo troppi libri nel nostro dataset, lo limitiamo al suo 1% in modo da avere 2713 libri."
      ],
      "metadata": {
        "id": "NzcphVEI8SFC"
      }
    },
    {
      "cell_type": "code",
      "source": [
        "popularity_threshold = 50\n",
        "rating_popular_book = rating_with_totalRatingCount.query('totalRatingCount >- @popularity_threshold')\n",
        "rating_popular_book.head()"
      ],
      "metadata": {
        "colab": {
          "base_uri": "https://localhost:8080/",
          "height": 206
        },
        "id": "edCMX-bk8g4k",
        "outputId": "fd9c8dd2-b68d-45ab-a4e5-f86f64683e4b"
      },
      "execution_count": null,
      "outputs": [
        {
          "output_type": "execute_result",
          "data": {
            "text/plain": [
              "   userId        ISBN  bookRating  \\\n",
              "0  277427  002542730X          10   \n",
              "1    3363  002542730X           0   \n",
              "2   11676  002542730X           6   \n",
              "3   12538  002542730X          10   \n",
              "4   13552  002542730X           0   \n",
              "\n",
              "                                                                  bookTitle  \\\n",
              "0  Politically Correct Bedtime Stories: Modern Tales for Our Life and Times   \n",
              "1  Politically Correct Bedtime Stories: Modern Tales for Our Life and Times   \n",
              "2  Politically Correct Bedtime Stories: Modern Tales for Our Life and Times   \n",
              "3  Politically Correct Bedtime Stories: Modern Tales for Our Life and Times   \n",
              "4  Politically Correct Bedtime Stories: Modern Tales for Our Life and Times   \n",
              "\n",
              "   totalRatingCount  \n",
              "0                80  \n",
              "1                80  \n",
              "2                80  \n",
              "3                80  \n",
              "4                80  "
            ],
            "text/html": [
              "\n",
              "  <div id=\"df-bd2e3d8e-613d-4421-86db-21ad8437fdec\">\n",
              "    <div class=\"colab-df-container\">\n",
              "      <div>\n",
              "<style scoped>\n",
              "    .dataframe tbody tr th:only-of-type {\n",
              "        vertical-align: middle;\n",
              "    }\n",
              "\n",
              "    .dataframe tbody tr th {\n",
              "        vertical-align: top;\n",
              "    }\n",
              "\n",
              "    .dataframe thead th {\n",
              "        text-align: right;\n",
              "    }\n",
              "</style>\n",
              "<table border=\"1\" class=\"dataframe\">\n",
              "  <thead>\n",
              "    <tr style=\"text-align: right;\">\n",
              "      <th></th>\n",
              "      <th>userId</th>\n",
              "      <th>ISBN</th>\n",
              "      <th>bookRating</th>\n",
              "      <th>bookTitle</th>\n",
              "      <th>totalRatingCount</th>\n",
              "    </tr>\n",
              "  </thead>\n",
              "  <tbody>\n",
              "    <tr>\n",
              "      <th>0</th>\n",
              "      <td>277427</td>\n",
              "      <td>002542730X</td>\n",
              "      <td>10</td>\n",
              "      <td>Politically Correct Bedtime Stories: Modern Tales for Our Life and Times</td>\n",
              "      <td>80</td>\n",
              "    </tr>\n",
              "    <tr>\n",
              "      <th>1</th>\n",
              "      <td>3363</td>\n",
              "      <td>002542730X</td>\n",
              "      <td>0</td>\n",
              "      <td>Politically Correct Bedtime Stories: Modern Tales for Our Life and Times</td>\n",
              "      <td>80</td>\n",
              "    </tr>\n",
              "    <tr>\n",
              "      <th>2</th>\n",
              "      <td>11676</td>\n",
              "      <td>002542730X</td>\n",
              "      <td>6</td>\n",
              "      <td>Politically Correct Bedtime Stories: Modern Tales for Our Life and Times</td>\n",
              "      <td>80</td>\n",
              "    </tr>\n",
              "    <tr>\n",
              "      <th>3</th>\n",
              "      <td>12538</td>\n",
              "      <td>002542730X</td>\n",
              "      <td>10</td>\n",
              "      <td>Politically Correct Bedtime Stories: Modern Tales for Our Life and Times</td>\n",
              "      <td>80</td>\n",
              "    </tr>\n",
              "    <tr>\n",
              "      <th>4</th>\n",
              "      <td>13552</td>\n",
              "      <td>002542730X</td>\n",
              "      <td>0</td>\n",
              "      <td>Politically Correct Bedtime Stories: Modern Tales for Our Life and Times</td>\n",
              "      <td>80</td>\n",
              "    </tr>\n",
              "  </tbody>\n",
              "</table>\n",
              "</div>\n",
              "      <button class=\"colab-df-convert\" onclick=\"convertToInteractive('df-bd2e3d8e-613d-4421-86db-21ad8437fdec')\"\n",
              "              title=\"Convert this dataframe to an interactive table.\"\n",
              "              style=\"display:none;\">\n",
              "        \n",
              "  <svg xmlns=\"http://www.w3.org/2000/svg\" height=\"24px\"viewBox=\"0 0 24 24\"\n",
              "       width=\"24px\">\n",
              "    <path d=\"M0 0h24v24H0V0z\" fill=\"none\"/>\n",
              "    <path d=\"M18.56 5.44l.94 2.06.94-2.06 2.06-.94-2.06-.94-.94-2.06-.94 2.06-2.06.94zm-11 1L8.5 8.5l.94-2.06 2.06-.94-2.06-.94L8.5 2.5l-.94 2.06-2.06.94zm10 10l.94 2.06.94-2.06 2.06-.94-2.06-.94-.94-2.06-.94 2.06-2.06.94z\"/><path d=\"M17.41 7.96l-1.37-1.37c-.4-.4-.92-.59-1.43-.59-.52 0-1.04.2-1.43.59L10.3 9.45l-7.72 7.72c-.78.78-.78 2.05 0 2.83L4 21.41c.39.39.9.59 1.41.59.51 0 1.02-.2 1.41-.59l7.78-7.78 2.81-2.81c.8-.78.8-2.07 0-2.86zM5.41 20L4 18.59l7.72-7.72 1.47 1.35L5.41 20z\"/>\n",
              "  </svg>\n",
              "      </button>\n",
              "      \n",
              "  <style>\n",
              "    .colab-df-container {\n",
              "      display:flex;\n",
              "      flex-wrap:wrap;\n",
              "      gap: 12px;\n",
              "    }\n",
              "\n",
              "    .colab-df-convert {\n",
              "      background-color: #E8F0FE;\n",
              "      border: none;\n",
              "      border-radius: 50%;\n",
              "      cursor: pointer;\n",
              "      display: none;\n",
              "      fill: #1967D2;\n",
              "      height: 32px;\n",
              "      padding: 0 0 0 0;\n",
              "      width: 32px;\n",
              "    }\n",
              "\n",
              "    .colab-df-convert:hover {\n",
              "      background-color: #E2EBFA;\n",
              "      box-shadow: 0px 1px 2px rgba(60, 64, 67, 0.3), 0px 1px 3px 1px rgba(60, 64, 67, 0.15);\n",
              "      fill: #174EA6;\n",
              "    }\n",
              "\n",
              "    [theme=dark] .colab-df-convert {\n",
              "      background-color: #3B4455;\n",
              "      fill: #D2E3FC;\n",
              "    }\n",
              "\n",
              "    [theme=dark] .colab-df-convert:hover {\n",
              "      background-color: #434B5C;\n",
              "      box-shadow: 0px 1px 3px 1px rgba(0, 0, 0, 0.15);\n",
              "      filter: drop-shadow(0px 1px 2px rgba(0, 0, 0, 0.3));\n",
              "      fill: #FFFFFF;\n",
              "    }\n",
              "  </style>\n",
              "\n",
              "      <script>\n",
              "        const buttonEl =\n",
              "          document.querySelector('#df-bd2e3d8e-613d-4421-86db-21ad8437fdec button.colab-df-convert');\n",
              "        buttonEl.style.display =\n",
              "          google.colab.kernel.accessAllowed ? 'block' : 'none';\n",
              "\n",
              "        async function convertToInteractive(key) {\n",
              "          const element = document.querySelector('#df-bd2e3d8e-613d-4421-86db-21ad8437fdec');\n",
              "          const dataTable =\n",
              "            await google.colab.kernel.invokeFunction('convertToInteractive',\n",
              "                                                     [key], {});\n",
              "          if (!dataTable) return;\n",
              "\n",
              "          const docLinkHtml = 'Like what you see? Visit the ' +\n",
              "            '<a target=\"_blank\" href=https://colab.research.google.com/notebooks/data_table.ipynb>data table notebook</a>'\n",
              "            + ' to learn more about interactive tables.';\n",
              "          element.innerHTML = '';\n",
              "          dataTable['output_type'] = 'display_data';\n",
              "          await google.colab.output.renderOutput(dataTable, element);\n",
              "          const docLink = document.createElement('div');\n",
              "          docLink.innerHTML = docLinkHtml;\n",
              "          element.appendChild(docLink);\n",
              "        }\n",
              "      </script>\n",
              "    </div>\n",
              "  </div>\n",
              "  "
            ]
          },
          "metadata": {},
          "execution_count": 102
        }
      ]
    },
    {
      "cell_type": "markdown",
      "source": [
        "Per facilitare la computazione, andiamo ora a prendere solo gli utenti residenti negli USA e in Canada. Poi combiniamo tutti i dati ottenuti fino ad ora."
      ],
      "metadata": {
        "id": "HDLM-NFI9XJi"
      }
    },
    {
      "cell_type": "code",
      "source": [
        "combined = rating_popular_book.merge(users, left_on='userId', right_on='userId', how='left')\n",
        "us_canada_user_ratings = combined[combined['Location'].str.contains(\"usa|canada\")]\n",
        "us_canada_user_ratings=us_canada_user_ratings.drop('Age', axis=1)\n",
        "us_canada_user_ratings.head()"
      ],
      "metadata": {
        "colab": {
          "base_uri": "https://localhost:8080/",
          "height": 206
        },
        "id": "mrkV9ZnC9k4B",
        "outputId": "7d50b31b-8f58-4de4-efda-3d37e441dad5"
      },
      "execution_count": null,
      "outputs": [
        {
          "output_type": "execute_result",
          "data": {
            "text/plain": [
              "   userId        ISBN  bookRating  \\\n",
              "0  277427  002542730X          10   \n",
              "1    3363  002542730X           0   \n",
              "3   12538  002542730X          10   \n",
              "4   13552  002542730X           0   \n",
              "5   16795  002542730X           0   \n",
              "\n",
              "                                                                  bookTitle  \\\n",
              "0  Politically Correct Bedtime Stories: Modern Tales for Our Life and Times   \n",
              "1  Politically Correct Bedtime Stories: Modern Tales for Our Life and Times   \n",
              "3  Politically Correct Bedtime Stories: Modern Tales for Our Life and Times   \n",
              "4  Politically Correct Bedtime Stories: Modern Tales for Our Life and Times   \n",
              "5  Politically Correct Bedtime Stories: Modern Tales for Our Life and Times   \n",
              "\n",
              "   totalRatingCount Location  \n",
              "0                80      usa  \n",
              "1                80      usa  \n",
              "3                80      usa  \n",
              "4                80      usa  \n",
              "5                80      usa  "
            ],
            "text/html": [
              "\n",
              "  <div id=\"df-f94d82c2-9351-4d4c-b67e-fce46e411447\">\n",
              "    <div class=\"colab-df-container\">\n",
              "      <div>\n",
              "<style scoped>\n",
              "    .dataframe tbody tr th:only-of-type {\n",
              "        vertical-align: middle;\n",
              "    }\n",
              "\n",
              "    .dataframe tbody tr th {\n",
              "        vertical-align: top;\n",
              "    }\n",
              "\n",
              "    .dataframe thead th {\n",
              "        text-align: right;\n",
              "    }\n",
              "</style>\n",
              "<table border=\"1\" class=\"dataframe\">\n",
              "  <thead>\n",
              "    <tr style=\"text-align: right;\">\n",
              "      <th></th>\n",
              "      <th>userId</th>\n",
              "      <th>ISBN</th>\n",
              "      <th>bookRating</th>\n",
              "      <th>bookTitle</th>\n",
              "      <th>totalRatingCount</th>\n",
              "      <th>Location</th>\n",
              "    </tr>\n",
              "  </thead>\n",
              "  <tbody>\n",
              "    <tr>\n",
              "      <th>0</th>\n",
              "      <td>277427</td>\n",
              "      <td>002542730X</td>\n",
              "      <td>10</td>\n",
              "      <td>Politically Correct Bedtime Stories: Modern Tales for Our Life and Times</td>\n",
              "      <td>80</td>\n",
              "      <td>usa</td>\n",
              "    </tr>\n",
              "    <tr>\n",
              "      <th>1</th>\n",
              "      <td>3363</td>\n",
              "      <td>002542730X</td>\n",
              "      <td>0</td>\n",
              "      <td>Politically Correct Bedtime Stories: Modern Tales for Our Life and Times</td>\n",
              "      <td>80</td>\n",
              "      <td>usa</td>\n",
              "    </tr>\n",
              "    <tr>\n",
              "      <th>3</th>\n",
              "      <td>12538</td>\n",
              "      <td>002542730X</td>\n",
              "      <td>10</td>\n",
              "      <td>Politically Correct Bedtime Stories: Modern Tales for Our Life and Times</td>\n",
              "      <td>80</td>\n",
              "      <td>usa</td>\n",
              "    </tr>\n",
              "    <tr>\n",
              "      <th>4</th>\n",
              "      <td>13552</td>\n",
              "      <td>002542730X</td>\n",
              "      <td>0</td>\n",
              "      <td>Politically Correct Bedtime Stories: Modern Tales for Our Life and Times</td>\n",
              "      <td>80</td>\n",
              "      <td>usa</td>\n",
              "    </tr>\n",
              "    <tr>\n",
              "      <th>5</th>\n",
              "      <td>16795</td>\n",
              "      <td>002542730X</td>\n",
              "      <td>0</td>\n",
              "      <td>Politically Correct Bedtime Stories: Modern Tales for Our Life and Times</td>\n",
              "      <td>80</td>\n",
              "      <td>usa</td>\n",
              "    </tr>\n",
              "  </tbody>\n",
              "</table>\n",
              "</div>\n",
              "      <button class=\"colab-df-convert\" onclick=\"convertToInteractive('df-f94d82c2-9351-4d4c-b67e-fce46e411447')\"\n",
              "              title=\"Convert this dataframe to an interactive table.\"\n",
              "              style=\"display:none;\">\n",
              "        \n",
              "  <svg xmlns=\"http://www.w3.org/2000/svg\" height=\"24px\"viewBox=\"0 0 24 24\"\n",
              "       width=\"24px\">\n",
              "    <path d=\"M0 0h24v24H0V0z\" fill=\"none\"/>\n",
              "    <path d=\"M18.56 5.44l.94 2.06.94-2.06 2.06-.94-2.06-.94-.94-2.06-.94 2.06-2.06.94zm-11 1L8.5 8.5l.94-2.06 2.06-.94-2.06-.94L8.5 2.5l-.94 2.06-2.06.94zm10 10l.94 2.06.94-2.06 2.06-.94-2.06-.94-.94-2.06-.94 2.06-2.06.94z\"/><path d=\"M17.41 7.96l-1.37-1.37c-.4-.4-.92-.59-1.43-.59-.52 0-1.04.2-1.43.59L10.3 9.45l-7.72 7.72c-.78.78-.78 2.05 0 2.83L4 21.41c.39.39.9.59 1.41.59.51 0 1.02-.2 1.41-.59l7.78-7.78 2.81-2.81c.8-.78.8-2.07 0-2.86zM5.41 20L4 18.59l7.72-7.72 1.47 1.35L5.41 20z\"/>\n",
              "  </svg>\n",
              "      </button>\n",
              "      \n",
              "  <style>\n",
              "    .colab-df-container {\n",
              "      display:flex;\n",
              "      flex-wrap:wrap;\n",
              "      gap: 12px;\n",
              "    }\n",
              "\n",
              "    .colab-df-convert {\n",
              "      background-color: #E8F0FE;\n",
              "      border: none;\n",
              "      border-radius: 50%;\n",
              "      cursor: pointer;\n",
              "      display: none;\n",
              "      fill: #1967D2;\n",
              "      height: 32px;\n",
              "      padding: 0 0 0 0;\n",
              "      width: 32px;\n",
              "    }\n",
              "\n",
              "    .colab-df-convert:hover {\n",
              "      background-color: #E2EBFA;\n",
              "      box-shadow: 0px 1px 2px rgba(60, 64, 67, 0.3), 0px 1px 3px 1px rgba(60, 64, 67, 0.15);\n",
              "      fill: #174EA6;\n",
              "    }\n",
              "\n",
              "    [theme=dark] .colab-df-convert {\n",
              "      background-color: #3B4455;\n",
              "      fill: #D2E3FC;\n",
              "    }\n",
              "\n",
              "    [theme=dark] .colab-df-convert:hover {\n",
              "      background-color: #434B5C;\n",
              "      box-shadow: 0px 1px 3px 1px rgba(0, 0, 0, 0.15);\n",
              "      filter: drop-shadow(0px 1px 2px rgba(0, 0, 0, 0.3));\n",
              "      fill: #FFFFFF;\n",
              "    }\n",
              "  </style>\n",
              "\n",
              "      <script>\n",
              "        const buttonEl =\n",
              "          document.querySelector('#df-f94d82c2-9351-4d4c-b67e-fce46e411447 button.colab-df-convert');\n",
              "        buttonEl.style.display =\n",
              "          google.colab.kernel.accessAllowed ? 'block' : 'none';\n",
              "\n",
              "        async function convertToInteractive(key) {\n",
              "          const element = document.querySelector('#df-f94d82c2-9351-4d4c-b67e-fce46e411447');\n",
              "          const dataTable =\n",
              "            await google.colab.kernel.invokeFunction('convertToInteractive',\n",
              "                                                     [key], {});\n",
              "          if (!dataTable) return;\n",
              "\n",
              "          const docLinkHtml = 'Like what you see? Visit the ' +\n",
              "            '<a target=\"_blank\" href=https://colab.research.google.com/notebooks/data_table.ipynb>data table notebook</a>'\n",
              "            + ' to learn more about interactive tables.';\n",
              "          element.innerHTML = '';\n",
              "          dataTable['output_type'] = 'display_data';\n",
              "          await google.colab.output.renderOutput(dataTable, element);\n",
              "          const docLink = document.createElement('div');\n",
              "          docLink.innerHTML = docLinkHtml;\n",
              "          element.appendChild(docLink);\n",
              "        }\n",
              "      </script>\n",
              "    </div>\n",
              "  </div>\n",
              "  "
            ]
          },
          "metadata": {},
          "execution_count": 103
        }
      ]
    },
    {
      "cell_type": "markdown",
      "source": [
        "Convertiamo la tabella in una matrice 2D e riempiamo i valori mancanti con degli 0.\n",
        "Poi trasformiamo i valori della matrice (che corrispondo ai voti) in una matrice sparsa di scipy per fare dei calcoli più efficienti"
      ],
      "metadata": {
        "id": "P4KnPQHI-xwh"
      }
    },
    {
      "cell_type": "markdown",
      "source": [
        "Utilizziamo un algoritmo non supervisionato di sklearn.neighbors. \n",
        "L'algoritmo che utilizziamo per calcolare i vicini più vicini è \"bruto\" e specifichiamo la metrica coseno in modo che l'algoritmo calcoli la similarità coseno tra i vettori di valutazione. Infine, adattiamo il modello."
      ],
      "metadata": {
        "id": "491qgSp4-4NX"
      }
    },
    {
      "cell_type": "code",
      "source": [
        "from scipy.sparse.linalg.dsolve.linsolve import csr_matrix\n",
        "us_canada_user_ratings = us_canada_user_ratings.drop_duplicates(subset=['bookTitle'])\n",
        "us_canada_user_ratings_pivot = us_canada_user_ratings.pivot(index='bookTitle', columns='userId', values='bookRating').fillna(0)\n",
        "us_canada_user_ratings_sparse = csr_matrix(us_canada_user_ratings_pivot.values)"
      ],
      "metadata": {
        "id": "aD6rugq7-Xp2"
      },
      "execution_count": null,
      "outputs": []
    },
    {
      "cell_type": "code",
      "source": [
        "from sklearn.neighbors import NearestNeighbors\n",
        "\n",
        "model_knn = NearestNeighbors(metric='cosine', algorithm='brute')\n",
        "model_knn.fit(us_canada_user_ratings_sparse)"
      ],
      "metadata": {
        "colab": {
          "base_uri": "https://localhost:8080/"
        },
        "id": "5F0p7F16_PhV",
        "outputId": "571905a4-3b78-46f1-9ed0-e2eeb54ee521"
      },
      "execution_count": null,
      "outputs": [
        {
          "output_type": "execute_result",
          "data": {
            "text/plain": [
              "NearestNeighbors(algorithm='brute', metric='cosine')"
            ]
          },
          "metadata": {},
          "execution_count": 106
        }
      ]
    },
    {
      "cell_type": "markdown",
      "source": [
        "In this step, the kNN algorithm measures distance to determine the “closeness” of instances. It then classifies an instance by finding its nearest neighbors, and picks the most popular class among the neighbors."
      ],
      "metadata": {
        "id": "LBUzEYGrCD6w"
      }
    },
    {
      "cell_type": "code",
      "source": [
        "query_index = np.random.choice(us_canada_user_ratings_pivot.shape[0])\n",
        "distances, indices = model_knn.kneighbors(us_canada_user_ratings_pivot.iloc[query_index, :].values.reshape(1, -1), n_neighbors=6)\n",
        "\n",
        "for i in range(0, len(distances.flatten())):\n",
        "  if i == 0:\n",
        "    print('Recommendation per {0}:\\n'.format(us_canada_user_ratings_pivot.index[query_index]))\n",
        "  else:\n",
        "    print('{0}: {1}, con distanza di {2}'.format(i, us_canada_user_ratings_pivot.index[indices.flatten()[i]], distances.flatten()[i]))\n"
      ],
      "metadata": {
        "colab": {
          "base_uri": "https://localhost:8080/"
        },
        "id": "lFmtAYAMCEr7",
        "outputId": "2fe17f81-3890-4338-942c-46ca717038dc"
      },
      "execution_count": null,
      "outputs": [
        {
          "output_type": "stream",
          "name": "stdout",
          "text": [
            "Recommendation per Beauty Before Comfort:\n",
            "\n",
            "1: Sounds of the River: A Memoir, con distanza di 1.0\n",
            "2: Soup Ahoy, con distanza di 1.0\n",
            "3: Soup for President, con distanza di 1.0\n",
            "4: Sounds of Yourself, con distanza di 1.0\n",
            "5: Soup for Supper, con distanza di 1.0\n"
          ]
        }
      ]
    },
    {
      "cell_type": "code",
      "source": [
        "def reduce_mem_usage(props):\n",
        "    start_mem_usg = props.memory_usage().sum() / 1024**2 \n",
        "    print(\"Memory usage of properties dataframe is :\",start_mem_usg,\" MB\")\n",
        "    NAlist = [] # Keeps track of columns that have missing values filled in. \n",
        "    for col in props.columns:\n",
        "        if props[col].dtype != object:  # Exclude strings\n",
        "            \n",
        "            # Print current column type\n",
        "            print(\"******************************\")\n",
        "            print(\"Column: \",col)\n",
        "            print(\"dtype before: \",props[col].dtype)\n",
        "            \n",
        "            # make variables for Int, max and min\n",
        "            IsInt = False\n",
        "            mx = props[col].max()\n",
        "            mn = props[col].min()\n",
        "            \n",
        "            # Integer does not support NA, therefore, NA needs to be filled\n",
        "            if not np.isfinite(props[col]).all(): \n",
        "                NAlist.append(col)\n",
        "                props[col].fillna(mn-1,inplace=True)  \n",
        "                   \n",
        "            # test if column can be converted to an integer\n",
        "            asint = props[col].fillna(0).astype(np.int64)\n",
        "            result = (props[col] - asint)\n",
        "            result = result.sum()\n",
        "            if result > -0.01 and result < 0.01:\n",
        "                IsInt = True\n",
        "\n",
        "            \n",
        "            # Make Integer/unsigned Integer datatypes\n",
        "            if IsInt:\n",
        "                if mn >= 0:\n",
        "                    if mx < 255:\n",
        "                        props[col] = props[col].astype(np.uint8)\n",
        "                    elif mx < 65535:\n",
        "                        props[col] = props[col].astype(np.uint16)\n",
        "                    elif mx < 4294967295:\n",
        "                        props[col] = props[col].astype(np.uint32)\n",
        "                    else:\n",
        "                        props[col] = props[col].astype(np.uint64)\n",
        "                else:\n",
        "                    if mn > np.iinfo(np.int8).min and mx < np.iinfo(np.int8).max:\n",
        "                        props[col] = props[col].astype(np.int8)\n",
        "                    elif mn > np.iinfo(np.int16).min and mx < np.iinfo(np.int16).max:\n",
        "                        props[col] = props[col].astype(np.int16)\n",
        "                    elif mn > np.iinfo(np.int32).min and mx < np.iinfo(np.int32).max:\n",
        "                        props[col] = props[col].astype(np.int32)\n",
        "                    elif mn > np.iinfo(np.int64).min and mx < np.iinfo(np.int64).max:\n",
        "                        props[col] = props[col].astype(np.int64)    \n",
        "            \n",
        "            # Make float datatypes 32 bit\n",
        "            else:\n",
        "                props[col] = props[col].astype(np.float32)\n",
        "            \n",
        "            # Print new column type\n",
        "            print(\"dtype after: \",props[col].dtype)\n",
        "            print(\"******************************\")"
      ],
      "metadata": {
        "id": "LZ97ZrYEeGCn"
      },
      "execution_count": null,
      "outputs": []
    },
    {
      "cell_type": "code",
      "source": [
        "us_canada_user_ratings.set_index(['userId', 'ISBN'], inplace=True)"
      ],
      "metadata": {
        "id": "HQ2C53OvSbFB"
      },
      "execution_count": null,
      "outputs": []
    },
    {
      "cell_type": "code",
      "source": [
        "reduce_mem_usage(us_canada_user_ratings)\n",
        "us_canada_user_ratings.info(memory_usage = \"deep\")"
      ],
      "metadata": {
        "id": "_jKrp077eS5L"
      },
      "execution_count": null,
      "outputs": []
    },
    {
      "cell_type": "code",
      "source": [
        "train_ratings = us_canada_user_ratings[\"bookRating\"].unstack(\"ISBN\")"
      ],
      "metadata": {
        "id": "G5ruP10Bg0At"
      },
      "execution_count": null,
      "outputs": []
    },
    {
      "cell_type": "code",
      "source": [
        "train_ratings"
      ],
      "metadata": {
        "id": "Y29jh-kyg5u7"
      },
      "execution_count": null,
      "outputs": []
    },
    {
      "cell_type": "code",
      "source": [
        "R = train_ratings.fillna(0).values"
      ],
      "metadata": {
        "id": "PV750oRlhYny"
      },
      "execution_count": null,
      "outputs": []
    },
    {
      "cell_type": "code",
      "source": [
        "P = train_ratings.notna().values"
      ],
      "metadata": {
        "id": "hvLbP6D9hbvx"
      },
      "execution_count": null,
      "outputs": []
    }
  ]
}